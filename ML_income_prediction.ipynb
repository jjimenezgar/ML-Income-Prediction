{
  "cells": [
    {
      "cell_type": "markdown",
      "metadata": {
        "id": "0OouvHFt7Abs"
      },
      "source": [
        "# ML Income Prediction"
      ]
    },
    {
      "cell_type": "markdown",
      "metadata": {
        "id": "mOfjHGWx0IxC"
      },
      "source": [
        "We import the necessary libraries and make the train and test datasets available."
      ]
    },
    {
      "cell_type": "code",
      "execution_count": 79,
      "metadata": {
        "id": "xYmzIuyf6-2Q"
      },
      "outputs": [],
      "source": [
        "import numpy as np\n",
        "import pandas as pd\n",
        "import seaborn as sns\n",
        "import matplotlib.pyplot as plt\n",
        "\n",
        "df_train = pd.read_csv('https://raw.githubusercontent.com/Blassaj/Icaro_Data-Science/sprint1/train1.csv')\n",
        "df_test = pd.read_csv('https://raw.githubusercontent.com/Blassaj/Icaro_Data-Science/sprint1/test1.csv')"
      ]
    },
    {
      "cell_type": "markdown",
      "metadata": {
        "id": "mpvIoWKi2kf2"
      },
      "source": [
        "## Descriptive analysis and data visualization."
      ]
    },
    {
      "cell_type": "markdown",
      "metadata": {
        "id": "w9mk2DIa7Mmd"
      },
      "source": [
        "We see basic characteristics of each dataset (dimensions, attributes, type of data, presence of nulls and statistical parameters of the numerical variables)."
      ]
    },
    {
      "cell_type": "code",
      "execution_count": 80,
      "metadata": {
        "id": "dB4v0fYk8ju0"
      },
      "outputs": [],
      "source": [
        "df_train_graficos=df_train.copy()"
      ]
    },
    {
      "cell_type": "code",
      "execution_count": 81,
      "metadata": {
        "colab": {
          "base_uri": "https://localhost:8080/",
          "height": 357
        },
        "id": "F_xZi1egB8b7",
        "outputId": "23f70197-a50c-422e-bbcb-9409e5098301"
      },
      "outputs": [
        {
          "output_type": "execute_result",
          "data": {
            "text/plain": [
              "       index  age  workclass     education  education.num  \\\n",
              "20886   9426   19    Private       HS-grad              9   \n",
              "6233    3479   58    Private           9th              5   \n",
              "21617  19116   30    Private       HS-grad              9   \n",
              "22658  31057   37  State-gov       HS-grad              9   \n",
              "9859    3344   32    Private  Some-college             10   \n",
              "\n",
              "              marital.status         occupation relationship   race     sex  \\\n",
              "20886          Never-married   Transport-moving    Own-child  White    Male   \n",
              "6233      Married-civ-spouse  Machine-op-inspct      Husband  Black    Male   \n",
              "21617               Divorced  Machine-op-inspct    Unmarried  White  Female   \n",
              "22658  Married-spouse-absent      Other-service    Unmarried  White  Female   \n",
              "9859      Married-civ-spouse              Sales      Husband  White    Male   \n",
              "\n",
              "       capital.gain  capital.loss  hours.per.week native.country income     ID  \n",
              "20886             0             0              40  United-States  <=50K   9424  \n",
              "6233           3781             0              40  United-States  <=50K   3479  \n",
              "21617             0             0              20  United-States  <=50K  19109  \n",
              "22658             0             0              20  United-States  <=50K  31036  \n",
              "9859           4386             0              50  United-States  <=50K   3344  "
            ],
            "text/html": [
              "\n",
              "  <div id=\"df-0352d229-e772-4f11-b70e-735b9df307a0\">\n",
              "    <div class=\"colab-df-container\">\n",
              "      <div>\n",
              "<style scoped>\n",
              "    .dataframe tbody tr th:only-of-type {\n",
              "        vertical-align: middle;\n",
              "    }\n",
              "\n",
              "    .dataframe tbody tr th {\n",
              "        vertical-align: top;\n",
              "    }\n",
              "\n",
              "    .dataframe thead th {\n",
              "        text-align: right;\n",
              "    }\n",
              "</style>\n",
              "<table border=\"1\" class=\"dataframe\">\n",
              "  <thead>\n",
              "    <tr style=\"text-align: right;\">\n",
              "      <th></th>\n",
              "      <th>index</th>\n",
              "      <th>age</th>\n",
              "      <th>workclass</th>\n",
              "      <th>education</th>\n",
              "      <th>education.num</th>\n",
              "      <th>marital.status</th>\n",
              "      <th>occupation</th>\n",
              "      <th>relationship</th>\n",
              "      <th>race</th>\n",
              "      <th>sex</th>\n",
              "      <th>capital.gain</th>\n",
              "      <th>capital.loss</th>\n",
              "      <th>hours.per.week</th>\n",
              "      <th>native.country</th>\n",
              "      <th>income</th>\n",
              "      <th>ID</th>\n",
              "    </tr>\n",
              "  </thead>\n",
              "  <tbody>\n",
              "    <tr>\n",
              "      <th>20886</th>\n",
              "      <td>9426</td>\n",
              "      <td>19</td>\n",
              "      <td>Private</td>\n",
              "      <td>HS-grad</td>\n",
              "      <td>9</td>\n",
              "      <td>Never-married</td>\n",
              "      <td>Transport-moving</td>\n",
              "      <td>Own-child</td>\n",
              "      <td>White</td>\n",
              "      <td>Male</td>\n",
              "      <td>0</td>\n",
              "      <td>0</td>\n",
              "      <td>40</td>\n",
              "      <td>United-States</td>\n",
              "      <td>&lt;=50K</td>\n",
              "      <td>9424</td>\n",
              "    </tr>\n",
              "    <tr>\n",
              "      <th>6233</th>\n",
              "      <td>3479</td>\n",
              "      <td>58</td>\n",
              "      <td>Private</td>\n",
              "      <td>9th</td>\n",
              "      <td>5</td>\n",
              "      <td>Married-civ-spouse</td>\n",
              "      <td>Machine-op-inspct</td>\n",
              "      <td>Husband</td>\n",
              "      <td>Black</td>\n",
              "      <td>Male</td>\n",
              "      <td>3781</td>\n",
              "      <td>0</td>\n",
              "      <td>40</td>\n",
              "      <td>United-States</td>\n",
              "      <td>&lt;=50K</td>\n",
              "      <td>3479</td>\n",
              "    </tr>\n",
              "    <tr>\n",
              "      <th>21617</th>\n",
              "      <td>19116</td>\n",
              "      <td>30</td>\n",
              "      <td>Private</td>\n",
              "      <td>HS-grad</td>\n",
              "      <td>9</td>\n",
              "      <td>Divorced</td>\n",
              "      <td>Machine-op-inspct</td>\n",
              "      <td>Unmarried</td>\n",
              "      <td>White</td>\n",
              "      <td>Female</td>\n",
              "      <td>0</td>\n",
              "      <td>0</td>\n",
              "      <td>20</td>\n",
              "      <td>United-States</td>\n",
              "      <td>&lt;=50K</td>\n",
              "      <td>19109</td>\n",
              "    </tr>\n",
              "    <tr>\n",
              "      <th>22658</th>\n",
              "      <td>31057</td>\n",
              "      <td>37</td>\n",
              "      <td>State-gov</td>\n",
              "      <td>HS-grad</td>\n",
              "      <td>9</td>\n",
              "      <td>Married-spouse-absent</td>\n",
              "      <td>Other-service</td>\n",
              "      <td>Unmarried</td>\n",
              "      <td>White</td>\n",
              "      <td>Female</td>\n",
              "      <td>0</td>\n",
              "      <td>0</td>\n",
              "      <td>20</td>\n",
              "      <td>United-States</td>\n",
              "      <td>&lt;=50K</td>\n",
              "      <td>31036</td>\n",
              "    </tr>\n",
              "    <tr>\n",
              "      <th>9859</th>\n",
              "      <td>3344</td>\n",
              "      <td>32</td>\n",
              "      <td>Private</td>\n",
              "      <td>Some-college</td>\n",
              "      <td>10</td>\n",
              "      <td>Married-civ-spouse</td>\n",
              "      <td>Sales</td>\n",
              "      <td>Husband</td>\n",
              "      <td>White</td>\n",
              "      <td>Male</td>\n",
              "      <td>4386</td>\n",
              "      <td>0</td>\n",
              "      <td>50</td>\n",
              "      <td>United-States</td>\n",
              "      <td>&lt;=50K</td>\n",
              "      <td>3344</td>\n",
              "    </tr>\n",
              "  </tbody>\n",
              "</table>\n",
              "</div>\n",
              "      <button class=\"colab-df-convert\" onclick=\"convertToInteractive('df-0352d229-e772-4f11-b70e-735b9df307a0')\"\n",
              "              title=\"Convert this dataframe to an interactive table.\"\n",
              "              style=\"display:none;\">\n",
              "        \n",
              "  <svg xmlns=\"http://www.w3.org/2000/svg\" height=\"24px\"viewBox=\"0 0 24 24\"\n",
              "       width=\"24px\">\n",
              "    <path d=\"M0 0h24v24H0V0z\" fill=\"none\"/>\n",
              "    <path d=\"M18.56 5.44l.94 2.06.94-2.06 2.06-.94-2.06-.94-.94-2.06-.94 2.06-2.06.94zm-11 1L8.5 8.5l.94-2.06 2.06-.94-2.06-.94L8.5 2.5l-.94 2.06-2.06.94zm10 10l.94 2.06.94-2.06 2.06-.94-2.06-.94-.94-2.06-.94 2.06-2.06.94z\"/><path d=\"M17.41 7.96l-1.37-1.37c-.4-.4-.92-.59-1.43-.59-.52 0-1.04.2-1.43.59L10.3 9.45l-7.72 7.72c-.78.78-.78 2.05 0 2.83L4 21.41c.39.39.9.59 1.41.59.51 0 1.02-.2 1.41-.59l7.78-7.78 2.81-2.81c.8-.78.8-2.07 0-2.86zM5.41 20L4 18.59l7.72-7.72 1.47 1.35L5.41 20z\"/>\n",
              "  </svg>\n",
              "      </button>\n",
              "      \n",
              "  <style>\n",
              "    .colab-df-container {\n",
              "      display:flex;\n",
              "      flex-wrap:wrap;\n",
              "      gap: 12px;\n",
              "    }\n",
              "\n",
              "    .colab-df-convert {\n",
              "      background-color: #E8F0FE;\n",
              "      border: none;\n",
              "      border-radius: 50%;\n",
              "      cursor: pointer;\n",
              "      display: none;\n",
              "      fill: #1967D2;\n",
              "      height: 32px;\n",
              "      padding: 0 0 0 0;\n",
              "      width: 32px;\n",
              "    }\n",
              "\n",
              "    .colab-df-convert:hover {\n",
              "      background-color: #E2EBFA;\n",
              "      box-shadow: 0px 1px 2px rgba(60, 64, 67, 0.3), 0px 1px 3px 1px rgba(60, 64, 67, 0.15);\n",
              "      fill: #174EA6;\n",
              "    }\n",
              "\n",
              "    [theme=dark] .colab-df-convert {\n",
              "      background-color: #3B4455;\n",
              "      fill: #D2E3FC;\n",
              "    }\n",
              "\n",
              "    [theme=dark] .colab-df-convert:hover {\n",
              "      background-color: #434B5C;\n",
              "      box-shadow: 0px 1px 3px 1px rgba(0, 0, 0, 0.15);\n",
              "      filter: drop-shadow(0px 1px 2px rgba(0, 0, 0, 0.3));\n",
              "      fill: #FFFFFF;\n",
              "    }\n",
              "  </style>\n",
              "\n",
              "      <script>\n",
              "        const buttonEl =\n",
              "          document.querySelector('#df-0352d229-e772-4f11-b70e-735b9df307a0 button.colab-df-convert');\n",
              "        buttonEl.style.display =\n",
              "          google.colab.kernel.accessAllowed ? 'block' : 'none';\n",
              "\n",
              "        async function convertToInteractive(key) {\n",
              "          const element = document.querySelector('#df-0352d229-e772-4f11-b70e-735b9df307a0');\n",
              "          const dataTable =\n",
              "            await google.colab.kernel.invokeFunction('convertToInteractive',\n",
              "                                                     [key], {});\n",
              "          if (!dataTable) return;\n",
              "\n",
              "          const docLinkHtml = 'Like what you see? Visit the ' +\n",
              "            '<a target=\"_blank\" href=https://colab.research.google.com/notebooks/data_table.ipynb>data table notebook</a>'\n",
              "            + ' to learn more about interactive tables.';\n",
              "          element.innerHTML = '';\n",
              "          dataTable['output_type'] = 'display_data';\n",
              "          await google.colab.output.renderOutput(dataTable, element);\n",
              "          const docLink = document.createElement('div');\n",
              "          docLink.innerHTML = docLinkHtml;\n",
              "          element.appendChild(docLink);\n",
              "        }\n",
              "      </script>\n",
              "    </div>\n",
              "  </div>\n",
              "  "
            ]
          },
          "metadata": {},
          "execution_count": 81
        }
      ],
      "source": [
        "df_train.sample(5)"
      ]
    },
    {
      "cell_type": "code",
      "execution_count": 82,
      "metadata": {
        "colab": {
          "base_uri": "https://localhost:8080/"
        },
        "id": "BwT4JTUV2I9K",
        "outputId": "d7d5cc3f-3ea6-43fb-9085-6b76cb4f11d0"
      },
      "outputs": [
        {
          "output_type": "stream",
          "name": "stdout",
          "text": [
            "The training dataset has 27656 rows and 16 columns\n",
            "The test dataset has 4881 rows and 15 columns\n"
          ]
        }
      ],
      "source": [
        "print(f'The training dataset has {df_train.shape[0]} rows and {df_train.shape[1]} columns')\n",
        "print(f'The test dataset has {df_test.shape[0]} rows and {df_test.shape[1]} columns')"
      ]
    },
    {
      "cell_type": "code",
      "execution_count": 83,
      "metadata": {
        "colab": {
          "base_uri": "https://localhost:8080/"
        },
        "id": "1blP3T0G49pa",
        "outputId": "375b5933-e22a-4164-bca5-51d627805c79"
      },
      "outputs": [
        {
          "output_type": "execute_result",
          "data": {
            "text/plain": [
              "Index(['index', 'age', 'workclass', 'education', 'education.num',\n",
              "       'marital.status', 'occupation', 'relationship', 'race', 'sex',\n",
              "       'capital.gain', 'capital.loss', 'hours.per.week', 'native.country',\n",
              "       'income', 'ID'],\n",
              "      dtype='object')"
            ]
          },
          "metadata": {},
          "execution_count": 83
        }
      ],
      "source": [
        "df_train.columns    # Names of training dataset attributes"
      ]
    },
    {
      "cell_type": "code",
      "execution_count": 84,
      "metadata": {
        "colab": {
          "base_uri": "https://localhost:8080/"
        },
        "id": "YdjlCex-5RVB",
        "outputId": "884c21c7-b0f4-48be-9d27-2ecfbdf520a6"
      },
      "outputs": [
        {
          "output_type": "execute_result",
          "data": {
            "text/plain": [
              "Index(['index', 'age', 'workclass', 'education', 'education.num',\n",
              "       'marital.status', 'occupation', 'relationship', 'race', 'sex',\n",
              "       'capital.gain', 'capital.loss', 'hours.per.week', 'native.country',\n",
              "       'ID'],\n",
              "      dtype='object')"
            ]
          },
          "metadata": {},
          "execution_count": 84
        }
      ],
      "source": [
        "df_test.columns   # Names of the attributes of the test dataset (we can see that our target= \"income\" is not present)"
      ]
    },
    {
      "cell_type": "code",
      "execution_count": 85,
      "metadata": {
        "colab": {
          "base_uri": "https://localhost:8080/"
        },
        "id": "gX7rqes44Crw",
        "outputId": "89effc87-c1d4-421b-b605-3e48aff14078"
      },
      "outputs": [
        {
          "output_type": "stream",
          "name": "stdout",
          "text": [
            "<class 'pandas.core.frame.DataFrame'>\n",
            "RangeIndex: 27656 entries, 0 to 27655\n",
            "Data columns (total 16 columns):\n",
            " #   Column          Non-Null Count  Dtype \n",
            "---  ------          --------------  ----- \n",
            " 0   index           27656 non-null  int64 \n",
            " 1   age             27656 non-null  int64 \n",
            " 2   workclass       27656 non-null  object\n",
            " 3   education       27656 non-null  object\n",
            " 4   education.num   27656 non-null  int64 \n",
            " 5   marital.status  27656 non-null  object\n",
            " 6   occupation      27656 non-null  object\n",
            " 7   relationship    27656 non-null  object\n",
            " 8   race            27656 non-null  object\n",
            " 9   sex             27656 non-null  object\n",
            " 10  capital.gain    27656 non-null  int64 \n",
            " 11  capital.loss    27656 non-null  int64 \n",
            " 12  hours.per.week  27656 non-null  int64 \n",
            " 13  native.country  27656 non-null  object\n",
            " 14  income          27656 non-null  object\n",
            " 15  ID              27656 non-null  int64 \n",
            "dtypes: int64(7), object(9)\n",
            "memory usage: 3.4+ MB\n"
          ]
        }
      ],
      "source": [
        "df_train.info()   # Type of data contained in each attribute present in the training dataset"
      ]
    },
    {
      "cell_type": "code",
      "execution_count": 86,
      "metadata": {
        "colab": {
          "base_uri": "https://localhost:8080/"
        },
        "id": "oCDCk0yI4kg6",
        "outputId": "b94f494a-bd0e-430a-d4ba-b80d29d73a38"
      },
      "outputs": [
        {
          "output_type": "stream",
          "name": "stdout",
          "text": [
            "<class 'pandas.core.frame.DataFrame'>\n",
            "RangeIndex: 4881 entries, 0 to 4880\n",
            "Data columns (total 15 columns):\n",
            " #   Column          Non-Null Count  Dtype \n",
            "---  ------          --------------  ----- \n",
            " 0   index           4881 non-null   int64 \n",
            " 1   age             4881 non-null   int64 \n",
            " 2   workclass       4881 non-null   object\n",
            " 3   education       4881 non-null   object\n",
            " 4   education.num   4881 non-null   int64 \n",
            " 5   marital.status  4881 non-null   object\n",
            " 6   occupation      4881 non-null   object\n",
            " 7   relationship    4881 non-null   object\n",
            " 8   race            4881 non-null   object\n",
            " 9   sex             4881 non-null   object\n",
            " 10  capital.gain    4881 non-null   int64 \n",
            " 11  capital.loss    4881 non-null   int64 \n",
            " 12  hours.per.week  4881 non-null   int64 \n",
            " 13  native.country  4881 non-null   object\n",
            " 14  ID              4881 non-null   int64 \n",
            "dtypes: int64(7), object(8)\n",
            "memory usage: 572.1+ KB\n"
          ]
        }
      ],
      "source": [
        "df_test.info()   # Data type that contains each attribute present in the test dataset"
      ]
    },
    {
      "cell_type": "markdown",
      "metadata": {
        "id": "-uUgjw7K52Gz"
      },
      "source": [
        "We see that in both the test set and the training set there is no inconsistency between them, i.e., they handle the same type of data and variables (except target, as we have already clarified above).\n",
        "\n",
        "* Numerical variables:\n",
        "\n",
        "  - index: discrete\n",
        "  - ID: discrete\n",
        "  - age: continuous (discretized)\n",
        "  - education.num: discrete\n",
        "  - capital.gain: continuous\n",
        "  - capital.loss: continuous\n",
        "  - hours.per.week: discrete\n",
        "  \n",
        "\n",
        "* Categorical variables:\n",
        "\n",
        "  - workclass: nominal\n",
        "  - education: ordinal\n",
        "  - marital.status: nominal\n",
        "  - occupation: nominal\n",
        "  - relationship: nominal\n",
        "  - race: nominal\n",
        "  - sex: nominal\n",
        "  - native.country: nominal \n",
        "  - income: nominal\n",
        "\n",
        "\n"
      ]
    },
    {
      "cell_type": "markdown",
      "metadata": {
        "id": "puqCqAed6kcl"
      },
      "source": [
        "###Descriptive statistics analysis on each dataset."
      ]
    },
    {
      "cell_type": "code",
      "execution_count": 87,
      "metadata": {
        "colab": {
          "base_uri": "https://localhost:8080/",
          "height": 0
        },
        "id": "oO49LHv13zYS",
        "outputId": "0b5cf8f7-b833-49fa-f199-97a4ba03f504"
      },
      "outputs": [
        {
          "output_type": "execute_result",
          "data": {
            "text/plain": [
              "           index       age  education.num  capital.gain  capital.loss  \\\n",
              "count  27656.000  27656.00      27656.000     27656.000     27656.000   \n",
              "mean   16274.895     38.61         10.094      1099.992        88.284   \n",
              "std     9410.042     13.66          2.566      7487.323       405.821   \n",
              "min        0.000     17.00          1.000         0.000         0.000   \n",
              "25%     8104.750     28.00          9.000         0.000         0.000   \n",
              "50%    16296.000     37.00         10.000         0.000         0.000   \n",
              "75%    24431.250     48.00         12.000         0.000         0.000   \n",
              "max    32559.000     90.00         16.000     99999.000      4356.000   \n",
              "\n",
              "       hours.per.week         ID  \n",
              "count       27656.000  27656.000  \n",
              "mean           40.447  16267.566  \n",
              "std            12.369   9403.093  \n",
              "min             1.000      0.000  \n",
              "25%            40.000   8104.750  \n",
              "50%            40.000  16291.000  \n",
              "75%            45.000  24416.250  \n",
              "max            99.000  32535.000  "
            ],
            "text/html": [
              "\n",
              "  <div id=\"df-269af577-f927-4044-881c-d8e03afe3b69\">\n",
              "    <div class=\"colab-df-container\">\n",
              "      <div>\n",
              "<style scoped>\n",
              "    .dataframe tbody tr th:only-of-type {\n",
              "        vertical-align: middle;\n",
              "    }\n",
              "\n",
              "    .dataframe tbody tr th {\n",
              "        vertical-align: top;\n",
              "    }\n",
              "\n",
              "    .dataframe thead th {\n",
              "        text-align: right;\n",
              "    }\n",
              "</style>\n",
              "<table border=\"1\" class=\"dataframe\">\n",
              "  <thead>\n",
              "    <tr style=\"text-align: right;\">\n",
              "      <th></th>\n",
              "      <th>index</th>\n",
              "      <th>age</th>\n",
              "      <th>education.num</th>\n",
              "      <th>capital.gain</th>\n",
              "      <th>capital.loss</th>\n",
              "      <th>hours.per.week</th>\n",
              "      <th>ID</th>\n",
              "    </tr>\n",
              "  </thead>\n",
              "  <tbody>\n",
              "    <tr>\n",
              "      <th>count</th>\n",
              "      <td>27656.000</td>\n",
              "      <td>27656.00</td>\n",
              "      <td>27656.000</td>\n",
              "      <td>27656.000</td>\n",
              "      <td>27656.000</td>\n",
              "      <td>27656.000</td>\n",
              "      <td>27656.000</td>\n",
              "    </tr>\n",
              "    <tr>\n",
              "      <th>mean</th>\n",
              "      <td>16274.895</td>\n",
              "      <td>38.61</td>\n",
              "      <td>10.094</td>\n",
              "      <td>1099.992</td>\n",
              "      <td>88.284</td>\n",
              "      <td>40.447</td>\n",
              "      <td>16267.566</td>\n",
              "    </tr>\n",
              "    <tr>\n",
              "      <th>std</th>\n",
              "      <td>9410.042</td>\n",
              "      <td>13.66</td>\n",
              "      <td>2.566</td>\n",
              "      <td>7487.323</td>\n",
              "      <td>405.821</td>\n",
              "      <td>12.369</td>\n",
              "      <td>9403.093</td>\n",
              "    </tr>\n",
              "    <tr>\n",
              "      <th>min</th>\n",
              "      <td>0.000</td>\n",
              "      <td>17.00</td>\n",
              "      <td>1.000</td>\n",
              "      <td>0.000</td>\n",
              "      <td>0.000</td>\n",
              "      <td>1.000</td>\n",
              "      <td>0.000</td>\n",
              "    </tr>\n",
              "    <tr>\n",
              "      <th>25%</th>\n",
              "      <td>8104.750</td>\n",
              "      <td>28.00</td>\n",
              "      <td>9.000</td>\n",
              "      <td>0.000</td>\n",
              "      <td>0.000</td>\n",
              "      <td>40.000</td>\n",
              "      <td>8104.750</td>\n",
              "    </tr>\n",
              "    <tr>\n",
              "      <th>50%</th>\n",
              "      <td>16296.000</td>\n",
              "      <td>37.00</td>\n",
              "      <td>10.000</td>\n",
              "      <td>0.000</td>\n",
              "      <td>0.000</td>\n",
              "      <td>40.000</td>\n",
              "      <td>16291.000</td>\n",
              "    </tr>\n",
              "    <tr>\n",
              "      <th>75%</th>\n",
              "      <td>24431.250</td>\n",
              "      <td>48.00</td>\n",
              "      <td>12.000</td>\n",
              "      <td>0.000</td>\n",
              "      <td>0.000</td>\n",
              "      <td>45.000</td>\n",
              "      <td>24416.250</td>\n",
              "    </tr>\n",
              "    <tr>\n",
              "      <th>max</th>\n",
              "      <td>32559.000</td>\n",
              "      <td>90.00</td>\n",
              "      <td>16.000</td>\n",
              "      <td>99999.000</td>\n",
              "      <td>4356.000</td>\n",
              "      <td>99.000</td>\n",
              "      <td>32535.000</td>\n",
              "    </tr>\n",
              "  </tbody>\n",
              "</table>\n",
              "</div>\n",
              "      <button class=\"colab-df-convert\" onclick=\"convertToInteractive('df-269af577-f927-4044-881c-d8e03afe3b69')\"\n",
              "              title=\"Convert this dataframe to an interactive table.\"\n",
              "              style=\"display:none;\">\n",
              "        \n",
              "  <svg xmlns=\"http://www.w3.org/2000/svg\" height=\"24px\"viewBox=\"0 0 24 24\"\n",
              "       width=\"24px\">\n",
              "    <path d=\"M0 0h24v24H0V0z\" fill=\"none\"/>\n",
              "    <path d=\"M18.56 5.44l.94 2.06.94-2.06 2.06-.94-2.06-.94-.94-2.06-.94 2.06-2.06.94zm-11 1L8.5 8.5l.94-2.06 2.06-.94-2.06-.94L8.5 2.5l-.94 2.06-2.06.94zm10 10l.94 2.06.94-2.06 2.06-.94-2.06-.94-.94-2.06-.94 2.06-2.06.94z\"/><path d=\"M17.41 7.96l-1.37-1.37c-.4-.4-.92-.59-1.43-.59-.52 0-1.04.2-1.43.59L10.3 9.45l-7.72 7.72c-.78.78-.78 2.05 0 2.83L4 21.41c.39.39.9.59 1.41.59.51 0 1.02-.2 1.41-.59l7.78-7.78 2.81-2.81c.8-.78.8-2.07 0-2.86zM5.41 20L4 18.59l7.72-7.72 1.47 1.35L5.41 20z\"/>\n",
              "  </svg>\n",
              "      </button>\n",
              "      \n",
              "  <style>\n",
              "    .colab-df-container {\n",
              "      display:flex;\n",
              "      flex-wrap:wrap;\n",
              "      gap: 12px;\n",
              "    }\n",
              "\n",
              "    .colab-df-convert {\n",
              "      background-color: #E8F0FE;\n",
              "      border: none;\n",
              "      border-radius: 50%;\n",
              "      cursor: pointer;\n",
              "      display: none;\n",
              "      fill: #1967D2;\n",
              "      height: 32px;\n",
              "      padding: 0 0 0 0;\n",
              "      width: 32px;\n",
              "    }\n",
              "\n",
              "    .colab-df-convert:hover {\n",
              "      background-color: #E2EBFA;\n",
              "      box-shadow: 0px 1px 2px rgba(60, 64, 67, 0.3), 0px 1px 3px 1px rgba(60, 64, 67, 0.15);\n",
              "      fill: #174EA6;\n",
              "    }\n",
              "\n",
              "    [theme=dark] .colab-df-convert {\n",
              "      background-color: #3B4455;\n",
              "      fill: #D2E3FC;\n",
              "    }\n",
              "\n",
              "    [theme=dark] .colab-df-convert:hover {\n",
              "      background-color: #434B5C;\n",
              "      box-shadow: 0px 1px 3px 1px rgba(0, 0, 0, 0.15);\n",
              "      filter: drop-shadow(0px 1px 2px rgba(0, 0, 0, 0.3));\n",
              "      fill: #FFFFFF;\n",
              "    }\n",
              "  </style>\n",
              "\n",
              "      <script>\n",
              "        const buttonEl =\n",
              "          document.querySelector('#df-269af577-f927-4044-881c-d8e03afe3b69 button.colab-df-convert');\n",
              "        buttonEl.style.display =\n",
              "          google.colab.kernel.accessAllowed ? 'block' : 'none';\n",
              "\n",
              "        async function convertToInteractive(key) {\n",
              "          const element = document.querySelector('#df-269af577-f927-4044-881c-d8e03afe3b69');\n",
              "          const dataTable =\n",
              "            await google.colab.kernel.invokeFunction('convertToInteractive',\n",
              "                                                     [key], {});\n",
              "          if (!dataTable) return;\n",
              "\n",
              "          const docLinkHtml = 'Like what you see? Visit the ' +\n",
              "            '<a target=\"_blank\" href=https://colab.research.google.com/notebooks/data_table.ipynb>data table notebook</a>'\n",
              "            + ' to learn more about interactive tables.';\n",
              "          element.innerHTML = '';\n",
              "          dataTable['output_type'] = 'display_data';\n",
              "          await google.colab.output.renderOutput(dataTable, element);\n",
              "          const docLink = document.createElement('div');\n",
              "          docLink.innerHTML = docLinkHtml;\n",
              "          element.appendChild(docLink);\n",
              "        }\n",
              "      </script>\n",
              "    </div>\n",
              "  </div>\n",
              "  "
            ]
          },
          "metadata": {},
          "execution_count": 87
        }
      ],
      "source": [
        "round(df_train.describe(),3)   # Statistical parameters of the numerical attributes of the training dataset"
      ]
    },
    {
      "cell_type": "code",
      "execution_count": 88,
      "metadata": {
        "colab": {
          "base_uri": "https://localhost:8080/",
          "height": 0
        },
        "id": "w1oV3vAo8Jy1",
        "outputId": "5e1b87b2-14ce-4b16-ea62-328760addd6b"
      },
      "outputs": [
        {
          "output_type": "execute_result",
          "data": {
            "text/plain": [
              "       workclass education      marital.status      occupation relationship  \\\n",
              "count      27656     27656               27656           27656        27656   \n",
              "unique         9        16                   7              15            6   \n",
              "top      Private   HS-grad  Married-civ-spouse  Prof-specialty      Husband   \n",
              "freq       19279      8934               12720            3539        11208   \n",
              "\n",
              "         race    sex native.country income  \n",
              "count   27656  27656          27656  27656  \n",
              "unique      5      2             42      2  \n",
              "top     White   Male  United-States  <=50K  \n",
              "freq    23621  18521          24811  20953  "
            ],
            "text/html": [
              "\n",
              "  <div id=\"df-24cfb485-9c99-4463-ae82-e3e57f46fa0d\">\n",
              "    <div class=\"colab-df-container\">\n",
              "      <div>\n",
              "<style scoped>\n",
              "    .dataframe tbody tr th:only-of-type {\n",
              "        vertical-align: middle;\n",
              "    }\n",
              "\n",
              "    .dataframe tbody tr th {\n",
              "        vertical-align: top;\n",
              "    }\n",
              "\n",
              "    .dataframe thead th {\n",
              "        text-align: right;\n",
              "    }\n",
              "</style>\n",
              "<table border=\"1\" class=\"dataframe\">\n",
              "  <thead>\n",
              "    <tr style=\"text-align: right;\">\n",
              "      <th></th>\n",
              "      <th>workclass</th>\n",
              "      <th>education</th>\n",
              "      <th>marital.status</th>\n",
              "      <th>occupation</th>\n",
              "      <th>relationship</th>\n",
              "      <th>race</th>\n",
              "      <th>sex</th>\n",
              "      <th>native.country</th>\n",
              "      <th>income</th>\n",
              "    </tr>\n",
              "  </thead>\n",
              "  <tbody>\n",
              "    <tr>\n",
              "      <th>count</th>\n",
              "      <td>27656</td>\n",
              "      <td>27656</td>\n",
              "      <td>27656</td>\n",
              "      <td>27656</td>\n",
              "      <td>27656</td>\n",
              "      <td>27656</td>\n",
              "      <td>27656</td>\n",
              "      <td>27656</td>\n",
              "      <td>27656</td>\n",
              "    </tr>\n",
              "    <tr>\n",
              "      <th>unique</th>\n",
              "      <td>9</td>\n",
              "      <td>16</td>\n",
              "      <td>7</td>\n",
              "      <td>15</td>\n",
              "      <td>6</td>\n",
              "      <td>5</td>\n",
              "      <td>2</td>\n",
              "      <td>42</td>\n",
              "      <td>2</td>\n",
              "    </tr>\n",
              "    <tr>\n",
              "      <th>top</th>\n",
              "      <td>Private</td>\n",
              "      <td>HS-grad</td>\n",
              "      <td>Married-civ-spouse</td>\n",
              "      <td>Prof-specialty</td>\n",
              "      <td>Husband</td>\n",
              "      <td>White</td>\n",
              "      <td>Male</td>\n",
              "      <td>United-States</td>\n",
              "      <td>&lt;=50K</td>\n",
              "    </tr>\n",
              "    <tr>\n",
              "      <th>freq</th>\n",
              "      <td>19279</td>\n",
              "      <td>8934</td>\n",
              "      <td>12720</td>\n",
              "      <td>3539</td>\n",
              "      <td>11208</td>\n",
              "      <td>23621</td>\n",
              "      <td>18521</td>\n",
              "      <td>24811</td>\n",
              "      <td>20953</td>\n",
              "    </tr>\n",
              "  </tbody>\n",
              "</table>\n",
              "</div>\n",
              "      <button class=\"colab-df-convert\" onclick=\"convertToInteractive('df-24cfb485-9c99-4463-ae82-e3e57f46fa0d')\"\n",
              "              title=\"Convert this dataframe to an interactive table.\"\n",
              "              style=\"display:none;\">\n",
              "        \n",
              "  <svg xmlns=\"http://www.w3.org/2000/svg\" height=\"24px\"viewBox=\"0 0 24 24\"\n",
              "       width=\"24px\">\n",
              "    <path d=\"M0 0h24v24H0V0z\" fill=\"none\"/>\n",
              "    <path d=\"M18.56 5.44l.94 2.06.94-2.06 2.06-.94-2.06-.94-.94-2.06-.94 2.06-2.06.94zm-11 1L8.5 8.5l.94-2.06 2.06-.94-2.06-.94L8.5 2.5l-.94 2.06-2.06.94zm10 10l.94 2.06.94-2.06 2.06-.94-2.06-.94-.94-2.06-.94 2.06-2.06.94z\"/><path d=\"M17.41 7.96l-1.37-1.37c-.4-.4-.92-.59-1.43-.59-.52 0-1.04.2-1.43.59L10.3 9.45l-7.72 7.72c-.78.78-.78 2.05 0 2.83L4 21.41c.39.39.9.59 1.41.59.51 0 1.02-.2 1.41-.59l7.78-7.78 2.81-2.81c.8-.78.8-2.07 0-2.86zM5.41 20L4 18.59l7.72-7.72 1.47 1.35L5.41 20z\"/>\n",
              "  </svg>\n",
              "      </button>\n",
              "      \n",
              "  <style>\n",
              "    .colab-df-container {\n",
              "      display:flex;\n",
              "      flex-wrap:wrap;\n",
              "      gap: 12px;\n",
              "    }\n",
              "\n",
              "    .colab-df-convert {\n",
              "      background-color: #E8F0FE;\n",
              "      border: none;\n",
              "      border-radius: 50%;\n",
              "      cursor: pointer;\n",
              "      display: none;\n",
              "      fill: #1967D2;\n",
              "      height: 32px;\n",
              "      padding: 0 0 0 0;\n",
              "      width: 32px;\n",
              "    }\n",
              "\n",
              "    .colab-df-convert:hover {\n",
              "      background-color: #E2EBFA;\n",
              "      box-shadow: 0px 1px 2px rgba(60, 64, 67, 0.3), 0px 1px 3px 1px rgba(60, 64, 67, 0.15);\n",
              "      fill: #174EA6;\n",
              "    }\n",
              "\n",
              "    [theme=dark] .colab-df-convert {\n",
              "      background-color: #3B4455;\n",
              "      fill: #D2E3FC;\n",
              "    }\n",
              "\n",
              "    [theme=dark] .colab-df-convert:hover {\n",
              "      background-color: #434B5C;\n",
              "      box-shadow: 0px 1px 3px 1px rgba(0, 0, 0, 0.15);\n",
              "      filter: drop-shadow(0px 1px 2px rgba(0, 0, 0, 0.3));\n",
              "      fill: #FFFFFF;\n",
              "    }\n",
              "  </style>\n",
              "\n",
              "      <script>\n",
              "        const buttonEl =\n",
              "          document.querySelector('#df-24cfb485-9c99-4463-ae82-e3e57f46fa0d button.colab-df-convert');\n",
              "        buttonEl.style.display =\n",
              "          google.colab.kernel.accessAllowed ? 'block' : 'none';\n",
              "\n",
              "        async function convertToInteractive(key) {\n",
              "          const element = document.querySelector('#df-24cfb485-9c99-4463-ae82-e3e57f46fa0d');\n",
              "          const dataTable =\n",
              "            await google.colab.kernel.invokeFunction('convertToInteractive',\n",
              "                                                     [key], {});\n",
              "          if (!dataTable) return;\n",
              "\n",
              "          const docLinkHtml = 'Like what you see? Visit the ' +\n",
              "            '<a target=\"_blank\" href=https://colab.research.google.com/notebooks/data_table.ipynb>data table notebook</a>'\n",
              "            + ' to learn more about interactive tables.';\n",
              "          element.innerHTML = '';\n",
              "          dataTable['output_type'] = 'display_data';\n",
              "          await google.colab.output.renderOutput(dataTable, element);\n",
              "          const docLink = document.createElement('div');\n",
              "          docLink.innerHTML = docLinkHtml;\n",
              "          element.appendChild(docLink);\n",
              "        }\n",
              "      </script>\n",
              "    </div>\n",
              "  </div>\n",
              "  "
            ]
          },
          "metadata": {},
          "execution_count": 88
        }
      ],
      "source": [
        "df_train.describe(include='O')"
      ]
    },
    {
      "cell_type": "code",
      "execution_count": 89,
      "metadata": {
        "colab": {
          "base_uri": "https://localhost:8080/"
        },
        "id": "-W0hmqrF8Qpz",
        "outputId": "5279f3ab-3017-45bb-c252-a13819709d4e"
      },
      "outputs": [
        {
          "output_type": "execute_result",
          "data": {
            "text/plain": [
              "array(['<=50K', '>50K'], dtype=object)"
            ]
          },
          "metadata": {},
          "execution_count": 89
        }
      ],
      "source": [
        "df_train.income.unique()"
      ]
    },
    {
      "cell_type": "markdown",
      "metadata": {
        "id": "maShsL5Q8MKR"
      },
      "source": [
        "In the summary for categorical variables we can already see that our target variable, income, has a number of unbalanced values in its \"<=50K\" and \">50K\" categories. That is out of 27,656 records in df_train, 20,953 correspond to people earning less than $50K."
      ]
    },
    {
      "cell_type": "code",
      "execution_count": 90,
      "metadata": {
        "colab": {
          "base_uri": "https://localhost:8080/",
          "height": 0
        },
        "id": "HdHj8qqc7hbx",
        "outputId": "64d315b7-6a7a-48fb-9916-572db7de07f2"
      },
      "outputs": [
        {
          "output_type": "execute_result",
          "data": {
            "text/plain": [
              "              index          age  education.num  capital.gain  capital.loss  \\\n",
              "count   4881.000000  4881.000000    4881.000000   4881.000000   4881.000000   \n",
              "mean   16277.736734    38.444991      10.015571    956.353001     82.177218   \n",
              "std     9341.930525    13.513499       2.602128   6796.996933    387.331950   \n",
              "min        6.000000    17.000000       1.000000      0.000000      0.000000   \n",
              "25%     8278.000000    27.000000       9.000000      0.000000      0.000000   \n",
              "50%    16173.000000    37.000000      10.000000      0.000000      0.000000   \n",
              "75%    24343.000000    47.000000      12.000000      0.000000      0.000000   \n",
              "max    32560.000000    90.000000      16.000000  99999.000000   3770.000000   \n",
              "\n",
              "       hours.per.week            ID  \n",
              "count     4881.000000   4881.000000  \n",
              "mean        40.404425  16270.460561  \n",
              "std         12.220831   9335.005226  \n",
              "min          1.000000      6.000000  \n",
              "25%         40.000000   8278.000000  \n",
              "50%         40.000000  16168.000000  \n",
              "75%         45.000000  24328.000000  \n",
              "max         99.000000  32536.000000  "
            ],
            "text/html": [
              "\n",
              "  <div id=\"df-406c4c88-c7fb-40ba-a409-eb4ae25766bb\">\n",
              "    <div class=\"colab-df-container\">\n",
              "      <div>\n",
              "<style scoped>\n",
              "    .dataframe tbody tr th:only-of-type {\n",
              "        vertical-align: middle;\n",
              "    }\n",
              "\n",
              "    .dataframe tbody tr th {\n",
              "        vertical-align: top;\n",
              "    }\n",
              "\n",
              "    .dataframe thead th {\n",
              "        text-align: right;\n",
              "    }\n",
              "</style>\n",
              "<table border=\"1\" class=\"dataframe\">\n",
              "  <thead>\n",
              "    <tr style=\"text-align: right;\">\n",
              "      <th></th>\n",
              "      <th>index</th>\n",
              "      <th>age</th>\n",
              "      <th>education.num</th>\n",
              "      <th>capital.gain</th>\n",
              "      <th>capital.loss</th>\n",
              "      <th>hours.per.week</th>\n",
              "      <th>ID</th>\n",
              "    </tr>\n",
              "  </thead>\n",
              "  <tbody>\n",
              "    <tr>\n",
              "      <th>count</th>\n",
              "      <td>4881.000000</td>\n",
              "      <td>4881.000000</td>\n",
              "      <td>4881.000000</td>\n",
              "      <td>4881.000000</td>\n",
              "      <td>4881.000000</td>\n",
              "      <td>4881.000000</td>\n",
              "      <td>4881.000000</td>\n",
              "    </tr>\n",
              "    <tr>\n",
              "      <th>mean</th>\n",
              "      <td>16277.736734</td>\n",
              "      <td>38.444991</td>\n",
              "      <td>10.015571</td>\n",
              "      <td>956.353001</td>\n",
              "      <td>82.177218</td>\n",
              "      <td>40.404425</td>\n",
              "      <td>16270.460561</td>\n",
              "    </tr>\n",
              "    <tr>\n",
              "      <th>std</th>\n",
              "      <td>9341.930525</td>\n",
              "      <td>13.513499</td>\n",
              "      <td>2.602128</td>\n",
              "      <td>6796.996933</td>\n",
              "      <td>387.331950</td>\n",
              "      <td>12.220831</td>\n",
              "      <td>9335.005226</td>\n",
              "    </tr>\n",
              "    <tr>\n",
              "      <th>min</th>\n",
              "      <td>6.000000</td>\n",
              "      <td>17.000000</td>\n",
              "      <td>1.000000</td>\n",
              "      <td>0.000000</td>\n",
              "      <td>0.000000</td>\n",
              "      <td>1.000000</td>\n",
              "      <td>6.000000</td>\n",
              "    </tr>\n",
              "    <tr>\n",
              "      <th>25%</th>\n",
              "      <td>8278.000000</td>\n",
              "      <td>27.000000</td>\n",
              "      <td>9.000000</td>\n",
              "      <td>0.000000</td>\n",
              "      <td>0.000000</td>\n",
              "      <td>40.000000</td>\n",
              "      <td>8278.000000</td>\n",
              "    </tr>\n",
              "    <tr>\n",
              "      <th>50%</th>\n",
              "      <td>16173.000000</td>\n",
              "      <td>37.000000</td>\n",
              "      <td>10.000000</td>\n",
              "      <td>0.000000</td>\n",
              "      <td>0.000000</td>\n",
              "      <td>40.000000</td>\n",
              "      <td>16168.000000</td>\n",
              "    </tr>\n",
              "    <tr>\n",
              "      <th>75%</th>\n",
              "      <td>24343.000000</td>\n",
              "      <td>47.000000</td>\n",
              "      <td>12.000000</td>\n",
              "      <td>0.000000</td>\n",
              "      <td>0.000000</td>\n",
              "      <td>45.000000</td>\n",
              "      <td>24328.000000</td>\n",
              "    </tr>\n",
              "    <tr>\n",
              "      <th>max</th>\n",
              "      <td>32560.000000</td>\n",
              "      <td>90.000000</td>\n",
              "      <td>16.000000</td>\n",
              "      <td>99999.000000</td>\n",
              "      <td>3770.000000</td>\n",
              "      <td>99.000000</td>\n",
              "      <td>32536.000000</td>\n",
              "    </tr>\n",
              "  </tbody>\n",
              "</table>\n",
              "</div>\n",
              "      <button class=\"colab-df-convert\" onclick=\"convertToInteractive('df-406c4c88-c7fb-40ba-a409-eb4ae25766bb')\"\n",
              "              title=\"Convert this dataframe to an interactive table.\"\n",
              "              style=\"display:none;\">\n",
              "        \n",
              "  <svg xmlns=\"http://www.w3.org/2000/svg\" height=\"24px\"viewBox=\"0 0 24 24\"\n",
              "       width=\"24px\">\n",
              "    <path d=\"M0 0h24v24H0V0z\" fill=\"none\"/>\n",
              "    <path d=\"M18.56 5.44l.94 2.06.94-2.06 2.06-.94-2.06-.94-.94-2.06-.94 2.06-2.06.94zm-11 1L8.5 8.5l.94-2.06 2.06-.94-2.06-.94L8.5 2.5l-.94 2.06-2.06.94zm10 10l.94 2.06.94-2.06 2.06-.94-2.06-.94-.94-2.06-.94 2.06-2.06.94z\"/><path d=\"M17.41 7.96l-1.37-1.37c-.4-.4-.92-.59-1.43-.59-.52 0-1.04.2-1.43.59L10.3 9.45l-7.72 7.72c-.78.78-.78 2.05 0 2.83L4 21.41c.39.39.9.59 1.41.59.51 0 1.02-.2 1.41-.59l7.78-7.78 2.81-2.81c.8-.78.8-2.07 0-2.86zM5.41 20L4 18.59l7.72-7.72 1.47 1.35L5.41 20z\"/>\n",
              "  </svg>\n",
              "      </button>\n",
              "      \n",
              "  <style>\n",
              "    .colab-df-container {\n",
              "      display:flex;\n",
              "      flex-wrap:wrap;\n",
              "      gap: 12px;\n",
              "    }\n",
              "\n",
              "    .colab-df-convert {\n",
              "      background-color: #E8F0FE;\n",
              "      border: none;\n",
              "      border-radius: 50%;\n",
              "      cursor: pointer;\n",
              "      display: none;\n",
              "      fill: #1967D2;\n",
              "      height: 32px;\n",
              "      padding: 0 0 0 0;\n",
              "      width: 32px;\n",
              "    }\n",
              "\n",
              "    .colab-df-convert:hover {\n",
              "      background-color: #E2EBFA;\n",
              "      box-shadow: 0px 1px 2px rgba(60, 64, 67, 0.3), 0px 1px 3px 1px rgba(60, 64, 67, 0.15);\n",
              "      fill: #174EA6;\n",
              "    }\n",
              "\n",
              "    [theme=dark] .colab-df-convert {\n",
              "      background-color: #3B4455;\n",
              "      fill: #D2E3FC;\n",
              "    }\n",
              "\n",
              "    [theme=dark] .colab-df-convert:hover {\n",
              "      background-color: #434B5C;\n",
              "      box-shadow: 0px 1px 3px 1px rgba(0, 0, 0, 0.15);\n",
              "      filter: drop-shadow(0px 1px 2px rgba(0, 0, 0, 0.3));\n",
              "      fill: #FFFFFF;\n",
              "    }\n",
              "  </style>\n",
              "\n",
              "      <script>\n",
              "        const buttonEl =\n",
              "          document.querySelector('#df-406c4c88-c7fb-40ba-a409-eb4ae25766bb button.colab-df-convert');\n",
              "        buttonEl.style.display =\n",
              "          google.colab.kernel.accessAllowed ? 'block' : 'none';\n",
              "\n",
              "        async function convertToInteractive(key) {\n",
              "          const element = document.querySelector('#df-406c4c88-c7fb-40ba-a409-eb4ae25766bb');\n",
              "          const dataTable =\n",
              "            await google.colab.kernel.invokeFunction('convertToInteractive',\n",
              "                                                     [key], {});\n",
              "          if (!dataTable) return;\n",
              "\n",
              "          const docLinkHtml = 'Like what you see? Visit the ' +\n",
              "            '<a target=\"_blank\" href=https://colab.research.google.com/notebooks/data_table.ipynb>data table notebook</a>'\n",
              "            + ' to learn more about interactive tables.';\n",
              "          element.innerHTML = '';\n",
              "          dataTable['output_type'] = 'display_data';\n",
              "          await google.colab.output.renderOutput(dataTable, element);\n",
              "          const docLink = document.createElement('div');\n",
              "          docLink.innerHTML = docLinkHtml;\n",
              "          element.appendChild(docLink);\n",
              "        }\n",
              "      </script>\n",
              "    </div>\n",
              "  </div>\n",
              "  "
            ]
          },
          "metadata": {},
          "execution_count": 90
        }
      ],
      "source": [
        "df_test.describe()   # Statistical parameters of the numeric attributes of the test dataset"
      ]
    },
    {
      "cell_type": "markdown",
      "metadata": {
        "id": "qnWnFCHp8C9M"
      },
      "source": [
        "If we look at the mean, median and deviation values of each numerical variable in the summaries of each dataset we can see that their values are similar, for example, in the training dataset we have for the variable age a mean of 38.61, a standard deviation of 13.65 and a median of 37 years; if we now look at the same statistics but in the test set we observe a mean of 38.44, a deviation of 13.51 and a median of 37 years.\n",
        "\n",
        "These values are very similar indicating the presence of randomness in the selection method of both sets."
      ]
    },
    {
      "cell_type": "markdown",
      "metadata": {
        "id": "zAyiCIEc-Ygh"
      },
      "source": [
        "###Missing values."
      ]
    },
    {
      "cell_type": "code",
      "execution_count": 91,
      "metadata": {
        "colab": {
          "base_uri": "https://localhost:8080/"
        },
        "id": "C5LT8EgT7qnA",
        "outputId": "82da1ca5-e097-446d-f5d7-c420bcf8f950"
      },
      "outputs": [
        {
          "output_type": "execute_result",
          "data": {
            "text/plain": [
              "index             0\n",
              "age               0\n",
              "workclass         0\n",
              "education         0\n",
              "education.num     0\n",
              "marital.status    0\n",
              "occupation        0\n",
              "relationship      0\n",
              "race              0\n",
              "sex               0\n",
              "capital.gain      0\n",
              "capital.loss      0\n",
              "hours.per.week    0\n",
              "native.country    0\n",
              "income            0\n",
              "ID                0\n",
              "dtype: int64"
            ]
          },
          "metadata": {},
          "execution_count": 91
        }
      ],
      "source": [
        "df_train.isna().sum()  # We count the number of null records we have in our training dataset."
      ]
    },
    {
      "cell_type": "code",
      "execution_count": 92,
      "metadata": {
        "colab": {
          "base_uri": "https://localhost:8080/"
        },
        "id": "3AG8OdHrDpEo",
        "outputId": "08b31f49-4f56-4274-c37e-2a81d425bce4"
      },
      "outputs": [
        {
          "output_type": "execute_result",
          "data": {
            "text/plain": [
              "index             0\n",
              "age               0\n",
              "workclass         0\n",
              "education         0\n",
              "education.num     0\n",
              "marital.status    0\n",
              "occupation        0\n",
              "relationship      0\n",
              "race              0\n",
              "sex               0\n",
              "capital.gain      0\n",
              "capital.loss      0\n",
              "hours.per.week    0\n",
              "native.country    0\n",
              "ID                0\n",
              "dtype: int64"
            ]
          },
          "metadata": {},
          "execution_count": 92
        }
      ],
      "source": [
        "df_test.isna().sum()   # We count the number of null records we have in our test dataset."
      ]
    },
    {
      "cell_type": "markdown",
      "metadata": {
        "id": "uMC8J08D-oQh"
      },
      "source": [
        "There are no missing values in either dataset so no imputation of any kind is required."
      ]
    },
    {
      "cell_type": "markdown",
      "source": [
        "### Presence of unknown values"
      ],
      "metadata": {
        "id": "YosIGH2uhBtN"
      }
    },
    {
      "cell_type": "code",
      "source": [
        "# There are variables in the columns that are unknown \"?\", we have to find out where they are and decide what to do with them in our model.\n",
        "df_categoricas = df_train.select_dtypes(\"object\")## select the categorical variables\n",
        "\n",
        "# we will search within the categorical variables of the data train for the unknown features\n",
        "\n",
        "df_categoricas.apply(lambda x: x== \"?\", axis = 0).sum()"
      ],
      "metadata": {
        "id": "DqO3o_ss5wDl",
        "colab": {
          "base_uri": "https://localhost:8080/"
        },
        "outputId": "30a158af-9156-4530-c37c-2bf6d64ff142"
      },
      "execution_count": 93,
      "outputs": [
        {
          "output_type": "execute_result",
          "data": {
            "text/plain": [
              "workclass         1539\n",
              "education            0\n",
              "marital.status       0\n",
              "occupation        1546\n",
              "relationship         0\n",
              "race                 0\n",
              "sex                  0\n",
              "native.country     504\n",
              "income               0\n",
              "dtype: int64"
            ]
          },
          "metadata": {},
          "execution_count": 93
        }
      ]
    },
    {
      "cell_type": "code",
      "source": [
        "# we will search within the categorical variables of the data test for the unknown features\n",
        "df_test.select_dtypes(\"object\").apply(lambda x: x== \"?\", axis = 0).sum()"
      ],
      "metadata": {
        "id": "22YTQgOI8FLK",
        "colab": {
          "base_uri": "https://localhost:8080/"
        },
        "outputId": "78576951-5e5f-4eab-a617-69795608b348"
      },
      "execution_count": 94,
      "outputs": [
        {
          "output_type": "execute_result",
          "data": {
            "text/plain": [
              "workclass         297\n",
              "education           0\n",
              "marital.status      0\n",
              "occupation        297\n",
              "relationship        0\n",
              "race                0\n",
              "sex                 0\n",
              "native.country     78\n",
              "dtype: int64"
            ]
          },
          "metadata": {},
          "execution_count": 94
        }
      ]
    },
    {
      "cell_type": "code",
      "source": [
        "## we will drop the rows with \"?\" in the data train\n",
        "df_train = df_train[df_train[\"workclass\"] != \"?\"]\n",
        "df_train = df_train[df_train[\"occupation\"] != \"?\"]\n",
        "df_train = df_train[df_train[\"native.country\"] != \"?\"]"
      ],
      "metadata": {
        "id": "P632GdtO7vcM"
      },
      "execution_count": 95,
      "outputs": []
    },
    {
      "cell_type": "code",
      "source": [
        "df_train.select_dtypes(\"object\").apply(lambda x: x== \"?\", axis = 0).sum() ## we check the data train to make sure that we have dropped \"?\""
      ],
      "metadata": {
        "id": "XEGjEMjk8u9u",
        "colab": {
          "base_uri": "https://localhost:8080/"
        },
        "outputId": "79760e6a-33cb-41ee-d7d5-b7ef8e2b33f4"
      },
      "execution_count": 96,
      "outputs": [
        {
          "output_type": "execute_result",
          "data": {
            "text/plain": [
              "workclass         0\n",
              "education         0\n",
              "marital.status    0\n",
              "occupation        0\n",
              "relationship      0\n",
              "race              0\n",
              "sex               0\n",
              "native.country    0\n",
              "income            0\n",
              "dtype: int64"
            ]
          },
          "metadata": {},
          "execution_count": 96
        }
      ]
    },
    {
      "cell_type": "code",
      "source": [
        "## we will drop the rows with \"?\" in the data test\n",
        "df_test = df_test[df_test[\"workclass\"] != \"?\"]\n",
        "df_test = df_test[df_test[\"occupation\"] != \"?\"]\n",
        "df_test = df_test[df_test[\"native.country\"] != \"?\"]"
      ],
      "metadata": {
        "id": "lCyLjlEn895q"
      },
      "execution_count": 97,
      "outputs": []
    },
    {
      "cell_type": "code",
      "source": [
        "df_test.select_dtypes(\"object\").apply(lambda x: x== \"?\", axis = 0).sum() ## we check the data test to make sure we have dropped \"?\""
      ],
      "metadata": {
        "id": "DEu5-d8G9Its",
        "colab": {
          "base_uri": "https://localhost:8080/"
        },
        "outputId": "742476ef-a84a-4c34-bcb6-1539ca5bf21b"
      },
      "execution_count": 98,
      "outputs": [
        {
          "output_type": "execute_result",
          "data": {
            "text/plain": [
              "workclass         0\n",
              "education         0\n",
              "marital.status    0\n",
              "occupation        0\n",
              "relationship      0\n",
              "race              0\n",
              "sex               0\n",
              "native.country    0\n",
              "dtype: int64"
            ]
          },
          "metadata": {},
          "execution_count": 98
        }
      ]
    },
    {
      "cell_type": "markdown",
      "source": [
        "We eliminated the unknown values in the training and test data in the columns workclass, native.country and occupation. This data corresponds to a percentage of less than 5% of the test and training data set."
      ],
      "metadata": {
        "id": "XPlxG6bHt0cG"
      }
    },
    {
      "cell_type": "markdown",
      "metadata": {
        "id": "GiX9NYUaxlTi"
      },
      "source": [
        "###Data visualization."
      ]
    },
    {
      "cell_type": "markdown",
      "metadata": {
        "id": "gGog3P-MGkhn"
      },
      "source": [
        "We show the distribution and behavior of variables. Bart charts were used to study **categorical variables** and histograms and boxplots were used to sudy **numerical variables**."
      ]
    },
    {
      "cell_type": "markdown",
      "metadata": {
        "id": "sOpEbKtxwCLW"
      },
      "source": [
        "#### Categorical variables"
      ]
    },
    {
      "cell_type": "code",
      "execution_count": 99,
      "metadata": {
        "colab": {
          "base_uri": "https://localhost:8080/",
          "height": 279
        },
        "id": "OKXdy878gPx_",
        "outputId": "b04f1429-887d-4651-c056-d19fd138017c"
      },
      "outputs": [
        {
          "output_type": "display_data",
          "data": {
            "text/plain": [
              "<Figure size 1080x288 with 1 Axes>"
            ],
            "image/png": "[encoded data removed]"
          },
          "metadata": {
            "needs_background": "light"
          }
        }
      ],
      "source": [
        "# workclass variable  plot \n",
        "plt.figure(figsize=(15,4))\n",
        "sns.countplot(x='workclass', data= df_train, order = df_train['workclass'].value_counts().index)\n",
        "plt.show()"
      ]
    },
    {
      "cell_type": "code",
      "execution_count": 100,
      "metadata": {
        "colab": {
          "base_uri": "https://localhost:8080/",
          "height": 279
        },
        "id": "XqtjoUecv6x_",
        "outputId": "8ca217fc-344a-493e-e282-d59fc4c42ebc"
      },
      "outputs": [
        {
          "output_type": "display_data",
          "data": {
            "text/plain": [
              "<Figure size 1440x288 with 1 Axes>"
            ],
            "image/png": "[encoded data removed]"
          },
          "metadata": {
            "needs_background": "light"
          }
        }
      ],
      "source": [
        "# Education variable plot\n",
        "plt.figure(figsize=(20,4))\n",
        "sns.countplot(x='education', data= df_train, order = df_train['education'].value_counts().index)\n",
        "plt.show()"
      ]
    },
    {
      "cell_type": "code",
      "execution_count": 101,
      "metadata": {
        "colab": {
          "base_uri": "https://localhost:8080/",
          "height": 259
        },
        "id": "tgblLZHAwLr_",
        "outputId": "5c920c61-c11c-442b-fc75-746686c4d7ec"
      },
      "outputs": [
        {
          "output_type": "display_data",
          "data": {
            "text/plain": [
              "<Figure size 1800x288 with 1 Axes>"
            ],
            "image/png": "[encoded data removed]"
          },
          "metadata": {
            "needs_background": "light"
          }
        }
      ],
      "source": [
        "#Occupation variable plot\n",
        "plt.figure(figsize=(25,4))\n",
        "sns.countplot(x='occupation', data= df_train, order = df_train['occupation'].value_counts().index)\n",
        "plt.show()"
      ]
    },
    {
      "cell_type": "code",
      "execution_count": 102,
      "metadata": {
        "colab": {
          "base_uri": "https://localhost:8080/",
          "height": 279
        },
        "id": "60IYSxXmwaUH",
        "outputId": "218aa635-d8cb-46e5-e756-76442ae803a5"
      },
      "outputs": [
        {
          "output_type": "display_data",
          "data": {
            "text/plain": [
              "<Figure size 432x288 with 1 Axes>"
            ],
            "image/png": "[encoded data removed]"
          },
          "metadata": {
            "needs_background": "light"
          }
        }
      ],
      "source": [
        "# sex variable education\n",
        "plt.figure(figsize=(6,4))\n",
        "sns.countplot(x='sex', data= df_train, order = df_train['sex'].value_counts().index)\n",
        "plt.show()"
      ]
    },
    {
      "cell_type": "code",
      "execution_count": 103,
      "metadata": {
        "colab": {
          "base_uri": "https://localhost:8080/",
          "height": 279
        },
        "id": "TYEq_O7mwtWR",
        "outputId": "bc79127a-1e08-4ed2-d297-9e1a9a5f023f"
      },
      "outputs": [
        {
          "output_type": "display_data",
          "data": {
            "text/plain": [
              "<Figure size 720x288 with 1 Axes>"
            ],
            "image/png": "[encoded data removed]"
          },
          "metadata": {
            "needs_background": "light"
          }
        }
      ],
      "source": [
        "# Race variable plot\n",
        "plt.figure(figsize=(10,4))\n",
        "sns.countplot(x='race', data= df_train, order = df_train['race'].value_counts().index)\n",
        "plt.show()"
      ]
    },
    {
      "cell_type": "code",
      "execution_count": 104,
      "metadata": {
        "colab": {
          "base_uri": "https://localhost:8080/",
          "height": 279
        },
        "id": "OuhSjTYlxBSM",
        "outputId": "afd5e0d3-6d8e-4ee6-c113-4c80fc96e4df"
      },
      "outputs": [
        {
          "output_type": "display_data",
          "data": {
            "text/plain": [
              "<Figure size 720x288 with 1 Axes>"
            ],
            "image/png": "[encoded data removed]"
          },
          "metadata": {
            "needs_background": "light"
          }
        }
      ],
      "source": [
        "# Relationship variable plot\n",
        "plt.figure(figsize=(10,4))\n",
        "sns.countplot(x='relationship', data= df_train, order = df_train['relationship'].value_counts().index)\n",
        "plt.show()"
      ]
    },
    {
      "cell_type": "code",
      "execution_count": 105,
      "metadata": {
        "colab": {
          "base_uri": "https://localhost:8080/",
          "height": 279
        },
        "id": "LHXpfg0YxLZY",
        "outputId": "c7c608ab-56b4-40dc-8795-362be0fa7fd6"
      },
      "outputs": [
        {
          "output_type": "display_data",
          "data": {
            "text/plain": [
              "<Figure size 1080x288 with 1 Axes>"
            ],
            "image/png": "[encoded data removed]"
          },
          "metadata": {
            "needs_background": "light"
          }
        }
      ],
      "source": [
        "# marital.status variable plot\n",
        "plt.figure(figsize=(15,4))\n",
        "sns.countplot(x='marital.status', data= df_train, order = df_train['marital.status'].value_counts().index)\n",
        "plt.show()"
      ]
    },
    {
      "cell_type": "code",
      "execution_count": 106,
      "metadata": {
        "colab": {
          "base_uri": "https://localhost:8080/",
          "height": 258
        },
        "id": "98rDAQdvxxl3",
        "outputId": "40763b62-6789-4dce-93aa-07ffd7d033ab"
      },
      "outputs": [
        {
          "output_type": "display_data",
          "data": {
            "text/plain": [
              "<Figure size 1800x288 with 1 Axes>"
            ],
            "image/png": "[encoded data removed]"
          },
          "metadata": {
            "needs_background": "light"
          }
        }
      ],
      "source": [
        "# native.country variable plot\n",
        "plt.figure(figsize=(25,4))\n",
        "sns.countplot(x='native.country', data= df_train, order = df_train['native.country'].value_counts().iloc[:10].index)\n",
        "plt.show()"
      ]
    },
    {
      "cell_type": "code",
      "execution_count": 107,
      "metadata": {
        "colab": {
          "base_uri": "https://localhost:8080/"
        },
        "id": "-q6_cbAQvCBT",
        "outputId": "904e5e83-3e14-42c0-cf84-a6c8733664e4"
      },
      "outputs": [
        {
          "output_type": "execute_result",
          "data": {
            "text/plain": [
              "array(['United-States', 'Jamaica', 'India', 'Mexico', 'Philippines',\n",
              "       'Dominican-Republic', 'El-Salvador', 'China', 'Thailand',\n",
              "       'Ireland', 'Laos', 'Iran', 'France', 'Guatemala', 'South',\n",
              "       'Puerto-Rico', 'Japan', 'Portugal', 'Greece', 'Canada', 'Poland',\n",
              "       'Peru', 'Cuba', 'Columbia', 'Germany', 'Italy', 'Hong', 'Haiti',\n",
              "       'Ecuador', 'England', 'Nicaragua', 'Cambodia', 'Trinadad&Tobago',\n",
              "       'Vietnam', 'Honduras', 'Taiwan', 'Scotland', 'Yugoslavia',\n",
              "       'Hungary', 'Outlying-US(Guam-USVI-etc)', 'Holand-Netherlands'],\n",
              "      dtype=object)"
            ]
          },
          "metadata": {},
          "execution_count": 107
        }
      ],
      "source": [
        "df_train['native.country'].unique()"
      ]
    },
    {
      "cell_type": "code",
      "execution_count": 108,
      "metadata": {
        "colab": {
          "base_uri": "https://localhost:8080/",
          "height": 282
        },
        "id": "_0V3dbG8-2k5",
        "outputId": "662f1cfe-1fda-413b-945d-bb066866bc3f"
      },
      "outputs": [
        {
          "output_type": "display_data",
          "data": {
            "text/plain": [
              "<Figure size 432x288 with 1 Axes>"
            ],
            "image/png": "[encoded data removed]"
          },
          "metadata": {
            "needs_background": "light"
          }
        }
      ],
      "source": [
        "# income variable plot\n",
        "plt.figure(figsize=(6,4))\n",
        "sns.countplot(x='income', data= df_train, order = df_train['income'].value_counts().index)\n",
        "plt.show()"
      ]
    },
    {
      "cell_type": "markdown",
      "metadata": {
        "id": "uyNJBNekRssq"
      },
      "source": [
        " **Results of the categorical variables**: \n",
        "\n",
        "-The variable workclass shows that most of the cases under study work in the private class.\n",
        "\n",
        "-The education variable shows that most of the cases are high school graduates, followed by some college and bachelor's degree.\n",
        "\n",
        "-The occupation variable shows an equal distribution for occupations with a skilled trade and craft repair, followed by a close number of cases, followed by executive positions (exec.), followed by a skilled trade and craft repair. \n",
        "followed by executive positions (exec managerial).\n",
        "\n",
        "-In the sex variable, men predominate over women and in the race variable, the most frequent race is white, followed by black and Asian.\n",
        "\n",
        "-In the marital status variable, there was a predominance of the Married category, followed by never married and divorced.\n",
        "\n",
        "-In the relationship variable, it is to be expected that the majority belong to the \"husband\" category. Since in the gender and marital status variables, the majority are male and married respectively. \n",
        "\n",
        "-The most frequent category was notably United States over the rest in the Native Country variable.\n",
        "\n",
        "-On the other hand, the income variable showed that most of the cases within the dataset have incomes less than or equal to 50k."
      ]
    },
    {
      "cell_type": "markdown",
      "metadata": {
        "id": "uOAL9RA9KtAX"
      },
      "source": [
        "## Processing of categorical variables.\n"
      ]
    },
    {
      "cell_type": "markdown",
      "metadata": {
        "id": "pll8cEwyHbbN"
      },
      "source": [
        "Taking into account that our datasets do not present nulls, we start with the processing of the categorical variables."
      ]
    },
    {
      "cell_type": "markdown",
      "source": [
        "### Variables present in the training set and in the test set"
      ],
      "metadata": {
        "id": "Q3weHlMvXZzq"
      }
    },
    {
      "cell_type": "code",
      "source": [
        "## Function to compare the data between columns of the data train and the data set\n",
        "columns= ['workclass', 'education','marital.status', 'occupation', 'relationship', 'race', 'sex', 'native.country']\n",
        "\n",
        "def comparar(columns):\n",
        "  for i in columns:\n",
        "      extra_test=[]\n",
        "      for x in df_train[i].unique():\n",
        "        if x not in df_test[i].unique():\n",
        "          extra_test.append(x)\n",
        "  \n",
        "      print(f\" La data {extra_test} se encuentra en el data train pero no en el testeo\")\n",
        "\n",
        "comparar(columns)"
      ],
      "metadata": {
        "colab": {
          "base_uri": "https://localhost:8080/"
        },
        "id": "GHt89yLKXWcg",
        "outputId": "345ab2d8-4844-4a8e-97a3-ca39b0d36441"
      },
      "execution_count": 109,
      "outputs": [
        {
          "output_type": "stream",
          "name": "stdout",
          "text": [
            " La data ['Without-pay'] se encuentra en el data train pero no en el testeo\n",
            " La data [] se encuentra en el data train pero no en el testeo\n",
            " La data [] se encuentra en el data train pero no en el testeo\n",
            " La data [] se encuentra en el data train pero no en el testeo\n",
            " La data [] se encuentra en el data train pero no en el testeo\n",
            " La data [] se encuentra en el data train pero no en el testeo\n",
            " La data [] se encuentra en el data train pero no en el testeo\n",
            " La data ['Holand-Netherlands'] se encuentra en el data train pero no en el testeo\n"
          ]
        }
      ]
    },
    {
      "cell_type": "markdown",
      "source": [
        "As there are missing elements in the test data we use replace to make the encoder in the data test."
      ],
      "metadata": {
        "id": "dDxoUJ0Tdnha"
      }
    },
    {
      "cell_type": "code",
      "source": [
        "workclass_dict={ \n",
        "   # '?': 0,\n",
        "    'Federal-gov': 0,\n",
        "    'Local-gov': 1,\n",
        "    'Private': 2,\n",
        "    'Self-emp-inc': 3,\n",
        "    'Self-emp-not-inc': 4,\n",
        "    'State-gov': 5  \n",
        " }\n",
        "\n",
        "df_test[\"workclass\"]=df_test.workclass.replace(workclass_dict)"
      ],
      "metadata": {
        "id": "T1kRO8CKH-nj"
      },
      "execution_count": 110,
      "outputs": []
    },
    {
      "cell_type": "code",
      "source": [
        "# we check how many rows have this country as a native country\n",
        "df_train[df_train[\"native.country\"] == 'Holand-Netherlands'].shape[0] "
      ],
      "metadata": {
        "id": "k59XT8yIaOsV",
        "colab": {
          "base_uri": "https://localhost:8080/"
        },
        "outputId": "a862643c-a0e8-4070-82ab-8c45074d6d45"
      },
      "execution_count": 111,
      "outputs": [
        {
          "output_type": "execute_result",
          "data": {
            "text/plain": [
              "1"
            ]
          },
          "metadata": {},
          "execution_count": 111
        }
      ]
    },
    {
      "cell_type": "code",
      "source": [
        "#Only one row has this country as native, so we can remove it from our data train.\n",
        "df_train = df_train.drop(df_train[df_train['native.country']=='Holand-Netherlands'].index[0], axis= 0)"
      ],
      "metadata": {
        "id": "iwDsHNkE4ax4"
      },
      "execution_count": 112,
      "outputs": []
    },
    {
      "cell_type": "markdown",
      "source": [
        "### Encoder de variables categoricas"
      ],
      "metadata": {
        "id": "jR6Fc30FYswF"
      }
    },
    {
      "cell_type": "code",
      "source": [
        "# import LabelEncoder for nominal variables\n",
        "\n",
        "from sklearn.preprocessing import LabelEncoder\n",
        "\n",
        "le = LabelEncoder()"
      ],
      "metadata": {
        "id": "kKweUfiOZIvs"
      },
      "execution_count": 113,
      "outputs": []
    },
    {
      "cell_type": "code",
      "source": [
        "# We make the encoder for the categorical variables of the data train.\n",
        "df_categorical_train = df_train.select_dtypes(\"object\").apply(le.fit_transform)"
      ],
      "metadata": {
        "id": "pqMFi2db_pqf"
      },
      "execution_count": 114,
      "outputs": []
    },
    {
      "cell_type": "code",
      "source": [
        "## select numerical variables\n",
        "df_num = df_train.select_dtypes(\"number\")"
      ],
      "metadata": {
        "id": "C02a6zTUli5g"
      },
      "execution_count": 115,
      "outputs": []
    },
    {
      "cell_type": "code",
      "source": [
        "# concatenate our encoder categorical variables with our train numeric variables\n",
        "df_train = pd.concat([df_num,df_categorical_train], axis= 1)"
      ],
      "metadata": {
        "id": "egx9-C-lBP46"
      },
      "execution_count": 116,
      "outputs": []
    },
    {
      "cell_type": "code",
      "source": [
        "# We make the encoder for the categorical variables of the data test.\n",
        "columns_rest_test= ['education','marital.status', 'occupation', 'relationship', 'race', 'sex', 'native.country']\n",
        "df_categorical_test = df_test[columns_rest_test].apply(le.fit_transform)\n",
        "df_num_test= df_test.drop(columns_rest_test, axis=1)\n",
        "\n",
        "# concatenate our encoder categorical variables with our test numeric variables\n",
        "df_test = pd.concat([df_num_test,df_categorical_test], axis= 1)"
      ],
      "metadata": {
        "id": "FHUo6cFvcOpO"
      },
      "execution_count": 117,
      "outputs": []
    },
    {
      "cell_type": "code",
      "source": [
        "## Make sure we only have numeric variables\n",
        "df_train.info()"
      ],
      "metadata": {
        "id": "QkD3uW6U_BRe",
        "colab": {
          "base_uri": "https://localhost:8080/"
        },
        "outputId": "46453d7a-a5fc-4e01-befa-161f593c2f2b"
      },
      "execution_count": 118,
      "outputs": [
        {
          "output_type": "stream",
          "name": "stdout",
          "text": [
            "<class 'pandas.core.frame.DataFrame'>\n",
            "Int64Index: 25628 entries, 0 to 27655\n",
            "Data columns (total 16 columns):\n",
            " #   Column          Non-Null Count  Dtype\n",
            "---  ------          --------------  -----\n",
            " 0   index           25628 non-null  int64\n",
            " 1   age             25628 non-null  int64\n",
            " 2   education.num   25628 non-null  int64\n",
            " 3   capital.gain    25628 non-null  int64\n",
            " 4   capital.loss    25628 non-null  int64\n",
            " 5   hours.per.week  25628 non-null  int64\n",
            " 6   ID              25628 non-null  int64\n",
            " 7   workclass       25628 non-null  int64\n",
            " 8   education       25628 non-null  int64\n",
            " 9   marital.status  25628 non-null  int64\n",
            " 10  occupation      25628 non-null  int64\n",
            " 11  relationship    25628 non-null  int64\n",
            " 12  race            25628 non-null  int64\n",
            " 13  sex             25628 non-null  int64\n",
            " 14  native.country  25628 non-null  int64\n",
            " 15  income          25628 non-null  int64\n",
            "dtypes: int64(16)\n",
            "memory usage: 3.3 MB\n"
          ]
        }
      ]
    },
    {
      "cell_type": "code",
      "source": [
        "## Make sure we only have numeric variables\n",
        "df_test.info()"
      ],
      "metadata": {
        "id": "comQ_LcK_eUH",
        "colab": {
          "base_uri": "https://localhost:8080/"
        },
        "outputId": "a1809347-9652-4985-b9bd-bca4c6d00605"
      },
      "execution_count": 119,
      "outputs": [
        {
          "output_type": "stream",
          "name": "stdout",
          "text": [
            "<class 'pandas.core.frame.DataFrame'>\n",
            "Int64Index: 4510 entries, 0 to 4880\n",
            "Data columns (total 15 columns):\n",
            " #   Column          Non-Null Count  Dtype\n",
            "---  ------          --------------  -----\n",
            " 0   index           4510 non-null   int64\n",
            " 1   age             4510 non-null   int64\n",
            " 2   workclass       4510 non-null   int64\n",
            " 3   education.num   4510 non-null   int64\n",
            " 4   capital.gain    4510 non-null   int64\n",
            " 5   capital.loss    4510 non-null   int64\n",
            " 6   hours.per.week  4510 non-null   int64\n",
            " 7   ID              4510 non-null   int64\n",
            " 8   education       4510 non-null   int64\n",
            " 9   marital.status  4510 non-null   int64\n",
            " 10  occupation      4510 non-null   int64\n",
            " 11  relationship    4510 non-null   int64\n",
            " 12  race            4510 non-null   int64\n",
            " 13  sex             4510 non-null   int64\n",
            " 14  native.country  4510 non-null   int64\n",
            "dtypes: int64(15)\n",
            "memory usage: 563.8 KB\n"
          ]
        }
      ]
    },
    {
      "cell_type": "code",
      "source": [
        "## We analyze the proportions of the target \"income\"\n",
        "\n",
        "fig= plt.figure()\n",
        "fig.set_size_inches(5, 5)\n",
        "ax1 = plt.axes()\n",
        "sns.countplot(x=\"income\", data=df_train)"
      ],
      "metadata": {
        "id": "Q54sA-4sfI_D",
        "colab": {
          "base_uri": "https://localhost:8080/",
          "height": 0
        },
        "outputId": "698de1d6-94d4-48b8-bf85-ab69fe8fb71b"
      },
      "execution_count": 120,
      "outputs": [
        {
          "output_type": "execute_result",
          "data": {
            "text/plain": [
              "<matplotlib.axes._subplots.AxesSubplot at 0x7faf1584d210>"
            ]
          },
          "metadata": {},
          "execution_count": 120
        },
        {
          "output_type": "display_data",
          "data": {
            "text/plain": [
              "<Figure size 360x360 with 1 Axes>"
            ],
            "image/png": "[encoded data removed]"
          },
          "metadata": {
            "needs_background": "light"
          }
        }
      ]
    },
    {
      "cell_type": "code",
      "source": [
        "df_train.income.value_counts(normalize=True)"
      ],
      "metadata": {
        "id": "-hzpX7ojftdE",
        "colab": {
          "base_uri": "https://localhost:8080/"
        },
        "outputId": "8e875f3f-b0dc-4b0e-8689-9ce194140ec8"
      },
      "execution_count": 121,
      "outputs": [
        {
          "output_type": "execute_result",
          "data": {
            "text/plain": [
              "0    0.749493\n",
              "1    0.250507\n",
              "Name: income, dtype: float64"
            ]
          },
          "metadata": {},
          "execution_count": 121
        }
      ]
    },
    {
      "cell_type": "markdown",
      "source": [
        "\n",
        "Our target variable was encoded as follows:\n",
        "\n",
        "* 0 if the person earns less than 50 thousand dollars.\n",
        "* 1 if the person earns more than 50 thousand dollars.\n"
      ],
      "metadata": {
        "id": "0r2u4d-A0ABw"
      }
    },
    {
      "cell_type": "markdown",
      "metadata": {
        "id": "3g61xqh20rcC"
      },
      "source": [
        "## Model"
      ]
    },
    {
      "cell_type": "code",
      "execution_count": 122,
      "metadata": {
        "id": "nIhFJ3EHXJwA"
      },
      "outputs": [],
      "source": [
        "# We drop the categorical attributes and the ID and index variables of the training dataset\n",
        "df_train2= df_train.copy()\n",
        "df_train2 = df_train2.drop(['ID', 'index'], axis= 1)"
      ]
    },
    {
      "cell_type": "code",
      "execution_count": 123,
      "metadata": {
        "colab": {
          "base_uri": "https://localhost:8080/"
        },
        "id": "fpvCldthYoDP",
        "outputId": "8a3629aa-5ae4-4f1a-9789-0494faa10a5f"
      },
      "outputs": [
        {
          "output_type": "stream",
          "name": "stdout",
          "text": [
            "<class 'pandas.core.frame.DataFrame'>\n",
            "Int64Index: 25628 entries, 0 to 27655\n",
            "Data columns (total 14 columns):\n",
            " #   Column          Non-Null Count  Dtype\n",
            "---  ------          --------------  -----\n",
            " 0   age             25628 non-null  int64\n",
            " 1   education.num   25628 non-null  int64\n",
            " 2   capital.gain    25628 non-null  int64\n",
            " 3   capital.loss    25628 non-null  int64\n",
            " 4   hours.per.week  25628 non-null  int64\n",
            " 5   workclass       25628 non-null  int64\n",
            " 6   education       25628 non-null  int64\n",
            " 7   marital.status  25628 non-null  int64\n",
            " 8   occupation      25628 non-null  int64\n",
            " 9   relationship    25628 non-null  int64\n",
            " 10  race            25628 non-null  int64\n",
            " 11  sex             25628 non-null  int64\n",
            " 12  native.country  25628 non-null  int64\n",
            " 13  income          25628 non-null  int64\n",
            "dtypes: int64(14)\n",
            "memory usage: 3.9 MB\n"
          ]
        }
      ],
      "source": [
        "df_train2.info()"
      ]
    },
    {
      "cell_type": "code",
      "execution_count": 124,
      "metadata": {
        "id": "oLg03hKhY7ne"
      },
      "outputs": [],
      "source": [
        "# We drop the categorical attributes and the ID and index variables of the testing dataset\n",
        "df_test2 = df_test.drop(['ID', 'index'], axis= 1)"
      ]
    },
    {
      "cell_type": "code",
      "execution_count": 125,
      "metadata": {
        "colab": {
          "base_uri": "https://localhost:8080/"
        },
        "id": "o5UO5Fa1ZOMW",
        "outputId": "0bb11752-162b-4998-ca74-f04ace0e7e0a"
      },
      "outputs": [
        {
          "output_type": "stream",
          "name": "stdout",
          "text": [
            "<class 'pandas.core.frame.DataFrame'>\n",
            "Int64Index: 4510 entries, 0 to 4880\n",
            "Data columns (total 13 columns):\n",
            " #   Column          Non-Null Count  Dtype\n",
            "---  ------          --------------  -----\n",
            " 0   age             4510 non-null   int64\n",
            " 1   workclass       4510 non-null   int64\n",
            " 2   education.num   4510 non-null   int64\n",
            " 3   capital.gain    4510 non-null   int64\n",
            " 4   capital.loss    4510 non-null   int64\n",
            " 5   hours.per.week  4510 non-null   int64\n",
            " 6   education       4510 non-null   int64\n",
            " 7   marital.status  4510 non-null   int64\n",
            " 8   occupation      4510 non-null   int64\n",
            " 9   relationship    4510 non-null   int64\n",
            " 10  race            4510 non-null   int64\n",
            " 11  sex             4510 non-null   int64\n",
            " 12  native.country  4510 non-null   int64\n",
            "dtypes: int64(13)\n",
            "memory usage: 493.3 KB\n"
          ]
        }
      ],
      "source": [
        "df_test2.info()"
      ]
    },
    {
      "cell_type": "markdown",
      "metadata": {
        "id": "9BP1Cqlr39I_"
      },
      "source": [
        "### Visual analysis: pairplot\n",
        "\n",
        "The distributions and scatterplots that are displayed in the following pairplot were made based on a categorical variable, for example sex, only with the aim of improving exploration and visualization. We could have chosen any other qualitative variable."
      ]
    },
    {
      "cell_type": "code",
      "execution_count": 126,
      "metadata": {
        "id": "EWyu8N5o9SAw"
      },
      "outputs": [],
      "source": [
        "df_train_graficos=df_train_graficos.drop(['ID','index'], axis=1)"
      ]
    },
    {
      "cell_type": "code",
      "execution_count": 127,
      "metadata": {
        "colab": {
          "base_uri": "https://localhost:8080/",
          "height": 921
        },
        "id": "VD3NJdLl3GlT",
        "outputId": "e0c5bb18-6623-47ff-f6d9-58d793268e6d"
      },
      "outputs": [
        {
          "output_type": "execute_result",
          "data": {
            "text/plain": [
              "<seaborn.axisgrid.PairGrid at 0x7faf15b7cb90>"
            ]
          },
          "metadata": {},
          "execution_count": 127
        },
        {
          "output_type": "display_data",
          "data": {
            "text/plain": [
              "<Figure size 972.125x900 with 20 Axes>"
            ],
            "image/png": "[encoded data removed]"
          },
          "metadata": {
            "needs_background": "light"
          }
        }
      ],
      "source": [
        "sns.pairplot(df_train_graficos, hue='sex',corner=True)"
      ]
    },
    {
      "cell_type": "markdown",
      "metadata": {
        "id": "vEqL_82cA1gd"
      },
      "source": [
        "With these graphs, in advance, that the numerical variables do not show signs of a linear correlation between them. For this reason we can guess that all the numerical variables must be present to train our model. The heatmap with Pearson's sample correlation coefficients will help us decide.\n",
        "\n",
        "On the other hand, the sex variable is not capable of separating any of the numerical variables into subgroups, so it will be necessary to add more categorical variables to our model."
      ]
    },
    {
      "cell_type": "markdown",
      "metadata": {
        "id": "b7B4gkJH_1iT"
      },
      "source": [
        "###Correlation Heatmap"
      ]
    },
    {
      "cell_type": "markdown",
      "metadata": {
        "id": "nY5ul1euIHT3"
      },
      "source": [
        "#### General"
      ]
    },
    {
      "cell_type": "markdown",
      "metadata": {
        "id": "oP3QRE5bE6iJ"
      },
      "source": [
        "We generate a correlation matrix between the attributes of our training set to decide which variables to start training our model with.\n"
      ]
    },
    {
      "cell_type": "code",
      "execution_count": 128,
      "metadata": {
        "id": "LnRd4qYRELkz",
        "colab": {
          "base_uri": "https://localhost:8080/",
          "height": 726
        },
        "outputId": "01b470db-2a95-4812-8670-d774a9b26a49"
      },
      "outputs": [
        {
          "output_type": "execute_result",
          "data": {
            "text/plain": [
              "<matplotlib.axes._subplots.AxesSubplot at 0x7faf1576c190>"
            ]
          },
          "metadata": {},
          "execution_count": 128
        },
        {
          "output_type": "display_data",
          "data": {
            "text/plain": [
              "<Figure size 864x864 with 2 Axes>"
            ],
            "image/png": "[encoded data removed]"
          },
          "metadata": {
            "needs_background": "light"
          }
        }
      ],
      "source": [
        "# Create a mask for the top triangle of the matrix\n",
        "mask = np.triu(np.ones_like(df_train2.corr(), dtype=bool))\n",
        "\n",
        "# We generate a canvas or figure where to plot\n",
        "f, ax = plt.subplots(figsize=(12, 12))\n",
        "\n",
        "# divergent colormap\n",
        "cmap = sns.diverging_palette(240, 10, as_cmap=True)\n",
        "\n",
        "# Plot the heatmap with the correct mask and image ratio (square)\n",
        "sns.heatmap(df_train2.corr(), mask=mask, cmap=cmap, center=0,\n",
        "            square=True, linewidths=.5, annot=True)"
      ]
    },
    {
      "cell_type": "markdown",
      "metadata": {
        "id": "XWNF-1adJTJE"
      },
      "source": [
        "The Pearson correlation coefficients for the numerical variables are very small in absolute value, this indicates that all of them must be in the model as we anticipated with the pairplot graph.\n",
        "\n",
        "The correlation heatmap also helps us to decide on the categorical variables transformed to numbers, although it is not recommended when one hot encoding is applied. As in our case the method used for such transformation did not increase the number of columns in the training dataset, the correlation analysis in this type of variables is not difficult. As happened with numerical features, the values ​​of the coefficients are small, so we cannot exclude any categorical variable for the prediction of our target."
      ]
    },
    {
      "cell_type": "markdown",
      "metadata": {
        "id": "swabMj3NIRy1"
      },
      "source": [
        "#### Target correlations"
      ]
    },
    {
      "cell_type": "markdown",
      "metadata": {
        "id": "eFZ_O5FkF39I"
      },
      "source": [
        "To simplify the analysis, now we plot only the correlation of the attributes with our target."
      ]
    },
    {
      "cell_type": "code",
      "execution_count": 129,
      "metadata": {
        "id": "-wWBTzpTGAXL",
        "colab": {
          "base_uri": "https://localhost:8080/",
          "height": 595
        },
        "outputId": "08ea28f8-0bd0-4544-bec9-5385466e540f"
      },
      "outputs": [
        {
          "output_type": "display_data",
          "data": {
            "text/plain": [
              "<Figure size 720x720 with 2 Axes>"
            ],
            "image/png": "[encoded data removed]"
          },
          "metadata": {
            "needs_background": "light"
          }
        }
      ],
      "source": [
        "target_corr = pd.DataFrame(df_train2.corr()['income'], index=df_train2.corr().index)\n",
        "\n",
        "plt.figure(figsize=(10,10))\n",
        "sns.heatmap(target_corr, annot=True, cmap=cmap)\n",
        "\n",
        "plt.show()"
      ]
    },
    {
      "cell_type": "markdown",
      "metadata": {
        "id": "BoUOpf5lQZ9Y"
      },
      "source": [
        "ese significantly small values ​​confirm that no variable should be excluded from the model."
      ]
    },
    {
      "cell_type": "markdown",
      "source": [
        "\n",
        "### Decision tree"
      ],
      "metadata": {
        "id": "mscpmm-rb6fn"
      }
    },
    {
      "cell_type": "markdown",
      "source": [
        "#### Base Line Model"
      ],
      "metadata": {
        "id": "Uoa3NdQ_8lTR"
      }
    },
    {
      "cell_type": "code",
      "source": [
        "from sklearn.tree import DecisionTreeClassifier\n",
        "from sklearn.metrics import accuracy_score\n"
      ],
      "metadata": {
        "id": "LCpGOTl3ckci"
      },
      "execution_count": 130,
      "outputs": []
    },
    {
      "cell_type": "code",
      "source": [
        "# We import the necessary library to subdivide the training dataset.\n",
        "from sklearn.model_selection import train_test_split"
      ],
      "metadata": {
        "id": "AU_Rh7f5b_-9"
      },
      "execution_count": 131,
      "outputs": []
    },
    {
      "cell_type": "code",
      "execution_count": 132,
      "metadata": {
        "colab": {
          "base_uri": "https://localhost:8080/"
        },
        "id": "cjAAcJ46cBFl",
        "outputId": "673a42d0-a5c9-419e-9ae6-f8ac666aeeec"
      },
      "outputs": [
        {
          "output_type": "stream",
          "name": "stdout",
          "text": [
            " nuestro modelo base tiene un accuracy para la data train de : 0.8282118817676324\n",
            " nuestro modelo base tiene un accuracy para la data test de : 0.8211080764728833\n"
          ]
        }
      ],
      "source": [
        "# We subdivide the training dataset (the only one that contains information about our target), and we will only use the numeric variables\n",
        "Xbl = df_num\n",
        "ybl = df_train2[\"income\"]\n",
        "\n",
        "X_train, X_test, y_train, y_test = train_test_split(Xbl, ybl, test_size=0.2, random_state= 0, stratify=ybl) \n",
        "\n",
        "tree= DecisionTreeClassifier(max_depth=5)\n",
        "\n",
        "tree.fit(X_train,y_train)\n",
        "\n",
        "train_preds = tree.predict(X_train)\n",
        "test_preds = tree.predict(X_test)\n",
        "\n",
        "acc_train = accuracy_score(y_train, train_preds)\n",
        "acc_test = accuracy_score(y_test, test_preds)\n",
        "\n",
        "print(f\" nuestro modelo base tiene un accuracy para la data train de : {acc_train}\")\n",
        "\n",
        "print(f\" nuestro modelo base tiene un accuracy para la data test de : {acc_test}\")\n"
      ]
    },
    {
      "cell_type": "markdown",
      "metadata": {
        "id": "3H9bQFNw_C7V"
      },
      "source": [
        "#### First evaluation of the max_depth hyperparameter"
      ]
    },
    {
      "cell_type": "code",
      "execution_count": 133,
      "metadata": {
        "id": "ge1zs44E_THI"
      },
      "outputs": [],
      "source": [
        "# Subdividimos el dataset de entrenamiento (el único que contiene información de nuestro target)\n",
        "X = df_train2.drop(['income'], axis= 1)\n",
        "y = df_train2[\"income\"]"
      ]
    },
    {
      "cell_type": "markdown",
      "metadata": {
        "id": "FaB3Pxqo_RSt"
      },
      "source": [
        "As we saw in the bar chart and in the summary of statistics for the income variable, the number of values ​​for each of the two categories are not balanced in similar proportions. For this reason, it is necessary to use the \"stratify\" attribute, which preserves the proportion of how the data is distributed in the target column and represents that same distribution proportion in train_test_split.\n"
      ]
    },
    {
      "cell_type": "code",
      "execution_count": 134,
      "metadata": {
        "id": "ZyHrT_yw_aPz"
      },
      "outputs": [],
      "source": [
        "X_train, X_test, y_train, y_test = train_test_split(X, y, test_size=0.2, random_state= 42, stratify=y) "
      ]
    },
    {
      "cell_type": "code",
      "execution_count": 135,
      "metadata": {
        "id": "E4JtNcCz_a6H"
      },
      "outputs": [],
      "source": [
        "# We train our DecisionTree by evaluating different depths of the tree to determine the optimal point between under and overfittingmax_depths = np.arange(1, 20)\n",
        "max_depths = np.arange(1, 20)\n",
        "train_acc_scores = []\n",
        "test_acc_scores = []\n",
        "\n",
        "for i in max_depths:\n",
        "  tree = DecisionTreeClassifier(max_depth=i)\n",
        "\n",
        "  tree.fit(X_train, y_train)\n",
        "  train_preds = tree.predict(X_train)\n",
        "  test_preds = tree.predict(X_test)\n",
        "\n",
        "  train_acc_scores.append(accuracy_score(y_train, train_preds))\n",
        "  test_acc_scores.append(accuracy_score(y_test, test_preds))"
      ]
    },
    {
      "cell_type": "code",
      "execution_count": 136,
      "metadata": {
        "colab": {
          "base_uri": "https://localhost:8080/",
          "height": 392
        },
        "id": "T_hnOZzK_dib",
        "outputId": "b2d5098d-566a-43e0-c4d8-10ec5e755467"
      },
      "outputs": [
        {
          "output_type": "execute_result",
          "data": {
            "text/plain": [
              "<matplotlib.legend.Legend at 0x7faf13664b10>"
            ]
          },
          "metadata": {},
          "execution_count": 136
        },
        {
          "output_type": "display_data",
          "data": {
            "text/plain": [
              "<Figure size 432x432 with 1 Axes>"
            ],
            "image/png": "[encoded data removed]"
          },
          "metadata": {
            "needs_background": "light"
          }
        }
      ],
      "source": [
        "# Plot the accuracy values ​​for our training and test dataset.\n",
        "plt.figure(figsize=(6,6))\n",
        "\n",
        "plt.plot(max_depths, train_acc_scores, label=\"train\")\n",
        "plt.plot(max_depths, test_acc_scores,  label=\"test\")\n",
        "plt.xticks(max_depths)\n",
        "plt.legend()"
      ]
    },
    {
      "cell_type": "markdown",
      "metadata": {
        "id": "pdlRXJTk_i-j"
      },
      "source": [
        "We see how the accuracy increases as the max depth increases, but from depth 7, both lines separate (it begins to overfit) so we will advance with a max_depth= ​​7."
      ]
    },
    {
      "cell_type": "code",
      "execution_count": 137,
      "metadata": {
        "id": "S8fhWmaR_ld7"
      },
      "outputs": [],
      "source": [
        "# We train the tree with max_depth= ​​7 (including cross validation).\n",
        "## f1 score is more useful for unbalanced classes like this data set\n",
        "from sklearn.metrics import f1_score \n",
        "\n",
        "\n",
        "tree_final = DecisionTreeClassifier(max_depth= 7)\n",
        "tree.fit(X_train, y_train)\n",
        "train_preds = tree.predict(X_train)\n",
        "test_preds = tree.predict(X_test)"
      ]
    },
    {
      "cell_type": "code",
      "execution_count": 138,
      "metadata": {
        "colab": {
          "base_uri": "https://localhost:8080/"
        },
        "id": "9ONwaOZ0_nSk",
        "outputId": "d20659ff-c750-49f4-c760-83ac17de1502"
      },
      "outputs": [
        {
          "output_type": "stream",
          "name": "stdout",
          "text": [
            "The accuracy achieved from a decision tree model was: 0.831642606320718\n",
            "The f-score achieved from a decision tree model was: 0.6496142915144133\n"
          ]
        }
      ],
      "source": [
        "# We evaluate the prediction metrics on our target\n",
        "acc = accuracy_score(y_test, test_preds)\n",
        "f_score = f1_score(y_test, test_preds)\n",
        "\n",
        "print(f'The accuracy achieved from a decision tree model was: {acc}')\n",
        "print(f'The f-score achieved from a decision tree model was: {f_score}')"
      ]
    },
    {
      "cell_type": "markdown",
      "source": [
        "##### Confusion matrix"
      ],
      "metadata": {
        "id": "dU3DR10-9AvE"
      }
    },
    {
      "cell_type": "code",
      "source": [
        "from sklearn.metrics import plot_confusion_matrix \n",
        "plot_confusion_matrix(tree, X_test, y_test)"
      ],
      "metadata": {
        "colab": {
          "base_uri": "https://localhost:8080/",
          "height": 354
        },
        "id": "X6t0GFuj-JSN",
        "outputId": "d954ce61-4023-4000-d6d1-059cf309109f"
      },
      "execution_count": 139,
      "outputs": [
        {
          "output_type": "stream",
          "name": "stderr",
          "text": [
            "/usr/local/lib/python3.7/dist-packages/sklearn/utils/deprecation.py:87: FutureWarning: Function plot_confusion_matrix is deprecated; Function `plot_confusion_matrix` is deprecated in 1.0 and will be removed in 1.2. Use one of the class methods: ConfusionMatrixDisplay.from_predictions or ConfusionMatrixDisplay.from_estimator.\n",
            "  warnings.warn(msg, category=FutureWarning)\n"
          ]
        },
        {
          "output_type": "execute_result",
          "data": {
            "text/plain": [
              "<sklearn.metrics._plot.confusion_matrix.ConfusionMatrixDisplay at 0x7faf135983d0>"
            ]
          },
          "metadata": {},
          "execution_count": 139
        },
        {
          "output_type": "display_data",
          "data": {
            "text/plain": [
              "<Figure size 432x288 with 2 Axes>"
            ],
            "image/png": "[encoded data removed]"
          },
          "metadata": {
            "needs_background": "light"
          }
        }
      ]
    },
    {
      "cell_type": "markdown",
      "source": [
        "##### Classification Report"
      ],
      "metadata": {
        "id": "X8nRSQnH9NTC"
      }
    },
    {
      "cell_type": "code",
      "execution_count": 140,
      "metadata": {
        "colab": {
          "base_uri": "https://localhost:8080/"
        },
        "id": "GoEkk5vbPb96",
        "outputId": "7d3b0196-aa85-4263-c90f-3392aa93b023"
      },
      "outputs": [
        {
          "output_type": "stream",
          "name": "stdout",
          "text": [
            "              precision    recall  f1-score   support\n",
            "\n",
            "           0       0.88      0.90      0.89      3842\n",
            "           1       0.68      0.62      0.65      1284\n",
            "\n",
            "    accuracy                           0.83      5126\n",
            "   macro avg       0.78      0.76      0.77      5126\n",
            "weighted avg       0.83      0.83      0.83      5126\n",
            "\n"
          ]
        }
      ],
      "source": [
        "from sklearn.metrics import classification_report\n",
        "print(classification_report(y_test, tree.predict(X_test)))"
      ]
    },
    {
      "cell_type": "markdown",
      "metadata": {
        "id": "QWn4h1SLQFfx"
      },
      "source": [
        "##### Cross Validation"
      ]
    },
    {
      "cell_type": "code",
      "execution_count": 141,
      "metadata": {
        "id": "RmBJmoNBuyRk"
      },
      "outputs": [],
      "source": [
        "from sklearn.model_selection import cross_val_score"
      ]
    },
    {
      "cell_type": "code",
      "execution_count": 142,
      "metadata": {
        "id": "E6ZkXue4u9VU"
      },
      "outputs": [],
      "source": [
        "tree_scores = cross_val_score(tree, X, y, cv=5) "
      ]
    },
    {
      "cell_type": "code",
      "execution_count": 143,
      "metadata": {
        "colab": {
          "base_uri": "https://localhost:8080/"
        },
        "id": "13X_Ti3yvHQ_",
        "outputId": "5c0a4130-705b-4ae9-fd40-abee0d6f3efa"
      },
      "outputs": [
        {
          "output_type": "execute_result",
          "data": {
            "text/plain": [
              "array([0.83203277, 0.81993757, 0.83554428, 0.81717073, 0.82829268])"
            ]
          },
          "metadata": {},
          "execution_count": 143
        }
      ],
      "source": [
        "tree_scores"
      ]
    },
    {
      "cell_type": "code",
      "execution_count": 144,
      "metadata": {
        "colab": {
          "base_uri": "https://localhost:8080/"
        },
        "id": "ggPmdyc6vLCf",
        "outputId": "27fcb07d-9300-43a1-eb8d-306b71a8ad5e"
      },
      "outputs": [
        {
          "output_type": "stream",
          "name": "stdout",
          "text": [
            " The mean score of our model remains at 0.8265956091851203\n"
          ]
        }
      ],
      "source": [
        "tree_mean=tree_scores.mean()\n",
        "\n",
        "print(f\" The mean score of our model remains at {tree_mean}\")"
      ]
    },
    {
      "cell_type": "markdown",
      "source": [
        "##### GridSearch \n",
        "\n"
      ],
      "metadata": {
        "id": "Yw9Ceg46rZiX"
      }
    },
    {
      "cell_type": "markdown",
      "source": [
        "We do an exhaustive hyperparameter search using Grid Search."
      ],
      "metadata": {
        "id": "SwlloVGAsFMz"
      }
    },
    {
      "cell_type": "code",
      "source": [
        "from sklearn.model_selection import GridSearchCV\n"
      ],
      "metadata": {
        "id": "K6h7KSGArijz"
      },
      "execution_count": 145,
      "outputs": []
    },
    {
      "cell_type": "markdown",
      "source": [
        "\n",
        "We define our **parameters** as follows:\n",
        "- max_depth: range(1,15)\n",
        "- min_samples_split: range(1,10)\n",
        "- min_samples_leaf: range(1,10)"
      ],
      "metadata": {
        "id": "3TvUUtw4sQK8"
      }
    },
    {
      "cell_type": "code",
      "source": [
        "parameters = {\n",
        "    'max_depth': range(1, 15, 1),\n",
        "    'min_samples_split': range(1, 15, 1),\n",
        "    'min_samples_leaf': range(1, 15, 1)\n",
        "}"
      ],
      "metadata": {
        "id": "Cz1sV8m5sHxb"
      },
      "execution_count": 146,
      "outputs": []
    },
    {
      "cell_type": "markdown",
      "source": [
        "We train the model with **different hyperparameters**, performing **cross validation**."
      ],
      "metadata": {
        "id": "TqK36BjqH4np"
      }
    },
    {
      "cell_type": "code",
      "source": [
        "gs = GridSearchCV(tree, parameters, scoring=\"accuracy\", cv=5)\n",
        "gs.fit(X_train, y_train)\n",
        "\n"
      ],
      "metadata": {
        "colab": {
          "base_uri": "https://localhost:8080/"
        },
        "id": "O4Psob-ZvZWX",
        "outputId": "9fb2d005-f5cd-4fc8-acc8-f97ed0fb5776"
      },
      "execution_count": 70,
      "outputs": [
        {
          "output_type": "stream",
          "name": "stderr",
          "text": [
            "/usr/local/lib/python3.7/dist-packages/sklearn/model_selection/_validation.py:372: FitFailedWarning: \n",
            "980 fits failed out of a total of 13720.\n",
            "The score on these train-test partitions for these parameters will be set to nan.\n",
            "If these failures are not expected, you can try to debug them by setting error_score='raise'.\n",
            "\n",
            "Below are more details about the failures:\n",
            "--------------------------------------------------------------------------------\n",
            "980 fits failed with the following error:\n",
            "Traceback (most recent call last):\n",
            "  File \"/usr/local/lib/python3.7/dist-packages/sklearn/model_selection/_validation.py\", line 680, in _fit_and_score\n",
            "    estimator.fit(X_train, y_train, **fit_params)\n",
            "  File \"/usr/local/lib/python3.7/dist-packages/sklearn/tree/_classes.py\", line 942, in fit\n",
            "    X_idx_sorted=X_idx_sorted,\n",
            "  File \"/usr/local/lib/python3.7/dist-packages/sklearn/tree/_classes.py\", line 254, in fit\n",
            "    % self.min_samples_split\n",
            "ValueError: min_samples_split must be an integer greater than 1 or a float in (0.0, 1.0]; got the integer 1\n",
            "\n",
            "  warnings.warn(some_fits_failed_message, FitFailedWarning)\n",
            "/usr/local/lib/python3.7/dist-packages/sklearn/model_selection/_search.py:972: UserWarning: One or more of the test scores are non-finite: [       nan 0.74948786 0.74948786 ... 0.84889285 0.84894161 0.84889285]\n",
            "  category=UserWarning,\n"
          ]
        },
        {
          "output_type": "execute_result",
          "data": {
            "text/plain": [
              "GridSearchCV(cv=5, estimator=DecisionTreeClassifier(max_depth=19),\n",
              "             param_grid={'max_depth': range(1, 15),\n",
              "                         'min_samples_leaf': range(1, 15),\n",
              "                         'min_samples_split': range(1, 15)},\n",
              "             scoring='accuracy')"
            ]
          },
          "metadata": {},
          "execution_count": 70
        }
      ]
    },
    {
      "cell_type": "markdown",
      "source": [
        "\n",
        "The following table ranks the best hyperparameters obtained according to GridSearchCV."
      ],
      "metadata": {
        "id": "jNQdFFqnPKBz"
      }
    },
    {
      "cell_type": "code",
      "source": [
        "gs.cv_results_\n",
        "grid_table = pd.DataFrame(gs.cv_results_)\n",
        "grid_table.sort_values(by='rank_test_score').head()"
      ],
      "metadata": {
        "colab": {
          "base_uri": "https://localhost:8080/",
          "height": 444
        },
        "id": "LI_iLZNvCcVj",
        "outputId": "741d04d9-b75d-4164-a61b-826cda1677b7"
      },
      "execution_count": 71,
      "outputs": [
        {
          "output_type": "execute_result",
          "data": {
            "text/plain": [
              "      mean_fit_time  std_fit_time  mean_score_time  std_score_time  \\\n",
              "2147       0.037702      0.000643         0.002861        0.000065   \n",
              "2152       0.043321      0.004102         0.002912        0.000067   \n",
              "2151       0.037516      0.001011         0.002827        0.000042   \n",
              "2150       0.038809      0.001530         0.003114        0.000415   \n",
              "2149       0.037696      0.000615         0.002895        0.000031   \n",
              "\n",
              "     param_max_depth param_min_samples_leaf param_min_samples_split  \\\n",
              "2147              11                     14                       6   \n",
              "2152              11                     14                      11   \n",
              "2151              11                     14                      10   \n",
              "2150              11                     14                       9   \n",
              "2149              11                     14                       8   \n",
              "\n",
              "                                                 params  split0_test_score  \\\n",
              "2147  {'max_depth': 11, 'min_samples_leaf': 14, 'min...           0.852475   \n",
              "2152  {'max_depth': 11, 'min_samples_leaf': 14, 'min...           0.852475   \n",
              "2151  {'max_depth': 11, 'min_samples_leaf': 14, 'min...           0.852475   \n",
              "2150  {'max_depth': 11, 'min_samples_leaf': 14, 'min...           0.852475   \n",
              "2149  {'max_depth': 11, 'min_samples_leaf': 14, 'min...           0.852475   \n",
              "\n",
              "      split1_test_score  split2_test_score  split3_test_score  \\\n",
              "2147           0.858083           0.850976           0.848537   \n",
              "2152           0.858083           0.850976           0.848537   \n",
              "2151           0.858083           0.850976           0.848537   \n",
              "2150           0.858083           0.850976           0.848537   \n",
              "2149           0.858083           0.850976           0.848537   \n",
              "\n",
              "      split4_test_score  mean_test_score  std_test_score  rank_test_score  \n",
              "2147           0.857317         0.853478        0.003678                1  \n",
              "2152           0.857317         0.853478        0.003678                1  \n",
              "2151           0.857317         0.853478        0.003678                1  \n",
              "2150           0.857317         0.853478        0.003678                1  \n",
              "2149           0.857317         0.853478        0.003678                1  "
            ],
            "text/html": [
              "\n",
              "  <div id=\"df-643f309c-a4f1-4b17-91a0-0b07a01bd294\">\n",
              "    <div class=\"colab-df-container\">\n",
              "      <div>\n",
              "<style scoped>\n",
              "    .dataframe tbody tr th:only-of-type {\n",
              "        vertical-align: middle;\n",
              "    }\n",
              "\n",
              "    .dataframe tbody tr th {\n",
              "        vertical-align: top;\n",
              "    }\n",
              "\n",
              "    .dataframe thead th {\n",
              "        text-align: right;\n",
              "    }\n",
              "</style>\n",
              "<table border=\"1\" class=\"dataframe\">\n",
              "  <thead>\n",
              "    <tr style=\"text-align: right;\">\n",
              "      <th></th>\n",
              "      <th>mean_fit_time</th>\n",
              "      <th>std_fit_time</th>\n",
              "      <th>mean_score_time</th>\n",
              "      <th>std_score_time</th>\n",
              "      <th>param_max_depth</th>\n",
              "      <th>param_min_samples_leaf</th>\n",
              "      <th>param_min_samples_split</th>\n",
              "      <th>params</th>\n",
              "      <th>split0_test_score</th>\n",
              "      <th>split1_test_score</th>\n",
              "      <th>split2_test_score</th>\n",
              "      <th>split3_test_score</th>\n",
              "      <th>split4_test_score</th>\n",
              "      <th>mean_test_score</th>\n",
              "      <th>std_test_score</th>\n",
              "      <th>rank_test_score</th>\n",
              "    </tr>\n",
              "  </thead>\n",
              "  <tbody>\n",
              "    <tr>\n",
              "      <th>2147</th>\n",
              "      <td>0.037702</td>\n",
              "      <td>0.000643</td>\n",
              "      <td>0.002861</td>\n",
              "      <td>0.000065</td>\n",
              "      <td>11</td>\n",
              "      <td>14</td>\n",
              "      <td>6</td>\n",
              "      <td>{'max_depth': 11, 'min_samples_leaf': 14, 'min...</td>\n",
              "      <td>0.852475</td>\n",
              "      <td>0.858083</td>\n",
              "      <td>0.850976</td>\n",
              "      <td>0.848537</td>\n",
              "      <td>0.857317</td>\n",
              "      <td>0.853478</td>\n",
              "      <td>0.003678</td>\n",
              "      <td>1</td>\n",
              "    </tr>\n",
              "    <tr>\n",
              "      <th>2152</th>\n",
              "      <td>0.043321</td>\n",
              "      <td>0.004102</td>\n",
              "      <td>0.002912</td>\n",
              "      <td>0.000067</td>\n",
              "      <td>11</td>\n",
              "      <td>14</td>\n",
              "      <td>11</td>\n",
              "      <td>{'max_depth': 11, 'min_samples_leaf': 14, 'min...</td>\n",
              "      <td>0.852475</td>\n",
              "      <td>0.858083</td>\n",
              "      <td>0.850976</td>\n",
              "      <td>0.848537</td>\n",
              "      <td>0.857317</td>\n",
              "      <td>0.853478</td>\n",
              "      <td>0.003678</td>\n",
              "      <td>1</td>\n",
              "    </tr>\n",
              "    <tr>\n",
              "      <th>2151</th>\n",
              "      <td>0.037516</td>\n",
              "      <td>0.001011</td>\n",
              "      <td>0.002827</td>\n",
              "      <td>0.000042</td>\n",
              "      <td>11</td>\n",
              "      <td>14</td>\n",
              "      <td>10</td>\n",
              "      <td>{'max_depth': 11, 'min_samples_leaf': 14, 'min...</td>\n",
              "      <td>0.852475</td>\n",
              "      <td>0.858083</td>\n",
              "      <td>0.850976</td>\n",
              "      <td>0.848537</td>\n",
              "      <td>0.857317</td>\n",
              "      <td>0.853478</td>\n",
              "      <td>0.003678</td>\n",
              "      <td>1</td>\n",
              "    </tr>\n",
              "    <tr>\n",
              "      <th>2150</th>\n",
              "      <td>0.038809</td>\n",
              "      <td>0.001530</td>\n",
              "      <td>0.003114</td>\n",
              "      <td>0.000415</td>\n",
              "      <td>11</td>\n",
              "      <td>14</td>\n",
              "      <td>9</td>\n",
              "      <td>{'max_depth': 11, 'min_samples_leaf': 14, 'min...</td>\n",
              "      <td>0.852475</td>\n",
              "      <td>0.858083</td>\n",
              "      <td>0.850976</td>\n",
              "      <td>0.848537</td>\n",
              "      <td>0.857317</td>\n",
              "      <td>0.853478</td>\n",
              "      <td>0.003678</td>\n",
              "      <td>1</td>\n",
              "    </tr>\n",
              "    <tr>\n",
              "      <th>2149</th>\n",
              "      <td>0.037696</td>\n",
              "      <td>0.000615</td>\n",
              "      <td>0.002895</td>\n",
              "      <td>0.000031</td>\n",
              "      <td>11</td>\n",
              "      <td>14</td>\n",
              "      <td>8</td>\n",
              "      <td>{'max_depth': 11, 'min_samples_leaf': 14, 'min...</td>\n",
              "      <td>0.852475</td>\n",
              "      <td>0.858083</td>\n",
              "      <td>0.850976</td>\n",
              "      <td>0.848537</td>\n",
              "      <td>0.857317</td>\n",
              "      <td>0.853478</td>\n",
              "      <td>0.003678</td>\n",
              "      <td>1</td>\n",
              "    </tr>\n",
              "  </tbody>\n",
              "</table>\n",
              "</div>\n",
              "      <button class=\"colab-df-convert\" onclick=\"convertToInteractive('df-643f309c-a4f1-4b17-91a0-0b07a01bd294')\"\n",
              "              title=\"Convert this dataframe to an interactive table.\"\n",
              "              style=\"display:none;\">\n",
              "        \n",
              "  <svg xmlns=\"http://www.w3.org/2000/svg\" height=\"24px\"viewBox=\"0 0 24 24\"\n",
              "       width=\"24px\">\n",
              "    <path d=\"M0 0h24v24H0V0z\" fill=\"none\"/>\n",
              "    <path d=\"M18.56 5.44l.94 2.06.94-2.06 2.06-.94-2.06-.94-.94-2.06-.94 2.06-2.06.94zm-11 1L8.5 8.5l.94-2.06 2.06-.94-2.06-.94L8.5 2.5l-.94 2.06-2.06.94zm10 10l.94 2.06.94-2.06 2.06-.94-2.06-.94-.94-2.06-.94 2.06-2.06.94z\"/><path d=\"M17.41 7.96l-1.37-1.37c-.4-.4-.92-.59-1.43-.59-.52 0-1.04.2-1.43.59L10.3 9.45l-7.72 7.72c-.78.78-.78 2.05 0 2.83L4 21.41c.39.39.9.59 1.41.59.51 0 1.02-.2 1.41-.59l7.78-7.78 2.81-2.81c.8-.78.8-2.07 0-2.86zM5.41 20L4 18.59l7.72-7.72 1.47 1.35L5.41 20z\"/>\n",
              "  </svg>\n",
              "      </button>\n",
              "      \n",
              "  <style>\n",
              "    .colab-df-container {\n",
              "      display:flex;\n",
              "      flex-wrap:wrap;\n",
              "      gap: 12px;\n",
              "    }\n",
              "\n",
              "    .colab-df-convert {\n",
              "      background-color: #E8F0FE;\n",
              "      border: none;\n",
              "      border-radius: 50%;\n",
              "      cursor: pointer;\n",
              "      display: none;\n",
              "      fill: #1967D2;\n",
              "      height: 32px;\n",
              "      padding: 0 0 0 0;\n",
              "      width: 32px;\n",
              "    }\n",
              "\n",
              "    .colab-df-convert:hover {\n",
              "      background-color: #E2EBFA;\n",
              "      box-shadow: 0px 1px 2px rgba(60, 64, 67, 0.3), 0px 1px 3px 1px rgba(60, 64, 67, 0.15);\n",
              "      fill: #174EA6;\n",
              "    }\n",
              "\n",
              "    [theme=dark] .colab-df-convert {\n",
              "      background-color: #3B4455;\n",
              "      fill: #D2E3FC;\n",
              "    }\n",
              "\n",
              "    [theme=dark] .colab-df-convert:hover {\n",
              "      background-color: #434B5C;\n",
              "      box-shadow: 0px 1px 3px 1px rgba(0, 0, 0, 0.15);\n",
              "      filter: drop-shadow(0px 1px 2px rgba(0, 0, 0, 0.3));\n",
              "      fill: #FFFFFF;\n",
              "    }\n",
              "  </style>\n",
              "\n",
              "      <script>\n",
              "        const buttonEl =\n",
              "          document.querySelector('#df-643f309c-a4f1-4b17-91a0-0b07a01bd294 button.colab-df-convert');\n",
              "        buttonEl.style.display =\n",
              "          google.colab.kernel.accessAllowed ? 'block' : 'none';\n",
              "\n",
              "        async function convertToInteractive(key) {\n",
              "          const element = document.querySelector('#df-643f309c-a4f1-4b17-91a0-0b07a01bd294');\n",
              "          const dataTable =\n",
              "            await google.colab.kernel.invokeFunction('convertToInteractive',\n",
              "                                                     [key], {});\n",
              "          if (!dataTable) return;\n",
              "\n",
              "          const docLinkHtml = 'Like what you see? Visit the ' +\n",
              "            '<a target=\"_blank\" href=https://colab.research.google.com/notebooks/data_table.ipynb>data table notebook</a>'\n",
              "            + ' to learn more about interactive tables.';\n",
              "          element.innerHTML = '';\n",
              "          dataTable['output_type'] = 'display_data';\n",
              "          await google.colab.output.renderOutput(dataTable, element);\n",
              "          const docLink = document.createElement('div');\n",
              "          docLink.innerHTML = docLinkHtml;\n",
              "          element.appendChild(docLink);\n",
              "        }\n",
              "      </script>\n",
              "    </div>\n",
              "  </div>\n",
              "  "
            ]
          },
          "metadata": {},
          "execution_count": 71
        }
      ]
    },
    {
      "cell_type": "code",
      "source": [
        "print(f\"The best hyperparameters are:{gs.best_params_}\")"
      ],
      "metadata": {
        "colab": {
          "base_uri": "https://localhost:8080/"
        },
        "id": "sNAl12FTzXfX",
        "outputId": "b8eeed1e-8570-4db7-827b-65baf3d11959"
      },
      "execution_count": 72,
      "outputs": [
        {
          "output_type": "stream",
          "name": "stdout",
          "text": [
            "The best hyperparameters are:{'max_depth': 11, 'min_samples_leaf': 14, 'min_samples_split': 4}\n"
          ]
        }
      ]
    },
    {
      "cell_type": "code",
      "source": [
        "train_preds = gs.predict(X_train)\n",
        "test_preds = gs.predict(X_test)"
      ],
      "metadata": {
        "id": "ivKXYhd84MT9"
      },
      "execution_count": 73,
      "outputs": []
    },
    {
      "cell_type": "markdown",
      "source": [
        "###### Classification Report\n",
        "\n",
        "Ranking report using the best parameters found with GridSearch"
      ],
      "metadata": {
        "id": "SrqCxTUflWgg"
      }
    },
    {
      "cell_type": "code",
      "source": [
        "print('Classification report for training data\\n')\n",
        "print(classification_report(y_train, train_preds))\n",
        "print('Classification report for test data\\n')\n",
        "print(classification_report(y_test, test_preds))"
      ],
      "metadata": {
        "colab": {
          "base_uri": "https://localhost:8080/"
        },
        "id": "4gi3P25D4UZK",
        "outputId": "d4f3d5f3-1268-4a70-8df3-178defe38dca"
      },
      "execution_count": 74,
      "outputs": [
        {
          "output_type": "stream",
          "name": "stdout",
          "text": [
            "Classification report for training data\n",
            "\n",
            "              precision    recall  f1-score   support\n",
            "\n",
            "           0       0.89      0.94      0.91     15366\n",
            "           1       0.78      0.64      0.70      5136\n",
            "\n",
            "    accuracy                           0.87     20502\n",
            "   macro avg       0.84      0.79      0.81     20502\n",
            "weighted avg       0.86      0.87      0.86     20502\n",
            "\n",
            "Classification report for test data\n",
            "\n",
            "              precision    recall  f1-score   support\n",
            "\n",
            "           0       0.88      0.93      0.90      3842\n",
            "           1       0.75      0.61      0.67      1284\n",
            "\n",
            "    accuracy                           0.85      5126\n",
            "   macro avg       0.81      0.77      0.79      5126\n",
            "weighted avg       0.84      0.85      0.85      5126\n",
            "\n"
          ]
        }
      ]
    },
    {
      "cell_type": "markdown",
      "source": [
        "### Random Forest"
      ],
      "metadata": {
        "id": "Cr7t1OFZ4rkh"
      }
    },
    {
      "cell_type": "code",
      "source": [
        "from sklearn.ensemble import RandomForestClassifier\n",
        "\n",
        "clf = RandomForestClassifier(max_depth=10, n_estimators = 200, n_jobs = -1, random_state=0)\n",
        "clf.fit(X_train, y_train)\n",
        "\n",
        "y_train_pred = clf.predict(X_train)\n",
        "y_test_pred = clf.predict(X_test)\n",
        "\n"
      ],
      "metadata": {
        "id": "QaiBHwqs4xWq"
      },
      "execution_count": 75,
      "outputs": []
    },
    {
      "cell_type": "markdown",
      "source": [
        "#### Classification report"
      ],
      "metadata": {
        "id": "Qx3CjsgZvKcE"
      }
    },
    {
      "cell_type": "code",
      "source": [
        "print('Classification report for training data\\n')\n",
        "print(classification_report(y_train, y_train_pred))\n",
        "print('Classification report for test data\\n')\n",
        "print(classification_report(y_test, y_test_pred))"
      ],
      "metadata": {
        "colab": {
          "base_uri": "https://localhost:8080/"
        },
        "id": "ZzBRpry8vFd_",
        "outputId": "c778a8f2-a6aa-49b2-9f7f-8fc31d771b48"
      },
      "execution_count": 76,
      "outputs": [
        {
          "output_type": "stream",
          "name": "stdout",
          "text": [
            "Classification report for training data\n",
            "\n",
            "              precision    recall  f1-score   support\n",
            "\n",
            "           0       0.87      0.96      0.91     15366\n",
            "           1       0.83      0.58      0.69      5136\n",
            "\n",
            "    accuracy                           0.87     20502\n",
            "   macro avg       0.85      0.77      0.80     20502\n",
            "weighted avg       0.86      0.87      0.86     20502\n",
            "\n",
            "Classification report for test data\n",
            "\n",
            "              precision    recall  f1-score   support\n",
            "\n",
            "           0       0.87      0.95      0.91      3842\n",
            "           1       0.80      0.56      0.66      1284\n",
            "\n",
            "    accuracy                           0.86      5126\n",
            "   macro avg       0.83      0.76      0.78      5126\n",
            "weighted avg       0.85      0.86      0.85      5126\n",
            "\n"
          ]
        }
      ]
    },
    {
      "cell_type": "markdown",
      "source": [
        "#### Features Importance"
      ],
      "metadata": {
        "id": "QaZ-QBjRvV52"
      }
    },
    {
      "cell_type": "code",
      "metadata": {
        "id": "p0Q2MklH-3K5"
      },
      "source": [
        "fi = pd.DataFrame(columns=[\"FEATURE\", \"IMPORTANCE\"])\n",
        "fi[\"FEATURE\"] = X_train.columns\n",
        "fi[\"IMPORTANCE\"] = clf.feature_importances_\n",
        "fi = fi.sort_values(\"IMPORTANCE\", ascending=False)"
      ],
      "execution_count": 77,
      "outputs": []
    },
    {
      "cell_type": "markdown",
      "source": [
        "The importance of the features is described in the following barplot:"
      ],
      "metadata": {
        "id": "0MT-DywlDcqX"
      }
    },
    {
      "cell_type": "code",
      "metadata": {
        "colab": {
          "base_uri": "https://localhost:8080/",
          "height": 877
        },
        "id": "eKGff94uvbG4",
        "outputId": "2f3c85e1-72ed-47b4-c1fd-f0f00aeef6bd"
      },
      "source": [
        "plt.figure(figsize=(5, 15))\n",
        "sns.barplot(y=fi.FEATURE, x=fi.IMPORTANCE)\n",
        "plt.show()"
      ],
      "execution_count": 78,
      "outputs": [
        {
          "output_type": "display_data",
          "data": {
            "text/plain": [
              "<Figure size 360x1080 with 1 Axes>"
            ],
            "image/png": "[encoded data removed]"
          },
          "metadata": {
            "needs_background": "light"
          }
        }
      ]
    },
    {
      "cell_type": "markdown",
      "metadata": {
        "id": "yvM6nS1JBA3b"
      },
      "source": [
        "### K- Nearest Neighbors\n",
        "\n",
        "We are going to train a model of $K$ nearest neighbors to contrast with the metrics obtained in the previous models."
      ]
    },
    {
      "cell_type": "code",
      "execution_count": 147,
      "metadata": {
        "id": "9ye2l8DpBGt9"
      },
      "outputs": [],
      "source": [
        "# We subdivide the training dataset (the only one that contains information about our target)\n",
        "X2 = df_train2.drop(['income'], axis= 1)\n",
        "y2 = df_train2[\"income\"]"
      ]
    },
    {
      "cell_type": "code",
      "execution_count": 148,
      "metadata": {
        "id": "a-JjKD9UBI1o"
      },
      "outputs": [],
      "source": [
        "#We standardize the data to optimize the result of the proposed model.\n",
        "\n",
        "from sklearn.preprocessing import StandardScaler\n",
        "\n",
        "scaler = StandardScaler()\n",
        "X2 = scaler.fit_transform(X2)"
      ]
    },
    {
      "cell_type": "code",
      "execution_count": 149,
      "metadata": {
        "id": "5DrefwImBK9U"
      },
      "outputs": [],
      "source": [
        "X_train, X_test, y_train, y_test = train_test_split(X2, y2, test_size=0.2, random_state= 0, stratify=y2)"
      ]
    },
    {
      "cell_type": "code",
      "execution_count": 150,
      "metadata": {
        "id": "3ytzpIKDBNwt"
      },
      "outputs": [],
      "source": [
        "# We import the KNN library and generate the model\n",
        "\n",
        "from sklearn.neighbors import KNeighborsClassifier\n",
        "\n",
        "n_neighbors = np.arange(1, 20)\n",
        "train_acc_scores3 = []\n",
        "test_acc_scores3 = []\n",
        "\n",
        "for i in n_neighbors:\n",
        "  knn = KNeighborsClassifier(n_neighbors= i, weights='uniform')\n",
        "\n",
        "  knn.fit(X_train, y_train)\n",
        "  train_preds = knn.predict(X_train)\n",
        "  test_preds = knn.predict(X_test)\n",
        "\n",
        "  train_acc_scores3.append(accuracy_score(y_train, train_preds))\n",
        "  test_acc_scores3.append(accuracy_score(y_test, test_preds))"
      ]
    },
    {
      "cell_type": "markdown",
      "source": [
        "**First approximation to the choice of** $K$"
      ],
      "metadata": {
        "id": "yYDtHXabeSH3"
      }
    },
    {
      "cell_type": "code",
      "execution_count": 151,
      "metadata": {
        "id": "nb053-mDBS4P",
        "colab": {
          "base_uri": "https://localhost:8080/",
          "height": 392
        },
        "outputId": "794290ef-212e-4597-ef54-665323a4b6f1"
      },
      "outputs": [
        {
          "output_type": "execute_result",
          "data": {
            "text/plain": [
              "<matplotlib.legend.Legend at 0x7faf1352d210>"
            ]
          },
          "metadata": {},
          "execution_count": 151
        },
        {
          "output_type": "display_data",
          "data": {
            "text/plain": [
              "<Figure size 1440x432 with 1 Axes>"
            ],
            "image/png": "[encoded data removed]"
          },
          "metadata": {
            "needs_background": "light"
          }
        }
      ],
      "source": [
        "# Plot the accuracy values ​​for our training and test dataset.\n",
        "plt.figure(figsize=(20,6))\n",
        "\n",
        "plt.plot(n_neighbors, train_acc_scores3, label=\"train\")\n",
        "plt.plot(n_neighbors, test_acc_scores3,  label=\"test\")\n",
        "plt.xticks(n_neighbors)\n",
        "plt.legend()"
      ]
    },
    {
      "cell_type": "markdown",
      "source": [
        "In the graph we see that from k=16 or 17 both lines begin to approach each other and maintain a constant behavior. Let's see by means of a GridSearch if this first approximation to the choice of $K$ can be improved, also playing with other parameters such as 'distance' and 'weights'.\n"
      ],
      "metadata": {
        "id": "J-x5FMaap8o6"
      }
    },
    {
      "cell_type": "markdown",
      "source": [
        "#### GridSearch"
      ],
      "metadata": {
        "id": "g3bP7Wy6q7eg"
      }
    },
    {
      "cell_type": "code",
      "source": [
        "k_list = list(range(1,31))"
      ],
      "metadata": {
        "id": "i4uCfdTfXu6M"
      },
      "execution_count": 152,
      "outputs": []
    },
    {
      "cell_type": "code",
      "source": [
        "parameters= {\n",
        "    'n_neighbors': k_list ,\n",
        "    'weights': ['uniform', 'distance'],\n",
        "    'metric': ['euclidean', 'manhattan']\n",
        "    }\n",
        "\n"
      ],
      "metadata": {
        "id": "R6l5-lmYXylJ"
      },
      "execution_count": 153,
      "outputs": []
    },
    {
      "cell_type": "code",
      "source": [
        "grid = GridSearchCV(knn, parameters, cv=5, scoring='accuracy')"
      ],
      "metadata": {
        "id": "3UYDGHrSX5qD"
      },
      "execution_count": 154,
      "outputs": []
    },
    {
      "cell_type": "code",
      "source": [
        "grid.fit(X_train, y_train)\n"
      ],
      "metadata": {
        "colab": {
          "base_uri": "https://localhost:8080/"
        },
        "id": "2CbWhs_gX_Ow",
        "outputId": "26f769ed-5130-4f26-c91b-39a4f027ee95"
      },
      "execution_count": 155,
      "outputs": [
        {
          "output_type": "execute_result",
          "data": {
            "text/plain": [
              "GridSearchCV(cv=5, estimator=KNeighborsClassifier(n_neighbors=19),\n",
              "             param_grid={'metric': ['euclidean', 'manhattan'],\n",
              "                         'n_neighbors': [1, 2, 3, 4, 5, 6, 7, 8, 9, 10, 11, 12,\n",
              "                                         13, 14, 15, 16, 17, 18, 19, 20, 21, 22,\n",
              "                                         23, 24, 25, 26, 27, 28, 29, 30],\n",
              "                         'weights': ['uniform', 'distance']},\n",
              "             scoring='accuracy')"
            ]
          },
          "metadata": {},
          "execution_count": 155
        }
      ]
    },
    {
      "cell_type": "markdown",
      "source": [
        "We show the top positions that give us an idea of ​​the best hyperparameters for the model."
      ],
      "metadata": {
        "id": "IPQUITYYrW_M"
      }
    },
    {
      "cell_type": "code",
      "source": [
        "grid.cv_results_\n",
        "grid_table_knn = pd.DataFrame(grid.cv_results_)\n",
        "grid_table_knn.sort_values(by='rank_test_score').head()"
      ],
      "metadata": {
        "colab": {
          "base_uri": "https://localhost:8080/",
          "height": 530
        },
        "id": "bAlIhGCxYYGT",
        "outputId": "7ea0f353-0491-4282-ddf2-6ed04810049e"
      },
      "execution_count": 156,
      "outputs": [
        {
          "output_type": "execute_result",
          "data": {
            "text/plain": [
              "     mean_fit_time  std_fit_time  mean_score_time  std_score_time  \\\n",
              "102       0.030917      0.001404         1.795228        0.011157   \n",
              "104       0.030178      0.000201         1.795389        0.004217   \n",
              "106       0.029951      0.000198         1.804094        0.007624   \n",
              "86        0.030650      0.001289         1.672139        0.008174   \n",
              "90        0.030204      0.000204         1.707681        0.013569   \n",
              "\n",
              "    param_metric param_n_neighbors param_weights  \\\n",
              "102    manhattan                22       uniform   \n",
              "104    manhattan                23       uniform   \n",
              "106    manhattan                24       uniform   \n",
              "86     manhattan                14       uniform   \n",
              "90     manhattan                16       uniform   \n",
              "\n",
              "                                                params  split0_test_score  \\\n",
              "102  {'metric': 'manhattan', 'n_neighbors': 22, 'we...           0.827847   \n",
              "104  {'metric': 'manhattan', 'n_neighbors': 23, 'we...           0.828091   \n",
              "106  {'metric': 'manhattan', 'n_neighbors': 24, 'we...           0.829798   \n",
              "86   {'metric': 'manhattan', 'n_neighbors': 14, 'we...           0.828335   \n",
              "90   {'metric': 'manhattan', 'n_neighbors': 16, 'we...           0.827847   \n",
              "\n",
              "     split1_test_score  split2_test_score  split3_test_score  \\\n",
              "102           0.832236           0.842195           0.833171   \n",
              "104           0.832724           0.843171           0.832683   \n",
              "106           0.831992           0.841220           0.832439   \n",
              "86            0.830285           0.843171           0.831707   \n",
              "90            0.830773           0.842683           0.831707   \n",
              "\n",
              "     split4_test_score  mean_test_score  std_test_score  rank_test_score  \n",
              "102           0.838293         0.834748        0.004989                1  \n",
              "104           0.836585         0.834651        0.005039                2  \n",
              "106           0.837073         0.834504        0.004109                3  \n",
              "86            0.837317         0.834163        0.005406                4  \n",
              "90            0.837073         0.834017        0.005261                5  "
            ],
            "text/html": [
              "\n",
              "  <div id=\"df-c25eb3e9-6c79-4a27-b6f2-86901319f576\">\n",
              "    <div class=\"colab-df-container\">\n",
              "      <div>\n",
              "<style scoped>\n",
              "    .dataframe tbody tr th:only-of-type {\n",
              "        vertical-align: middle;\n",
              "    }\n",
              "\n",
              "    .dataframe tbody tr th {\n",
              "        vertical-align: top;\n",
              "    }\n",
              "\n",
              "    .dataframe thead th {\n",
              "        text-align: right;\n",
              "    }\n",
              "</style>\n",
              "<table border=\"1\" class=\"dataframe\">\n",
              "  <thead>\n",
              "    <tr style=\"text-align: right;\">\n",
              "      <th></th>\n",
              "      <th>mean_fit_time</th>\n",
              "      <th>std_fit_time</th>\n",
              "      <th>mean_score_time</th>\n",
              "      <th>std_score_time</th>\n",
              "      <th>param_metric</th>\n",
              "      <th>param_n_neighbors</th>\n",
              "      <th>param_weights</th>\n",
              "      <th>params</th>\n",
              "      <th>split0_test_score</th>\n",
              "      <th>split1_test_score</th>\n",
              "      <th>split2_test_score</th>\n",
              "      <th>split3_test_score</th>\n",
              "      <th>split4_test_score</th>\n",
              "      <th>mean_test_score</th>\n",
              "      <th>std_test_score</th>\n",
              "      <th>rank_test_score</th>\n",
              "    </tr>\n",
              "  </thead>\n",
              "  <tbody>\n",
              "    <tr>\n",
              "      <th>102</th>\n",
              "      <td>0.030917</td>\n",
              "      <td>0.001404</td>\n",
              "      <td>1.795228</td>\n",
              "      <td>0.011157</td>\n",
              "      <td>manhattan</td>\n",
              "      <td>22</td>\n",
              "      <td>uniform</td>\n",
              "      <td>{'metric': 'manhattan', 'n_neighbors': 22, 'we...</td>\n",
              "      <td>0.827847</td>\n",
              "      <td>0.832236</td>\n",
              "      <td>0.842195</td>\n",
              "      <td>0.833171</td>\n",
              "      <td>0.838293</td>\n",
              "      <td>0.834748</td>\n",
              "      <td>0.004989</td>\n",
              "      <td>1</td>\n",
              "    </tr>\n",
              "    <tr>\n",
              "      <th>104</th>\n",
              "      <td>0.030178</td>\n",
              "      <td>0.000201</td>\n",
              "      <td>1.795389</td>\n",
              "      <td>0.004217</td>\n",
              "      <td>manhattan</td>\n",
              "      <td>23</td>\n",
              "      <td>uniform</td>\n",
              "      <td>{'metric': 'manhattan', 'n_neighbors': 23, 'we...</td>\n",
              "      <td>0.828091</td>\n",
              "      <td>0.832724</td>\n",
              "      <td>0.843171</td>\n",
              "      <td>0.832683</td>\n",
              "      <td>0.836585</td>\n",
              "      <td>0.834651</td>\n",
              "      <td>0.005039</td>\n",
              "      <td>2</td>\n",
              "    </tr>\n",
              "    <tr>\n",
              "      <th>106</th>\n",
              "      <td>0.029951</td>\n",
              "      <td>0.000198</td>\n",
              "      <td>1.804094</td>\n",
              "      <td>0.007624</td>\n",
              "      <td>manhattan</td>\n",
              "      <td>24</td>\n",
              "      <td>uniform</td>\n",
              "      <td>{'metric': 'manhattan', 'n_neighbors': 24, 'we...</td>\n",
              "      <td>0.829798</td>\n",
              "      <td>0.831992</td>\n",
              "      <td>0.841220</td>\n",
              "      <td>0.832439</td>\n",
              "      <td>0.837073</td>\n",
              "      <td>0.834504</td>\n",
              "      <td>0.004109</td>\n",
              "      <td>3</td>\n",
              "    </tr>\n",
              "    <tr>\n",
              "      <th>86</th>\n",
              "      <td>0.030650</td>\n",
              "      <td>0.001289</td>\n",
              "      <td>1.672139</td>\n",
              "      <td>0.008174</td>\n",
              "      <td>manhattan</td>\n",
              "      <td>14</td>\n",
              "      <td>uniform</td>\n",
              "      <td>{'metric': 'manhattan', 'n_neighbors': 14, 'we...</td>\n",
              "      <td>0.828335</td>\n",
              "      <td>0.830285</td>\n",
              "      <td>0.843171</td>\n",
              "      <td>0.831707</td>\n",
              "      <td>0.837317</td>\n",
              "      <td>0.834163</td>\n",
              "      <td>0.005406</td>\n",
              "      <td>4</td>\n",
              "    </tr>\n",
              "    <tr>\n",
              "      <th>90</th>\n",
              "      <td>0.030204</td>\n",
              "      <td>0.000204</td>\n",
              "      <td>1.707681</td>\n",
              "      <td>0.013569</td>\n",
              "      <td>manhattan</td>\n",
              "      <td>16</td>\n",
              "      <td>uniform</td>\n",
              "      <td>{'metric': 'manhattan', 'n_neighbors': 16, 'we...</td>\n",
              "      <td>0.827847</td>\n",
              "      <td>0.830773</td>\n",
              "      <td>0.842683</td>\n",
              "      <td>0.831707</td>\n",
              "      <td>0.837073</td>\n",
              "      <td>0.834017</td>\n",
              "      <td>0.005261</td>\n",
              "      <td>5</td>\n",
              "    </tr>\n",
              "  </tbody>\n",
              "</table>\n",
              "</div>\n",
              "      <button class=\"colab-df-convert\" onclick=\"convertToInteractive('df-c25eb3e9-6c79-4a27-b6f2-86901319f576')\"\n",
              "              title=\"Convert this dataframe to an interactive table.\"\n",
              "              style=\"display:none;\">\n",
              "        \n",
              "  <svg xmlns=\"http://www.w3.org/2000/svg\" height=\"24px\"viewBox=\"0 0 24 24\"\n",
              "       width=\"24px\">\n",
              "    <path d=\"M0 0h24v24H0V0z\" fill=\"none\"/>\n",
              "    <path d=\"M18.56 5.44l.94 2.06.94-2.06 2.06-.94-2.06-.94-.94-2.06-.94 2.06-2.06.94zm-11 1L8.5 8.5l.94-2.06 2.06-.94-2.06-.94L8.5 2.5l-.94 2.06-2.06.94zm10 10l.94 2.06.94-2.06 2.06-.94-2.06-.94-.94-2.06-.94 2.06-2.06.94z\"/><path d=\"M17.41 7.96l-1.37-1.37c-.4-.4-.92-.59-1.43-.59-.52 0-1.04.2-1.43.59L10.3 9.45l-7.72 7.72c-.78.78-.78 2.05 0 2.83L4 21.41c.39.39.9.59 1.41.59.51 0 1.02-.2 1.41-.59l7.78-7.78 2.81-2.81c.8-.78.8-2.07 0-2.86zM5.41 20L4 18.59l7.72-7.72 1.47 1.35L5.41 20z\"/>\n",
              "  </svg>\n",
              "      </button>\n",
              "      \n",
              "  <style>\n",
              "    .colab-df-container {\n",
              "      display:flex;\n",
              "      flex-wrap:wrap;\n",
              "      gap: 12px;\n",
              "    }\n",
              "\n",
              "    .colab-df-convert {\n",
              "      background-color: #E8F0FE;\n",
              "      border: none;\n",
              "      border-radius: 50%;\n",
              "      cursor: pointer;\n",
              "      display: none;\n",
              "      fill: #1967D2;\n",
              "      height: 32px;\n",
              "      padding: 0 0 0 0;\n",
              "      width: 32px;\n",
              "    }\n",
              "\n",
              "    .colab-df-convert:hover {\n",
              "      background-color: #E2EBFA;\n",
              "      box-shadow: 0px 1px 2px rgba(60, 64, 67, 0.3), 0px 1px 3px 1px rgba(60, 64, 67, 0.15);\n",
              "      fill: #174EA6;\n",
              "    }\n",
              "\n",
              "    [theme=dark] .colab-df-convert {\n",
              "      background-color: #3B4455;\n",
              "      fill: #D2E3FC;\n",
              "    }\n",
              "\n",
              "    [theme=dark] .colab-df-convert:hover {\n",
              "      background-color: #434B5C;\n",
              "      box-shadow: 0px 1px 3px 1px rgba(0, 0, 0, 0.15);\n",
              "      filter: drop-shadow(0px 1px 2px rgba(0, 0, 0, 0.3));\n",
              "      fill: #FFFFFF;\n",
              "    }\n",
              "  </style>\n",
              "\n",
              "      <script>\n",
              "        const buttonEl =\n",
              "          document.querySelector('#df-c25eb3e9-6c79-4a27-b6f2-86901319f576 button.colab-df-convert');\n",
              "        buttonEl.style.display =\n",
              "          google.colab.kernel.accessAllowed ? 'block' : 'none';\n",
              "\n",
              "        async function convertToInteractive(key) {\n",
              "          const element = document.querySelector('#df-c25eb3e9-6c79-4a27-b6f2-86901319f576');\n",
              "          const dataTable =\n",
              "            await google.colab.kernel.invokeFunction('convertToInteractive',\n",
              "                                                     [key], {});\n",
              "          if (!dataTable) return;\n",
              "\n",
              "          const docLinkHtml = 'Like what you see? Visit the ' +\n",
              "            '<a target=\"_blank\" href=https://colab.research.google.com/notebooks/data_table.ipynb>data table notebook</a>'\n",
              "            + ' to learn more about interactive tables.';\n",
              "          element.innerHTML = '';\n",
              "          dataTable['output_type'] = 'display_data';\n",
              "          await google.colab.output.renderOutput(dataTable, element);\n",
              "          const docLink = document.createElement('div');\n",
              "          docLink.innerHTML = docLinkHtml;\n",
              "          element.appendChild(docLink);\n",
              "        }\n",
              "      </script>\n",
              "    </div>\n",
              "  </div>\n",
              "  "
            ]
          },
          "metadata": {},
          "execution_count": 156
        }
      ]
    },
    {
      "cell_type": "markdown",
      "source": [
        "\n",
        "Summary with test statistics for the best parameters."
      ],
      "metadata": {
        "id": "xbXEIYXlrkE1"
      }
    },
    {
      "cell_type": "code",
      "source": [
        "grid_table_rank_knn= grid_table_knn[['params','mean_test_score','std_test_score','rank_test_score']].loc[grid_table_knn['rank_test_score']==1].sort_values(by='std_test_score', ascending=True)\n",
        "grid_table_rank_knn"
      ],
      "metadata": {
        "colab": {
          "base_uri": "https://localhost:8080/",
          "height": 81
        },
        "id": "Gpg7mYNfYz_P",
        "outputId": "9bf12a5d-8cf8-425d-d882-f281d52923af"
      },
      "execution_count": 157,
      "outputs": [
        {
          "output_type": "execute_result",
          "data": {
            "text/plain": [
              "                                                params  mean_test_score  \\\n",
              "102  {'metric': 'manhattan', 'n_neighbors': 22, 'we...         0.834748   \n",
              "\n",
              "     std_test_score  rank_test_score  \n",
              "102        0.004989                1  "
            ],
            "text/html": [
              "\n",
              "  <div id=\"df-9430a327-4258-4e35-822e-53fbb18b2369\">\n",
              "    <div class=\"colab-df-container\">\n",
              "      <div>\n",
              "<style scoped>\n",
              "    .dataframe tbody tr th:only-of-type {\n",
              "        vertical-align: middle;\n",
              "    }\n",
              "\n",
              "    .dataframe tbody tr th {\n",
              "        vertical-align: top;\n",
              "    }\n",
              "\n",
              "    .dataframe thead th {\n",
              "        text-align: right;\n",
              "    }\n",
              "</style>\n",
              "<table border=\"1\" class=\"dataframe\">\n",
              "  <thead>\n",
              "    <tr style=\"text-align: right;\">\n",
              "      <th></th>\n",
              "      <th>params</th>\n",
              "      <th>mean_test_score</th>\n",
              "      <th>std_test_score</th>\n",
              "      <th>rank_test_score</th>\n",
              "    </tr>\n",
              "  </thead>\n",
              "  <tbody>\n",
              "    <tr>\n",
              "      <th>102</th>\n",
              "      <td>{'metric': 'manhattan', 'n_neighbors': 22, 'we...</td>\n",
              "      <td>0.834748</td>\n",
              "      <td>0.004989</td>\n",
              "      <td>1</td>\n",
              "    </tr>\n",
              "  </tbody>\n",
              "</table>\n",
              "</div>\n",
              "      <button class=\"colab-df-convert\" onclick=\"convertToInteractive('df-9430a327-4258-4e35-822e-53fbb18b2369')\"\n",
              "              title=\"Convert this dataframe to an interactive table.\"\n",
              "              style=\"display:none;\">\n",
              "        \n",
              "  <svg xmlns=\"http://www.w3.org/2000/svg\" height=\"24px\"viewBox=\"0 0 24 24\"\n",
              "       width=\"24px\">\n",
              "    <path d=\"M0 0h24v24H0V0z\" fill=\"none\"/>\n",
              "    <path d=\"M18.56 5.44l.94 2.06.94-2.06 2.06-.94-2.06-.94-.94-2.06-.94 2.06-2.06.94zm-11 1L8.5 8.5l.94-2.06 2.06-.94-2.06-.94L8.5 2.5l-.94 2.06-2.06.94zm10 10l.94 2.06.94-2.06 2.06-.94-2.06-.94-.94-2.06-.94 2.06-2.06.94z\"/><path d=\"M17.41 7.96l-1.37-1.37c-.4-.4-.92-.59-1.43-.59-.52 0-1.04.2-1.43.59L10.3 9.45l-7.72 7.72c-.78.78-.78 2.05 0 2.83L4 21.41c.39.39.9.59 1.41.59.51 0 1.02-.2 1.41-.59l7.78-7.78 2.81-2.81c.8-.78.8-2.07 0-2.86zM5.41 20L4 18.59l7.72-7.72 1.47 1.35L5.41 20z\"/>\n",
              "  </svg>\n",
              "      </button>\n",
              "      \n",
              "  <style>\n",
              "    .colab-df-container {\n",
              "      display:flex;\n",
              "      flex-wrap:wrap;\n",
              "      gap: 12px;\n",
              "    }\n",
              "\n",
              "    .colab-df-convert {\n",
              "      background-color: #E8F0FE;\n",
              "      border: none;\n",
              "      border-radius: 50%;\n",
              "      cursor: pointer;\n",
              "      display: none;\n",
              "      fill: #1967D2;\n",
              "      height: 32px;\n",
              "      padding: 0 0 0 0;\n",
              "      width: 32px;\n",
              "    }\n",
              "\n",
              "    .colab-df-convert:hover {\n",
              "      background-color: #E2EBFA;\n",
              "      box-shadow: 0px 1px 2px rgba(60, 64, 67, 0.3), 0px 1px 3px 1px rgba(60, 64, 67, 0.15);\n",
              "      fill: #174EA6;\n",
              "    }\n",
              "\n",
              "    [theme=dark] .colab-df-convert {\n",
              "      background-color: #3B4455;\n",
              "      fill: #D2E3FC;\n",
              "    }\n",
              "\n",
              "    [theme=dark] .colab-df-convert:hover {\n",
              "      background-color: #434B5C;\n",
              "      box-shadow: 0px 1px 3px 1px rgba(0, 0, 0, 0.15);\n",
              "      filter: drop-shadow(0px 1px 2px rgba(0, 0, 0, 0.3));\n",
              "      fill: #FFFFFF;\n",
              "    }\n",
              "  </style>\n",
              "\n",
              "      <script>\n",
              "        const buttonEl =\n",
              "          document.querySelector('#df-9430a327-4258-4e35-822e-53fbb18b2369 button.colab-df-convert');\n",
              "        buttonEl.style.display =\n",
              "          google.colab.kernel.accessAllowed ? 'block' : 'none';\n",
              "\n",
              "        async function convertToInteractive(key) {\n",
              "          const element = document.querySelector('#df-9430a327-4258-4e35-822e-53fbb18b2369');\n",
              "          const dataTable =\n",
              "            await google.colab.kernel.invokeFunction('convertToInteractive',\n",
              "                                                     [key], {});\n",
              "          if (!dataTable) return;\n",
              "\n",
              "          const docLinkHtml = 'Like what you see? Visit the ' +\n",
              "            '<a target=\"_blank\" href=https://colab.research.google.com/notebooks/data_table.ipynb>data table notebook</a>'\n",
              "            + ' to learn more about interactive tables.';\n",
              "          element.innerHTML = '';\n",
              "          dataTable['output_type'] = 'display_data';\n",
              "          await google.colab.output.renderOutput(dataTable, element);\n",
              "          const docLink = document.createElement('div');\n",
              "          docLink.innerHTML = docLinkHtml;\n",
              "          element.appendChild(docLink);\n",
              "        }\n",
              "      </script>\n",
              "    </div>\n",
              "  </div>\n",
              "  "
            ]
          },
          "metadata": {},
          "execution_count": 157
        }
      ]
    },
    {
      "cell_type": "markdown",
      "source": [
        "\n",
        "As we can see, there is only one best position based on the mean and deviation of the accuracy in the test. This shows us the best hyperparameters:"
      ],
      "metadata": {
        "id": "gqH-a9n8ryPL"
      }
    },
    {
      "cell_type": "code",
      "source": [
        "print(\"The best value of k = {} with an accuracy of {}.\".format(grid.best_params_,grid.best_score_))"
      ],
      "metadata": {
        "colab": {
          "base_uri": "https://localhost:8080/"
        },
        "id": "emovXfLua0Bf",
        "outputId": "f618027a-604d-4081-d7f9-c1f89a3854fa"
      },
      "execution_count": 158,
      "outputs": [
        {
          "output_type": "stream",
          "name": "stdout",
          "text": [
            "The best value of k = {'metric': 'manhattan', 'n_neighbors': 22, 'weights': 'uniform'} with an accuracy of 0.834748288638702.\n"
          ]
        }
      ]
    },
    {
      "cell_type": "markdown",
      "source": [
        "We train the final model using cross-validation, based on the best hyperparameters obtained."
      ],
      "metadata": {
        "id": "5wZS-vC1sV-4"
      }
    },
    {
      "cell_type": "code",
      "source": [
        "from sklearn.model_selection import cross_val_score\n",
        "\n",
        "knn_final = KNeighborsClassifier(n_neighbors= 17, weights='uniform', metric= 'manhattan' )\n",
        "knn_cross = cross_val_score(knn_final, X2, y2, cv=5, scoring= 'accuracy')\n",
        "\n",
        "acc_mean1 = knn_cross.mean()\n",
        "acc_std_dev1 = knn_cross.std()\n",
        "\n",
        "print(f'The mean accuracy achieved from a knn model was: {acc_mean1} with a standard deviation of {acc_std_dev1}')"
      ],
      "metadata": {
        "colab": {
          "base_uri": "https://localhost:8080/"
        },
        "id": "PIU0xDqgbTKR",
        "outputId": "7cc3b101-a8bd-4037-cf89-0db03a22aa45"
      },
      "execution_count": 159,
      "outputs": [
        {
          "output_type": "stream",
          "name": "stdout",
          "text": [
            "The mean accuracy achieved from a knn model was: 0.8351412274107135 with a standard deviation of 0.005871894200020274\n"
          ]
        }
      ]
    },
    {
      "cell_type": "code",
      "source": [
        "knn_cross1 = cross_val_score(knn_final, X2, y2, cv=5, scoring= 'f1')\n",
        "\n",
        "f1_mean1 = knn_cross1.mean()\n",
        "f1_std_dev1 = knn_cross1.std()\n",
        "\n",
        "print(f'The mean f-score achieved from a knn model was: {f1_mean1} with a standard deviation of {f1_std_dev1}')"
      ],
      "metadata": {
        "colab": {
          "base_uri": "https://localhost:8080/"
        },
        "id": "SCpiRPjxbffz",
        "outputId": "2a67bf95-9f5a-4048-e509-c69ee87d65b8"
      },
      "execution_count": 160,
      "outputs": [
        {
          "output_type": "stream",
          "name": "stdout",
          "text": [
            "The mean f-score achieved from a knn model was: 0.6460747069938142 with a standard deviation of 0.010857031283153854\n"
          ]
        }
      ]
    },
    {
      "cell_type": "markdown",
      "source": [
        "#### Classification report\n",
        "\n",
        "Classification report using the best parameters"
      ],
      "metadata": {
        "id": "doiskr64mPMV"
      }
    },
    {
      "cell_type": "code",
      "source": [
        "knn_final.fit(X_train, y_train)\n",
        "\n",
        "y_train_pred = knn.predict(X_train)\n",
        "y_test_pred = knn.predict(X_test)\n",
        "\n",
        "## get the classification report\n",
        "print('Classification report for training data\\n')\n",
        "print(classification_report(y_train, y_train_pred))\n",
        "print('Classification report for test data\\n')\n",
        "print(classification_report(y_test, y_test_pred))"
      ],
      "metadata": {
        "colab": {
          "base_uri": "https://localhost:8080/"
        },
        "id": "lknLvklRe9Lu",
        "outputId": "49bcbc32-119b-4044-8cda-c673143a4e9c"
      },
      "execution_count": 161,
      "outputs": [
        {
          "output_type": "stream",
          "name": "stdout",
          "text": [
            "Classification report for training data\n",
            "\n",
            "              precision    recall  f1-score   support\n",
            "\n",
            "           0       0.88      0.92      0.90     15366\n",
            "           1       0.73      0.62      0.67      5136\n",
            "\n",
            "    accuracy                           0.85     20502\n",
            "   macro avg       0.81      0.77      0.79     20502\n",
            "weighted avg       0.84      0.85      0.84     20502\n",
            "\n",
            "Classification report for test data\n",
            "\n",
            "              precision    recall  f1-score   support\n",
            "\n",
            "           0       0.87      0.92      0.89      3842\n",
            "           1       0.71      0.58      0.64      1284\n",
            "\n",
            "    accuracy                           0.84      5126\n",
            "   macro avg       0.79      0.75      0.77      5126\n",
            "weighted avg       0.83      0.84      0.83      5126\n",
            "\n"
          ]
        }
      ]
    },
    {
      "cell_type": "markdown",
      "source": [
        "#### Confusion matrix"
      ],
      "metadata": {
        "id": "TBhO0bZQF397"
      }
    },
    {
      "cell_type": "code",
      "source": [
        "plot_confusion_matrix(knn_final, X_test, y_test)"
      ],
      "metadata": {
        "colab": {
          "base_uri": "https://localhost:8080/",
          "height": 354
        },
        "id": "QubeEW5pFzYA",
        "outputId": "d16f20d1-d9ee-468a-ee2c-ebd438177223"
      },
      "execution_count": 162,
      "outputs": [
        {
          "output_type": "stream",
          "name": "stderr",
          "text": [
            "/usr/local/lib/python3.7/dist-packages/sklearn/utils/deprecation.py:87: FutureWarning: Function plot_confusion_matrix is deprecated; Function `plot_confusion_matrix` is deprecated in 1.0 and will be removed in 1.2. Use one of the class methods: ConfusionMatrixDisplay.from_predictions or ConfusionMatrixDisplay.from_estimator.\n",
            "  warnings.warn(msg, category=FutureWarning)\n"
          ]
        },
        {
          "output_type": "execute_result",
          "data": {
            "text/plain": [
              "<sklearn.metrics._plot.confusion_matrix.ConfusionMatrixDisplay at 0x7faf1585d3d0>"
            ]
          },
          "metadata": {},
          "execution_count": 162
        },
        {
          "output_type": "display_data",
          "data": {
            "text/plain": [
              "<Figure size 432x288 with 2 Axes>"
            ],
            "image/png": "[encoded data removed]"
          },
          "metadata": {
            "needs_background": "light"
          }
        }
      ]
    },
    {
      "cell_type": "markdown",
      "source": [
        "# Model selection"
      ],
      "metadata": {
        "id": "D--BXPn2DwZS"
      }
    },
    {
      "cell_type": "markdown",
      "source": [
        "Below we present a summary of the metrics that we are going to use for the choice of the model."
      ],
      "metadata": {
        "id": "mDd7DrRY6Gtj"
      }
    },
    {
      "cell_type": "code",
      "source": [
        "columnas=['Tree', 'RandomForest', ' KNN']\n",
        "filas= ['f1-score_test_0', 'f1-score_test_1', 'accuracy_test']\n",
        "datos= [[0.89, 0.90, 0.89],[0.64, 0.64, 0.64], [0.84, 0.85, 0.83]]\n",
        "resumen_metricas_test = pd.DataFrame(datos, columns=columnas, index=filas)\n",
        "resumen_metricas_test"
      ],
      "metadata": {
        "colab": {
          "base_uri": "https://localhost:8080/",
          "height": 143
        },
        "id": "eJL2bPGUvyIA",
        "outputId": "961c0672-f4cc-473e-84d0-aa4e35042726"
      },
      "execution_count": 163,
      "outputs": [
        {
          "output_type": "execute_result",
          "data": {
            "text/plain": [
              "                 Tree  RandomForest   KNN\n",
              "f1-score_test_0  0.89          0.90  0.89\n",
              "f1-score_test_1  0.64          0.64  0.64\n",
              "accuracy_test    0.84          0.85  0.83"
            ],
            "text/html": [
              "\n",
              "  <div id=\"df-8f721226-59e9-49c8-9530-79b92dd78d8c\">\n",
              "    <div class=\"colab-df-container\">\n",
              "      <div>\n",
              "<style scoped>\n",
              "    .dataframe tbody tr th:only-of-type {\n",
              "        vertical-align: middle;\n",
              "    }\n",
              "\n",
              "    .dataframe tbody tr th {\n",
              "        vertical-align: top;\n",
              "    }\n",
              "\n",
              "    .dataframe thead th {\n",
              "        text-align: right;\n",
              "    }\n",
              "</style>\n",
              "<table border=\"1\" class=\"dataframe\">\n",
              "  <thead>\n",
              "    <tr style=\"text-align: right;\">\n",
              "      <th></th>\n",
              "      <th>Tree</th>\n",
              "      <th>RandomForest</th>\n",
              "      <th>KNN</th>\n",
              "    </tr>\n",
              "  </thead>\n",
              "  <tbody>\n",
              "    <tr>\n",
              "      <th>f1-score_test_0</th>\n",
              "      <td>0.89</td>\n",
              "      <td>0.90</td>\n",
              "      <td>0.89</td>\n",
              "    </tr>\n",
              "    <tr>\n",
              "      <th>f1-score_test_1</th>\n",
              "      <td>0.64</td>\n",
              "      <td>0.64</td>\n",
              "      <td>0.64</td>\n",
              "    </tr>\n",
              "    <tr>\n",
              "      <th>accuracy_test</th>\n",
              "      <td>0.84</td>\n",
              "      <td>0.85</td>\n",
              "      <td>0.83</td>\n",
              "    </tr>\n",
              "  </tbody>\n",
              "</table>\n",
              "</div>\n",
              "      <button class=\"colab-df-convert\" onclick=\"convertToInteractive('df-8f721226-59e9-49c8-9530-79b92dd78d8c')\"\n",
              "              title=\"Convert this dataframe to an interactive table.\"\n",
              "              style=\"display:none;\">\n",
              "        \n",
              "  <svg xmlns=\"http://www.w3.org/2000/svg\" height=\"24px\"viewBox=\"0 0 24 24\"\n",
              "       width=\"24px\">\n",
              "    <path d=\"M0 0h24v24H0V0z\" fill=\"none\"/>\n",
              "    <path d=\"M18.56 5.44l.94 2.06.94-2.06 2.06-.94-2.06-.94-.94-2.06-.94 2.06-2.06.94zm-11 1L8.5 8.5l.94-2.06 2.06-.94-2.06-.94L8.5 2.5l-.94 2.06-2.06.94zm10 10l.94 2.06.94-2.06 2.06-.94-2.06-.94-.94-2.06-.94 2.06-2.06.94z\"/><path d=\"M17.41 7.96l-1.37-1.37c-.4-.4-.92-.59-1.43-.59-.52 0-1.04.2-1.43.59L10.3 9.45l-7.72 7.72c-.78.78-.78 2.05 0 2.83L4 21.41c.39.39.9.59 1.41.59.51 0 1.02-.2 1.41-.59l7.78-7.78 2.81-2.81c.8-.78.8-2.07 0-2.86zM5.41 20L4 18.59l7.72-7.72 1.47 1.35L5.41 20z\"/>\n",
              "  </svg>\n",
              "      </button>\n",
              "      \n",
              "  <style>\n",
              "    .colab-df-container {\n",
              "      display:flex;\n",
              "      flex-wrap:wrap;\n",
              "      gap: 12px;\n",
              "    }\n",
              "\n",
              "    .colab-df-convert {\n",
              "      background-color: #E8F0FE;\n",
              "      border: none;\n",
              "      border-radius: 50%;\n",
              "      cursor: pointer;\n",
              "      display: none;\n",
              "      fill: #1967D2;\n",
              "      height: 32px;\n",
              "      padding: 0 0 0 0;\n",
              "      width: 32px;\n",
              "    }\n",
              "\n",
              "    .colab-df-convert:hover {\n",
              "      background-color: #E2EBFA;\n",
              "      box-shadow: 0px 1px 2px rgba(60, 64, 67, 0.3), 0px 1px 3px 1px rgba(60, 64, 67, 0.15);\n",
              "      fill: #174EA6;\n",
              "    }\n",
              "\n",
              "    [theme=dark] .colab-df-convert {\n",
              "      background-color: #3B4455;\n",
              "      fill: #D2E3FC;\n",
              "    }\n",
              "\n",
              "    [theme=dark] .colab-df-convert:hover {\n",
              "      background-color: #434B5C;\n",
              "      box-shadow: 0px 1px 3px 1px rgba(0, 0, 0, 0.15);\n",
              "      filter: drop-shadow(0px 1px 2px rgba(0, 0, 0, 0.3));\n",
              "      fill: #FFFFFF;\n",
              "    }\n",
              "  </style>\n",
              "\n",
              "      <script>\n",
              "        const buttonEl =\n",
              "          document.querySelector('#df-8f721226-59e9-49c8-9530-79b92dd78d8c button.colab-df-convert');\n",
              "        buttonEl.style.display =\n",
              "          google.colab.kernel.accessAllowed ? 'block' : 'none';\n",
              "\n",
              "        async function convertToInteractive(key) {\n",
              "          const element = document.querySelector('#df-8f721226-59e9-49c8-9530-79b92dd78d8c');\n",
              "          const dataTable =\n",
              "            await google.colab.kernel.invokeFunction('convertToInteractive',\n",
              "                                                     [key], {});\n",
              "          if (!dataTable) return;\n",
              "\n",
              "          const docLinkHtml = 'Like what you see? Visit the ' +\n",
              "            '<a target=\"_blank\" href=https://colab.research.google.com/notebooks/data_table.ipynb>data table notebook</a>'\n",
              "            + ' to learn more about interactive tables.';\n",
              "          element.innerHTML = '';\n",
              "          dataTable['output_type'] = 'display_data';\n",
              "          await google.colab.output.renderOutput(dataTable, element);\n",
              "          const docLink = document.createElement('div');\n",
              "          docLink.innerHTML = docLinkHtml;\n",
              "          element.appendChild(docLink);\n",
              "        }\n",
              "      </script>\n",
              "    </div>\n",
              "  </div>\n",
              "  "
            ]
          },
          "metadata": {},
          "execution_count": 163
        }
      ]
    },
    {
      "cell_type": "markdown",
      "source": [
        "\n",
        "For each model analyzed in the test dataset, f1-score_test_0 indicates the value of f1-score in the classification for the 0 category of our target variable, that is, those people who earn 50,000 dollars or less. In the same way, f1-score_test_1 gives us the magnitude of f1-score in the classification of those people who earn more than 50,000 dollars (category associated with values ​​equal to 1)"
      ],
      "metadata": {
        "id": "Yu-3s3S1_P3o"
      }
    },
    {
      "cell_type": "markdown",
      "source": [
        "The models that have been analyzed so far are:\n",
        "\n",
        "* Decision tree\n",
        "*Random Forest\n",
        "* K-Nearest Neighbors\n",
        "\n",
        "\n"
      ],
      "metadata": {
        "id": "8tBIvKfPD5Vx"
      }
    },
    {
      "cell_type": "markdown",
      "source": [
        "One of the metrics we took into account to define our model was the F1_score, since this allows us to better describe a dataset with unbalanced classes like the ones we have.\n",
        "\n",
        "In the case of the Decision Tree models, the classification metrics improved with the adjustment of the hyperparameters, especially when gridsearch is used for these definitions. We also performed the analysis for a K-Nearest Neighbors model using the same methodology as in the tree model, where the metrics did not make any difference (particularly the one we chose for selection, F1_score), so these two models are equally significant. However, the K-Nearest Neighbors model is more affected by the presence of outliers than Decision Trees, and although an attempt has been made to clean variables such as hours.per.week or capital.gain/loss, a more detailed analysis in the treatment of outliers, investigating more exhaustively the behavior of these variables in their context. Given this caveat, decision trees would carry more weight in the choice.\n",
        "\n",
        "Finally, observing the summary presented in the previous table, the Random Forest model would be the one we would choose for the prediction of our target variable since we would obtain a better metric of F1_score, being the characteristics \"capital.gain\",\"relationship\",\"education .num\" the most important for the metric."
      ],
      "metadata": {
        "id": "oNDOLxYIHQaN"
      }
    },
    {
      "cell_type": "markdown",
      "source": [
        "The model selected to predict the test data is:\n",
        "\n",
        "* Random Forest\n"
      ],
      "metadata": {
        "id": "VCw2u3awHUFw"
      }
    },
    {
      "cell_type": "markdown",
      "metadata": {
        "id": "yrPpc9--qndL"
      },
      "source": [
        "# Test data evaluation\n"
      ]
    },
    {
      "cell_type": "markdown",
      "source": [
        "**We predict the target for the test data with the Random Forest model**"
      ],
      "metadata": {
        "id": "6qtH8gOgJ3r_"
      }
    },
    {
      "cell_type": "code",
      "execution_count": 164,
      "metadata": {
        "id": "N2-YWejXq0My",
        "colab": {
          "base_uri": "https://localhost:8080/"
        },
        "outputId": "a5395591-a3db-4b04-c478-71339e0bed0a"
      },
      "outputs": [
        {
          "output_type": "stream",
          "name": "stderr",
          "text": [
            "/usr/local/lib/python3.7/dist-packages/sklearn/base.py:493: FutureWarning: The feature names should match those that were passed during fit. Starting version 1.2, an error will be raised.\n",
            "Feature names must be in the same order as they were in fit.\n",
            "\n",
            "  warnings.warn(message, FutureWarning)\n"
          ]
        }
      ],
      "source": [
        "df_test2[\"income\"] = clf.predict(df_test2) "
      ]
    },
    {
      "cell_type": "code",
      "execution_count": 165,
      "metadata": {
        "id": "qURWsCYkrNrs"
      },
      "outputs": [],
      "source": [
        "predict=pd.concat([df_test.ID,df_test2.income], axis = 1) "
      ]
    }
  ],
  "metadata": {
    "colab": {
      "collapsed_sections": [
        "0OouvHFt7Abs",
        "mpvIoWKi2kf2",
        "puqCqAed6kcl",
        "YosIGH2uhBtN",
        "uOAL9RA9KtAX",
        "jR6Fc30FYswF",
        "yrPpc9--qndL"
      ],
      "name": "ML_income_prediction.ipynb",
      "provenance": []
    },
    "kernelspec": {
      "display_name": "Python 3",
      "name": "python3"
    },
    "language_info": {
      "name": "python"
    }
  },
  "nbformat": 4,
  "nbformat_minor": 0
}
