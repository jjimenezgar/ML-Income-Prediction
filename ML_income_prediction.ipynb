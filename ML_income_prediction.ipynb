{
  "cells": [
    {
      "cell_type": "markdown",
      "metadata": {
        "id": "0OouvHFt7Abs"
      },
      "source": [
        "# ML Income Prediction"
      ]
    },
    {
      "cell_type": "markdown",
      "metadata": {
        "id": "mOfjHGWx0IxC"
      },
      "source": [
        "We import the necessary libraries and make the train and test datasets available."
      ]
    },
    {
      "cell_type": "code",
      "execution_count": 400,
      "metadata": {
        "id": "xYmzIuyf6-2Q"
      },
      "outputs": [],
      "source": [
        "import numpy as np\n",
        "import pandas as pd\n",
        "import seaborn as sns\n",
        "import matplotlib.pyplot as plt\n",
        "\n",
        "df_train = pd.read_csv('./datasets/train.csv')\n",
        "df_test = pd.read_csv('./datasets/test.csv')"
      ]
    },
    {
      "cell_type": "markdown",
      "metadata": {
        "id": "mpvIoWKi2kf2"
      },
      "source": [
        "## Descriptive analysis and data visualization."
      ]
    },
    {
      "cell_type": "markdown",
      "metadata": {
        "id": "w9mk2DIa7Mmd"
      },
      "source": [
        "We see basic characteristics of each dataset (dimensions, attributes, type of data, presence of nulls and statistical parameters of the numerical variables)."
      ]
    },
    {
      "cell_type": "code",
      "execution_count": 401,
      "metadata": {
        "id": "dB4v0fYk8ju0"
      },
      "outputs": [],
      "source": [
        "df_train_graficos=df_train.copy()"
      ]
    },
    {
      "cell_type": "code",
      "execution_count": 402,
      "metadata": {
        "colab": {
          "base_uri": "https://localhost:8080/",
          "height": 322
        },
        "id": "F_xZi1egB8b7",
        "outputId": "5303fb50-6f2b-4b44-96cf-89470125ba28"
      },
      "outputs": [
        {
          "output_type": "execute_result",
          "data": {
            "text/plain": [
              "       index  age         workclass     education  education.num  \\\n",
              "7982    6864   53  Self-emp-not-inc  Some-college             10   \n",
              "25407   1136   48           Private       7th-8th              4   \n",
              "9225    5434   45           Private  Some-college             10   \n",
              "1761    7640   28                 ?     Bachelors             13   \n",
              "26830  21554   34           Private       Masters             14   \n",
              "\n",
              "           marital.status         occupation relationship   race   sex  \\\n",
              "7982   Married-civ-spouse    Farming-fishing      Husband  White  Male   \n",
              "25407  Married-civ-spouse   Transport-moving      Husband  White  Male   \n",
              "9225        Never-married  Machine-op-inspct    Own-child  White  Male   \n",
              "1761        Never-married                  ?    Own-child  White  Male   \n",
              "26830       Never-married              Sales    Unmarried  White  Male   \n",
              "\n",
              "       capital.gain  capital.loss  hours.per.week native.country income     ID  \n",
              "7982              0             0              30  United-States  <=50K   6864  \n",
              "25407             0          1672              55  United-States  <=50K   1136  \n",
              "9225              0             0              45  United-States  <=50K   5434  \n",
              "1761              0             0              45  United-States  <=50K   7640  \n",
              "26830             0             0              60  United-States   >50K  21545  "
            ],
            "text/html": [
              "\n",
              "  <div id=\"df-3eea9e4d-2a4c-44b3-a2ed-fd63b7c2e7da\">\n",
              "    <div class=\"colab-df-container\">\n",
              "      <div>\n",
              "<style scoped>\n",
              "    .dataframe tbody tr th:only-of-type {\n",
              "        vertical-align: middle;\n",
              "    }\n",
              "\n",
              "    .dataframe tbody tr th {\n",
              "        vertical-align: top;\n",
              "    }\n",
              "\n",
              "    .dataframe thead th {\n",
              "        text-align: right;\n",
              "    }\n",
              "</style>\n",
              "<table border=\"1\" class=\"dataframe\">\n",
              "  <thead>\n",
              "    <tr style=\"text-align: right;\">\n",
              "      <th></th>\n",
              "      <th>index</th>\n",
              "      <th>age</th>\n",
              "      <th>workclass</th>\n",
              "      <th>education</th>\n",
              "      <th>education.num</th>\n",
              "      <th>marital.status</th>\n",
              "      <th>occupation</th>\n",
              "      <th>relationship</th>\n",
              "      <th>race</th>\n",
              "      <th>sex</th>\n",
              "      <th>capital.gain</th>\n",
              "      <th>capital.loss</th>\n",
              "      <th>hours.per.week</th>\n",
              "      <th>native.country</th>\n",
              "      <th>income</th>\n",
              "      <th>ID</th>\n",
              "    </tr>\n",
              "  </thead>\n",
              "  <tbody>\n",
              "    <tr>\n",
              "      <th>7982</th>\n",
              "      <td>6864</td>\n",
              "      <td>53</td>\n",
              "      <td>Self-emp-not-inc</td>\n",
              "      <td>Some-college</td>\n",
              "      <td>10</td>\n",
              "      <td>Married-civ-spouse</td>\n",
              "      <td>Farming-fishing</td>\n",
              "      <td>Husband</td>\n",
              "      <td>White</td>\n",
              "      <td>Male</td>\n",
              "      <td>0</td>\n",
              "      <td>0</td>\n",
              "      <td>30</td>\n",
              "      <td>United-States</td>\n",
              "      <td>&lt;=50K</td>\n",
              "      <td>6864</td>\n",
              "    </tr>\n",
              "    <tr>\n",
              "      <th>25407</th>\n",
              "      <td>1136</td>\n",
              "      <td>48</td>\n",
              "      <td>Private</td>\n",
              "      <td>7th-8th</td>\n",
              "      <td>4</td>\n",
              "      <td>Married-civ-spouse</td>\n",
              "      <td>Transport-moving</td>\n",
              "      <td>Husband</td>\n",
              "      <td>White</td>\n",
              "      <td>Male</td>\n",
              "      <td>0</td>\n",
              "      <td>1672</td>\n",
              "      <td>55</td>\n",
              "      <td>United-States</td>\n",
              "      <td>&lt;=50K</td>\n",
              "      <td>1136</td>\n",
              "    </tr>\n",
              "    <tr>\n",
              "      <th>9225</th>\n",
              "      <td>5434</td>\n",
              "      <td>45</td>\n",
              "      <td>Private</td>\n",
              "      <td>Some-college</td>\n",
              "      <td>10</td>\n",
              "      <td>Never-married</td>\n",
              "      <td>Machine-op-inspct</td>\n",
              "      <td>Own-child</td>\n",
              "      <td>White</td>\n",
              "      <td>Male</td>\n",
              "      <td>0</td>\n",
              "      <td>0</td>\n",
              "      <td>45</td>\n",
              "      <td>United-States</td>\n",
              "      <td>&lt;=50K</td>\n",
              "      <td>5434</td>\n",
              "    </tr>\n",
              "    <tr>\n",
              "      <th>1761</th>\n",
              "      <td>7640</td>\n",
              "      <td>28</td>\n",
              "      <td>?</td>\n",
              "      <td>Bachelors</td>\n",
              "      <td>13</td>\n",
              "      <td>Never-married</td>\n",
              "      <td>?</td>\n",
              "      <td>Own-child</td>\n",
              "      <td>White</td>\n",
              "      <td>Male</td>\n",
              "      <td>0</td>\n",
              "      <td>0</td>\n",
              "      <td>45</td>\n",
              "      <td>United-States</td>\n",
              "      <td>&lt;=50K</td>\n",
              "      <td>7640</td>\n",
              "    </tr>\n",
              "    <tr>\n",
              "      <th>26830</th>\n",
              "      <td>21554</td>\n",
              "      <td>34</td>\n",
              "      <td>Private</td>\n",
              "      <td>Masters</td>\n",
              "      <td>14</td>\n",
              "      <td>Never-married</td>\n",
              "      <td>Sales</td>\n",
              "      <td>Unmarried</td>\n",
              "      <td>White</td>\n",
              "      <td>Male</td>\n",
              "      <td>0</td>\n",
              "      <td>0</td>\n",
              "      <td>60</td>\n",
              "      <td>United-States</td>\n",
              "      <td>&gt;50K</td>\n",
              "      <td>21545</td>\n",
              "    </tr>\n",
              "  </tbody>\n",
              "</table>\n",
              "</div>\n",
              "      <button class=\"colab-df-convert\" onclick=\"convertToInteractive('df-3eea9e4d-2a4c-44b3-a2ed-fd63b7c2e7da')\"\n",
              "              title=\"Convert this dataframe to an interactive table.\"\n",
              "              style=\"display:none;\">\n",
              "        \n",
              "  <svg xmlns=\"http://www.w3.org/2000/svg\" height=\"24px\"viewBox=\"0 0 24 24\"\n",
              "       width=\"24px\">\n",
              "    <path d=\"M0 0h24v24H0V0z\" fill=\"none\"/>\n",
              "    <path d=\"M18.56 5.44l.94 2.06.94-2.06 2.06-.94-2.06-.94-.94-2.06-.94 2.06-2.06.94zm-11 1L8.5 8.5l.94-2.06 2.06-.94-2.06-.94L8.5 2.5l-.94 2.06-2.06.94zm10 10l.94 2.06.94-2.06 2.06-.94-2.06-.94-.94-2.06-.94 2.06-2.06.94z\"/><path d=\"M17.41 7.96l-1.37-1.37c-.4-.4-.92-.59-1.43-.59-.52 0-1.04.2-1.43.59L10.3 9.45l-7.72 7.72c-.78.78-.78 2.05 0 2.83L4 21.41c.39.39.9.59 1.41.59.51 0 1.02-.2 1.41-.59l7.78-7.78 2.81-2.81c.8-.78.8-2.07 0-2.86zM5.41 20L4 18.59l7.72-7.72 1.47 1.35L5.41 20z\"/>\n",
              "  </svg>\n",
              "      </button>\n",
              "      \n",
              "  <style>\n",
              "    .colab-df-container {\n",
              "      display:flex;\n",
              "      flex-wrap:wrap;\n",
              "      gap: 12px;\n",
              "    }\n",
              "\n",
              "    .colab-df-convert {\n",
              "      background-color: #E8F0FE;\n",
              "      border: none;\n",
              "      border-radius: 50%;\n",
              "      cursor: pointer;\n",
              "      display: none;\n",
              "      fill: #1967D2;\n",
              "      height: 32px;\n",
              "      padding: 0 0 0 0;\n",
              "      width: 32px;\n",
              "    }\n",
              "\n",
              "    .colab-df-convert:hover {\n",
              "      background-color: #E2EBFA;\n",
              "      box-shadow: 0px 1px 2px rgba(60, 64, 67, 0.3), 0px 1px 3px 1px rgba(60, 64, 67, 0.15);\n",
              "      fill: #174EA6;\n",
              "    }\n",
              "\n",
              "    [theme=dark] .colab-df-convert {\n",
              "      background-color: #3B4455;\n",
              "      fill: #D2E3FC;\n",
              "    }\n",
              "\n",
              "    [theme=dark] .colab-df-convert:hover {\n",
              "      background-color: #434B5C;\n",
              "      box-shadow: 0px 1px 3px 1px rgba(0, 0, 0, 0.15);\n",
              "      filter: drop-shadow(0px 1px 2px rgba(0, 0, 0, 0.3));\n",
              "      fill: #FFFFFF;\n",
              "    }\n",
              "  </style>\n",
              "\n",
              "      <script>\n",
              "        const buttonEl =\n",
              "          document.querySelector('#df-3eea9e4d-2a4c-44b3-a2ed-fd63b7c2e7da button.colab-df-convert');\n",
              "        buttonEl.style.display =\n",
              "          google.colab.kernel.accessAllowed ? 'block' : 'none';\n",
              "\n",
              "        async function convertToInteractive(key) {\n",
              "          const element = document.querySelector('#df-3eea9e4d-2a4c-44b3-a2ed-fd63b7c2e7da');\n",
              "          const dataTable =\n",
              "            await google.colab.kernel.invokeFunction('convertToInteractive',\n",
              "                                                     [key], {});\n",
              "          if (!dataTable) return;\n",
              "\n",
              "          const docLinkHtml = 'Like what you see? Visit the ' +\n",
              "            '<a target=\"_blank\" href=https://colab.research.google.com/notebooks/data_table.ipynb>data table notebook</a>'\n",
              "            + ' to learn more about interactive tables.';\n",
              "          element.innerHTML = '';\n",
              "          dataTable['output_type'] = 'display_data';\n",
              "          await google.colab.output.renderOutput(dataTable, element);\n",
              "          const docLink = document.createElement('div');\n",
              "          docLink.innerHTML = docLinkHtml;\n",
              "          element.appendChild(docLink);\n",
              "        }\n",
              "      </script>\n",
              "    </div>\n",
              "  </div>\n",
              "  "
            ]
          },
          "metadata": {},
          "execution_count": 402
        }
      ],
      "source": [
        "df_train.sample(5)"
      ]
    },
    {
      "cell_type": "code",
      "execution_count": 403,
      "metadata": {
        "colab": {
          "base_uri": "https://localhost:8080/"
        },
        "id": "BwT4JTUV2I9K",
        "outputId": "cd08e1ff-2f8f-45f0-bea6-d3c0d49d1ac1"
      },
      "outputs": [
        {
          "output_type": "stream",
          "name": "stdout",
          "text": [
            "The training dataset has 27656 rows and 16 columns\n",
            "The test dataset has 4881 rows and 15 columns\n"
          ]
        }
      ],
      "source": [
        "print(f'The training dataset has {df_train.shape[0]} rows and {df_train.shape[1]} columns')\n",
        "print(f'The test dataset has {df_test.shape[0]} rows and {df_test.shape[1]} columns')"
      ]
    },
    {
      "cell_type": "code",
      "execution_count": 404,
      "metadata": {
        "colab": {
          "base_uri": "https://localhost:8080/"
        },
        "id": "1blP3T0G49pa",
        "outputId": "2b8f9a8b-1669-46ce-ff0d-b7dade332b24"
      },
      "outputs": [
        {
          "output_type": "execute_result",
          "data": {
            "text/plain": [
              "Index(['index', 'age', 'workclass', 'education', 'education.num',\n",
              "       'marital.status', 'occupation', 'relationship', 'race', 'sex',\n",
              "       'capital.gain', 'capital.loss', 'hours.per.week', 'native.country',\n",
              "       'income', 'ID'],\n",
              "      dtype='object')"
            ]
          },
          "metadata": {},
          "execution_count": 404
        }
      ],
      "source": [
        "df_train.columns    # Names of training dataset attributes"
      ]
    },
    {
      "cell_type": "code",
      "execution_count": 405,
      "metadata": {
        "colab": {
          "base_uri": "https://localhost:8080/"
        },
        "id": "YdjlCex-5RVB",
        "outputId": "abf07df3-9e5d-40f5-ebd7-333d9b0dd3e5"
      },
      "outputs": [
        {
          "output_type": "execute_result",
          "data": {
            "text/plain": [
              "Index(['index', 'age', 'workclass', 'education', 'education.num',\n",
              "       'marital.status', 'occupation', 'relationship', 'race', 'sex',\n",
              "       'capital.gain', 'capital.loss', 'hours.per.week', 'native.country',\n",
              "       'ID'],\n",
              "      dtype='object')"
            ]
          },
          "metadata": {},
          "execution_count": 405
        }
      ],
      "source": [
        "df_test.columns   # Names of the attributes of the test dataset (we can see that our target= \"income\" is not present)"
      ]
    },
    {
      "cell_type": "code",
      "execution_count": 406,
      "metadata": {
        "colab": {
          "base_uri": "https://localhost:8080/"
        },
        "id": "gX7rqes44Crw",
        "outputId": "72034f3c-635f-4842-df73-29105d89f646"
      },
      "outputs": [
        {
          "output_type": "stream",
          "name": "stdout",
          "text": [
            "<class 'pandas.core.frame.DataFrame'>\n",
            "RangeIndex: 27656 entries, 0 to 27655\n",
            "Data columns (total 16 columns):\n",
            " #   Column          Non-Null Count  Dtype \n",
            "---  ------          --------------  ----- \n",
            " 0   index           27656 non-null  int64 \n",
            " 1   age             27656 non-null  int64 \n",
            " 2   workclass       27656 non-null  object\n",
            " 3   education       27656 non-null  object\n",
            " 4   education.num   27656 non-null  int64 \n",
            " 5   marital.status  27656 non-null  object\n",
            " 6   occupation      27656 non-null  object\n",
            " 7   relationship    27656 non-null  object\n",
            " 8   race            27656 non-null  object\n",
            " 9   sex             27656 non-null  object\n",
            " 10  capital.gain    27656 non-null  int64 \n",
            " 11  capital.loss    27656 non-null  int64 \n",
            " 12  hours.per.week  27656 non-null  int64 \n",
            " 13  native.country  27656 non-null  object\n",
            " 14  income          27656 non-null  object\n",
            " 15  ID              27656 non-null  int64 \n",
            "dtypes: int64(7), object(9)\n",
            "memory usage: 3.4+ MB\n"
          ]
        }
      ],
      "source": [
        "df_train.info()   # Type of data contained in each attribute present in the training dataset"
      ]
    },
    {
      "cell_type": "code",
      "execution_count": 407,
      "metadata": {
        "colab": {
          "base_uri": "https://localhost:8080/"
        },
        "id": "oCDCk0yI4kg6",
        "outputId": "b4971b54-e3da-4b11-8d11-9f220029fc4e"
      },
      "outputs": [
        {
          "output_type": "stream",
          "name": "stdout",
          "text": [
            "<class 'pandas.core.frame.DataFrame'>\n",
            "RangeIndex: 4881 entries, 0 to 4880\n",
            "Data columns (total 15 columns):\n",
            " #   Column          Non-Null Count  Dtype \n",
            "---  ------          --------------  ----- \n",
            " 0   index           4881 non-null   int64 \n",
            " 1   age             4881 non-null   int64 \n",
            " 2   workclass       4881 non-null   object\n",
            " 3   education       4881 non-null   object\n",
            " 4   education.num   4881 non-null   int64 \n",
            " 5   marital.status  4881 non-null   object\n",
            " 6   occupation      4881 non-null   object\n",
            " 7   relationship    4881 non-null   object\n",
            " 8   race            4881 non-null   object\n",
            " 9   sex             4881 non-null   object\n",
            " 10  capital.gain    4881 non-null   int64 \n",
            " 11  capital.loss    4881 non-null   int64 \n",
            " 12  hours.per.week  4881 non-null   int64 \n",
            " 13  native.country  4881 non-null   object\n",
            " 14  ID              4881 non-null   int64 \n",
            "dtypes: int64(7), object(8)\n",
            "memory usage: 572.1+ KB\n"
          ]
        }
      ],
      "source": [
        "df_test.info()   # Data type that contains each attribute present in the test dataset"
      ]
    },
    {
      "cell_type": "markdown",
      "metadata": {
        "id": "-uUgjw7K52Gz"
      },
      "source": [
        "We see that in both the test set and the training set there is no inconsistency between them, i.e., they handle the same type of data and variables (except target, as we have already clarified above).\n",
        "\n",
        "* Numerical variables:\n",
        "\n",
        "  - index: discrete\n",
        "  - ID: discrete\n",
        "  - age: continuous (discretized)\n",
        "  - education.num: discrete\n",
        "  - capital.gain: continuous\n",
        "  - capital.loss: continuous\n",
        "  - hours.per.week: discrete\n",
        "  \n",
        "\n",
        "* Categorical variables:\n",
        "\n",
        "  - workclass: nominal\n",
        "  - education: ordinal\n",
        "  - marital.status: nominal\n",
        "  - occupation: nominal\n",
        "  - relationship: nominal\n",
        "  - race: nominal\n",
        "  - sex: nominal\n",
        "  - native.country: nominal \n",
        "  - income: nominal\n",
        "\n",
        "\n"
      ]
    },
    {
      "cell_type": "markdown",
      "metadata": {
        "id": "puqCqAed6kcl"
      },
      "source": [
        "###Descriptive statistics analysis on each dataset."
      ]
    },
    {
      "cell_type": "code",
      "execution_count": 408,
      "metadata": {
        "colab": {
          "base_uri": "https://localhost:8080/",
          "height": 300
        },
        "id": "oO49LHv13zYS",
        "outputId": "e16c5bf1-db33-4319-8da7-9bb549fc67b2"
      },
      "outputs": [
        {
          "output_type": "execute_result",
          "data": {
            "text/plain": [
              "           index       age  education.num  capital.gain  capital.loss  \\\n",
              "count  27656.000  27656.00      27656.000     27656.000     27656.000   \n",
              "mean   16274.895     38.61         10.094      1099.992        88.284   \n",
              "std     9410.042     13.66          2.566      7487.323       405.821   \n",
              "min        0.000     17.00          1.000         0.000         0.000   \n",
              "25%     8104.750     28.00          9.000         0.000         0.000   \n",
              "50%    16296.000     37.00         10.000         0.000         0.000   \n",
              "75%    24431.250     48.00         12.000         0.000         0.000   \n",
              "max    32559.000     90.00         16.000     99999.000      4356.000   \n",
              "\n",
              "       hours.per.week         ID  \n",
              "count       27656.000  27656.000  \n",
              "mean           40.447  16267.566  \n",
              "std            12.369   9403.093  \n",
              "min             1.000      0.000  \n",
              "25%            40.000   8104.750  \n",
              "50%            40.000  16291.000  \n",
              "75%            45.000  24416.250  \n",
              "max            99.000  32535.000  "
            ],
            "text/html": [
              "\n",
              "  <div id=\"df-6358228c-68f8-4b67-a68a-569a13b309ca\">\n",
              "    <div class=\"colab-df-container\">\n",
              "      <div>\n",
              "<style scoped>\n",
              "    .dataframe tbody tr th:only-of-type {\n",
              "        vertical-align: middle;\n",
              "    }\n",
              "\n",
              "    .dataframe tbody tr th {\n",
              "        vertical-align: top;\n",
              "    }\n",
              "\n",
              "    .dataframe thead th {\n",
              "        text-align: right;\n",
              "    }\n",
              "</style>\n",
              "<table border=\"1\" class=\"dataframe\">\n",
              "  <thead>\n",
              "    <tr style=\"text-align: right;\">\n",
              "      <th></th>\n",
              "      <th>index</th>\n",
              "      <th>age</th>\n",
              "      <th>education.num</th>\n",
              "      <th>capital.gain</th>\n",
              "      <th>capital.loss</th>\n",
              "      <th>hours.per.week</th>\n",
              "      <th>ID</th>\n",
              "    </tr>\n",
              "  </thead>\n",
              "  <tbody>\n",
              "    <tr>\n",
              "      <th>count</th>\n",
              "      <td>27656.000</td>\n",
              "      <td>27656.00</td>\n",
              "      <td>27656.000</td>\n",
              "      <td>27656.000</td>\n",
              "      <td>27656.000</td>\n",
              "      <td>27656.000</td>\n",
              "      <td>27656.000</td>\n",
              "    </tr>\n",
              "    <tr>\n",
              "      <th>mean</th>\n",
              "      <td>16274.895</td>\n",
              "      <td>38.61</td>\n",
              "      <td>10.094</td>\n",
              "      <td>1099.992</td>\n",
              "      <td>88.284</td>\n",
              "      <td>40.447</td>\n",
              "      <td>16267.566</td>\n",
              "    </tr>\n",
              "    <tr>\n",
              "      <th>std</th>\n",
              "      <td>9410.042</td>\n",
              "      <td>13.66</td>\n",
              "      <td>2.566</td>\n",
              "      <td>7487.323</td>\n",
              "      <td>405.821</td>\n",
              "      <td>12.369</td>\n",
              "      <td>9403.093</td>\n",
              "    </tr>\n",
              "    <tr>\n",
              "      <th>min</th>\n",
              "      <td>0.000</td>\n",
              "      <td>17.00</td>\n",
              "      <td>1.000</td>\n",
              "      <td>0.000</td>\n",
              "      <td>0.000</td>\n",
              "      <td>1.000</td>\n",
              "      <td>0.000</td>\n",
              "    </tr>\n",
              "    <tr>\n",
              "      <th>25%</th>\n",
              "      <td>8104.750</td>\n",
              "      <td>28.00</td>\n",
              "      <td>9.000</td>\n",
              "      <td>0.000</td>\n",
              "      <td>0.000</td>\n",
              "      <td>40.000</td>\n",
              "      <td>8104.750</td>\n",
              "    </tr>\n",
              "    <tr>\n",
              "      <th>50%</th>\n",
              "      <td>16296.000</td>\n",
              "      <td>37.00</td>\n",
              "      <td>10.000</td>\n",
              "      <td>0.000</td>\n",
              "      <td>0.000</td>\n",
              "      <td>40.000</td>\n",
              "      <td>16291.000</td>\n",
              "    </tr>\n",
              "    <tr>\n",
              "      <th>75%</th>\n",
              "      <td>24431.250</td>\n",
              "      <td>48.00</td>\n",
              "      <td>12.000</td>\n",
              "      <td>0.000</td>\n",
              "      <td>0.000</td>\n",
              "      <td>45.000</td>\n",
              "      <td>24416.250</td>\n",
              "    </tr>\n",
              "    <tr>\n",
              "      <th>max</th>\n",
              "      <td>32559.000</td>\n",
              "      <td>90.00</td>\n",
              "      <td>16.000</td>\n",
              "      <td>99999.000</td>\n",
              "      <td>4356.000</td>\n",
              "      <td>99.000</td>\n",
              "      <td>32535.000</td>\n",
              "    </tr>\n",
              "  </tbody>\n",
              "</table>\n",
              "</div>\n",
              "      <button class=\"colab-df-convert\" onclick=\"convertToInteractive('df-6358228c-68f8-4b67-a68a-569a13b309ca')\"\n",
              "              title=\"Convert this dataframe to an interactive table.\"\n",
              "              style=\"display:none;\">\n",
              "        \n",
              "  <svg xmlns=\"http://www.w3.org/2000/svg\" height=\"24px\"viewBox=\"0 0 24 24\"\n",
              "       width=\"24px\">\n",
              "    <path d=\"M0 0h24v24H0V0z\" fill=\"none\"/>\n",
              "    <path d=\"M18.56 5.44l.94 2.06.94-2.06 2.06-.94-2.06-.94-.94-2.06-.94 2.06-2.06.94zm-11 1L8.5 8.5l.94-2.06 2.06-.94-2.06-.94L8.5 2.5l-.94 2.06-2.06.94zm10 10l.94 2.06.94-2.06 2.06-.94-2.06-.94-.94-2.06-.94 2.06-2.06.94z\"/><path d=\"M17.41 7.96l-1.37-1.37c-.4-.4-.92-.59-1.43-.59-.52 0-1.04.2-1.43.59L10.3 9.45l-7.72 7.72c-.78.78-.78 2.05 0 2.83L4 21.41c.39.39.9.59 1.41.59.51 0 1.02-.2 1.41-.59l7.78-7.78 2.81-2.81c.8-.78.8-2.07 0-2.86zM5.41 20L4 18.59l7.72-7.72 1.47 1.35L5.41 20z\"/>\n",
              "  </svg>\n",
              "      </button>\n",
              "      \n",
              "  <style>\n",
              "    .colab-df-container {\n",
              "      display:flex;\n",
              "      flex-wrap:wrap;\n",
              "      gap: 12px;\n",
              "    }\n",
              "\n",
              "    .colab-df-convert {\n",
              "      background-color: #E8F0FE;\n",
              "      border: none;\n",
              "      border-radius: 50%;\n",
              "      cursor: pointer;\n",
              "      display: none;\n",
              "      fill: #1967D2;\n",
              "      height: 32px;\n",
              "      padding: 0 0 0 0;\n",
              "      width: 32px;\n",
              "    }\n",
              "\n",
              "    .colab-df-convert:hover {\n",
              "      background-color: #E2EBFA;\n",
              "      box-shadow: 0px 1px 2px rgba(60, 64, 67, 0.3), 0px 1px 3px 1px rgba(60, 64, 67, 0.15);\n",
              "      fill: #174EA6;\n",
              "    }\n",
              "\n",
              "    [theme=dark] .colab-df-convert {\n",
              "      background-color: #3B4455;\n",
              "      fill: #D2E3FC;\n",
              "    }\n",
              "\n",
              "    [theme=dark] .colab-df-convert:hover {\n",
              "      background-color: #434B5C;\n",
              "      box-shadow: 0px 1px 3px 1px rgba(0, 0, 0, 0.15);\n",
              "      filter: drop-shadow(0px 1px 2px rgba(0, 0, 0, 0.3));\n",
              "      fill: #FFFFFF;\n",
              "    }\n",
              "  </style>\n",
              "\n",
              "      <script>\n",
              "        const buttonEl =\n",
              "          document.querySelector('#df-6358228c-68f8-4b67-a68a-569a13b309ca button.colab-df-convert');\n",
              "        buttonEl.style.display =\n",
              "          google.colab.kernel.accessAllowed ? 'block' : 'none';\n",
              "\n",
              "        async function convertToInteractive(key) {\n",
              "          const element = document.querySelector('#df-6358228c-68f8-4b67-a68a-569a13b309ca');\n",
              "          const dataTable =\n",
              "            await google.colab.kernel.invokeFunction('convertToInteractive',\n",
              "                                                     [key], {});\n",
              "          if (!dataTable) return;\n",
              "\n",
              "          const docLinkHtml = 'Like what you see? Visit the ' +\n",
              "            '<a target=\"_blank\" href=https://colab.research.google.com/notebooks/data_table.ipynb>data table notebook</a>'\n",
              "            + ' to learn more about interactive tables.';\n",
              "          element.innerHTML = '';\n",
              "          dataTable['output_type'] = 'display_data';\n",
              "          await google.colab.output.renderOutput(dataTable, element);\n",
              "          const docLink = document.createElement('div');\n",
              "          docLink.innerHTML = docLinkHtml;\n",
              "          element.appendChild(docLink);\n",
              "        }\n",
              "      </script>\n",
              "    </div>\n",
              "  </div>\n",
              "  "
            ]
          },
          "metadata": {},
          "execution_count": 408
        }
      ],
      "source": [
        "round(df_train.describe(),3)   # Statistical parameters of the numerical attributes of the training dataset"
      ]
    },
    {
      "cell_type": "code",
      "execution_count": 409,
      "metadata": {
        "colab": {
          "base_uri": "https://localhost:8080/",
          "height": 174
        },
        "id": "w1oV3vAo8Jy1",
        "outputId": "9ec0f3b1-bead-45d6-b005-c3a8abf1cd87"
      },
      "outputs": [
        {
          "output_type": "execute_result",
          "data": {
            "text/plain": [
              "       workclass education      marital.status      occupation relationship  \\\n",
              "count      27656     27656               27656           27656        27656   \n",
              "unique         9        16                   7              15            6   \n",
              "top      Private   HS-grad  Married-civ-spouse  Prof-specialty      Husband   \n",
              "freq       19279      8934               12720            3539        11208   \n",
              "\n",
              "         race    sex native.country income  \n",
              "count   27656  27656          27656  27656  \n",
              "unique      5      2             42      2  \n",
              "top     White   Male  United-States  <=50K  \n",
              "freq    23621  18521          24811  20953  "
            ],
            "text/html": [
              "\n",
              "  <div id=\"df-ad7b9dd9-eb3c-4b67-b517-7c0cb914b7a1\">\n",
              "    <div class=\"colab-df-container\">\n",
              "      <div>\n",
              "<style scoped>\n",
              "    .dataframe tbody tr th:only-of-type {\n",
              "        vertical-align: middle;\n",
              "    }\n",
              "\n",
              "    .dataframe tbody tr th {\n",
              "        vertical-align: top;\n",
              "    }\n",
              "\n",
              "    .dataframe thead th {\n",
              "        text-align: right;\n",
              "    }\n",
              "</style>\n",
              "<table border=\"1\" class=\"dataframe\">\n",
              "  <thead>\n",
              "    <tr style=\"text-align: right;\">\n",
              "      <th></th>\n",
              "      <th>workclass</th>\n",
              "      <th>education</th>\n",
              "      <th>marital.status</th>\n",
              "      <th>occupation</th>\n",
              "      <th>relationship</th>\n",
              "      <th>race</th>\n",
              "      <th>sex</th>\n",
              "      <th>native.country</th>\n",
              "      <th>income</th>\n",
              "    </tr>\n",
              "  </thead>\n",
              "  <tbody>\n",
              "    <tr>\n",
              "      <th>count</th>\n",
              "      <td>27656</td>\n",
              "      <td>27656</td>\n",
              "      <td>27656</td>\n",
              "      <td>27656</td>\n",
              "      <td>27656</td>\n",
              "      <td>27656</td>\n",
              "      <td>27656</td>\n",
              "      <td>27656</td>\n",
              "      <td>27656</td>\n",
              "    </tr>\n",
              "    <tr>\n",
              "      <th>unique</th>\n",
              "      <td>9</td>\n",
              "      <td>16</td>\n",
              "      <td>7</td>\n",
              "      <td>15</td>\n",
              "      <td>6</td>\n",
              "      <td>5</td>\n",
              "      <td>2</td>\n",
              "      <td>42</td>\n",
              "      <td>2</td>\n",
              "    </tr>\n",
              "    <tr>\n",
              "      <th>top</th>\n",
              "      <td>Private</td>\n",
              "      <td>HS-grad</td>\n",
              "      <td>Married-civ-spouse</td>\n",
              "      <td>Prof-specialty</td>\n",
              "      <td>Husband</td>\n",
              "      <td>White</td>\n",
              "      <td>Male</td>\n",
              "      <td>United-States</td>\n",
              "      <td>&lt;=50K</td>\n",
              "    </tr>\n",
              "    <tr>\n",
              "      <th>freq</th>\n",
              "      <td>19279</td>\n",
              "      <td>8934</td>\n",
              "      <td>12720</td>\n",
              "      <td>3539</td>\n",
              "      <td>11208</td>\n",
              "      <td>23621</td>\n",
              "      <td>18521</td>\n",
              "      <td>24811</td>\n",
              "      <td>20953</td>\n",
              "    </tr>\n",
              "  </tbody>\n",
              "</table>\n",
              "</div>\n",
              "      <button class=\"colab-df-convert\" onclick=\"convertToInteractive('df-ad7b9dd9-eb3c-4b67-b517-7c0cb914b7a1')\"\n",
              "              title=\"Convert this dataframe to an interactive table.\"\n",
              "              style=\"display:none;\">\n",
              "        \n",
              "  <svg xmlns=\"http://www.w3.org/2000/svg\" height=\"24px\"viewBox=\"0 0 24 24\"\n",
              "       width=\"24px\">\n",
              "    <path d=\"M0 0h24v24H0V0z\" fill=\"none\"/>\n",
              "    <path d=\"M18.56 5.44l.94 2.06.94-2.06 2.06-.94-2.06-.94-.94-2.06-.94 2.06-2.06.94zm-11 1L8.5 8.5l.94-2.06 2.06-.94-2.06-.94L8.5 2.5l-.94 2.06-2.06.94zm10 10l.94 2.06.94-2.06 2.06-.94-2.06-.94-.94-2.06-.94 2.06-2.06.94z\"/><path d=\"M17.41 7.96l-1.37-1.37c-.4-.4-.92-.59-1.43-.59-.52 0-1.04.2-1.43.59L10.3 9.45l-7.72 7.72c-.78.78-.78 2.05 0 2.83L4 21.41c.39.39.9.59 1.41.59.51 0 1.02-.2 1.41-.59l7.78-7.78 2.81-2.81c.8-.78.8-2.07 0-2.86zM5.41 20L4 18.59l7.72-7.72 1.47 1.35L5.41 20z\"/>\n",
              "  </svg>\n",
              "      </button>\n",
              "      \n",
              "  <style>\n",
              "    .colab-df-container {\n",
              "      display:flex;\n",
              "      flex-wrap:wrap;\n",
              "      gap: 12px;\n",
              "    }\n",
              "\n",
              "    .colab-df-convert {\n",
              "      background-color: #E8F0FE;\n",
              "      border: none;\n",
              "      border-radius: 50%;\n",
              "      cursor: pointer;\n",
              "      display: none;\n",
              "      fill: #1967D2;\n",
              "      height: 32px;\n",
              "      padding: 0 0 0 0;\n",
              "      width: 32px;\n",
              "    }\n",
              "\n",
              "    .colab-df-convert:hover {\n",
              "      background-color: #E2EBFA;\n",
              "      box-shadow: 0px 1px 2px rgba(60, 64, 67, 0.3), 0px 1px 3px 1px rgba(60, 64, 67, 0.15);\n",
              "      fill: #174EA6;\n",
              "    }\n",
              "\n",
              "    [theme=dark] .colab-df-convert {\n",
              "      background-color: #3B4455;\n",
              "      fill: #D2E3FC;\n",
              "    }\n",
              "\n",
              "    [theme=dark] .colab-df-convert:hover {\n",
              "      background-color: #434B5C;\n",
              "      box-shadow: 0px 1px 3px 1px rgba(0, 0, 0, 0.15);\n",
              "      filter: drop-shadow(0px 1px 2px rgba(0, 0, 0, 0.3));\n",
              "      fill: #FFFFFF;\n",
              "    }\n",
              "  </style>\n",
              "\n",
              "      <script>\n",
              "        const buttonEl =\n",
              "          document.querySelector('#df-ad7b9dd9-eb3c-4b67-b517-7c0cb914b7a1 button.colab-df-convert');\n",
              "        buttonEl.style.display =\n",
              "          google.colab.kernel.accessAllowed ? 'block' : 'none';\n",
              "\n",
              "        async function convertToInteractive(key) {\n",
              "          const element = document.querySelector('#df-ad7b9dd9-eb3c-4b67-b517-7c0cb914b7a1');\n",
              "          const dataTable =\n",
              "            await google.colab.kernel.invokeFunction('convertToInteractive',\n",
              "                                                     [key], {});\n",
              "          if (!dataTable) return;\n",
              "\n",
              "          const docLinkHtml = 'Like what you see? Visit the ' +\n",
              "            '<a target=\"_blank\" href=https://colab.research.google.com/notebooks/data_table.ipynb>data table notebook</a>'\n",
              "            + ' to learn more about interactive tables.';\n",
              "          element.innerHTML = '';\n",
              "          dataTable['output_type'] = 'display_data';\n",
              "          await google.colab.output.renderOutput(dataTable, element);\n",
              "          const docLink = document.createElement('div');\n",
              "          docLink.innerHTML = docLinkHtml;\n",
              "          element.appendChild(docLink);\n",
              "        }\n",
              "      </script>\n",
              "    </div>\n",
              "  </div>\n",
              "  "
            ]
          },
          "metadata": {},
          "execution_count": 409
        }
      ],
      "source": [
        "df_train.describe(include='O')"
      ]
    },
    {
      "cell_type": "code",
      "execution_count": 410,
      "metadata": {
        "colab": {
          "base_uri": "https://localhost:8080/"
        },
        "id": "-W0hmqrF8Qpz",
        "outputId": "f1930b52-bc4b-40b1-da56-7877e4b07e35"
      },
      "outputs": [
        {
          "output_type": "execute_result",
          "data": {
            "text/plain": [
              "array(['<=50K', '>50K'], dtype=object)"
            ]
          },
          "metadata": {},
          "execution_count": 410
        }
      ],
      "source": [
        "df_train.income.unique()"
      ]
    },
    {
      "cell_type": "markdown",
      "metadata": {
        "id": "maShsL5Q8MKR"
      },
      "source": [
        "In the summary for categorical variables we can already see that our target variable, income, has a number of unbalanced values in its \"<=50K\" and \">50K\" categories. That is out of 27,656 records in df_train, 20,953 correspond to people earning less than $50K."
      ]
    },
    {
      "cell_type": "code",
      "execution_count": 411,
      "metadata": {
        "colab": {
          "base_uri": "https://localhost:8080/",
          "height": 300
        },
        "id": "HdHj8qqc7hbx",
        "outputId": "2950dc5d-d42d-4b16-c5b2-a8966bb5705a"
      },
      "outputs": [
        {
          "output_type": "execute_result",
          "data": {
            "text/plain": [
              "              index          age  education.num  capital.gain  capital.loss  \\\n",
              "count   4881.000000  4881.000000    4881.000000   4881.000000   4881.000000   \n",
              "mean   16277.736734    38.444991      10.015571    956.353001     82.177218   \n",
              "std     9341.930525    13.513499       2.602128   6796.996933    387.331950   \n",
              "min        6.000000    17.000000       1.000000      0.000000      0.000000   \n",
              "25%     8278.000000    27.000000       9.000000      0.000000      0.000000   \n",
              "50%    16173.000000    37.000000      10.000000      0.000000      0.000000   \n",
              "75%    24343.000000    47.000000      12.000000      0.000000      0.000000   \n",
              "max    32560.000000    90.000000      16.000000  99999.000000   3770.000000   \n",
              "\n",
              "       hours.per.week            ID  \n",
              "count     4881.000000   4881.000000  \n",
              "mean        40.404425  16270.460561  \n",
              "std         12.220831   9335.005226  \n",
              "min          1.000000      6.000000  \n",
              "25%         40.000000   8278.000000  \n",
              "50%         40.000000  16168.000000  \n",
              "75%         45.000000  24328.000000  \n",
              "max         99.000000  32536.000000  "
            ],
            "text/html": [
              "\n",
              "  <div id=\"df-de1461c5-5d13-45ed-ac31-520e96ccd18a\">\n",
              "    <div class=\"colab-df-container\">\n",
              "      <div>\n",
              "<style scoped>\n",
              "    .dataframe tbody tr th:only-of-type {\n",
              "        vertical-align: middle;\n",
              "    }\n",
              "\n",
              "    .dataframe tbody tr th {\n",
              "        vertical-align: top;\n",
              "    }\n",
              "\n",
              "    .dataframe thead th {\n",
              "        text-align: right;\n",
              "    }\n",
              "</style>\n",
              "<table border=\"1\" class=\"dataframe\">\n",
              "  <thead>\n",
              "    <tr style=\"text-align: right;\">\n",
              "      <th></th>\n",
              "      <th>index</th>\n",
              "      <th>age</th>\n",
              "      <th>education.num</th>\n",
              "      <th>capital.gain</th>\n",
              "      <th>capital.loss</th>\n",
              "      <th>hours.per.week</th>\n",
              "      <th>ID</th>\n",
              "    </tr>\n",
              "  </thead>\n",
              "  <tbody>\n",
              "    <tr>\n",
              "      <th>count</th>\n",
              "      <td>4881.000000</td>\n",
              "      <td>4881.000000</td>\n",
              "      <td>4881.000000</td>\n",
              "      <td>4881.000000</td>\n",
              "      <td>4881.000000</td>\n",
              "      <td>4881.000000</td>\n",
              "      <td>4881.000000</td>\n",
              "    </tr>\n",
              "    <tr>\n",
              "      <th>mean</th>\n",
              "      <td>16277.736734</td>\n",
              "      <td>38.444991</td>\n",
              "      <td>10.015571</td>\n",
              "      <td>956.353001</td>\n",
              "      <td>82.177218</td>\n",
              "      <td>40.404425</td>\n",
              "      <td>16270.460561</td>\n",
              "    </tr>\n",
              "    <tr>\n",
              "      <th>std</th>\n",
              "      <td>9341.930525</td>\n",
              "      <td>13.513499</td>\n",
              "      <td>2.602128</td>\n",
              "      <td>6796.996933</td>\n",
              "      <td>387.331950</td>\n",
              "      <td>12.220831</td>\n",
              "      <td>9335.005226</td>\n",
              "    </tr>\n",
              "    <tr>\n",
              "      <th>min</th>\n",
              "      <td>6.000000</td>\n",
              "      <td>17.000000</td>\n",
              "      <td>1.000000</td>\n",
              "      <td>0.000000</td>\n",
              "      <td>0.000000</td>\n",
              "      <td>1.000000</td>\n",
              "      <td>6.000000</td>\n",
              "    </tr>\n",
              "    <tr>\n",
              "      <th>25%</th>\n",
              "      <td>8278.000000</td>\n",
              "      <td>27.000000</td>\n",
              "      <td>9.000000</td>\n",
              "      <td>0.000000</td>\n",
              "      <td>0.000000</td>\n",
              "      <td>40.000000</td>\n",
              "      <td>8278.000000</td>\n",
              "    </tr>\n",
              "    <tr>\n",
              "      <th>50%</th>\n",
              "      <td>16173.000000</td>\n",
              "      <td>37.000000</td>\n",
              "      <td>10.000000</td>\n",
              "      <td>0.000000</td>\n",
              "      <td>0.000000</td>\n",
              "      <td>40.000000</td>\n",
              "      <td>16168.000000</td>\n",
              "    </tr>\n",
              "    <tr>\n",
              "      <th>75%</th>\n",
              "      <td>24343.000000</td>\n",
              "      <td>47.000000</td>\n",
              "      <td>12.000000</td>\n",
              "      <td>0.000000</td>\n",
              "      <td>0.000000</td>\n",
              "      <td>45.000000</td>\n",
              "      <td>24328.000000</td>\n",
              "    </tr>\n",
              "    <tr>\n",
              "      <th>max</th>\n",
              "      <td>32560.000000</td>\n",
              "      <td>90.000000</td>\n",
              "      <td>16.000000</td>\n",
              "      <td>99999.000000</td>\n",
              "      <td>3770.000000</td>\n",
              "      <td>99.000000</td>\n",
              "      <td>32536.000000</td>\n",
              "    </tr>\n",
              "  </tbody>\n",
              "</table>\n",
              "</div>\n",
              "      <button class=\"colab-df-convert\" onclick=\"convertToInteractive('df-de1461c5-5d13-45ed-ac31-520e96ccd18a')\"\n",
              "              title=\"Convert this dataframe to an interactive table.\"\n",
              "              style=\"display:none;\">\n",
              "        \n",
              "  <svg xmlns=\"http://www.w3.org/2000/svg\" height=\"24px\"viewBox=\"0 0 24 24\"\n",
              "       width=\"24px\">\n",
              "    <path d=\"M0 0h24v24H0V0z\" fill=\"none\"/>\n",
              "    <path d=\"M18.56 5.44l.94 2.06.94-2.06 2.06-.94-2.06-.94-.94-2.06-.94 2.06-2.06.94zm-11 1L8.5 8.5l.94-2.06 2.06-.94-2.06-.94L8.5 2.5l-.94 2.06-2.06.94zm10 10l.94 2.06.94-2.06 2.06-.94-2.06-.94-.94-2.06-.94 2.06-2.06.94z\"/><path d=\"M17.41 7.96l-1.37-1.37c-.4-.4-.92-.59-1.43-.59-.52 0-1.04.2-1.43.59L10.3 9.45l-7.72 7.72c-.78.78-.78 2.05 0 2.83L4 21.41c.39.39.9.59 1.41.59.51 0 1.02-.2 1.41-.59l7.78-7.78 2.81-2.81c.8-.78.8-2.07 0-2.86zM5.41 20L4 18.59l7.72-7.72 1.47 1.35L5.41 20z\"/>\n",
              "  </svg>\n",
              "      </button>\n",
              "      \n",
              "  <style>\n",
              "    .colab-df-container {\n",
              "      display:flex;\n",
              "      flex-wrap:wrap;\n",
              "      gap: 12px;\n",
              "    }\n",
              "\n",
              "    .colab-df-convert {\n",
              "      background-color: #E8F0FE;\n",
              "      border: none;\n",
              "      border-radius: 50%;\n",
              "      cursor: pointer;\n",
              "      display: none;\n",
              "      fill: #1967D2;\n",
              "      height: 32px;\n",
              "      padding: 0 0 0 0;\n",
              "      width: 32px;\n",
              "    }\n",
              "\n",
              "    .colab-df-convert:hover {\n",
              "      background-color: #E2EBFA;\n",
              "      box-shadow: 0px 1px 2px rgba(60, 64, 67, 0.3), 0px 1px 3px 1px rgba(60, 64, 67, 0.15);\n",
              "      fill: #174EA6;\n",
              "    }\n",
              "\n",
              "    [theme=dark] .colab-df-convert {\n",
              "      background-color: #3B4455;\n",
              "      fill: #D2E3FC;\n",
              "    }\n",
              "\n",
              "    [theme=dark] .colab-df-convert:hover {\n",
              "      background-color: #434B5C;\n",
              "      box-shadow: 0px 1px 3px 1px rgba(0, 0, 0, 0.15);\n",
              "      filter: drop-shadow(0px 1px 2px rgba(0, 0, 0, 0.3));\n",
              "      fill: #FFFFFF;\n",
              "    }\n",
              "  </style>\n",
              "\n",
              "      <script>\n",
              "        const buttonEl =\n",
              "          document.querySelector('#df-de1461c5-5d13-45ed-ac31-520e96ccd18a button.colab-df-convert');\n",
              "        buttonEl.style.display =\n",
              "          google.colab.kernel.accessAllowed ? 'block' : 'none';\n",
              "\n",
              "        async function convertToInteractive(key) {\n",
              "          const element = document.querySelector('#df-de1461c5-5d13-45ed-ac31-520e96ccd18a');\n",
              "          const dataTable =\n",
              "            await google.colab.kernel.invokeFunction('convertToInteractive',\n",
              "                                                     [key], {});\n",
              "          if (!dataTable) return;\n",
              "\n",
              "          const docLinkHtml = 'Like what you see? Visit the ' +\n",
              "            '<a target=\"_blank\" href=https://colab.research.google.com/notebooks/data_table.ipynb>data table notebook</a>'\n",
              "            + ' to learn more about interactive tables.';\n",
              "          element.innerHTML = '';\n",
              "          dataTable['output_type'] = 'display_data';\n",
              "          await google.colab.output.renderOutput(dataTable, element);\n",
              "          const docLink = document.createElement('div');\n",
              "          docLink.innerHTML = docLinkHtml;\n",
              "          element.appendChild(docLink);\n",
              "        }\n",
              "      </script>\n",
              "    </div>\n",
              "  </div>\n",
              "  "
            ]
          },
          "metadata": {},
          "execution_count": 411
        }
      ],
      "source": [
        "df_test.describe()   # Statistical parameters of the numeric attributes of the test dataset"
      ]
    },
    {
      "cell_type": "markdown",
      "metadata": {
        "id": "qnWnFCHp8C9M"
      },
      "source": [
        "If we look at the mean, median and deviation values of each numerical variable in the summaries of each dataset we can see that their values are similar, for example, in the training dataset we have for the variable age a mean of 38.61, a standard deviation of 13.65 and a median of 37 years; if we now look at the same statistics but in the test set we observe a mean of 38.44, a deviation of 13.51 and a median of 37 years.\n",
        "\n",
        "These values are very similar indicating the presence of randomness in the selection method of both sets."
      ]
    },
    {
      "cell_type": "markdown",
      "metadata": {
        "id": "zAyiCIEc-Ygh"
      },
      "source": [
        "###Missing values."
      ]
    },
    {
      "cell_type": "code",
      "execution_count": 412,
      "metadata": {
        "colab": {
          "base_uri": "https://localhost:8080/"
        },
        "id": "C5LT8EgT7qnA",
        "outputId": "f98bc923-e937-4119-8dc9-60543470d90f"
      },
      "outputs": [
        {
          "output_type": "execute_result",
          "data": {
            "text/plain": [
              "index             0\n",
              "age               0\n",
              "workclass         0\n",
              "education         0\n",
              "education.num     0\n",
              "marital.status    0\n",
              "occupation        0\n",
              "relationship      0\n",
              "race              0\n",
              "sex               0\n",
              "capital.gain      0\n",
              "capital.loss      0\n",
              "hours.per.week    0\n",
              "native.country    0\n",
              "income            0\n",
              "ID                0\n",
              "dtype: int64"
            ]
          },
          "metadata": {},
          "execution_count": 412
        }
      ],
      "source": [
        "df_train.isna().sum()  # We count the number of null records we have in our training dataset."
      ]
    },
    {
      "cell_type": "code",
      "execution_count": 413,
      "metadata": {
        "colab": {
          "base_uri": "https://localhost:8080/"
        },
        "id": "3AG8OdHrDpEo",
        "outputId": "1ed8d0fb-feaa-44cc-c139-ee98d8f61c9d"
      },
      "outputs": [
        {
          "output_type": "execute_result",
          "data": {
            "text/plain": [
              "index             0\n",
              "age               0\n",
              "workclass         0\n",
              "education         0\n",
              "education.num     0\n",
              "marital.status    0\n",
              "occupation        0\n",
              "relationship      0\n",
              "race              0\n",
              "sex               0\n",
              "capital.gain      0\n",
              "capital.loss      0\n",
              "hours.per.week    0\n",
              "native.country    0\n",
              "ID                0\n",
              "dtype: int64"
            ]
          },
          "metadata": {},
          "execution_count": 413
        }
      ],
      "source": [
        "df_test.isna().sum()   # We count the number of null records we have in our test dataset."
      ]
    },
    {
      "cell_type": "markdown",
      "metadata": {
        "id": "uMC8J08D-oQh"
      },
      "source": [
        "There are no missing values in either dataset so no imputation of any kind is required."
      ]
    },
    {
      "cell_type": "markdown",
      "source": [
        "### Presence of unknown values"
      ],
      "metadata": {
        "id": "YosIGH2uhBtN"
      }
    },
    {
      "cell_type": "code",
      "source": [
        "# There are variables in the columns that are unknown \"?\", we have to find out where they are and decide what to do with them in our model.\n",
        "df_categoricas = df_train.select_dtypes(\"object\")## select the categorical variables\n",
        "\n",
        "# we will search within the categorical variables of the data train for the unknown features\n",
        "\n",
        "df_categoricas.apply(lambda x: x== \"?\", axis = 0).sum()"
      ],
      "metadata": {
        "id": "DqO3o_ss5wDl",
        "colab": {
          "base_uri": "https://localhost:8080/"
        },
        "outputId": "90c97d15-4e21-4242-eb6f-3c18ce343867"
      },
      "execution_count": 414,
      "outputs": [
        {
          "output_type": "execute_result",
          "data": {
            "text/plain": [
              "workclass         1539\n",
              "education            0\n",
              "marital.status       0\n",
              "occupation        1546\n",
              "relationship         0\n",
              "race                 0\n",
              "sex                  0\n",
              "native.country     504\n",
              "income               0\n",
              "dtype: int64"
            ]
          },
          "metadata": {},
          "execution_count": 414
        }
      ]
    },
    {
      "cell_type": "code",
      "source": [
        "# we will search within the categorical variables of the data test for the unknown features\n",
        "df_test.select_dtypes(\"object\").apply(lambda x: x== \"?\", axis = 0).sum()"
      ],
      "metadata": {
        "id": "22YTQgOI8FLK",
        "colab": {
          "base_uri": "https://localhost:8080/"
        },
        "outputId": "fb7920d9-4351-4a31-83ad-55c21a37893f"
      },
      "execution_count": 415,
      "outputs": [
        {
          "output_type": "execute_result",
          "data": {
            "text/plain": [
              "workclass         297\n",
              "education           0\n",
              "marital.status      0\n",
              "occupation        297\n",
              "relationship        0\n",
              "race                0\n",
              "sex                 0\n",
              "native.country     78\n",
              "dtype: int64"
            ]
          },
          "metadata": {},
          "execution_count": 415
        }
      ]
    },
    {
      "cell_type": "code",
      "source": [
        "## we will drop the rows with \"?\" in the data train\n",
        "df_train = df_train[df_train[\"workclass\"] != \"?\"]\n",
        "df_train = df_train[df_train[\"occupation\"] != \"?\"]\n",
        "df_train = df_train[df_train[\"native.country\"] != \"?\"]"
      ],
      "metadata": {
        "id": "P632GdtO7vcM"
      },
      "execution_count": 416,
      "outputs": []
    },
    {
      "cell_type": "code",
      "source": [
        "df_train.select_dtypes(\"object\").apply(lambda x: x== \"?\", axis = 0).sum() ## we check the data train to make sure that we have dropped \"?\""
      ],
      "metadata": {
        "id": "XEGjEMjk8u9u",
        "colab": {
          "base_uri": "https://localhost:8080/"
        },
        "outputId": "aa2da4e8-cc1a-4c85-d646-e6759a50b2f7"
      },
      "execution_count": 417,
      "outputs": [
        {
          "output_type": "execute_result",
          "data": {
            "text/plain": [
              "workclass         0\n",
              "education         0\n",
              "marital.status    0\n",
              "occupation        0\n",
              "relationship      0\n",
              "race              0\n",
              "sex               0\n",
              "native.country    0\n",
              "income            0\n",
              "dtype: int64"
            ]
          },
          "metadata": {},
          "execution_count": 417
        }
      ]
    },
    {
      "cell_type": "code",
      "source": [
        "## we will drop the rows with \"?\" in the data test\n",
        "df_test = df_test[df_test[\"workclass\"] != \"?\"]\n",
        "df_test = df_test[df_test[\"occupation\"] != \"?\"]\n",
        "df_test = df_test[df_test[\"native.country\"] != \"?\"]"
      ],
      "metadata": {
        "id": "lCyLjlEn895q"
      },
      "execution_count": 418,
      "outputs": []
    },
    {
      "cell_type": "code",
      "source": [
        "df_test.select_dtypes(\"object\").apply(lambda x: x== \"?\", axis = 0).sum() ## we check the data test to make sure we have dropped \"?\""
      ],
      "metadata": {
        "id": "DEu5-d8G9Its",
        "colab": {
          "base_uri": "https://localhost:8080/"
        },
        "outputId": "11796a25-cef6-4c28-cc2a-fdc23758f30e"
      },
      "execution_count": 419,
      "outputs": [
        {
          "output_type": "execute_result",
          "data": {
            "text/plain": [
              "workclass         0\n",
              "education         0\n",
              "marital.status    0\n",
              "occupation        0\n",
              "relationship      0\n",
              "race              0\n",
              "sex               0\n",
              "native.country    0\n",
              "dtype: int64"
            ]
          },
          "metadata": {},
          "execution_count": 419
        }
      ]
    },
    {
      "cell_type": "markdown",
      "source": [
        "We eliminated the unknown values in the training and test data in the columns workclass, native.country and occupation. This data corresponds to a percentage of less than 5% of the test and training data set."
      ],
      "metadata": {
        "id": "XPlxG6bHt0cG"
      }
    },
    {
      "cell_type": "markdown",
      "metadata": {
        "id": "GiX9NYUaxlTi"
      },
      "source": [
        "###Data visualization."
      ]
    },
    {
      "cell_type": "markdown",
      "metadata": {
        "id": "gGog3P-MGkhn"
      },
      "source": [
        "We show the distribution and behavior of variables. Bart charts were used to study **categorical variables** and histograms and boxplots were used to sudy **numerical variables**."
      ]
    },
    {
      "cell_type": "markdown",
      "metadata": {
        "id": "sOpEbKtxwCLW"
      },
      "source": [
        "#### Categorical variables"
      ]
    },
    {
      "cell_type": "code",
      "execution_count": 431,
      "metadata": {
        "colab": {
          "base_uri": "https://localhost:8080/",
          "height": 279
        },
        "id": "OKXdy878gPx_",
        "outputId": "c4bbb3ed-ad5b-4ae4-ac91-5c60efc78594"
      },
      "outputs": [
        {
          "output_type": "display_data",
          "data": {
            "text/plain": [
              "<Figure size 1080x288 with 1 Axes>"
            ],
            "image/png": "[encoded data removed]"
          },
          "metadata": {
            "needs_background": "light"
          }
        }
      ],
      "source": [
        "# workclass variable  plot \n",
        "plt.figure(figsize=(15,4))\n",
        "sns.countplot(x='workclass', data= df_train, order = df_train['workclass'].value_counts().index, hue=\"income\")\n",
        "plt.show()"
      ]
    },
    {
      "cell_type": "code",
      "execution_count": 432,
      "metadata": {
        "colab": {
          "base_uri": "https://localhost:8080/",
          "height": 279
        },
        "id": "XqtjoUecv6x_",
        "outputId": "2a402651-8901-4cb2-b2f7-c4612704955f"
      },
      "outputs": [
        {
          "output_type": "display_data",
          "data": {
            "text/plain": [
              "<Figure size 1440x288 with 1 Axes>"
            ],
            "image/png": "[encoded data removed]"
          },
          "metadata": {
            "needs_background": "light"
          }
        }
      ],
      "source": [
        "# Education variable plot\n",
        "plt.figure(figsize=(20,4))\n",
        "sns.countplot(x='education', data= df_train, order = df_train['education'].value_counts().index, hue=\"income\")\n",
        "plt.show()"
      ]
    },
    {
      "cell_type": "code",
      "execution_count": 433,
      "metadata": {
        "colab": {
          "base_uri": "https://localhost:8080/",
          "height": 259
        },
        "id": "tgblLZHAwLr_",
        "outputId": "a9f45e77-3e8a-4a9d-8c43-0c980039c00b"
      },
      "outputs": [
        {
          "output_type": "display_data",
          "data": {
            "text/plain": [
              "<Figure size 1800x288 with 1 Axes>"
            ],
            "image/png": "[encoded data removed]"
          },
          "metadata": {
            "needs_background": "light"
          }
        }
      ],
      "source": [
        "#Occupation variable plot\n",
        "plt.figure(figsize=(25,4))\n",
        "sns.countplot(x='occupation', data= df_train, order = df_train['occupation'].value_counts().index, hue=\"income\")\n",
        "plt.show()"
      ]
    },
    {
      "cell_type": "code",
      "execution_count": 423,
      "metadata": {
        "colab": {
          "base_uri": "https://localhost:8080/",
          "height": 279
        },
        "id": "60IYSxXmwaUH",
        "outputId": "6c12f314-7115-4d6c-bf9c-a3708d5c1557"
      },
      "outputs": [
        {
          "output_type": "display_data",
          "data": {
            "text/plain": [
              "<Figure size 432x288 with 1 Axes>"
            ],
            "image/png": "[encoded data removed]"
          },
          "metadata": {
            "needs_background": "light"
          }
        }
      ],
      "source": [
        "# sex variable education\n",
        "plt.figure(figsize=(6,4))\n",
        "sns.countplot(x='sex', data= df_train, order = df_train['sex'].value_counts().index)\n",
        "plt.show()"
      ]
    },
    {
      "cell_type": "code",
      "execution_count": 435,
      "metadata": {
        "colab": {
          "base_uri": "https://localhost:8080/",
          "height": 279
        },
        "id": "TYEq_O7mwtWR",
        "outputId": "136a30b8-55fd-40b9-9ec9-276f84efcdd0"
      },
      "outputs": [
        {
          "output_type": "display_data",
          "data": {
            "text/plain": [
              "<Figure size 720x288 with 1 Axes>"
            ],
            "image/png": "[encoded data removed]"
          },
          "metadata": {
            "needs_background": "light"
          }
        }
      ],
      "source": [
        "# Race variable plot\n",
        "plt.figure(figsize=(10,4))\n",
        "sns.countplot(x='race', data= df_train, order = df_train['race'].value_counts().index, hue=\"income\")\n",
        "plt.show()"
      ]
    },
    {
      "cell_type": "code",
      "execution_count": 436,
      "metadata": {
        "colab": {
          "base_uri": "https://localhost:8080/",
          "height": 280
        },
        "id": "OuhSjTYlxBSM",
        "outputId": "47b5cc24-6fb2-4f41-bb05-2b31f0d0d80e"
      },
      "outputs": [
        {
          "output_type": "display_data",
          "data": {
            "text/plain": [
              "<Figure size 720x288 with 1 Axes>"
            ],
            "image/png": "[encoded data removed]"
          },
          "metadata": {
            "needs_background": "light"
          }
        }
      ],
      "source": [
        "# Relationship variable plot\n",
        "plt.figure(figsize=(10,4))\n",
        "sns.countplot(x='relationship', data= df_train, order = df_train['relationship'].value_counts().index, hue=\"income\" )\n",
        "plt.show()"
      ]
    },
    {
      "cell_type": "code",
      "execution_count": 437,
      "metadata": {
        "colab": {
          "base_uri": "https://localhost:8080/",
          "height": 279
        },
        "id": "LHXpfg0YxLZY",
        "outputId": "2778a7ec-46ea-4ce4-eac6-acbfe7616b68"
      },
      "outputs": [
        {
          "output_type": "display_data",
          "data": {
            "text/plain": [
              "<Figure size 1080x288 with 1 Axes>"
            ],
            "image/png": "[encoded data removed]"
          },
          "metadata": {
            "needs_background": "light"
          }
        }
      ],
      "source": [
        "# marital.status variable plot\n",
        "plt.figure(figsize=(15,4))\n",
        "sns.countplot(x='marital.status', data= df_train, order = df_train['marital.status'].value_counts().index, hue=\"income\")\n",
        "plt.show()"
      ]
    },
    {
      "cell_type": "code",
      "execution_count": 439,
      "metadata": {
        "colab": {
          "base_uri": "https://localhost:8080/",
          "height": 258
        },
        "id": "98rDAQdvxxl3",
        "outputId": "8b7f59be-8e2e-4010-d959-03ccc79f0f0c"
      },
      "outputs": [
        {
          "output_type": "display_data",
          "data": {
            "text/plain": [
              "<Figure size 1800x288 with 1 Axes>"
            ],
            "image/png": "[encoded data removed]"
          },
          "metadata": {
            "needs_background": "light"
          }
        }
      ],
      "source": [
        "# native.country variable plot\n",
        "plt.figure(figsize=(25,4))\n",
        "sns.countplot(x='native.country', data= df_train, order = df_train['native.country'].value_counts().iloc[:5].index, hue=\"income\")\n",
        "plt.show()"
      ]
    },
    {
      "cell_type": "code",
      "execution_count": 428,
      "metadata": {
        "colab": {
          "base_uri": "https://localhost:8080/"
        },
        "id": "-q6_cbAQvCBT",
        "outputId": "57221642-f4f9-4ef7-9392-c7af84807869"
      },
      "outputs": [
        {
          "output_type": "execute_result",
          "data": {
            "text/plain": [
              "array(['United-States', 'Jamaica', 'India', 'Mexico', 'Philippines',\n",
              "       'Dominican-Republic', 'El-Salvador', 'China', 'Thailand',\n",
              "       'Ireland', 'Laos', 'Iran', 'France', 'Guatemala', 'South',\n",
              "       'Puerto-Rico', 'Japan', 'Portugal', 'Greece', 'Canada', 'Poland',\n",
              "       'Peru', 'Cuba', 'Columbia', 'Germany', 'Italy', 'Hong', 'Haiti',\n",
              "       'Ecuador', 'England', 'Nicaragua', 'Cambodia', 'Trinadad&Tobago',\n",
              "       'Vietnam', 'Honduras', 'Taiwan', 'Scotland', 'Yugoslavia',\n",
              "       'Hungary', 'Outlying-US(Guam-USVI-etc)', 'Holand-Netherlands'],\n",
              "      dtype=object)"
            ]
          },
          "metadata": {},
          "execution_count": 428
        }
      ],
      "source": [
        "df_train['native.country'].unique()"
      ]
    },
    {
      "cell_type": "code",
      "execution_count": 289,
      "metadata": {
        "colab": {
          "base_uri": "https://localhost:8080/",
          "height": 282
        },
        "id": "_0V3dbG8-2k5",
        "outputId": "437fc8e4-4d97-44ef-b625-eb01bcd13a51"
      },
      "outputs": [
        {
          "output_type": "display_data",
          "data": {
            "text/plain": [
              "<Figure size 432x288 with 1 Axes>"
            ],
            "image/png": "[encoded data removed]"
          },
          "metadata": {
            "needs_background": "light"
          }
        }
      ],
      "source": [
        "# income variable plot\n",
        "plt.figure(figsize=(6,4))\n",
        "sns.countplot(x='income', data= df_train, order = df_train['income'].value_counts().index)\n",
        "plt.show()"
      ]
    },
    {
      "cell_type": "markdown",
      "metadata": {
        "id": "uyNJBNekRssq"
      },
      "source": [
        " **Results of the categorical variables**: \n",
        "\n",
        "-The variable workclass shows that most of the cases under study work in the private class.\n",
        "\n",
        "-The education variable shows that most of the cases are high school graduates, followed by some college and bachelor's degree.\n",
        "\n",
        "-The occupation variable shows an equal distribution for occupations with a skilled trade and craft repair, followed by a close number of cases, followed by executive positions (exec.), followed by a skilled trade and craft repair. \n",
        "followed by executive positions (exec managerial).\n",
        "\n",
        "-In the sex variable, men predominate over women and in the race variable, the most frequent race is white, followed by black and Asian.\n",
        "\n",
        "-In the marital status variable, there was a predominance of the Married category, followed by never married and divorced.\n",
        "\n",
        "-In the relationship variable, it is to be expected that the majority belong to the \"husband\" category. Since in the gender and marital status variables, the majority are male and married respectively. \n",
        "\n",
        "-The most frequent category was notably United States over the rest in the Native Country variable.\n",
        "\n",
        "-On the other hand, the income variable showed that most of the cases within the dataset have incomes less than or equal to 50k."
      ]
    },
    {
      "cell_type": "markdown",
      "metadata": {
        "id": "uOAL9RA9KtAX"
      },
      "source": [
        "## Processing of categorical variables.\n"
      ]
    },
    {
      "cell_type": "markdown",
      "metadata": {
        "id": "pll8cEwyHbbN"
      },
      "source": [
        "Taking into account that our datasets do not present nulls, we start with the processing of the categorical variables."
      ]
    },
    {
      "cell_type": "markdown",
      "source": [
        "### Variables present in the training set and in the test set"
      ],
      "metadata": {
        "id": "Q3weHlMvXZzq"
      }
    },
    {
      "cell_type": "code",
      "source": [
        "## Function to compare the data between columns of the data train and the data set\n",
        "columns= ['workclass', 'education','marital.status', 'occupation', 'relationship', 'race', 'sex', 'native.country']\n",
        "\n",
        "def comparar(columns):\n",
        "  for i in columns:\n",
        "      extra_test=[]\n",
        "      for x in df_train[i].unique():\n",
        "        if x not in df_test[i].unique():\n",
        "          extra_test.append(x)\n",
        "  \n",
        "      print(f\" La data {extra_test} se encuentra en el data train pero no en el testeo\")\n",
        "\n",
        "comparar(columns)"
      ],
      "metadata": {
        "colab": {
          "base_uri": "https://localhost:8080/"
        },
        "id": "GHt89yLKXWcg",
        "outputId": "87f68666-a95b-4ea2-fce5-fafa1a5c3742"
      },
      "execution_count": 290,
      "outputs": [
        {
          "output_type": "stream",
          "name": "stdout",
          "text": [
            " La data ['Without-pay'] se encuentra en el data train pero no en el testeo\n",
            " La data [] se encuentra en el data train pero no en el testeo\n",
            " La data [] se encuentra en el data train pero no en el testeo\n",
            " La data [] se encuentra en el data train pero no en el testeo\n",
            " La data [] se encuentra en el data train pero no en el testeo\n",
            " La data [] se encuentra en el data train pero no en el testeo\n",
            " La data [] se encuentra en el data train pero no en el testeo\n",
            " La data ['Holand-Netherlands'] se encuentra en el data train pero no en el testeo\n"
          ]
        }
      ]
    },
    {
      "cell_type": "markdown",
      "source": [
        "As there are missing elements in the test data we use replace to make the encoder in the data test."
      ],
      "metadata": {
        "id": "dDxoUJ0Tdnha"
      }
    },
    {
      "cell_type": "code",
      "source": [
        "workclass_dict={ \n",
        "   # '?': 0,\n",
        "    'Federal-gov': 0,\n",
        "    'Local-gov': 1,\n",
        "    'Private': 2,\n",
        "    'Self-emp-inc': 3,\n",
        "    'Self-emp-not-inc': 4,\n",
        "    'State-gov': 5  \n",
        " }\n",
        "\n",
        "df_test[\"workclass\"]=df_test.workclass.replace(workclass_dict)"
      ],
      "metadata": {
        "id": "T1kRO8CKH-nj"
      },
      "execution_count": 291,
      "outputs": []
    },
    {
      "cell_type": "code",
      "source": [
        "# we check how many rows have this country as a native country\n",
        "df_train[df_train[\"native.country\"] == 'Holand-Netherlands'].shape[0] "
      ],
      "metadata": {
        "id": "k59XT8yIaOsV",
        "colab": {
          "base_uri": "https://localhost:8080/"
        },
        "outputId": "d8bd8a3a-2fff-4f9a-d83d-88afde420915"
      },
      "execution_count": 292,
      "outputs": [
        {
          "output_type": "execute_result",
          "data": {
            "text/plain": [
              "1"
            ]
          },
          "metadata": {},
          "execution_count": 292
        }
      ]
    },
    {
      "cell_type": "code",
      "source": [
        "#Only one row has this country as native, so we can remove it from our data train.\n",
        "df_train = df_train.drop(df_train[df_train['native.country']=='Holand-Netherlands'].index[0], axis= 0)"
      ],
      "metadata": {
        "id": "iwDsHNkE4ax4"
      },
      "execution_count": 293,
      "outputs": []
    },
    {
      "cell_type": "code",
      "source": [
        "## numerical variables\n",
        "\n",
        "df_num = df_train.select_dtypes(\"number\")"
      ],
      "metadata": {
        "id": "wRTVG1jf58Y9"
      },
      "execution_count": 294,
      "outputs": []
    },
    {
      "cell_type": "markdown",
      "source": [
        "### Encoder de variables categoricas"
      ],
      "metadata": {
        "id": "jR6Fc30FYswF"
      }
    },
    {
      "cell_type": "code",
      "source": [
        "# import LabelEncoder for nominal variables\n",
        "\n",
        "from sklearn.preprocessing import LabelEncoder\n",
        "\n",
        "le = LabelEncoder()"
      ],
      "metadata": {
        "id": "kKweUfiOZIvs"
      },
      "execution_count": 295,
      "outputs": []
    },
    {
      "cell_type": "code",
      "source": [
        "var_nominal= ['workclass','marital.status', 'occupation', 'relationship', 'race', 'sex', 'native.country', 'income'  ] # Nominal categorical variables"
      ],
      "metadata": {
        "id": "W5fDety_pEQX"
      },
      "execution_count": 296,
      "outputs": []
    },
    {
      "cell_type": "code",
      "source": [
        "# We make the encoder for the categorical variables of the data train.\n",
        "\n",
        "class MultiColumnLabelEncoder:\n",
        "    def __init__(self,columns = None):\n",
        "        self.columns = columns # array of column names to encode\n",
        "\n",
        "    def fit(self,X,y=None):\n",
        "        return self # not relevant here\n",
        "\n",
        "    def transform(self,X):\n",
        "        '''\n",
        "        Transforms columns of X specified in self.columns using\n",
        "        LabelEncoder(). If no columns specified, transforms all\n",
        "        columns in X.\n",
        "        '''\n",
        "        output = X.copy()\n",
        "        if self.columns is not None:\n",
        "            for col in self.columns:\n",
        "                output[col] = LabelEncoder().fit_transform(output[col])\n",
        "        else:\n",
        "            for colname,col in output.iteritems():\n",
        "                output[colname] = LabelEncoder().fit_transform(col)\n",
        "        return output\n",
        "\n",
        "    def fit_transform(self,X,y=None):\n",
        "        return self.fit(X,y).transform(X)"
      ],
      "metadata": {
        "id": "ZchQUgDd1DPr"
      },
      "execution_count": 297,
      "outputs": []
    },
    {
      "cell_type": "code",
      "source": [
        "MultiColumnLabelEncoder(columns = var_nominal).fit(df_train)  ## fit labelenconder"
      ],
      "metadata": {
        "colab": {
          "base_uri": "https://localhost:8080/"
        },
        "id": "Zv1ngrdl1NL9",
        "outputId": "631c317d-b478-4415-cf95-ba8bcc26cf0a"
      },
      "execution_count": 298,
      "outputs": [
        {
          "output_type": "execute_result",
          "data": {
            "text/plain": [
              "<__main__.MultiColumnLabelEncoder at 0x7fa15b13fc90>"
            ]
          },
          "metadata": {},
          "execution_count": 298
        }
      ]
    },
    {
      "cell_type": "code",
      "source": [
        "df_train = MultiColumnLabelEncoder(columns = var_nominal).transform(df_train)  ## transform labelenconder data train"
      ],
      "metadata": {
        "id": "xS5W3sqQ1eNg"
      },
      "execution_count": 299,
      "outputs": []
    },
    {
      "cell_type": "code",
      "source": [
        "df_train= df_train.drop(\"education\", axis=1)  # education is removed because it is related to education.num, we choose only one of these classes for our model\n",
        "df_train.head()"
      ],
      "metadata": {
        "colab": {
          "base_uri": "https://localhost:8080/",
          "height": 270
        },
        "id": "P7KZqEPP3eeV",
        "outputId": "f735bdc0-67d8-4e3e-c731-03ad738da531"
      },
      "execution_count": 300,
      "outputs": [
        {
          "output_type": "execute_result",
          "data": {
            "text/plain": [
              "   index  age  workclass  education.num  marital.status  occupation  \\\n",
              "0  24466   30          1              9               0          10   \n",
              "1    985   37          2             13               2           3   \n",
              "2  30250   41          2              9               2           2   \n",
              "3   7107   45          2             13               2           9   \n",
              "4  27656   28          2              9               4           3   \n",
              "\n",
              "   relationship  race  sex  capital.gain  capital.loss  hours.per.week  \\\n",
              "0             3     4    0             0             0              32   \n",
              "1             5     4    0             0          1848              40   \n",
              "2             0     4    1             0             0              60   \n",
              "3             0     4    1             0             0              60   \n",
              "4             1     4    0             0             0              40   \n",
              "\n",
              "   native.country  income     ID  \n",
              "0              37       0  24451  \n",
              "1              37       1    985  \n",
              "2              37       1  30229  \n",
              "3              37       1   7107  \n",
              "4              37       0  27639  "
            ],
            "text/html": [
              "\n",
              "  <div id=\"df-c65c37a6-9acb-4906-913a-b2e00c9a0d1b\">\n",
              "    <div class=\"colab-df-container\">\n",
              "      <div>\n",
              "<style scoped>\n",
              "    .dataframe tbody tr th:only-of-type {\n",
              "        vertical-align: middle;\n",
              "    }\n",
              "\n",
              "    .dataframe tbody tr th {\n",
              "        vertical-align: top;\n",
              "    }\n",
              "\n",
              "    .dataframe thead th {\n",
              "        text-align: right;\n",
              "    }\n",
              "</style>\n",
              "<table border=\"1\" class=\"dataframe\">\n",
              "  <thead>\n",
              "    <tr style=\"text-align: right;\">\n",
              "      <th></th>\n",
              "      <th>index</th>\n",
              "      <th>age</th>\n",
              "      <th>workclass</th>\n",
              "      <th>education.num</th>\n",
              "      <th>marital.status</th>\n",
              "      <th>occupation</th>\n",
              "      <th>relationship</th>\n",
              "      <th>race</th>\n",
              "      <th>sex</th>\n",
              "      <th>capital.gain</th>\n",
              "      <th>capital.loss</th>\n",
              "      <th>hours.per.week</th>\n",
              "      <th>native.country</th>\n",
              "      <th>income</th>\n",
              "      <th>ID</th>\n",
              "    </tr>\n",
              "  </thead>\n",
              "  <tbody>\n",
              "    <tr>\n",
              "      <th>0</th>\n",
              "      <td>24466</td>\n",
              "      <td>30</td>\n",
              "      <td>1</td>\n",
              "      <td>9</td>\n",
              "      <td>0</td>\n",
              "      <td>10</td>\n",
              "      <td>3</td>\n",
              "      <td>4</td>\n",
              "      <td>0</td>\n",
              "      <td>0</td>\n",
              "      <td>0</td>\n",
              "      <td>32</td>\n",
              "      <td>37</td>\n",
              "      <td>0</td>\n",
              "      <td>24451</td>\n",
              "    </tr>\n",
              "    <tr>\n",
              "      <th>1</th>\n",
              "      <td>985</td>\n",
              "      <td>37</td>\n",
              "      <td>2</td>\n",
              "      <td>13</td>\n",
              "      <td>2</td>\n",
              "      <td>3</td>\n",
              "      <td>5</td>\n",
              "      <td>4</td>\n",
              "      <td>0</td>\n",
              "      <td>0</td>\n",
              "      <td>1848</td>\n",
              "      <td>40</td>\n",
              "      <td>37</td>\n",
              "      <td>1</td>\n",
              "      <td>985</td>\n",
              "    </tr>\n",
              "    <tr>\n",
              "      <th>2</th>\n",
              "      <td>30250</td>\n",
              "      <td>41</td>\n",
              "      <td>2</td>\n",
              "      <td>9</td>\n",
              "      <td>2</td>\n",
              "      <td>2</td>\n",
              "      <td>0</td>\n",
              "      <td>4</td>\n",
              "      <td>1</td>\n",
              "      <td>0</td>\n",
              "      <td>0</td>\n",
              "      <td>60</td>\n",
              "      <td>37</td>\n",
              "      <td>1</td>\n",
              "      <td>30229</td>\n",
              "    </tr>\n",
              "    <tr>\n",
              "      <th>3</th>\n",
              "      <td>7107</td>\n",
              "      <td>45</td>\n",
              "      <td>2</td>\n",
              "      <td>13</td>\n",
              "      <td>2</td>\n",
              "      <td>9</td>\n",
              "      <td>0</td>\n",
              "      <td>4</td>\n",
              "      <td>1</td>\n",
              "      <td>0</td>\n",
              "      <td>0</td>\n",
              "      <td>60</td>\n",
              "      <td>37</td>\n",
              "      <td>1</td>\n",
              "      <td>7107</td>\n",
              "    </tr>\n",
              "    <tr>\n",
              "      <th>4</th>\n",
              "      <td>27656</td>\n",
              "      <td>28</td>\n",
              "      <td>2</td>\n",
              "      <td>9</td>\n",
              "      <td>4</td>\n",
              "      <td>3</td>\n",
              "      <td>1</td>\n",
              "      <td>4</td>\n",
              "      <td>0</td>\n",
              "      <td>0</td>\n",
              "      <td>0</td>\n",
              "      <td>40</td>\n",
              "      <td>37</td>\n",
              "      <td>0</td>\n",
              "      <td>27639</td>\n",
              "    </tr>\n",
              "  </tbody>\n",
              "</table>\n",
              "</div>\n",
              "      <button class=\"colab-df-convert\" onclick=\"convertToInteractive('df-c65c37a6-9acb-4906-913a-b2e00c9a0d1b')\"\n",
              "              title=\"Convert this dataframe to an interactive table.\"\n",
              "              style=\"display:none;\">\n",
              "        \n",
              "  <svg xmlns=\"http://www.w3.org/2000/svg\" height=\"24px\"viewBox=\"0 0 24 24\"\n",
              "       width=\"24px\">\n",
              "    <path d=\"M0 0h24v24H0V0z\" fill=\"none\"/>\n",
              "    <path d=\"M18.56 5.44l.94 2.06.94-2.06 2.06-.94-2.06-.94-.94-2.06-.94 2.06-2.06.94zm-11 1L8.5 8.5l.94-2.06 2.06-.94-2.06-.94L8.5 2.5l-.94 2.06-2.06.94zm10 10l.94 2.06.94-2.06 2.06-.94-2.06-.94-.94-2.06-.94 2.06-2.06.94z\"/><path d=\"M17.41 7.96l-1.37-1.37c-.4-.4-.92-.59-1.43-.59-.52 0-1.04.2-1.43.59L10.3 9.45l-7.72 7.72c-.78.78-.78 2.05 0 2.83L4 21.41c.39.39.9.59 1.41.59.51 0 1.02-.2 1.41-.59l7.78-7.78 2.81-2.81c.8-.78.8-2.07 0-2.86zM5.41 20L4 18.59l7.72-7.72 1.47 1.35L5.41 20z\"/>\n",
              "  </svg>\n",
              "      </button>\n",
              "      \n",
              "  <style>\n",
              "    .colab-df-container {\n",
              "      display:flex;\n",
              "      flex-wrap:wrap;\n",
              "      gap: 12px;\n",
              "    }\n",
              "\n",
              "    .colab-df-convert {\n",
              "      background-color: #E8F0FE;\n",
              "      border: none;\n",
              "      border-radius: 50%;\n",
              "      cursor: pointer;\n",
              "      display: none;\n",
              "      fill: #1967D2;\n",
              "      height: 32px;\n",
              "      padding: 0 0 0 0;\n",
              "      width: 32px;\n",
              "    }\n",
              "\n",
              "    .colab-df-convert:hover {\n",
              "      background-color: #E2EBFA;\n",
              "      box-shadow: 0px 1px 2px rgba(60, 64, 67, 0.3), 0px 1px 3px 1px rgba(60, 64, 67, 0.15);\n",
              "      fill: #174EA6;\n",
              "    }\n",
              "\n",
              "    [theme=dark] .colab-df-convert {\n",
              "      background-color: #3B4455;\n",
              "      fill: #D2E3FC;\n",
              "    }\n",
              "\n",
              "    [theme=dark] .colab-df-convert:hover {\n",
              "      background-color: #434B5C;\n",
              "      box-shadow: 0px 1px 3px 1px rgba(0, 0, 0, 0.15);\n",
              "      filter: drop-shadow(0px 1px 2px rgba(0, 0, 0, 0.3));\n",
              "      fill: #FFFFFF;\n",
              "    }\n",
              "  </style>\n",
              "\n",
              "      <script>\n",
              "        const buttonEl =\n",
              "          document.querySelector('#df-c65c37a6-9acb-4906-913a-b2e00c9a0d1b button.colab-df-convert');\n",
              "        buttonEl.style.display =\n",
              "          google.colab.kernel.accessAllowed ? 'block' : 'none';\n",
              "\n",
              "        async function convertToInteractive(key) {\n",
              "          const element = document.querySelector('#df-c65c37a6-9acb-4906-913a-b2e00c9a0d1b');\n",
              "          const dataTable =\n",
              "            await google.colab.kernel.invokeFunction('convertToInteractive',\n",
              "                                                     [key], {});\n",
              "          if (!dataTable) return;\n",
              "\n",
              "          const docLinkHtml = 'Like what you see? Visit the ' +\n",
              "            '<a target=\"_blank\" href=https://colab.research.google.com/notebooks/data_table.ipynb>data table notebook</a>'\n",
              "            + ' to learn more about interactive tables.';\n",
              "          element.innerHTML = '';\n",
              "          dataTable['output_type'] = 'display_data';\n",
              "          await google.colab.output.renderOutput(dataTable, element);\n",
              "          const docLink = document.createElement('div');\n",
              "          docLink.innerHTML = docLinkHtml;\n",
              "          element.appendChild(docLink);\n",
              "        }\n",
              "      </script>\n",
              "    </div>\n",
              "  </div>\n",
              "  "
            ]
          },
          "metadata": {},
          "execution_count": 300
        }
      ]
    },
    {
      "cell_type": "code",
      "source": [
        "# We make the encoder for the categorical variables of the data test.\n",
        "columns_rest_test= ['marital.status', 'occupation', 'relationship', 'race', 'sex', 'native.country']\n",
        "df_test = MultiColumnLabelEncoder(columns = columns_rest_test).transform(df_test)  ## transform labelenconder data test\n",
        "df_test= df_test.drop(\"education\", axis=1)  # education is removed because it is related to education.num, we choose only one of these classes for our model\n",
        "df_test.head()"
      ],
      "metadata": {
        "id": "FHUo6cFvcOpO",
        "colab": {
          "base_uri": "https://localhost:8080/",
          "height": 250
        },
        "outputId": "709e2114-8e42-4807-9dbd-cb9556711e68"
      },
      "execution_count": 301,
      "outputs": [
        {
          "output_type": "execute_result",
          "data": {
            "text/plain": [
              "   index  age  workclass  education.num  marital.status  occupation  \\\n",
              "0   3643   53          2             10               2           6   \n",
              "2   9403   42          2             10               2           6   \n",
              "3  17909   49          3             16               2           9   \n",
              "4   5198   58          1             13               2           9   \n",
              "5  28783   42          2             11               4           0   \n",
              "\n",
              "   relationship  race  sex  capital.gain  capital.loss  hours.per.week  \\\n",
              "0             0     4    1          3137             0              40   \n",
              "2             5     4    0             0             0              37   \n",
              "3             0     2    1             0             0              60   \n",
              "4             5     4    0             0             0              40   \n",
              "5             1     4    0             0             0              40   \n",
              "\n",
              "   native.country     ID  \n",
              "0              37   3643  \n",
              "2              37   9401  \n",
              "3              37  17903  \n",
              "4              37   5198  \n",
              "5              37  28766  "
            ],
            "text/html": [
              "\n",
              "  <div id=\"df-d42654a6-db30-4e80-97c7-8a9e207c62e3\">\n",
              "    <div class=\"colab-df-container\">\n",
              "      <div>\n",
              "<style scoped>\n",
              "    .dataframe tbody tr th:only-of-type {\n",
              "        vertical-align: middle;\n",
              "    }\n",
              "\n",
              "    .dataframe tbody tr th {\n",
              "        vertical-align: top;\n",
              "    }\n",
              "\n",
              "    .dataframe thead th {\n",
              "        text-align: right;\n",
              "    }\n",
              "</style>\n",
              "<table border=\"1\" class=\"dataframe\">\n",
              "  <thead>\n",
              "    <tr style=\"text-align: right;\">\n",
              "      <th></th>\n",
              "      <th>index</th>\n",
              "      <th>age</th>\n",
              "      <th>workclass</th>\n",
              "      <th>education.num</th>\n",
              "      <th>marital.status</th>\n",
              "      <th>occupation</th>\n",
              "      <th>relationship</th>\n",
              "      <th>race</th>\n",
              "      <th>sex</th>\n",
              "      <th>capital.gain</th>\n",
              "      <th>capital.loss</th>\n",
              "      <th>hours.per.week</th>\n",
              "      <th>native.country</th>\n",
              "      <th>ID</th>\n",
              "    </tr>\n",
              "  </thead>\n",
              "  <tbody>\n",
              "    <tr>\n",
              "      <th>0</th>\n",
              "      <td>3643</td>\n",
              "      <td>53</td>\n",
              "      <td>2</td>\n",
              "      <td>10</td>\n",
              "      <td>2</td>\n",
              "      <td>6</td>\n",
              "      <td>0</td>\n",
              "      <td>4</td>\n",
              "      <td>1</td>\n",
              "      <td>3137</td>\n",
              "      <td>0</td>\n",
              "      <td>40</td>\n",
              "      <td>37</td>\n",
              "      <td>3643</td>\n",
              "    </tr>\n",
              "    <tr>\n",
              "      <th>2</th>\n",
              "      <td>9403</td>\n",
              "      <td>42</td>\n",
              "      <td>2</td>\n",
              "      <td>10</td>\n",
              "      <td>2</td>\n",
              "      <td>6</td>\n",
              "      <td>5</td>\n",
              "      <td>4</td>\n",
              "      <td>0</td>\n",
              "      <td>0</td>\n",
              "      <td>0</td>\n",
              "      <td>37</td>\n",
              "      <td>37</td>\n",
              "      <td>9401</td>\n",
              "    </tr>\n",
              "    <tr>\n",
              "      <th>3</th>\n",
              "      <td>17909</td>\n",
              "      <td>49</td>\n",
              "      <td>3</td>\n",
              "      <td>16</td>\n",
              "      <td>2</td>\n",
              "      <td>9</td>\n",
              "      <td>0</td>\n",
              "      <td>2</td>\n",
              "      <td>1</td>\n",
              "      <td>0</td>\n",
              "      <td>0</td>\n",
              "      <td>60</td>\n",
              "      <td>37</td>\n",
              "      <td>17903</td>\n",
              "    </tr>\n",
              "    <tr>\n",
              "      <th>4</th>\n",
              "      <td>5198</td>\n",
              "      <td>58</td>\n",
              "      <td>1</td>\n",
              "      <td>13</td>\n",
              "      <td>2</td>\n",
              "      <td>9</td>\n",
              "      <td>5</td>\n",
              "      <td>4</td>\n",
              "      <td>0</td>\n",
              "      <td>0</td>\n",
              "      <td>0</td>\n",
              "      <td>40</td>\n",
              "      <td>37</td>\n",
              "      <td>5198</td>\n",
              "    </tr>\n",
              "    <tr>\n",
              "      <th>5</th>\n",
              "      <td>28783</td>\n",
              "      <td>42</td>\n",
              "      <td>2</td>\n",
              "      <td>11</td>\n",
              "      <td>4</td>\n",
              "      <td>0</td>\n",
              "      <td>1</td>\n",
              "      <td>4</td>\n",
              "      <td>0</td>\n",
              "      <td>0</td>\n",
              "      <td>0</td>\n",
              "      <td>40</td>\n",
              "      <td>37</td>\n",
              "      <td>28766</td>\n",
              "    </tr>\n",
              "  </tbody>\n",
              "</table>\n",
              "</div>\n",
              "      <button class=\"colab-df-convert\" onclick=\"convertToInteractive('df-d42654a6-db30-4e80-97c7-8a9e207c62e3')\"\n",
              "              title=\"Convert this dataframe to an interactive table.\"\n",
              "              style=\"display:none;\">\n",
              "        \n",
              "  <svg xmlns=\"http://www.w3.org/2000/svg\" height=\"24px\"viewBox=\"0 0 24 24\"\n",
              "       width=\"24px\">\n",
              "    <path d=\"M0 0h24v24H0V0z\" fill=\"none\"/>\n",
              "    <path d=\"M18.56 5.44l.94 2.06.94-2.06 2.06-.94-2.06-.94-.94-2.06-.94 2.06-2.06.94zm-11 1L8.5 8.5l.94-2.06 2.06-.94-2.06-.94L8.5 2.5l-.94 2.06-2.06.94zm10 10l.94 2.06.94-2.06 2.06-.94-2.06-.94-.94-2.06-.94 2.06-2.06.94z\"/><path d=\"M17.41 7.96l-1.37-1.37c-.4-.4-.92-.59-1.43-.59-.52 0-1.04.2-1.43.59L10.3 9.45l-7.72 7.72c-.78.78-.78 2.05 0 2.83L4 21.41c.39.39.9.59 1.41.59.51 0 1.02-.2 1.41-.59l7.78-7.78 2.81-2.81c.8-.78.8-2.07 0-2.86zM5.41 20L4 18.59l7.72-7.72 1.47 1.35L5.41 20z\"/>\n",
              "  </svg>\n",
              "      </button>\n",
              "      \n",
              "  <style>\n",
              "    .colab-df-container {\n",
              "      display:flex;\n",
              "      flex-wrap:wrap;\n",
              "      gap: 12px;\n",
              "    }\n",
              "\n",
              "    .colab-df-convert {\n",
              "      background-color: #E8F0FE;\n",
              "      border: none;\n",
              "      border-radius: 50%;\n",
              "      cursor: pointer;\n",
              "      display: none;\n",
              "      fill: #1967D2;\n",
              "      height: 32px;\n",
              "      padding: 0 0 0 0;\n",
              "      width: 32px;\n",
              "    }\n",
              "\n",
              "    .colab-df-convert:hover {\n",
              "      background-color: #E2EBFA;\n",
              "      box-shadow: 0px 1px 2px rgba(60, 64, 67, 0.3), 0px 1px 3px 1px rgba(60, 64, 67, 0.15);\n",
              "      fill: #174EA6;\n",
              "    }\n",
              "\n",
              "    [theme=dark] .colab-df-convert {\n",
              "      background-color: #3B4455;\n",
              "      fill: #D2E3FC;\n",
              "    }\n",
              "\n",
              "    [theme=dark] .colab-df-convert:hover {\n",
              "      background-color: #434B5C;\n",
              "      box-shadow: 0px 1px 3px 1px rgba(0, 0, 0, 0.15);\n",
              "      filter: drop-shadow(0px 1px 2px rgba(0, 0, 0, 0.3));\n",
              "      fill: #FFFFFF;\n",
              "    }\n",
              "  </style>\n",
              "\n",
              "      <script>\n",
              "        const buttonEl =\n",
              "          document.querySelector('#df-d42654a6-db30-4e80-97c7-8a9e207c62e3 button.colab-df-convert');\n",
              "        buttonEl.style.display =\n",
              "          google.colab.kernel.accessAllowed ? 'block' : 'none';\n",
              "\n",
              "        async function convertToInteractive(key) {\n",
              "          const element = document.querySelector('#df-d42654a6-db30-4e80-97c7-8a9e207c62e3');\n",
              "          const dataTable =\n",
              "            await google.colab.kernel.invokeFunction('convertToInteractive',\n",
              "                                                     [key], {});\n",
              "          if (!dataTable) return;\n",
              "\n",
              "          const docLinkHtml = 'Like what you see? Visit the ' +\n",
              "            '<a target=\"_blank\" href=https://colab.research.google.com/notebooks/data_table.ipynb>data table notebook</a>'\n",
              "            + ' to learn more about interactive tables.';\n",
              "          element.innerHTML = '';\n",
              "          dataTable['output_type'] = 'display_data';\n",
              "          await google.colab.output.renderOutput(dataTable, element);\n",
              "          const docLink = document.createElement('div');\n",
              "          docLink.innerHTML = docLinkHtml;\n",
              "          element.appendChild(docLink);\n",
              "        }\n",
              "      </script>\n",
              "    </div>\n",
              "  </div>\n",
              "  "
            ]
          },
          "metadata": {},
          "execution_count": 301
        }
      ]
    },
    {
      "cell_type": "code",
      "source": [
        "## Make sure we only have numeric variables\n",
        "df_train.info()"
      ],
      "metadata": {
        "id": "QkD3uW6U_BRe",
        "colab": {
          "base_uri": "https://localhost:8080/"
        },
        "outputId": "dd232132-d1f5-44a7-e21c-caa050d5f278"
      },
      "execution_count": 302,
      "outputs": [
        {
          "output_type": "stream",
          "name": "stdout",
          "text": [
            "<class 'pandas.core.frame.DataFrame'>\n",
            "Int64Index: 25628 entries, 0 to 27655\n",
            "Data columns (total 15 columns):\n",
            " #   Column          Non-Null Count  Dtype\n",
            "---  ------          --------------  -----\n",
            " 0   index           25628 non-null  int64\n",
            " 1   age             25628 non-null  int64\n",
            " 2   workclass       25628 non-null  int64\n",
            " 3   education.num   25628 non-null  int64\n",
            " 4   marital.status  25628 non-null  int64\n",
            " 5   occupation      25628 non-null  int64\n",
            " 6   relationship    25628 non-null  int64\n",
            " 7   race            25628 non-null  int64\n",
            " 8   sex             25628 non-null  int64\n",
            " 9   capital.gain    25628 non-null  int64\n",
            " 10  capital.loss    25628 non-null  int64\n",
            " 11  hours.per.week  25628 non-null  int64\n",
            " 12  native.country  25628 non-null  int64\n",
            " 13  income          25628 non-null  int64\n",
            " 14  ID              25628 non-null  int64\n",
            "dtypes: int64(15)\n",
            "memory usage: 3.1 MB\n"
          ]
        }
      ]
    },
    {
      "cell_type": "code",
      "source": [
        "## Make sure we only have numeric variables\n",
        "df_test.info()"
      ],
      "metadata": {
        "id": "comQ_LcK_eUH",
        "colab": {
          "base_uri": "https://localhost:8080/"
        },
        "outputId": "6091e080-b1d5-4af9-f12b-5e1b607c908d"
      },
      "execution_count": 303,
      "outputs": [
        {
          "output_type": "stream",
          "name": "stdout",
          "text": [
            "<class 'pandas.core.frame.DataFrame'>\n",
            "Int64Index: 4510 entries, 0 to 4880\n",
            "Data columns (total 14 columns):\n",
            " #   Column          Non-Null Count  Dtype\n",
            "---  ------          --------------  -----\n",
            " 0   index           4510 non-null   int64\n",
            " 1   age             4510 non-null   int64\n",
            " 2   workclass       4510 non-null   int64\n",
            " 3   education.num   4510 non-null   int64\n",
            " 4   marital.status  4510 non-null   int64\n",
            " 5   occupation      4510 non-null   int64\n",
            " 6   relationship    4510 non-null   int64\n",
            " 7   race            4510 non-null   int64\n",
            " 8   sex             4510 non-null   int64\n",
            " 9   capital.gain    4510 non-null   int64\n",
            " 10  capital.loss    4510 non-null   int64\n",
            " 11  hours.per.week  4510 non-null   int64\n",
            " 12  native.country  4510 non-null   int64\n",
            " 13  ID              4510 non-null   int64\n",
            "dtypes: int64(14)\n",
            "memory usage: 528.5 KB\n"
          ]
        }
      ]
    },
    {
      "cell_type": "code",
      "source": [
        "## We analyze the proportions of the target \"income\"\n",
        "\n",
        "fig= plt.figure()\n",
        "fig.set_size_inches(5, 5)\n",
        "ax1 = plt.axes()\n",
        "sns.countplot(x=\"income\", data=df_train)"
      ],
      "metadata": {
        "id": "Q54sA-4sfI_D",
        "colab": {
          "base_uri": "https://localhost:8080/",
          "height": 353
        },
        "outputId": "2f4245a4-979c-43ea-e843-b29978377a21"
      },
      "execution_count": 304,
      "outputs": [
        {
          "output_type": "execute_result",
          "data": {
            "text/plain": [
              "<matplotlib.axes._subplots.AxesSubplot at 0x7fa15c9e9b10>"
            ]
          },
          "metadata": {},
          "execution_count": 304
        },
        {
          "output_type": "display_data",
          "data": {
            "text/plain": [
              "<Figure size 360x360 with 1 Axes>"
            ],
            "image/png": "[encoded data removed]"
          },
          "metadata": {
            "needs_background": "light"
          }
        }
      ]
    },
    {
      "cell_type": "code",
      "source": [
        "df_train.income.value_counts(normalize=True)"
      ],
      "metadata": {
        "id": "-hzpX7ojftdE",
        "colab": {
          "base_uri": "https://localhost:8080/"
        },
        "outputId": "19edbd20-1918-4e56-f816-e00abc9c425f"
      },
      "execution_count": 305,
      "outputs": [
        {
          "output_type": "execute_result",
          "data": {
            "text/plain": [
              "0    0.749493\n",
              "1    0.250507\n",
              "Name: income, dtype: float64"
            ]
          },
          "metadata": {},
          "execution_count": 305
        }
      ]
    },
    {
      "cell_type": "markdown",
      "source": [
        "\n",
        "Our target variable was encoded as follows:\n",
        "\n",
        "* 0 if the person earns less than 50 thousand dollars.\n",
        "* 1 if the person earns more than 50 thousand dollars.\n"
      ],
      "metadata": {
        "id": "0r2u4d-A0ABw"
      }
    },
    {
      "cell_type": "markdown",
      "metadata": {
        "id": "3g61xqh20rcC"
      },
      "source": [
        "## Model"
      ]
    },
    {
      "cell_type": "code",
      "execution_count": 306,
      "metadata": {
        "id": "nIhFJ3EHXJwA"
      },
      "outputs": [],
      "source": [
        "# We drop the categorical attributes and the ID and index variables of the training dataset\n",
        "df_train2= df_train.copy()\n",
        "df_train2 = df_train2.drop(['ID', 'index'], axis= 1)"
      ]
    },
    {
      "cell_type": "code",
      "execution_count": 307,
      "metadata": {
        "colab": {
          "base_uri": "https://localhost:8080/"
        },
        "id": "fpvCldthYoDP",
        "outputId": "f39629e1-f97b-45c0-92be-f89dc0cc109d"
      },
      "outputs": [
        {
          "output_type": "stream",
          "name": "stdout",
          "text": [
            "<class 'pandas.core.frame.DataFrame'>\n",
            "Int64Index: 25628 entries, 0 to 27655\n",
            "Data columns (total 13 columns):\n",
            " #   Column          Non-Null Count  Dtype\n",
            "---  ------          --------------  -----\n",
            " 0   age             25628 non-null  int64\n",
            " 1   workclass       25628 non-null  int64\n",
            " 2   education.num   25628 non-null  int64\n",
            " 3   marital.status  25628 non-null  int64\n",
            " 4   occupation      25628 non-null  int64\n",
            " 5   relationship    25628 non-null  int64\n",
            " 6   race            25628 non-null  int64\n",
            " 7   sex             25628 non-null  int64\n",
            " 8   capital.gain    25628 non-null  int64\n",
            " 9   capital.loss    25628 non-null  int64\n",
            " 10  hours.per.week  25628 non-null  int64\n",
            " 11  native.country  25628 non-null  int64\n",
            " 12  income          25628 non-null  int64\n",
            "dtypes: int64(13)\n",
            "memory usage: 3.7 MB\n"
          ]
        }
      ],
      "source": [
        "df_train2.info()"
      ]
    },
    {
      "cell_type": "code",
      "execution_count": 308,
      "metadata": {
        "id": "oLg03hKhY7ne"
      },
      "outputs": [],
      "source": [
        "# We drop the categorical attributes and the ID and index variables of the testing dataset\n",
        "df_test2 = df_test.drop(['ID', 'index'], axis= 1)"
      ]
    },
    {
      "cell_type": "code",
      "execution_count": 309,
      "metadata": {
        "colab": {
          "base_uri": "https://localhost:8080/"
        },
        "id": "o5UO5Fa1ZOMW",
        "outputId": "0dcb3de0-c694-4e39-e5c6-a9497e9f269f"
      },
      "outputs": [
        {
          "output_type": "stream",
          "name": "stdout",
          "text": [
            "<class 'pandas.core.frame.DataFrame'>\n",
            "Int64Index: 4510 entries, 0 to 4880\n",
            "Data columns (total 12 columns):\n",
            " #   Column          Non-Null Count  Dtype\n",
            "---  ------          --------------  -----\n",
            " 0   age             4510 non-null   int64\n",
            " 1   workclass       4510 non-null   int64\n",
            " 2   education.num   4510 non-null   int64\n",
            " 3   marital.status  4510 non-null   int64\n",
            " 4   occupation      4510 non-null   int64\n",
            " 5   relationship    4510 non-null   int64\n",
            " 6   race            4510 non-null   int64\n",
            " 7   sex             4510 non-null   int64\n",
            " 8   capital.gain    4510 non-null   int64\n",
            " 9   capital.loss    4510 non-null   int64\n",
            " 10  hours.per.week  4510 non-null   int64\n",
            " 11  native.country  4510 non-null   int64\n",
            "dtypes: int64(12)\n",
            "memory usage: 458.0 KB\n"
          ]
        }
      ],
      "source": [
        "df_test2.info()"
      ]
    },
    {
      "cell_type": "markdown",
      "metadata": {
        "id": "9BP1Cqlr39I_"
      },
      "source": [
        "### Visual analysis: pairplot\n",
        "\n",
        "The distributions and scatterplots that are displayed in the following pairplot were made based on a categorical variable, for example sex, only with the aim of improving exploration and visualization. We could have chosen any other qualitative variable."
      ]
    },
    {
      "cell_type": "code",
      "execution_count": 310,
      "metadata": {
        "id": "EWyu8N5o9SAw"
      },
      "outputs": [],
      "source": [
        "df_train_graficos=df_train_graficos.drop(['ID','index'], axis=1)"
      ]
    },
    {
      "cell_type": "code",
      "execution_count": 311,
      "metadata": {
        "colab": {
          "base_uri": "https://localhost:8080/",
          "height": 921
        },
        "id": "VD3NJdLl3GlT",
        "outputId": "3ea0a465-914c-42c3-fe8b-23593fc178f0"
      },
      "outputs": [
        {
          "output_type": "execute_result",
          "data": {
            "text/plain": [
              "<seaborn.axisgrid.PairGrid at 0x7fa15a8e9350>"
            ]
          },
          "metadata": {},
          "execution_count": 311
        },
        {
          "output_type": "display_data",
          "data": {
            "text/plain": [
              "<Figure size 972.125x900 with 20 Axes>"
            ],
            "image/png": "[encoded data removed]"
          },
          "metadata": {
            "needs_background": "light"
          }
        }
      ],
      "source": [
        "sns.pairplot(df_train_graficos, hue='sex',corner=True)"
      ]
    },
    {
      "cell_type": "markdown",
      "metadata": {
        "id": "vEqL_82cA1gd"
      },
      "source": [
        "With these graphs, in advance, that the numerical variables do not show signs of a linear correlation between them. For this reason we can guess that all the numerical variables must be present to train our model. The heatmap with Pearson's sample correlation coefficients will help us decide.\n",
        "\n",
        "On the other hand, the sex variable is not capable of separating any of the numerical variables into subgroups, so it will be necessary to add more categorical variables to our model."
      ]
    },
    {
      "cell_type": "markdown",
      "metadata": {
        "id": "b7B4gkJH_1iT"
      },
      "source": [
        "###Correlation Heatmap"
      ]
    },
    {
      "cell_type": "markdown",
      "metadata": {
        "id": "nY5ul1euIHT3"
      },
      "source": [
        "#### General"
      ]
    },
    {
      "cell_type": "markdown",
      "metadata": {
        "id": "oP3QRE5bE6iJ"
      },
      "source": [
        "We generate a correlation matrix between the attributes of our training set to decide which variables to start training our model with.\n"
      ]
    },
    {
      "cell_type": "code",
      "execution_count": 312,
      "metadata": {
        "id": "LnRd4qYRELkz",
        "colab": {
          "base_uri": "https://localhost:8080/",
          "height": 726
        },
        "outputId": "cd087570-5f41-4bc5-db29-864d73110d1b"
      },
      "outputs": [
        {
          "output_type": "execute_result",
          "data": {
            "text/plain": [
              "<matplotlib.axes._subplots.AxesSubplot at 0x7fa15ab3b110>"
            ]
          },
          "metadata": {},
          "execution_count": 312
        },
        {
          "output_type": "display_data",
          "data": {
            "text/plain": [
              "<Figure size 864x864 with 2 Axes>"
            ],
            "image/png": "[encoded data removed]"
          },
          "metadata": {
            "needs_background": "light"
          }
        }
      ],
      "source": [
        "# Create a mask for the top triangle of the matrix\n",
        "mask = np.triu(np.ones_like(df_train2.corr(), dtype=bool))\n",
        "\n",
        "# We generate a canvas or figure where to plot\n",
        "f, ax = plt.subplots(figsize=(12, 12))\n",
        "\n",
        "# divergent colormap\n",
        "cmap = sns.diverging_palette(240, 10, as_cmap=True)\n",
        "\n",
        "# Plot the heatmap with the correct mask and image ratio (square)\n",
        "sns.heatmap(df_train2.corr(), mask=mask, cmap=cmap, center=0,\n",
        "            square=True, linewidths=.5, annot=True)"
      ]
    },
    {
      "cell_type": "markdown",
      "metadata": {
        "id": "XWNF-1adJTJE"
      },
      "source": [
        "The Pearson correlation coefficients for the numerical variables are very small in absolute value, this indicates that all of them must be in the model as we anticipated with the pairplot graph.\n",
        "\n",
        "The correlation heatmap also helps us to decide on the categorical variables transformed to numbers, although it is not recommended when one hot encoding is applied. As in our case the method used for such transformation did not increase the number of columns in the training dataset, the correlation analysis in this type of variables is not difficult. As happened with numerical features, the values ​​of the coefficients are small, so we cannot exclude any categorical variable for the prediction of our target."
      ]
    },
    {
      "cell_type": "markdown",
      "metadata": {
        "id": "swabMj3NIRy1"
      },
      "source": [
        "#### Target correlations"
      ]
    },
    {
      "cell_type": "markdown",
      "metadata": {
        "id": "eFZ_O5FkF39I"
      },
      "source": [
        "To simplify the analysis, now we plot only the correlation of the attributes with our target."
      ]
    },
    {
      "cell_type": "code",
      "execution_count": 313,
      "metadata": {
        "id": "-wWBTzpTGAXL",
        "colab": {
          "base_uri": "https://localhost:8080/",
          "height": 595
        },
        "outputId": "ca166eff-6ede-4c3f-8b3f-b6985eb187fa"
      },
      "outputs": [
        {
          "output_type": "display_data",
          "data": {
            "text/plain": [
              "<Figure size 720x720 with 2 Axes>"
            ],
            "image/png": "[encoded data removed]"
          },
          "metadata": {
            "needs_background": "light"
          }
        }
      ],
      "source": [
        "target_corr = pd.DataFrame(df_train2.corr()['income'], index=df_train2.corr().index)\n",
        "\n",
        "plt.figure(figsize=(10,10))\n",
        "sns.heatmap(target_corr, annot=True, cmap=cmap)\n",
        "\n",
        "plt.show()"
      ]
    },
    {
      "cell_type": "markdown",
      "metadata": {
        "id": "BoUOpf5lQZ9Y"
      },
      "source": [
        "ese significantly small values ​​confirm that no variable should be excluded from the model."
      ]
    },
    {
      "cell_type": "markdown",
      "source": [
        "\n",
        "### Decision tree"
      ],
      "metadata": {
        "id": "mscpmm-rb6fn"
      }
    },
    {
      "cell_type": "markdown",
      "source": [
        "#### Base Line Model"
      ],
      "metadata": {
        "id": "Uoa3NdQ_8lTR"
      }
    },
    {
      "cell_type": "code",
      "source": [
        "from sklearn.tree import DecisionTreeClassifier\n",
        "from sklearn.metrics import accuracy_score\n"
      ],
      "metadata": {
        "id": "LCpGOTl3ckci"
      },
      "execution_count": 314,
      "outputs": []
    },
    {
      "cell_type": "code",
      "source": [
        "# We import the necessary library to subdivide the training dataset.\n",
        "from sklearn.model_selection import train_test_split"
      ],
      "metadata": {
        "id": "AU_Rh7f5b_-9"
      },
      "execution_count": 315,
      "outputs": []
    },
    {
      "cell_type": "code",
      "execution_count": 316,
      "metadata": {
        "colab": {
          "base_uri": "https://localhost:8080/"
        },
        "id": "cjAAcJ46cBFl",
        "outputId": "3d6a8a67-69f8-480b-dbfb-ae432bb0eed9"
      },
      "outputs": [
        {
          "output_type": "stream",
          "name": "stdout",
          "text": [
            " nuestro modelo base tiene un accuracy para la data train de : 0.8282118817676324\n",
            " nuestro modelo base tiene un accuracy para la data test de : 0.8211080764728833\n"
          ]
        }
      ],
      "source": [
        "# We subdivide the training dataset (the only one that contains information about our target), and we will only use the numeric variables\n",
        "Xbl = df_num\n",
        "ybl = df_train2[\"income\"]\n",
        "\n",
        "X_train, X_test, y_train, y_test = train_test_split(Xbl, ybl, test_size=0.2, random_state= 0, stratify=ybl) \n",
        "\n",
        "tree= DecisionTreeClassifier(max_depth=5)\n",
        "\n",
        "tree.fit(X_train,y_train)\n",
        "\n",
        "train_preds = tree.predict(X_train)\n",
        "test_preds = tree.predict(X_test)\n",
        "\n",
        "acc_train = accuracy_score(y_train, train_preds)\n",
        "acc_test = accuracy_score(y_test, test_preds)\n",
        "\n",
        "print(f\" nuestro modelo base tiene un accuracy para la data train de : {acc_train}\")\n",
        "\n",
        "print(f\" nuestro modelo base tiene un accuracy para la data test de : {acc_test}\")\n"
      ]
    },
    {
      "cell_type": "markdown",
      "metadata": {
        "id": "3H9bQFNw_C7V"
      },
      "source": [
        "#### First evaluation of the max_depth hyperparameter"
      ]
    },
    {
      "cell_type": "code",
      "execution_count": 317,
      "metadata": {
        "id": "ge1zs44E_THI"
      },
      "outputs": [],
      "source": [
        "# Subdividimos el dataset de entrenamiento (el único que contiene información de nuestro target)\n",
        "X = df_train2.drop(['income'], axis= 1)\n",
        "y = df_train2[\"income\"]"
      ]
    },
    {
      "cell_type": "markdown",
      "metadata": {
        "id": "FaB3Pxqo_RSt"
      },
      "source": [
        "As we saw in the bar chart and in the summary of statistics for the income variable, the number of values ​​for each of the two categories are not balanced in similar proportions. For this reason, it is necessary to use the \"stratify\" attribute, which preserves the proportion of how the data is distributed in the target column and represents that same distribution proportion in train_test_split.\n"
      ]
    },
    {
      "cell_type": "code",
      "execution_count": 318,
      "metadata": {
        "id": "ZyHrT_yw_aPz"
      },
      "outputs": [],
      "source": [
        "X_train, X_test, y_train, y_test = train_test_split(X, y, test_size=0.2, random_state= 42, stratify=y) "
      ]
    },
    {
      "cell_type": "code",
      "execution_count": 319,
      "metadata": {
        "id": "E4JtNcCz_a6H"
      },
      "outputs": [],
      "source": [
        "# We train our DecisionTree by evaluating different depths of the tree to determine the optimal point between under and overfittingmax_depths = np.arange(1, 20)\n",
        "max_depths = np.arange(1, 20)\n",
        "train_acc_scores = []\n",
        "test_acc_scores = []\n",
        "\n",
        "for i in max_depths:\n",
        "  tree = DecisionTreeClassifier(max_depth=i)\n",
        "\n",
        "  tree.fit(X_train, y_train)\n",
        "  train_preds = tree.predict(X_train)\n",
        "  test_preds = tree.predict(X_test)\n",
        "\n",
        "  train_acc_scores.append(accuracy_score(y_train, train_preds))\n",
        "  test_acc_scores.append(accuracy_score(y_test, test_preds))"
      ]
    },
    {
      "cell_type": "code",
      "execution_count": 320,
      "metadata": {
        "colab": {
          "base_uri": "https://localhost:8080/",
          "height": 392
        },
        "id": "T_hnOZzK_dib",
        "outputId": "3c0f2e85-4f33-4c31-f8d6-5d30af77bf30"
      },
      "outputs": [
        {
          "output_type": "execute_result",
          "data": {
            "text/plain": [
              "<matplotlib.legend.Legend at 0x7fa15a40b3d0>"
            ]
          },
          "metadata": {},
          "execution_count": 320
        },
        {
          "output_type": "display_data",
          "data": {
            "text/plain": [
              "<Figure size 432x432 with 1 Axes>"
            ],
            "image/png": "[encoded data removed]"
          },
          "metadata": {
            "needs_background": "light"
          }
        }
      ],
      "source": [
        "# Plot the accuracy values ​​for our training and test dataset.\n",
        "plt.figure(figsize=(6,6))\n",
        "\n",
        "plt.plot(max_depths, train_acc_scores, label=\"train\")\n",
        "plt.plot(max_depths, test_acc_scores,  label=\"test\")\n",
        "plt.xticks(max_depths)\n",
        "plt.legend()"
      ]
    },
    {
      "cell_type": "markdown",
      "metadata": {
        "id": "pdlRXJTk_i-j"
      },
      "source": [
        "We see how the accuracy increases as the max depth increases, but from depth 7, both lines separate (it begins to overfit) so we will advance with a max_depth= ​​7."
      ]
    },
    {
      "cell_type": "code",
      "execution_count": 321,
      "metadata": {
        "id": "S8fhWmaR_ld7"
      },
      "outputs": [],
      "source": [
        "# We train the tree with max_depth= ​​7 (including cross validation).\n",
        "## f1 score is more useful for unbalanced classes like this data set\n",
        "from sklearn.metrics import f1_score \n",
        "\n",
        "\n",
        "tree_final = DecisionTreeClassifier(max_depth= 7)\n",
        "tree.fit(X_train, y_train)\n",
        "train_preds = tree.predict(X_train)\n",
        "test_preds = tree.predict(X_test)"
      ]
    },
    {
      "cell_type": "code",
      "execution_count": 322,
      "metadata": {
        "colab": {
          "base_uri": "https://localhost:8080/"
        },
        "id": "9ONwaOZ0_nSk",
        "outputId": "ed9976ab-2ab0-4bbb-9171-6306d6365533"
      },
      "outputs": [
        {
          "output_type": "stream",
          "name": "stdout",
          "text": [
            "The accuracy achieved from a decision tree model was: 0.8287163480296528\n",
            "The f-score achieved from a decision tree model was: 0.6436688311688312\n"
          ]
        }
      ],
      "source": [
        "# We evaluate the prediction metrics on our target\n",
        "acc = accuracy_score(y_test, test_preds)\n",
        "f_score = f1_score(y_test, test_preds)\n",
        "\n",
        "print(f'The accuracy achieved from a decision tree model was: {acc}')\n",
        "print(f'The f-score achieved from a decision tree model was: {f_score}')"
      ]
    },
    {
      "cell_type": "markdown",
      "source": [
        "##### Confusion matrix"
      ],
      "metadata": {
        "id": "dU3DR10-9AvE"
      }
    },
    {
      "cell_type": "code",
      "source": [
        "from sklearn.metrics import plot_confusion_matrix \n",
        "plot_confusion_matrix(tree, X_test, y_test)"
      ],
      "metadata": {
        "id": "X6t0GFuj-JSN",
        "colab": {
          "base_uri": "https://localhost:8080/",
          "height": 354
        },
        "outputId": "d3a2ec3b-8558-42aa-ba08-16f8edd71957"
      },
      "execution_count": 323,
      "outputs": [
        {
          "output_type": "stream",
          "name": "stderr",
          "text": [
            "/usr/local/lib/python3.7/dist-packages/sklearn/utils/deprecation.py:87: FutureWarning: Function plot_confusion_matrix is deprecated; Function `plot_confusion_matrix` is deprecated in 1.0 and will be removed in 1.2. Use one of the class methods: ConfusionMatrixDisplay.from_predictions or ConfusionMatrixDisplay.from_estimator.\n",
            "  warnings.warn(msg, category=FutureWarning)\n"
          ]
        },
        {
          "output_type": "execute_result",
          "data": {
            "text/plain": [
              "<sklearn.metrics._plot.confusion_matrix.ConfusionMatrixDisplay at 0x7fa15a484510>"
            ]
          },
          "metadata": {},
          "execution_count": 323
        },
        {
          "output_type": "display_data",
          "data": {
            "text/plain": [
              "<Figure size 432x288 with 2 Axes>"
            ],
            "image/png": "[encoded data removed]"
          },
          "metadata": {
            "needs_background": "light"
          }
        }
      ]
    },
    {
      "cell_type": "markdown",
      "source": [
        "##### Classification Report"
      ],
      "metadata": {
        "id": "X8nRSQnH9NTC"
      }
    },
    {
      "cell_type": "code",
      "execution_count": 324,
      "metadata": {
        "colab": {
          "base_uri": "https://localhost:8080/"
        },
        "id": "GoEkk5vbPb96",
        "outputId": "f818b58d-99bb-4240-a9bc-d1e037021122"
      },
      "outputs": [
        {
          "output_type": "stream",
          "name": "stdout",
          "text": [
            "              precision    recall  f1-score   support\n",
            "\n",
            "           0       0.88      0.90      0.89      3842\n",
            "           1       0.67      0.62      0.64      1284\n",
            "\n",
            "    accuracy                           0.83      5126\n",
            "   macro avg       0.77      0.76      0.77      5126\n",
            "weighted avg       0.82      0.83      0.83      5126\n",
            "\n"
          ]
        }
      ],
      "source": [
        "from sklearn.metrics import classification_report\n",
        "print(classification_report(y_test, tree.predict(X_test)))"
      ]
    },
    {
      "cell_type": "markdown",
      "metadata": {
        "id": "QWn4h1SLQFfx"
      },
      "source": [
        "##### Cross Validation"
      ]
    },
    {
      "cell_type": "code",
      "execution_count": 325,
      "metadata": {
        "id": "RmBJmoNBuyRk"
      },
      "outputs": [],
      "source": [
        "from sklearn.model_selection import cross_val_score"
      ]
    },
    {
      "cell_type": "code",
      "execution_count": 326,
      "metadata": {
        "id": "E6ZkXue4u9VU"
      },
      "outputs": [],
      "source": [
        "tree_scores = cross_val_score(tree, X, y, cv=5) "
      ]
    },
    {
      "cell_type": "code",
      "execution_count": 327,
      "metadata": {
        "colab": {
          "base_uri": "https://localhost:8080/"
        },
        "id": "13X_Ti3yvHQ_",
        "outputId": "e56b9e77-e0d9-4b7b-d73f-50abcb589418"
      },
      "outputs": [
        {
          "output_type": "execute_result",
          "data": {
            "text/plain": [
              "array([0.83281311, 0.82188841, 0.83788529, 0.81892683, 0.82712195])"
            ]
          },
          "metadata": {},
          "execution_count": 327
        }
      ],
      "source": [
        "tree_scores"
      ]
    },
    {
      "cell_type": "code",
      "execution_count": 328,
      "metadata": {
        "colab": {
          "base_uri": "https://localhost:8080/"
        },
        "id": "ggPmdyc6vLCf",
        "outputId": "690d19f1-e186-4cc3-f479-2c46d82be26e"
      },
      "outputs": [
        {
          "output_type": "stream",
          "name": "stdout",
          "text": [
            " The mean score of our model remains at 0.8277271185634213\n"
          ]
        }
      ],
      "source": [
        "tree_mean=tree_scores.mean()\n",
        "\n",
        "print(f\" The mean score of our model remains at {tree_mean}\")"
      ]
    },
    {
      "cell_type": "markdown",
      "source": [
        "##### GridSearch \n",
        "\n"
      ],
      "metadata": {
        "id": "Yw9Ceg46rZiX"
      }
    },
    {
      "cell_type": "markdown",
      "source": [
        "We do an exhaustive hyperparameter search using Grid Search."
      ],
      "metadata": {
        "id": "SwlloVGAsFMz"
      }
    },
    {
      "cell_type": "code",
      "source": [
        "from sklearn.model_selection import GridSearchCV\n"
      ],
      "metadata": {
        "id": "K6h7KSGArijz"
      },
      "execution_count": 329,
      "outputs": []
    },
    {
      "cell_type": "markdown",
      "source": [
        "\n",
        "We define our **parameters** as follows:\n",
        "- max_depth: range(1,15)\n",
        "- min_samples_split: range(1,10)\n",
        "- min_samples_leaf: range(1,10)"
      ],
      "metadata": {
        "id": "3TvUUtw4sQK8"
      }
    },
    {
      "cell_type": "code",
      "source": [
        "parameters = {\n",
        "    'max_depth': range(1, 15, 1),\n",
        "    'min_samples_split': range(1, 15, 1),\n",
        "    'min_samples_leaf': range(1, 15, 1)\n",
        "}"
      ],
      "metadata": {
        "id": "Cz1sV8m5sHxb"
      },
      "execution_count": 330,
      "outputs": []
    },
    {
      "cell_type": "markdown",
      "source": [
        "We train the model with **different hyperparameters**, performing **cross validation**."
      ],
      "metadata": {
        "id": "TqK36BjqH4np"
      }
    },
    {
      "cell_type": "code",
      "source": [
        "gs = GridSearchCV(tree, parameters, scoring=\"accuracy\", cv=5)\n",
        "gs.fit(X_train, y_train)\n",
        "\n"
      ],
      "metadata": {
        "id": "O4Psob-ZvZWX"
      },
      "execution_count": null,
      "outputs": []
    },
    {
      "cell_type": "markdown",
      "source": [
        "\n",
        "The following table ranks the best hyperparameters obtained according to GridSearchCV."
      ],
      "metadata": {
        "id": "jNQdFFqnPKBz"
      }
    },
    {
      "cell_type": "code",
      "source": [
        "gs.cv_results_\n",
        "grid_table = pd.DataFrame(gs.cv_results_)\n",
        "grid_table.sort_values(by='rank_test_score').head()"
      ],
      "metadata": {
        "colab": {
          "base_uri": "https://localhost:8080/",
          "height": 444
        },
        "id": "LI_iLZNvCcVj",
        "outputId": "77a626b2-0581-4005-89d5-c8915df3f2ea"
      },
      "execution_count": 332,
      "outputs": [
        {
          "output_type": "execute_result",
          "data": {
            "text/plain": [
              "      mean_fit_time  std_fit_time  mean_score_time  std_score_time  \\\n",
              "2153       0.033126      0.000732         0.002522        0.000069   \n",
              "2150       0.032836      0.000518         0.002495        0.000129   \n",
              "2149       0.033862      0.002505         0.002634        0.000181   \n",
              "2148       0.033822      0.000937         0.002633        0.000102   \n",
              "2146       0.033353      0.000632         0.002580        0.000103   \n",
              "\n",
              "     param_max_depth param_min_samples_leaf param_min_samples_split  \\\n",
              "2153              11                     14                      12   \n",
              "2150              11                     14                       9   \n",
              "2149              11                     14                       8   \n",
              "2148              11                     14                       7   \n",
              "2146              11                     14                       5   \n",
              "\n",
              "                                                 params  split0_test_score  \\\n",
              "2153  {'max_depth': 11, 'min_samples_leaf': 14, 'min...           0.852475   \n",
              "2150  {'max_depth': 11, 'min_samples_leaf': 14, 'min...           0.852475   \n",
              "2149  {'max_depth': 11, 'min_samples_leaf': 14, 'min...           0.852475   \n",
              "2148  {'max_depth': 11, 'min_samples_leaf': 14, 'min...           0.852475   \n",
              "2146  {'max_depth': 11, 'min_samples_leaf': 14, 'min...           0.852475   \n",
              "\n",
              "      split1_test_score  split2_test_score  split3_test_score  \\\n",
              "2153           0.858083           0.850976           0.848293   \n",
              "2150           0.858083           0.850976           0.848293   \n",
              "2149           0.858083           0.850976           0.848293   \n",
              "2148           0.858083           0.850976           0.848293   \n",
              "2146           0.858083           0.850976           0.848293   \n",
              "\n",
              "      split4_test_score  mean_test_score  std_test_score  rank_test_score  \n",
              "2153           0.856341         0.853234        0.003557                1  \n",
              "2150           0.856341         0.853234        0.003557                1  \n",
              "2149           0.856341         0.853234        0.003557                1  \n",
              "2148           0.856341         0.853234        0.003557                1  \n",
              "2146           0.856341         0.853234        0.003557                1  "
            ],
            "text/html": [
              "\n",
              "  <div id=\"df-492bbfe7-4154-43ef-b20d-1662ba71ea0d\">\n",
              "    <div class=\"colab-df-container\">\n",
              "      <div>\n",
              "<style scoped>\n",
              "    .dataframe tbody tr th:only-of-type {\n",
              "        vertical-align: middle;\n",
              "    }\n",
              "\n",
              "    .dataframe tbody tr th {\n",
              "        vertical-align: top;\n",
              "    }\n",
              "\n",
              "    .dataframe thead th {\n",
              "        text-align: right;\n",
              "    }\n",
              "</style>\n",
              "<table border=\"1\" class=\"dataframe\">\n",
              "  <thead>\n",
              "    <tr style=\"text-align: right;\">\n",
              "      <th></th>\n",
              "      <th>mean_fit_time</th>\n",
              "      <th>std_fit_time</th>\n",
              "      <th>mean_score_time</th>\n",
              "      <th>std_score_time</th>\n",
              "      <th>param_max_depth</th>\n",
              "      <th>param_min_samples_leaf</th>\n",
              "      <th>param_min_samples_split</th>\n",
              "      <th>params</th>\n",
              "      <th>split0_test_score</th>\n",
              "      <th>split1_test_score</th>\n",
              "      <th>split2_test_score</th>\n",
              "      <th>split3_test_score</th>\n",
              "      <th>split4_test_score</th>\n",
              "      <th>mean_test_score</th>\n",
              "      <th>std_test_score</th>\n",
              "      <th>rank_test_score</th>\n",
              "    </tr>\n",
              "  </thead>\n",
              "  <tbody>\n",
              "    <tr>\n",
              "      <th>2153</th>\n",
              "      <td>0.033126</td>\n",
              "      <td>0.000732</td>\n",
              "      <td>0.002522</td>\n",
              "      <td>0.000069</td>\n",
              "      <td>11</td>\n",
              "      <td>14</td>\n",
              "      <td>12</td>\n",
              "      <td>{'max_depth': 11, 'min_samples_leaf': 14, 'min...</td>\n",
              "      <td>0.852475</td>\n",
              "      <td>0.858083</td>\n",
              "      <td>0.850976</td>\n",
              "      <td>0.848293</td>\n",
              "      <td>0.856341</td>\n",
              "      <td>0.853234</td>\n",
              "      <td>0.003557</td>\n",
              "      <td>1</td>\n",
              "    </tr>\n",
              "    <tr>\n",
              "      <th>2150</th>\n",
              "      <td>0.032836</td>\n",
              "      <td>0.000518</td>\n",
              "      <td>0.002495</td>\n",
              "      <td>0.000129</td>\n",
              "      <td>11</td>\n",
              "      <td>14</td>\n",
              "      <td>9</td>\n",
              "      <td>{'max_depth': 11, 'min_samples_leaf': 14, 'min...</td>\n",
              "      <td>0.852475</td>\n",
              "      <td>0.858083</td>\n",
              "      <td>0.850976</td>\n",
              "      <td>0.848293</td>\n",
              "      <td>0.856341</td>\n",
              "      <td>0.853234</td>\n",
              "      <td>0.003557</td>\n",
              "      <td>1</td>\n",
              "    </tr>\n",
              "    <tr>\n",
              "      <th>2149</th>\n",
              "      <td>0.033862</td>\n",
              "      <td>0.002505</td>\n",
              "      <td>0.002634</td>\n",
              "      <td>0.000181</td>\n",
              "      <td>11</td>\n",
              "      <td>14</td>\n",
              "      <td>8</td>\n",
              "      <td>{'max_depth': 11, 'min_samples_leaf': 14, 'min...</td>\n",
              "      <td>0.852475</td>\n",
              "      <td>0.858083</td>\n",
              "      <td>0.850976</td>\n",
              "      <td>0.848293</td>\n",
              "      <td>0.856341</td>\n",
              "      <td>0.853234</td>\n",
              "      <td>0.003557</td>\n",
              "      <td>1</td>\n",
              "    </tr>\n",
              "    <tr>\n",
              "      <th>2148</th>\n",
              "      <td>0.033822</td>\n",
              "      <td>0.000937</td>\n",
              "      <td>0.002633</td>\n",
              "      <td>0.000102</td>\n",
              "      <td>11</td>\n",
              "      <td>14</td>\n",
              "      <td>7</td>\n",
              "      <td>{'max_depth': 11, 'min_samples_leaf': 14, 'min...</td>\n",
              "      <td>0.852475</td>\n",
              "      <td>0.858083</td>\n",
              "      <td>0.850976</td>\n",
              "      <td>0.848293</td>\n",
              "      <td>0.856341</td>\n",
              "      <td>0.853234</td>\n",
              "      <td>0.003557</td>\n",
              "      <td>1</td>\n",
              "    </tr>\n",
              "    <tr>\n",
              "      <th>2146</th>\n",
              "      <td>0.033353</td>\n",
              "      <td>0.000632</td>\n",
              "      <td>0.002580</td>\n",
              "      <td>0.000103</td>\n",
              "      <td>11</td>\n",
              "      <td>14</td>\n",
              "      <td>5</td>\n",
              "      <td>{'max_depth': 11, 'min_samples_leaf': 14, 'min...</td>\n",
              "      <td>0.852475</td>\n",
              "      <td>0.858083</td>\n",
              "      <td>0.850976</td>\n",
              "      <td>0.848293</td>\n",
              "      <td>0.856341</td>\n",
              "      <td>0.853234</td>\n",
              "      <td>0.003557</td>\n",
              "      <td>1</td>\n",
              "    </tr>\n",
              "  </tbody>\n",
              "</table>\n",
              "</div>\n",
              "      <button class=\"colab-df-convert\" onclick=\"convertToInteractive('df-492bbfe7-4154-43ef-b20d-1662ba71ea0d')\"\n",
              "              title=\"Convert this dataframe to an interactive table.\"\n",
              "              style=\"display:none;\">\n",
              "        \n",
              "  <svg xmlns=\"http://www.w3.org/2000/svg\" height=\"24px\"viewBox=\"0 0 24 24\"\n",
              "       width=\"24px\">\n",
              "    <path d=\"M0 0h24v24H0V0z\" fill=\"none\"/>\n",
              "    <path d=\"M18.56 5.44l.94 2.06.94-2.06 2.06-.94-2.06-.94-.94-2.06-.94 2.06-2.06.94zm-11 1L8.5 8.5l.94-2.06 2.06-.94-2.06-.94L8.5 2.5l-.94 2.06-2.06.94zm10 10l.94 2.06.94-2.06 2.06-.94-2.06-.94-.94-2.06-.94 2.06-2.06.94z\"/><path d=\"M17.41 7.96l-1.37-1.37c-.4-.4-.92-.59-1.43-.59-.52 0-1.04.2-1.43.59L10.3 9.45l-7.72 7.72c-.78.78-.78 2.05 0 2.83L4 21.41c.39.39.9.59 1.41.59.51 0 1.02-.2 1.41-.59l7.78-7.78 2.81-2.81c.8-.78.8-2.07 0-2.86zM5.41 20L4 18.59l7.72-7.72 1.47 1.35L5.41 20z\"/>\n",
              "  </svg>\n",
              "      </button>\n",
              "      \n",
              "  <style>\n",
              "    .colab-df-container {\n",
              "      display:flex;\n",
              "      flex-wrap:wrap;\n",
              "      gap: 12px;\n",
              "    }\n",
              "\n",
              "    .colab-df-convert {\n",
              "      background-color: #E8F0FE;\n",
              "      border: none;\n",
              "      border-radius: 50%;\n",
              "      cursor: pointer;\n",
              "      display: none;\n",
              "      fill: #1967D2;\n",
              "      height: 32px;\n",
              "      padding: 0 0 0 0;\n",
              "      width: 32px;\n",
              "    }\n",
              "\n",
              "    .colab-df-convert:hover {\n",
              "      background-color: #E2EBFA;\n",
              "      box-shadow: 0px 1px 2px rgba(60, 64, 67, 0.3), 0px 1px 3px 1px rgba(60, 64, 67, 0.15);\n",
              "      fill: #174EA6;\n",
              "    }\n",
              "\n",
              "    [theme=dark] .colab-df-convert {\n",
              "      background-color: #3B4455;\n",
              "      fill: #D2E3FC;\n",
              "    }\n",
              "\n",
              "    [theme=dark] .colab-df-convert:hover {\n",
              "      background-color: #434B5C;\n",
              "      box-shadow: 0px 1px 3px 1px rgba(0, 0, 0, 0.15);\n",
              "      filter: drop-shadow(0px 1px 2px rgba(0, 0, 0, 0.3));\n",
              "      fill: #FFFFFF;\n",
              "    }\n",
              "  </style>\n",
              "\n",
              "      <script>\n",
              "        const buttonEl =\n",
              "          document.querySelector('#df-492bbfe7-4154-43ef-b20d-1662ba71ea0d button.colab-df-convert');\n",
              "        buttonEl.style.display =\n",
              "          google.colab.kernel.accessAllowed ? 'block' : 'none';\n",
              "\n",
              "        async function convertToInteractive(key) {\n",
              "          const element = document.querySelector('#df-492bbfe7-4154-43ef-b20d-1662ba71ea0d');\n",
              "          const dataTable =\n",
              "            await google.colab.kernel.invokeFunction('convertToInteractive',\n",
              "                                                     [key], {});\n",
              "          if (!dataTable) return;\n",
              "\n",
              "          const docLinkHtml = 'Like what you see? Visit the ' +\n",
              "            '<a target=\"_blank\" href=https://colab.research.google.com/notebooks/data_table.ipynb>data table notebook</a>'\n",
              "            + ' to learn more about interactive tables.';\n",
              "          element.innerHTML = '';\n",
              "          dataTable['output_type'] = 'display_data';\n",
              "          await google.colab.output.renderOutput(dataTable, element);\n",
              "          const docLink = document.createElement('div');\n",
              "          docLink.innerHTML = docLinkHtml;\n",
              "          element.appendChild(docLink);\n",
              "        }\n",
              "      </script>\n",
              "    </div>\n",
              "  </div>\n",
              "  "
            ]
          },
          "metadata": {},
          "execution_count": 332
        }
      ]
    },
    {
      "cell_type": "code",
      "source": [
        "print(f\"The best hyperparameters are:{gs.best_params_}\")"
      ],
      "metadata": {
        "colab": {
          "base_uri": "https://localhost:8080/"
        },
        "id": "sNAl12FTzXfX",
        "outputId": "0b46930c-6de8-4815-eee1-09a679711ef1"
      },
      "execution_count": 333,
      "outputs": [
        {
          "output_type": "stream",
          "name": "stdout",
          "text": [
            "The best hyperparameters are:{'max_depth': 11, 'min_samples_leaf': 14, 'min_samples_split': 2}\n"
          ]
        }
      ]
    },
    {
      "cell_type": "code",
      "source": [
        "train_preds = gs.predict(X_train)\n",
        "test_preds = gs.predict(X_test)"
      ],
      "metadata": {
        "id": "ivKXYhd84MT9"
      },
      "execution_count": 334,
      "outputs": []
    },
    {
      "cell_type": "markdown",
      "source": [
        "###### Classification Report\n",
        "\n",
        "Ranking report using the best parameters found with GridSearch"
      ],
      "metadata": {
        "id": "SrqCxTUflWgg"
      }
    },
    {
      "cell_type": "code",
      "source": [
        "print('Classification report for training data\\n')\n",
        "print(classification_report(y_train, train_preds))\n",
        "print('Classification report for test data\\n')\n",
        "print(classification_report(y_test, test_preds))"
      ],
      "metadata": {
        "colab": {
          "base_uri": "https://localhost:8080/"
        },
        "id": "4gi3P25D4UZK",
        "outputId": "dfc5abf7-4aaf-4fd4-bf88-d11788c229fe"
      },
      "execution_count": 335,
      "outputs": [
        {
          "output_type": "stream",
          "name": "stdout",
          "text": [
            "Classification report for training data\n",
            "\n",
            "              precision    recall  f1-score   support\n",
            "\n",
            "           0       0.89      0.94      0.91     15366\n",
            "           1       0.78      0.64      0.70      5136\n",
            "\n",
            "    accuracy                           0.87     20502\n",
            "   macro avg       0.83      0.79      0.81     20502\n",
            "weighted avg       0.86      0.87      0.86     20502\n",
            "\n",
            "Classification report for test data\n",
            "\n",
            "              precision    recall  f1-score   support\n",
            "\n",
            "           0       0.88      0.93      0.90      3842\n",
            "           1       0.74      0.61      0.67      1284\n",
            "\n",
            "    accuracy                           0.85      5126\n",
            "   macro avg       0.81      0.77      0.79      5126\n",
            "weighted avg       0.84      0.85      0.85      5126\n",
            "\n"
          ]
        }
      ]
    },
    {
      "cell_type": "markdown",
      "source": [
        "### Random Forest"
      ],
      "metadata": {
        "id": "Cr7t1OFZ4rkh"
      }
    },
    {
      "cell_type": "code",
      "source": [
        "from sklearn.ensemble import RandomForestClassifier\n",
        "\n",
        "clf = RandomForestClassifier(max_depth=10, n_estimators = 200, n_jobs = -1, random_state=0)\n",
        "clf.fit(X_train, y_train)\n",
        "\n",
        "y_train_pred = clf.predict(X_train)\n",
        "y_test_pred = clf.predict(X_test)\n",
        "\n"
      ],
      "metadata": {
        "id": "QaiBHwqs4xWq"
      },
      "execution_count": 336,
      "outputs": []
    },
    {
      "cell_type": "markdown",
      "source": [
        "#### Classification report"
      ],
      "metadata": {
        "id": "Qx3CjsgZvKcE"
      }
    },
    {
      "cell_type": "code",
      "source": [
        "print('Classification report for training data\\n')\n",
        "print(classification_report(y_train, y_train_pred))\n",
        "print('Classification report for test data\\n')\n",
        "print(classification_report(y_test, y_test_pred))"
      ],
      "metadata": {
        "colab": {
          "base_uri": "https://localhost:8080/"
        },
        "id": "ZzBRpry8vFd_",
        "outputId": "f60ff415-7082-416c-9697-561e6ddfc70c"
      },
      "execution_count": 337,
      "outputs": [
        {
          "output_type": "stream",
          "name": "stdout",
          "text": [
            "Classification report for training data\n",
            "\n",
            "              precision    recall  f1-score   support\n",
            "\n",
            "           0       0.87      0.96      0.92     15366\n",
            "           1       0.84      0.59      0.69      5136\n",
            "\n",
            "    accuracy                           0.87     20502\n",
            "   macro avg       0.86      0.77      0.80     20502\n",
            "weighted avg       0.86      0.87      0.86     20502\n",
            "\n",
            "Classification report for test data\n",
            "\n",
            "              precision    recall  f1-score   support\n",
            "\n",
            "           0       0.87      0.95      0.91      3842\n",
            "           1       0.80      0.57      0.67      1284\n",
            "\n",
            "    accuracy                           0.86      5126\n",
            "   macro avg       0.84      0.76      0.79      5126\n",
            "weighted avg       0.85      0.86      0.85      5126\n",
            "\n"
          ]
        }
      ]
    },
    {
      "cell_type": "markdown",
      "source": [
        "#### Features Importance"
      ],
      "metadata": {
        "id": "QaZ-QBjRvV52"
      }
    },
    {
      "cell_type": "code",
      "metadata": {
        "id": "p0Q2MklH-3K5"
      },
      "source": [
        "fi = pd.DataFrame(columns=[\"FEATURE\", \"IMPORTANCE\"])\n",
        "fi[\"FEATURE\"] = X_train.columns\n",
        "fi[\"IMPORTANCE\"] = clf.feature_importances_\n",
        "fi = fi.sort_values(\"IMPORTANCE\", ascending=False)"
      ],
      "execution_count": 338,
      "outputs": []
    },
    {
      "cell_type": "markdown",
      "source": [
        "The importance of the features is described in the following barplot:"
      ],
      "metadata": {
        "id": "0MT-DywlDcqX"
      }
    },
    {
      "cell_type": "code",
      "metadata": {
        "colab": {
          "base_uri": "https://localhost:8080/",
          "height": 877
        },
        "id": "eKGff94uvbG4",
        "outputId": "4e1a291a-e504-42c9-b8c2-078cd396ef49"
      },
      "source": [
        "plt.figure(figsize=(5, 15))\n",
        "sns.barplot(y=fi.FEATURE, x=fi.IMPORTANCE, palette=\"Blues_d\")\n",
        "plt.show()"
      ],
      "execution_count": 444,
      "outputs": [
        {
          "output_type": "display_data",
          "data": {
            "text/plain": [
              "<Figure size 360x1080 with 1 Axes>"
            ],
            "image/png": "[encoded data removed]"
          },
          "metadata": {
            "needs_background": "light"
          }
        }
      ]
    },
    {
      "cell_type": "markdown",
      "metadata": {
        "id": "yvM6nS1JBA3b"
      },
      "source": [
        "### K- Nearest Neighbors\n",
        "\n",
        "We are going to train a model of $K$ nearest neighbors to contrast with the metrics obtained in the previous models."
      ]
    },
    {
      "cell_type": "code",
      "execution_count": 340,
      "metadata": {
        "id": "9ye2l8DpBGt9"
      },
      "outputs": [],
      "source": [
        "# We subdivide the training dataset (the only one that contains information about our target)\n",
        "X2 = df_train2.drop(['income'], axis= 1)\n",
        "y2 = df_train2[\"income\"]"
      ]
    },
    {
      "cell_type": "code",
      "execution_count": 341,
      "metadata": {
        "id": "a-JjKD9UBI1o"
      },
      "outputs": [],
      "source": [
        "#We standardize the data to optimize the result of the proposed model.\n",
        "\n",
        "from sklearn.preprocessing import StandardScaler\n",
        "\n",
        "scaler = StandardScaler()\n",
        "X2 = scaler.fit_transform(X2)"
      ]
    },
    {
      "cell_type": "code",
      "execution_count": 342,
      "metadata": {
        "id": "5DrefwImBK9U"
      },
      "outputs": [],
      "source": [
        "X_train, X_test, y_train, y_test = train_test_split(X2, y2, test_size=0.2, random_state= 0, stratify=y2)"
      ]
    },
    {
      "cell_type": "code",
      "execution_count": 343,
      "metadata": {
        "id": "3ytzpIKDBNwt"
      },
      "outputs": [],
      "source": [
        "# We import the KNN library and generate the model\n",
        "\n",
        "from sklearn.neighbors import KNeighborsClassifier\n",
        "\n",
        "n_neighbors = np.arange(1, 20)\n",
        "train_acc_scores3 = []\n",
        "test_acc_scores3 = []\n",
        "\n",
        "for i in n_neighbors:\n",
        "  knn = KNeighborsClassifier(n_neighbors= i, weights='uniform')\n",
        "\n",
        "  knn.fit(X_train, y_train)\n",
        "  train_preds = knn.predict(X_train)\n",
        "  test_preds = knn.predict(X_test)\n",
        "\n",
        "  train_acc_scores3.append(accuracy_score(y_train, train_preds))\n",
        "  test_acc_scores3.append(accuracy_score(y_test, test_preds))"
      ]
    },
    {
      "cell_type": "markdown",
      "source": [
        "**First approximation to the choice of** $K$"
      ],
      "metadata": {
        "id": "yYDtHXabeSH3"
      }
    },
    {
      "cell_type": "code",
      "execution_count": 344,
      "metadata": {
        "id": "nb053-mDBS4P",
        "colab": {
          "base_uri": "https://localhost:8080/",
          "height": 392
        },
        "outputId": "406fca83-a0db-41d7-f613-e14e6b3c3ef4"
      },
      "outputs": [
        {
          "output_type": "execute_result",
          "data": {
            "text/plain": [
              "<matplotlib.legend.Legend at 0x7fa15af11ed0>"
            ]
          },
          "metadata": {},
          "execution_count": 344
        },
        {
          "output_type": "display_data",
          "data": {
            "text/plain": [
              "<Figure size 1440x432 with 1 Axes>"
            ],
            "image/png": "[encoded data removed]"
          },
          "metadata": {
            "needs_background": "light"
          }
        }
      ],
      "source": [
        "# Plot the accuracy values ​​for our training and test dataset.\n",
        "plt.figure(figsize=(20,6))\n",
        "\n",
        "plt.plot(n_neighbors, train_acc_scores3, label=\"train\")\n",
        "plt.plot(n_neighbors, test_acc_scores3,  label=\"test\")\n",
        "plt.xticks(n_neighbors)\n",
        "plt.legend()"
      ]
    },
    {
      "cell_type": "markdown",
      "source": [
        "In the graph we see that from k=16 or 17 both lines begin to approach each other and maintain a constant behavior. Let's see by means of a GridSearch if this first approximation to the choice of $K$ can be improved, also playing with other parameters such as 'distance' and 'weights'.\n"
      ],
      "metadata": {
        "id": "J-x5FMaap8o6"
      }
    },
    {
      "cell_type": "markdown",
      "source": [
        "#### GridSearch"
      ],
      "metadata": {
        "id": "g3bP7Wy6q7eg"
      }
    },
    {
      "cell_type": "code",
      "source": [
        "k_list = list(range(1,31))"
      ],
      "metadata": {
        "id": "i4uCfdTfXu6M"
      },
      "execution_count": 345,
      "outputs": []
    },
    {
      "cell_type": "code",
      "source": [
        "parameters= {\n",
        "    'n_neighbors': k_list ,\n",
        "    'weights': ['uniform', 'distance'],\n",
        "    'metric': ['euclidean', 'manhattan']\n",
        "    }\n",
        "\n"
      ],
      "metadata": {
        "id": "R6l5-lmYXylJ"
      },
      "execution_count": 346,
      "outputs": []
    },
    {
      "cell_type": "code",
      "source": [
        "grid = GridSearchCV(knn, parameters, cv=5, scoring='accuracy')"
      ],
      "metadata": {
        "id": "3UYDGHrSX5qD"
      },
      "execution_count": 347,
      "outputs": []
    },
    {
      "cell_type": "code",
      "source": [
        "grid.fit(X_train, y_train)\n"
      ],
      "metadata": {
        "colab": {
          "base_uri": "https://localhost:8080/"
        },
        "id": "2CbWhs_gX_Ow",
        "outputId": "7d9ff7eb-b8d8-41e2-e12a-3a07b07a9ea2"
      },
      "execution_count": 348,
      "outputs": [
        {
          "output_type": "execute_result",
          "data": {
            "text/plain": [
              "GridSearchCV(cv=5, estimator=KNeighborsClassifier(n_neighbors=19),\n",
              "             param_grid={'metric': ['euclidean', 'manhattan'],\n",
              "                         'n_neighbors': [1, 2, 3, 4, 5, 6, 7, 8, 9, 10, 11, 12,\n",
              "                                         13, 14, 15, 16, 17, 18, 19, 20, 21, 22,\n",
              "                                         23, 24, 25, 26, 27, 28, 29, 30],\n",
              "                         'weights': ['uniform', 'distance']},\n",
              "             scoring='accuracy')"
            ]
          },
          "metadata": {},
          "execution_count": 348
        }
      ]
    },
    {
      "cell_type": "markdown",
      "source": [
        "We show the top positions that give us an idea of ​​the best hyperparameters for the model."
      ],
      "metadata": {
        "id": "IPQUITYYrW_M"
      }
    },
    {
      "cell_type": "code",
      "source": [
        "grid.cv_results_\n",
        "grid_table_knn = pd.DataFrame(grid.cv_results_)\n",
        "grid_table_knn.sort_values(by='rank_test_score').head()"
      ],
      "metadata": {
        "colab": {
          "base_uri": "https://localhost:8080/",
          "height": 530
        },
        "id": "bAlIhGCxYYGT",
        "outputId": "69414f00-37dc-4771-d75b-074163388c88"
      },
      "execution_count": 349,
      "outputs": [
        {
          "output_type": "execute_result",
          "data": {
            "text/plain": [
              "     mean_fit_time  std_fit_time  mean_score_time  std_score_time  \\\n",
              "98        0.026143      0.000327         1.487783        0.050358   \n",
              "106       0.027001      0.000597         1.535083        0.019819   \n",
              "118       0.026683      0.000264         1.601053        0.011389   \n",
              "108       0.027113      0.000392         1.528738        0.015962   \n",
              "94        0.026505      0.000459         1.446503        0.014764   \n",
              "\n",
              "    param_metric param_n_neighbors param_weights  \\\n",
              "98     manhattan                20       uniform   \n",
              "106    manhattan                24       uniform   \n",
              "118    manhattan                30       uniform   \n",
              "108    manhattan                25       uniform   \n",
              "94     manhattan                18       uniform   \n",
              "\n",
              "                                                params  split0_test_score  \\\n",
              "98   {'metric': 'manhattan', 'n_neighbors': 20, 'we...           0.832480   \n",
              "106  {'metric': 'manhattan', 'n_neighbors': 24, 'we...           0.835162   \n",
              "118  {'metric': 'manhattan', 'n_neighbors': 30, 'we...           0.835650   \n",
              "108  {'metric': 'manhattan', 'n_neighbors': 25, 'we...           0.833943   \n",
              "94   {'metric': 'manhattan', 'n_neighbors': 18, 'we...           0.832480   \n",
              "\n",
              "     split1_test_score  split2_test_score  split3_test_score  \\\n",
              "98            0.833943           0.845854           0.837317   \n",
              "106           0.831992           0.845122           0.838780   \n",
              "118           0.831992           0.845122           0.838537   \n",
              "108           0.834918           0.846098           0.839268   \n",
              "94            0.832480           0.845366           0.838049   \n",
              "\n",
              "     split4_test_score  mean_test_score  std_test_score  rank_test_score  \n",
              "98            0.841220         0.838163        0.004885                1  \n",
              "106           0.839268         0.838065        0.004406                2  \n",
              "118           0.838780         0.838016        0.004318                3  \n",
              "108           0.835610         0.837967        0.004446                4  \n",
              "94            0.840000         0.837675        0.004872                5  "
            ],
            "text/html": [
              "\n",
              "  <div id=\"df-279f4a34-1fbe-49d6-9b07-da39e398011c\">\n",
              "    <div class=\"colab-df-container\">\n",
              "      <div>\n",
              "<style scoped>\n",
              "    .dataframe tbody tr th:only-of-type {\n",
              "        vertical-align: middle;\n",
              "    }\n",
              "\n",
              "    .dataframe tbody tr th {\n",
              "        vertical-align: top;\n",
              "    }\n",
              "\n",
              "    .dataframe thead th {\n",
              "        text-align: right;\n",
              "    }\n",
              "</style>\n",
              "<table border=\"1\" class=\"dataframe\">\n",
              "  <thead>\n",
              "    <tr style=\"text-align: right;\">\n",
              "      <th></th>\n",
              "      <th>mean_fit_time</th>\n",
              "      <th>std_fit_time</th>\n",
              "      <th>mean_score_time</th>\n",
              "      <th>std_score_time</th>\n",
              "      <th>param_metric</th>\n",
              "      <th>param_n_neighbors</th>\n",
              "      <th>param_weights</th>\n",
              "      <th>params</th>\n",
              "      <th>split0_test_score</th>\n",
              "      <th>split1_test_score</th>\n",
              "      <th>split2_test_score</th>\n",
              "      <th>split3_test_score</th>\n",
              "      <th>split4_test_score</th>\n",
              "      <th>mean_test_score</th>\n",
              "      <th>std_test_score</th>\n",
              "      <th>rank_test_score</th>\n",
              "    </tr>\n",
              "  </thead>\n",
              "  <tbody>\n",
              "    <tr>\n",
              "      <th>98</th>\n",
              "      <td>0.026143</td>\n",
              "      <td>0.000327</td>\n",
              "      <td>1.487783</td>\n",
              "      <td>0.050358</td>\n",
              "      <td>manhattan</td>\n",
              "      <td>20</td>\n",
              "      <td>uniform</td>\n",
              "      <td>{'metric': 'manhattan', 'n_neighbors': 20, 'we...</td>\n",
              "      <td>0.832480</td>\n",
              "      <td>0.833943</td>\n",
              "      <td>0.845854</td>\n",
              "      <td>0.837317</td>\n",
              "      <td>0.841220</td>\n",
              "      <td>0.838163</td>\n",
              "      <td>0.004885</td>\n",
              "      <td>1</td>\n",
              "    </tr>\n",
              "    <tr>\n",
              "      <th>106</th>\n",
              "      <td>0.027001</td>\n",
              "      <td>0.000597</td>\n",
              "      <td>1.535083</td>\n",
              "      <td>0.019819</td>\n",
              "      <td>manhattan</td>\n",
              "      <td>24</td>\n",
              "      <td>uniform</td>\n",
              "      <td>{'metric': 'manhattan', 'n_neighbors': 24, 'we...</td>\n",
              "      <td>0.835162</td>\n",
              "      <td>0.831992</td>\n",
              "      <td>0.845122</td>\n",
              "      <td>0.838780</td>\n",
              "      <td>0.839268</td>\n",
              "      <td>0.838065</td>\n",
              "      <td>0.004406</td>\n",
              "      <td>2</td>\n",
              "    </tr>\n",
              "    <tr>\n",
              "      <th>118</th>\n",
              "      <td>0.026683</td>\n",
              "      <td>0.000264</td>\n",
              "      <td>1.601053</td>\n",
              "      <td>0.011389</td>\n",
              "      <td>manhattan</td>\n",
              "      <td>30</td>\n",
              "      <td>uniform</td>\n",
              "      <td>{'metric': 'manhattan', 'n_neighbors': 30, 'we...</td>\n",
              "      <td>0.835650</td>\n",
              "      <td>0.831992</td>\n",
              "      <td>0.845122</td>\n",
              "      <td>0.838537</td>\n",
              "      <td>0.838780</td>\n",
              "      <td>0.838016</td>\n",
              "      <td>0.004318</td>\n",
              "      <td>3</td>\n",
              "    </tr>\n",
              "    <tr>\n",
              "      <th>108</th>\n",
              "      <td>0.027113</td>\n",
              "      <td>0.000392</td>\n",
              "      <td>1.528738</td>\n",
              "      <td>0.015962</td>\n",
              "      <td>manhattan</td>\n",
              "      <td>25</td>\n",
              "      <td>uniform</td>\n",
              "      <td>{'metric': 'manhattan', 'n_neighbors': 25, 'we...</td>\n",
              "      <td>0.833943</td>\n",
              "      <td>0.834918</td>\n",
              "      <td>0.846098</td>\n",
              "      <td>0.839268</td>\n",
              "      <td>0.835610</td>\n",
              "      <td>0.837967</td>\n",
              "      <td>0.004446</td>\n",
              "      <td>4</td>\n",
              "    </tr>\n",
              "    <tr>\n",
              "      <th>94</th>\n",
              "      <td>0.026505</td>\n",
              "      <td>0.000459</td>\n",
              "      <td>1.446503</td>\n",
              "      <td>0.014764</td>\n",
              "      <td>manhattan</td>\n",
              "      <td>18</td>\n",
              "      <td>uniform</td>\n",
              "      <td>{'metric': 'manhattan', 'n_neighbors': 18, 'we...</td>\n",
              "      <td>0.832480</td>\n",
              "      <td>0.832480</td>\n",
              "      <td>0.845366</td>\n",
              "      <td>0.838049</td>\n",
              "      <td>0.840000</td>\n",
              "      <td>0.837675</td>\n",
              "      <td>0.004872</td>\n",
              "      <td>5</td>\n",
              "    </tr>\n",
              "  </tbody>\n",
              "</table>\n",
              "</div>\n",
              "      <button class=\"colab-df-convert\" onclick=\"convertToInteractive('df-279f4a34-1fbe-49d6-9b07-da39e398011c')\"\n",
              "              title=\"Convert this dataframe to an interactive table.\"\n",
              "              style=\"display:none;\">\n",
              "        \n",
              "  <svg xmlns=\"http://www.w3.org/2000/svg\" height=\"24px\"viewBox=\"0 0 24 24\"\n",
              "       width=\"24px\">\n",
              "    <path d=\"M0 0h24v24H0V0z\" fill=\"none\"/>\n",
              "    <path d=\"M18.56 5.44l.94 2.06.94-2.06 2.06-.94-2.06-.94-.94-2.06-.94 2.06-2.06.94zm-11 1L8.5 8.5l.94-2.06 2.06-.94-2.06-.94L8.5 2.5l-.94 2.06-2.06.94zm10 10l.94 2.06.94-2.06 2.06-.94-2.06-.94-.94-2.06-.94 2.06-2.06.94z\"/><path d=\"M17.41 7.96l-1.37-1.37c-.4-.4-.92-.59-1.43-.59-.52 0-1.04.2-1.43.59L10.3 9.45l-7.72 7.72c-.78.78-.78 2.05 0 2.83L4 21.41c.39.39.9.59 1.41.59.51 0 1.02-.2 1.41-.59l7.78-7.78 2.81-2.81c.8-.78.8-2.07 0-2.86zM5.41 20L4 18.59l7.72-7.72 1.47 1.35L5.41 20z\"/>\n",
              "  </svg>\n",
              "      </button>\n",
              "      \n",
              "  <style>\n",
              "    .colab-df-container {\n",
              "      display:flex;\n",
              "      flex-wrap:wrap;\n",
              "      gap: 12px;\n",
              "    }\n",
              "\n",
              "    .colab-df-convert {\n",
              "      background-color: #E8F0FE;\n",
              "      border: none;\n",
              "      border-radius: 50%;\n",
              "      cursor: pointer;\n",
              "      display: none;\n",
              "      fill: #1967D2;\n",
              "      height: 32px;\n",
              "      padding: 0 0 0 0;\n",
              "      width: 32px;\n",
              "    }\n",
              "\n",
              "    .colab-df-convert:hover {\n",
              "      background-color: #E2EBFA;\n",
              "      box-shadow: 0px 1px 2px rgba(60, 64, 67, 0.3), 0px 1px 3px 1px rgba(60, 64, 67, 0.15);\n",
              "      fill: #174EA6;\n",
              "    }\n",
              "\n",
              "    [theme=dark] .colab-df-convert {\n",
              "      background-color: #3B4455;\n",
              "      fill: #D2E3FC;\n",
              "    }\n",
              "\n",
              "    [theme=dark] .colab-df-convert:hover {\n",
              "      background-color: #434B5C;\n",
              "      box-shadow: 0px 1px 3px 1px rgba(0, 0, 0, 0.15);\n",
              "      filter: drop-shadow(0px 1px 2px rgba(0, 0, 0, 0.3));\n",
              "      fill: #FFFFFF;\n",
              "    }\n",
              "  </style>\n",
              "\n",
              "      <script>\n",
              "        const buttonEl =\n",
              "          document.querySelector('#df-279f4a34-1fbe-49d6-9b07-da39e398011c button.colab-df-convert');\n",
              "        buttonEl.style.display =\n",
              "          google.colab.kernel.accessAllowed ? 'block' : 'none';\n",
              "\n",
              "        async function convertToInteractive(key) {\n",
              "          const element = document.querySelector('#df-279f4a34-1fbe-49d6-9b07-da39e398011c');\n",
              "          const dataTable =\n",
              "            await google.colab.kernel.invokeFunction('convertToInteractive',\n",
              "                                                     [key], {});\n",
              "          if (!dataTable) return;\n",
              "\n",
              "          const docLinkHtml = 'Like what you see? Visit the ' +\n",
              "            '<a target=\"_blank\" href=https://colab.research.google.com/notebooks/data_table.ipynb>data table notebook</a>'\n",
              "            + ' to learn more about interactive tables.';\n",
              "          element.innerHTML = '';\n",
              "          dataTable['output_type'] = 'display_data';\n",
              "          await google.colab.output.renderOutput(dataTable, element);\n",
              "          const docLink = document.createElement('div');\n",
              "          docLink.innerHTML = docLinkHtml;\n",
              "          element.appendChild(docLink);\n",
              "        }\n",
              "      </script>\n",
              "    </div>\n",
              "  </div>\n",
              "  "
            ]
          },
          "metadata": {},
          "execution_count": 349
        }
      ]
    },
    {
      "cell_type": "markdown",
      "source": [
        "\n",
        "Summary with test statistics for the best parameters."
      ],
      "metadata": {
        "id": "xbXEIYXlrkE1"
      }
    },
    {
      "cell_type": "code",
      "source": [
        "grid_table_rank_knn= grid_table_knn[['params','mean_test_score','std_test_score','rank_test_score']].loc[grid_table_knn['rank_test_score']==1].sort_values(by='std_test_score', ascending=True)\n",
        "grid_table_rank_knn"
      ],
      "metadata": {
        "colab": {
          "base_uri": "https://localhost:8080/",
          "height": 81
        },
        "id": "Gpg7mYNfYz_P",
        "outputId": "7c12b7cd-9987-4f37-b485-5e0e3977dccc"
      },
      "execution_count": 350,
      "outputs": [
        {
          "output_type": "execute_result",
          "data": {
            "text/plain": [
              "                                               params  mean_test_score  \\\n",
              "98  {'metric': 'manhattan', 'n_neighbors': 20, 'we...         0.838163   \n",
              "\n",
              "    std_test_score  rank_test_score  \n",
              "98        0.004885                1  "
            ],
            "text/html": [
              "\n",
              "  <div id=\"df-868548ef-06fd-4fa2-98c9-13358db51013\">\n",
              "    <div class=\"colab-df-container\">\n",
              "      <div>\n",
              "<style scoped>\n",
              "    .dataframe tbody tr th:only-of-type {\n",
              "        vertical-align: middle;\n",
              "    }\n",
              "\n",
              "    .dataframe tbody tr th {\n",
              "        vertical-align: top;\n",
              "    }\n",
              "\n",
              "    .dataframe thead th {\n",
              "        text-align: right;\n",
              "    }\n",
              "</style>\n",
              "<table border=\"1\" class=\"dataframe\">\n",
              "  <thead>\n",
              "    <tr style=\"text-align: right;\">\n",
              "      <th></th>\n",
              "      <th>params</th>\n",
              "      <th>mean_test_score</th>\n",
              "      <th>std_test_score</th>\n",
              "      <th>rank_test_score</th>\n",
              "    </tr>\n",
              "  </thead>\n",
              "  <tbody>\n",
              "    <tr>\n",
              "      <th>98</th>\n",
              "      <td>{'metric': 'manhattan', 'n_neighbors': 20, 'we...</td>\n",
              "      <td>0.838163</td>\n",
              "      <td>0.004885</td>\n",
              "      <td>1</td>\n",
              "    </tr>\n",
              "  </tbody>\n",
              "</table>\n",
              "</div>\n",
              "      <button class=\"colab-df-convert\" onclick=\"convertToInteractive('df-868548ef-06fd-4fa2-98c9-13358db51013')\"\n",
              "              title=\"Convert this dataframe to an interactive table.\"\n",
              "              style=\"display:none;\">\n",
              "        \n",
              "  <svg xmlns=\"http://www.w3.org/2000/svg\" height=\"24px\"viewBox=\"0 0 24 24\"\n",
              "       width=\"24px\">\n",
              "    <path d=\"M0 0h24v24H0V0z\" fill=\"none\"/>\n",
              "    <path d=\"M18.56 5.44l.94 2.06.94-2.06 2.06-.94-2.06-.94-.94-2.06-.94 2.06-2.06.94zm-11 1L8.5 8.5l.94-2.06 2.06-.94-2.06-.94L8.5 2.5l-.94 2.06-2.06.94zm10 10l.94 2.06.94-2.06 2.06-.94-2.06-.94-.94-2.06-.94 2.06-2.06.94z\"/><path d=\"M17.41 7.96l-1.37-1.37c-.4-.4-.92-.59-1.43-.59-.52 0-1.04.2-1.43.59L10.3 9.45l-7.72 7.72c-.78.78-.78 2.05 0 2.83L4 21.41c.39.39.9.59 1.41.59.51 0 1.02-.2 1.41-.59l7.78-7.78 2.81-2.81c.8-.78.8-2.07 0-2.86zM5.41 20L4 18.59l7.72-7.72 1.47 1.35L5.41 20z\"/>\n",
              "  </svg>\n",
              "      </button>\n",
              "      \n",
              "  <style>\n",
              "    .colab-df-container {\n",
              "      display:flex;\n",
              "      flex-wrap:wrap;\n",
              "      gap: 12px;\n",
              "    }\n",
              "\n",
              "    .colab-df-convert {\n",
              "      background-color: #E8F0FE;\n",
              "      border: none;\n",
              "      border-radius: 50%;\n",
              "      cursor: pointer;\n",
              "      display: none;\n",
              "      fill: #1967D2;\n",
              "      height: 32px;\n",
              "      padding: 0 0 0 0;\n",
              "      width: 32px;\n",
              "    }\n",
              "\n",
              "    .colab-df-convert:hover {\n",
              "      background-color: #E2EBFA;\n",
              "      box-shadow: 0px 1px 2px rgba(60, 64, 67, 0.3), 0px 1px 3px 1px rgba(60, 64, 67, 0.15);\n",
              "      fill: #174EA6;\n",
              "    }\n",
              "\n",
              "    [theme=dark] .colab-df-convert {\n",
              "      background-color: #3B4455;\n",
              "      fill: #D2E3FC;\n",
              "    }\n",
              "\n",
              "    [theme=dark] .colab-df-convert:hover {\n",
              "      background-color: #434B5C;\n",
              "      box-shadow: 0px 1px 3px 1px rgba(0, 0, 0, 0.15);\n",
              "      filter: drop-shadow(0px 1px 2px rgba(0, 0, 0, 0.3));\n",
              "      fill: #FFFFFF;\n",
              "    }\n",
              "  </style>\n",
              "\n",
              "      <script>\n",
              "        const buttonEl =\n",
              "          document.querySelector('#df-868548ef-06fd-4fa2-98c9-13358db51013 button.colab-df-convert');\n",
              "        buttonEl.style.display =\n",
              "          google.colab.kernel.accessAllowed ? 'block' : 'none';\n",
              "\n",
              "        async function convertToInteractive(key) {\n",
              "          const element = document.querySelector('#df-868548ef-06fd-4fa2-98c9-13358db51013');\n",
              "          const dataTable =\n",
              "            await google.colab.kernel.invokeFunction('convertToInteractive',\n",
              "                                                     [key], {});\n",
              "          if (!dataTable) return;\n",
              "\n",
              "          const docLinkHtml = 'Like what you see? Visit the ' +\n",
              "            '<a target=\"_blank\" href=https://colab.research.google.com/notebooks/data_table.ipynb>data table notebook</a>'\n",
              "            + ' to learn more about interactive tables.';\n",
              "          element.innerHTML = '';\n",
              "          dataTable['output_type'] = 'display_data';\n",
              "          await google.colab.output.renderOutput(dataTable, element);\n",
              "          const docLink = document.createElement('div');\n",
              "          docLink.innerHTML = docLinkHtml;\n",
              "          element.appendChild(docLink);\n",
              "        }\n",
              "      </script>\n",
              "    </div>\n",
              "  </div>\n",
              "  "
            ]
          },
          "metadata": {},
          "execution_count": 350
        }
      ]
    },
    {
      "cell_type": "markdown",
      "source": [
        "\n",
        "As we can see, there is only one best position based on the mean and deviation of the accuracy in the test. This shows us the best hyperparameters:"
      ],
      "metadata": {
        "id": "gqH-a9n8ryPL"
      }
    },
    {
      "cell_type": "code",
      "source": [
        "print(\"The best value of k = {} with an accuracy of {}.\".format(grid.best_params_,grid.best_score_))"
      ],
      "metadata": {
        "colab": {
          "base_uri": "https://localhost:8080/"
        },
        "id": "emovXfLua0Bf",
        "outputId": "ea810770-bfb0-41cd-ea28-9a7f8586e7c2"
      },
      "execution_count": 351,
      "outputs": [
        {
          "output_type": "stream",
          "name": "stdout",
          "text": [
            "The best value of k = {'metric': 'manhattan', 'n_neighbors': 20, 'weights': 'uniform'} with an accuracy of 0.838162613520795.\n"
          ]
        }
      ]
    },
    {
      "cell_type": "markdown",
      "source": [
        "We train the final model using cross-validation, based on the best hyperparameters obtained."
      ],
      "metadata": {
        "id": "5wZS-vC1sV-4"
      }
    },
    {
      "cell_type": "code",
      "source": [
        "from sklearn.model_selection import cross_val_score\n",
        "\n",
        "knn_final = KNeighborsClassifier(n_neighbors= 17, weights='uniform', metric= 'manhattan' )\n",
        "knn_cross = cross_val_score(knn_final, X2, y2, cv=5, scoring= 'accuracy')\n",
        "\n",
        "acc_mean1 = knn_cross.mean()\n",
        "acc_std_dev1 = knn_cross.std()\n",
        "\n",
        "print(f'The mean accuracy achieved from a knn model was: {acc_mean1} with a standard deviation of {acc_std_dev1}')"
      ],
      "metadata": {
        "colab": {
          "base_uri": "https://localhost:8080/"
        },
        "id": "PIU0xDqgbTKR",
        "outputId": "d0611396-53bf-48fb-a31d-d3b5764dc0f4"
      },
      "execution_count": 352,
      "outputs": [
        {
          "output_type": "stream",
          "name": "stdout",
          "text": [
            "The mean accuracy achieved from a knn model was: 0.8386142306557673 with a standard deviation of 0.0036372568536875783\n"
          ]
        }
      ]
    },
    {
      "cell_type": "code",
      "source": [
        "knn_cross1 = cross_val_score(knn_final, X2, y2, cv=5, scoring= 'f1')\n",
        "\n",
        "f1_mean1 = knn_cross1.mean()\n",
        "f1_std_dev1 = knn_cross1.std()\n",
        "\n",
        "print(f'The mean f-score achieved from a knn model was: {f1_mean1} with a standard deviation of {f1_std_dev1}')"
      ],
      "metadata": {
        "colab": {
          "base_uri": "https://localhost:8080/"
        },
        "id": "SCpiRPjxbffz",
        "outputId": "12f99eef-2417-463f-fd96-7d40d24332d8"
      },
      "execution_count": 353,
      "outputs": [
        {
          "output_type": "stream",
          "name": "stdout",
          "text": [
            "The mean f-score achieved from a knn model was: 0.6511093370528708 with a standard deviation of 0.010682063258580786\n"
          ]
        }
      ]
    },
    {
      "cell_type": "markdown",
      "source": [
        "#### Classification report\n",
        "\n",
        "Classification report using the best parameters"
      ],
      "metadata": {
        "id": "doiskr64mPMV"
      }
    },
    {
      "cell_type": "code",
      "source": [
        "knn_final.fit(X_train, y_train)\n",
        "\n",
        "y_train_pred = knn.predict(X_train)\n",
        "y_test_pred = knn.predict(X_test)\n",
        "\n",
        "## get the classification report\n",
        "print('Classification report for training data\\n')\n",
        "print(classification_report(y_train, y_train_pred))\n",
        "print('Classification report for test data\\n')\n",
        "print(classification_report(y_test, y_test_pred))"
      ],
      "metadata": {
        "colab": {
          "base_uri": "https://localhost:8080/"
        },
        "id": "lknLvklRe9Lu",
        "outputId": "2c37ff0b-98ca-4867-aabe-3dc26ac1c394"
      },
      "execution_count": 354,
      "outputs": [
        {
          "output_type": "stream",
          "name": "stdout",
          "text": [
            "Classification report for training data\n",
            "\n",
            "              precision    recall  f1-score   support\n",
            "\n",
            "           0       0.88      0.93      0.90     15366\n",
            "           1       0.74      0.62      0.68      5136\n",
            "\n",
            "    accuracy                           0.85     20502\n",
            "   macro avg       0.81      0.77      0.79     20502\n",
            "weighted avg       0.84      0.85      0.85     20502\n",
            "\n",
            "Classification report for test data\n",
            "\n",
            "              precision    recall  f1-score   support\n",
            "\n",
            "           0       0.87      0.92      0.89      3842\n",
            "           1       0.71      0.58      0.64      1284\n",
            "\n",
            "    accuracy                           0.84      5126\n",
            "   macro avg       0.79      0.75      0.77      5126\n",
            "weighted avg       0.83      0.84      0.83      5126\n",
            "\n"
          ]
        }
      ]
    },
    {
      "cell_type": "markdown",
      "source": [
        "#### Confusion matrix"
      ],
      "metadata": {
        "id": "TBhO0bZQF397"
      }
    },
    {
      "cell_type": "code",
      "source": [
        "plot_confusion_matrix(knn_final, X_test, y_test)"
      ],
      "metadata": {
        "id": "QubeEW5pFzYA",
        "colab": {
          "base_uri": "https://localhost:8080/",
          "height": 354
        },
        "outputId": "4e9caae5-5693-43dd-b936-f9dcf3bb2255"
      },
      "execution_count": 355,
      "outputs": [
        {
          "output_type": "stream",
          "name": "stderr",
          "text": [
            "/usr/local/lib/python3.7/dist-packages/sklearn/utils/deprecation.py:87: FutureWarning: Function plot_confusion_matrix is deprecated; Function `plot_confusion_matrix` is deprecated in 1.0 and will be removed in 1.2. Use one of the class methods: ConfusionMatrixDisplay.from_predictions or ConfusionMatrixDisplay.from_estimator.\n",
            "  warnings.warn(msg, category=FutureWarning)\n"
          ]
        },
        {
          "output_type": "execute_result",
          "data": {
            "text/plain": [
              "<sklearn.metrics._plot.confusion_matrix.ConfusionMatrixDisplay at 0x7fa15b1171d0>"
            ]
          },
          "metadata": {},
          "execution_count": 355
        },
        {
          "output_type": "display_data",
          "data": {
            "text/plain": [
              "<Figure size 432x288 with 2 Axes>"
            ],
            "image/png": "[encoded data removed]"
          },
          "metadata": {
            "needs_background": "light"
          }
        }
      ]
    },
    {
      "cell_type": "markdown",
      "source": [
        "# Model selection"
      ],
      "metadata": {
        "id": "D--BXPn2DwZS"
      }
    },
    {
      "cell_type": "markdown",
      "source": [
        "Below we present a summary of the metrics that we are going to use for the choice of the model."
      ],
      "metadata": {
        "id": "mDd7DrRY6Gtj"
      }
    },
    {
      "cell_type": "code",
      "source": [
        "columnas=['Tree', 'RandomForest', ' KNN']\n",
        "filas= ['f1-score_test_0', 'f1-score_test_1', 'accuracy_test']\n",
        "datos= [[0.91, 0.92, 0.90],[0.70, 0.69, 0.68], [0.85, 0.86, 0.84]]\n",
        "resumen_metricas_test = pd.DataFrame(datos, columns=columnas, index=filas)\n",
        "resumen_metricas_test"
      ],
      "metadata": {
        "colab": {
          "base_uri": "https://localhost:8080/",
          "height": 143
        },
        "id": "eJL2bPGUvyIA",
        "outputId": "d0a95221-a8d5-4a08-8beb-963af84d50f5"
      },
      "execution_count": 396,
      "outputs": [
        {
          "output_type": "execute_result",
          "data": {
            "text/plain": [
              "                 Tree  RandomForest   KNN\n",
              "f1-score_test_0  0.91          0.92  0.90\n",
              "f1-score_test_1  0.70          0.69  0.68\n",
              "accuracy_test    0.85          0.86  0.84"
            ],
            "text/html": [
              "\n",
              "  <div id=\"df-df6ca12f-5f63-4729-b410-8ff3f27c20b4\">\n",
              "    <div class=\"colab-df-container\">\n",
              "      <div>\n",
              "<style scoped>\n",
              "    .dataframe tbody tr th:only-of-type {\n",
              "        vertical-align: middle;\n",
              "    }\n",
              "\n",
              "    .dataframe tbody tr th {\n",
              "        vertical-align: top;\n",
              "    }\n",
              "\n",
              "    .dataframe thead th {\n",
              "        text-align: right;\n",
              "    }\n",
              "</style>\n",
              "<table border=\"1\" class=\"dataframe\">\n",
              "  <thead>\n",
              "    <tr style=\"text-align: right;\">\n",
              "      <th></th>\n",
              "      <th>Tree</th>\n",
              "      <th>RandomForest</th>\n",
              "      <th>KNN</th>\n",
              "    </tr>\n",
              "  </thead>\n",
              "  <tbody>\n",
              "    <tr>\n",
              "      <th>f1-score_test_0</th>\n",
              "      <td>0.91</td>\n",
              "      <td>0.92</td>\n",
              "      <td>0.90</td>\n",
              "    </tr>\n",
              "    <tr>\n",
              "      <th>f1-score_test_1</th>\n",
              "      <td>0.70</td>\n",
              "      <td>0.69</td>\n",
              "      <td>0.68</td>\n",
              "    </tr>\n",
              "    <tr>\n",
              "      <th>accuracy_test</th>\n",
              "      <td>0.85</td>\n",
              "      <td>0.86</td>\n",
              "      <td>0.84</td>\n",
              "    </tr>\n",
              "  </tbody>\n",
              "</table>\n",
              "</div>\n",
              "      <button class=\"colab-df-convert\" onclick=\"convertToInteractive('df-df6ca12f-5f63-4729-b410-8ff3f27c20b4')\"\n",
              "              title=\"Convert this dataframe to an interactive table.\"\n",
              "              style=\"display:none;\">\n",
              "        \n",
              "  <svg xmlns=\"http://www.w3.org/2000/svg\" height=\"24px\"viewBox=\"0 0 24 24\"\n",
              "       width=\"24px\">\n",
              "    <path d=\"M0 0h24v24H0V0z\" fill=\"none\"/>\n",
              "    <path d=\"M18.56 5.44l.94 2.06.94-2.06 2.06-.94-2.06-.94-.94-2.06-.94 2.06-2.06.94zm-11 1L8.5 8.5l.94-2.06 2.06-.94-2.06-.94L8.5 2.5l-.94 2.06-2.06.94zm10 10l.94 2.06.94-2.06 2.06-.94-2.06-.94-.94-2.06-.94 2.06-2.06.94z\"/><path d=\"M17.41 7.96l-1.37-1.37c-.4-.4-.92-.59-1.43-.59-.52 0-1.04.2-1.43.59L10.3 9.45l-7.72 7.72c-.78.78-.78 2.05 0 2.83L4 21.41c.39.39.9.59 1.41.59.51 0 1.02-.2 1.41-.59l7.78-7.78 2.81-2.81c.8-.78.8-2.07 0-2.86zM5.41 20L4 18.59l7.72-7.72 1.47 1.35L5.41 20z\"/>\n",
              "  </svg>\n",
              "      </button>\n",
              "      \n",
              "  <style>\n",
              "    .colab-df-container {\n",
              "      display:flex;\n",
              "      flex-wrap:wrap;\n",
              "      gap: 12px;\n",
              "    }\n",
              "\n",
              "    .colab-df-convert {\n",
              "      background-color: #E8F0FE;\n",
              "      border: none;\n",
              "      border-radius: 50%;\n",
              "      cursor: pointer;\n",
              "      display: none;\n",
              "      fill: #1967D2;\n",
              "      height: 32px;\n",
              "      padding: 0 0 0 0;\n",
              "      width: 32px;\n",
              "    }\n",
              "\n",
              "    .colab-df-convert:hover {\n",
              "      background-color: #E2EBFA;\n",
              "      box-shadow: 0px 1px 2px rgba(60, 64, 67, 0.3), 0px 1px 3px 1px rgba(60, 64, 67, 0.15);\n",
              "      fill: #174EA6;\n",
              "    }\n",
              "\n",
              "    [theme=dark] .colab-df-convert {\n",
              "      background-color: #3B4455;\n",
              "      fill: #D2E3FC;\n",
              "    }\n",
              "\n",
              "    [theme=dark] .colab-df-convert:hover {\n",
              "      background-color: #434B5C;\n",
              "      box-shadow: 0px 1px 3px 1px rgba(0, 0, 0, 0.15);\n",
              "      filter: drop-shadow(0px 1px 2px rgba(0, 0, 0, 0.3));\n",
              "      fill: #FFFFFF;\n",
              "    }\n",
              "  </style>\n",
              "\n",
              "      <script>\n",
              "        const buttonEl =\n",
              "          document.querySelector('#df-df6ca12f-5f63-4729-b410-8ff3f27c20b4 button.colab-df-convert');\n",
              "        buttonEl.style.display =\n",
              "          google.colab.kernel.accessAllowed ? 'block' : 'none';\n",
              "\n",
              "        async function convertToInteractive(key) {\n",
              "          const element = document.querySelector('#df-df6ca12f-5f63-4729-b410-8ff3f27c20b4');\n",
              "          const dataTable =\n",
              "            await google.colab.kernel.invokeFunction('convertToInteractive',\n",
              "                                                     [key], {});\n",
              "          if (!dataTable) return;\n",
              "\n",
              "          const docLinkHtml = 'Like what you see? Visit the ' +\n",
              "            '<a target=\"_blank\" href=https://colab.research.google.com/notebooks/data_table.ipynb>data table notebook</a>'\n",
              "            + ' to learn more about interactive tables.';\n",
              "          element.innerHTML = '';\n",
              "          dataTable['output_type'] = 'display_data';\n",
              "          await google.colab.output.renderOutput(dataTable, element);\n",
              "          const docLink = document.createElement('div');\n",
              "          docLink.innerHTML = docLinkHtml;\n",
              "          element.appendChild(docLink);\n",
              "        }\n",
              "      </script>\n",
              "    </div>\n",
              "  </div>\n",
              "  "
            ]
          },
          "metadata": {},
          "execution_count": 396
        }
      ]
    },
    {
      "cell_type": "markdown",
      "source": [
        "\n",
        "For each model analyzed in the test dataset, f1-score_test_0 indicates the value of f1-score in the classification for the 0 category of our target variable, that is, those people who earn 50,000 dollars or less. In the same way, f1-score_test_1 gives us the magnitude of f1-score in the classification of those people who earn more than 50,000 dollars (category associated with values ​​equal to 1)"
      ],
      "metadata": {
        "id": "Yu-3s3S1_P3o"
      }
    },
    {
      "cell_type": "markdown",
      "source": [
        "The models that have been analyzed so far are:\n",
        "\n",
        "* Decision tree\n",
        "*Random Forest\n",
        "* K-Nearest Neighbors\n",
        "\n",
        "\n"
      ],
      "metadata": {
        "id": "8tBIvKfPD5Vx"
      }
    },
    {
      "cell_type": "markdown",
      "source": [
        "One of the metrics we took into account to define our model was the F1_score, since this allows us to better describe a dataset with unbalanced classes like the ones we have.\n",
        "\n",
        "In the case of the Decision Tree models, the classification metrics improved with the adjustment of the hyperparameters, especially when gridsearch is used for these definitions. We also performed the analysis for a K-Nearest Neighbors model using the same methodology as in the tree model, where the metrics did not make any difference (particularly the one we chose for selection, F1_score), so these two models are equally significant. However, the K-Nearest Neighbors model is more affected by the presence of outliers than Decision Trees, and although an attempt has been made to clean variables such as hours.per.week or capital.gain/loss, a more detailed analysis in the treatment of outliers, investigating more exhaustively the behavior of these variables in their context. Given this caveat, decision trees would carry more weight in the choice.\n",
        "\n",
        "Finally, observing the summary presented in the previous table, the Random Forest model would be the one we would choose for the prediction of our target variable since we would obtain a better metric of F1_score, being the characteristics \"capital.gain\",\"relationship\",\"education .num\" the most important for the metric."
      ],
      "metadata": {
        "id": "oNDOLxYIHQaN"
      }
    },
    {
      "cell_type": "markdown",
      "source": [
        "The model selected to predict the test data is:\n",
        "\n",
        "* Random Forest\n"
      ],
      "metadata": {
        "id": "VCw2u3awHUFw"
      }
    },
    {
      "cell_type": "markdown",
      "metadata": {
        "id": "yrPpc9--qndL"
      },
      "source": [
        "# Test data evaluation\n"
      ]
    },
    {
      "cell_type": "markdown",
      "source": [
        "**We predict the target for the test data with the Random Forest model**"
      ],
      "metadata": {
        "id": "6qtH8gOgJ3r_"
      }
    },
    {
      "cell_type": "code",
      "source": [
        "df_test2= df_test2.drop(\"income\", axis= 1)"
      ],
      "metadata": {
        "id": "dT-hyeRfBXXk"
      },
      "execution_count": 392,
      "outputs": []
    },
    {
      "cell_type": "code",
      "execution_count": 393,
      "metadata": {
        "id": "N2-YWejXq0My"
      },
      "outputs": [],
      "source": [
        "df_test2[\"income\"] = clf.predict(df_test2) "
      ]
    },
    {
      "cell_type": "code",
      "execution_count": 394,
      "metadata": {
        "id": "qURWsCYkrNrs"
      },
      "outputs": [],
      "source": [
        "predict=pd.concat([df_test.ID,df_test2.income], axis = 1) "
      ]
    },
    {
      "cell_type": "code",
      "source": [
        "## We analyze the proportions of the target \"income\"\n",
        "\n",
        "fig= plt.figure()\n",
        "fig.set_size_inches(5, 5)\n",
        "ax1 = plt.axes()\n",
        "sns.countplot(x=\"income\", data=df_test2)"
      ],
      "metadata": {
        "colab": {
          "base_uri": "https://localhost:8080/",
          "height": 352
        },
        "id": "Ne7FmKc6ELY2",
        "outputId": "77d94901-58a2-41bb-c5ad-f212451fdd80"
      },
      "execution_count": 397,
      "outputs": [
        {
          "output_type": "execute_result",
          "data": {
            "text/plain": [
              "<matplotlib.axes._subplots.AxesSubplot at 0x7fa159f57cd0>"
            ]
          },
          "metadata": {},
          "execution_count": 397
        },
        {
          "output_type": "display_data",
          "data": {
            "text/plain": [
              "<Figure size 360x360 with 1 Axes>"
            ],
            "image/png": "[encoded data removed]"
          },
          "metadata": {
            "needs_background": "light"
          }
        }
      ]
    },
    {
      "cell_type": "code",
      "source": [
        "predict.income.value_counts(normalize=True)"
      ],
      "metadata": {
        "colab": {
          "base_uri": "https://localhost:8080/"
        },
        "id": "ksGkYqNjAy5G",
        "outputId": "889bb3fc-3fb3-4a2d-fce1-4b045ba3bfbd"
      },
      "execution_count": 398,
      "outputs": [
        {
          "output_type": "execute_result",
          "data": {
            "text/plain": [
              "0    0.829712\n",
              "1    0.170288\n",
              "Name: income, dtype: float64"
            ]
          },
          "metadata": {},
          "execution_count": 398
        }
      ]
    },
    {
      "cell_type": "markdown",
      "source": [
        "**The prediction shows that 82.9% of adults in our data test have an annual income greater than $50K.**"
      ],
      "metadata": {
        "id": "HrUV9p22DdFo"
      }
    }
  ],
  "metadata": {
    "colab": {
      "collapsed_sections": [],
      "name": "ML_income_prediction.ipynb",
      "provenance": []
    },
    "kernelspec": {
      "display_name": "Python 3",
      "name": "python3"
    },
    "language_info": {
      "name": "python"
    }
  },
  "nbformat": 4,
  "nbformat_minor": 0
}
