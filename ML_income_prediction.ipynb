{
  "cells": [
    {
      "cell_type": "markdown",
      "metadata": {
        "id": "0OouvHFt7Abs"
      },
      "source": [
        "# ML Income Prediction"
      ]
    },
    {
      "cell_type": "markdown",
      "metadata": {
        "id": "mOfjHGWx0IxC"
      },
      "source": [
        "We import the necessary libraries and make the train and test datasets available."
      ]
    },
    {
      "cell_type": "code",
      "execution_count": null,
      "metadata": {
        "id": "xYmzIuyf6-2Q"
      },
      "outputs": [],
      "source": [
        "import numpy as np\n",
        "import pandas as pd\n",
        "import seaborn as sns\n",
        "import matplotlib.pyplot as plt\n",
        "\n",
        "df_train = pd.read_csv('https://raw.githubusercontent.com/Blassaj/Icaro_Data-Science/sprint1/train1.csv')\n",
        "df_test = pd.read_csv('https://raw.githubusercontent.com/Blassaj/Icaro_Data-Science/sprint1/test1.csv')"
      ]
    },
    {
      "cell_type": "markdown",
      "metadata": {
        "id": "mpvIoWKi2kf2"
      },
      "source": [
        "## Descriptive analysis and data visualization."
      ]
    },
    {
      "cell_type": "markdown",
      "metadata": {
        "id": "w9mk2DIa7Mmd"
      },
      "source": [
        "We see basic characteristics of each dataset (dimensions, attributes, type of data, presence of nulls and statistical parameters of the numerical variables)."
      ]
    },
    {
      "cell_type": "code",
      "execution_count": null,
      "metadata": {
        "id": "dB4v0fYk8ju0"
      },
      "outputs": [],
      "source": [
        "df_train_graficos=df_train.copy()"
      ]
    },
    {
      "cell_type": "code",
      "execution_count": null,
      "metadata": {
        "colab": {
          "base_uri": "https://localhost:8080/",
          "height": 339
        },
        "id": "F_xZi1egB8b7",
        "outputId": "f1aa9dec-caf0-45b3-9d70-f17ec92550b8"
      },
      "outputs": [
        {
          "output_type": "execute_result",
          "data": {
            "text/plain": [
              "       index  age         workclass     education  education.num  \\\n",
              "12972  11466   17           Private       HS-grad              9   \n",
              "640    12054   51  Self-emp-not-inc       HS-grad              9   \n",
              "16031  14331   52           Private  Some-college             10   \n",
              "14289   2611   36           Private       Masters             14   \n",
              "22187  26970   44       Federal-gov    Assoc-acdm             12   \n",
              "\n",
              "           marital.status       occupation   relationship   race     sex  \\\n",
              "12972       Never-married            Sales      Own-child  White  Female   \n",
              "640              Divorced            Sales  Not-in-family  White    Male   \n",
              "16031  Married-civ-spouse  Exec-managerial        Husband  White    Male   \n",
              "14289  Married-civ-spouse            Sales        Husband  White    Male   \n",
              "22187  Married-civ-spouse     Adm-clerical        Husband  White    Male   \n",
              "\n",
              "       capital.gain  capital.loss  hours.per.week native.country income     ID  \n",
              "12972             0             0              20  United-States  <=50K  11464  \n",
              "640               0             0              40  United-States  <=50K  12052  \n",
              "16031             0             0              45  United-States   >50K  14328  \n",
              "14289          7688             0              50  United-States   >50K   2611  \n",
              "22187             0             0              40  United-States   >50K  26954  "
            ],
            "text/html": [
              "\n",
              "  <div id=\"df-b7ce2f88-948f-401f-a749-ff13cc696849\">\n",
              "    <div class=\"colab-df-container\">\n",
              "      <div>\n",
              "<style scoped>\n",
              "    .dataframe tbody tr th:only-of-type {\n",
              "        vertical-align: middle;\n",
              "    }\n",
              "\n",
              "    .dataframe tbody tr th {\n",
              "        vertical-align: top;\n",
              "    }\n",
              "\n",
              "    .dataframe thead th {\n",
              "        text-align: right;\n",
              "    }\n",
              "</style>\n",
              "<table border=\"1\" class=\"dataframe\">\n",
              "  <thead>\n",
              "    <tr style=\"text-align: right;\">\n",
              "      <th></th>\n",
              "      <th>index</th>\n",
              "      <th>age</th>\n",
              "      <th>workclass</th>\n",
              "      <th>education</th>\n",
              "      <th>education.num</th>\n",
              "      <th>marital.status</th>\n",
              "      <th>occupation</th>\n",
              "      <th>relationship</th>\n",
              "      <th>race</th>\n",
              "      <th>sex</th>\n",
              "      <th>capital.gain</th>\n",
              "      <th>capital.loss</th>\n",
              "      <th>hours.per.week</th>\n",
              "      <th>native.country</th>\n",
              "      <th>income</th>\n",
              "      <th>ID</th>\n",
              "    </tr>\n",
              "  </thead>\n",
              "  <tbody>\n",
              "    <tr>\n",
              "      <th>12972</th>\n",
              "      <td>11466</td>\n",
              "      <td>17</td>\n",
              "      <td>Private</td>\n",
              "      <td>HS-grad</td>\n",
              "      <td>9</td>\n",
              "      <td>Never-married</td>\n",
              "      <td>Sales</td>\n",
              "      <td>Own-child</td>\n",
              "      <td>White</td>\n",
              "      <td>Female</td>\n",
              "      <td>0</td>\n",
              "      <td>0</td>\n",
              "      <td>20</td>\n",
              "      <td>United-States</td>\n",
              "      <td>&lt;=50K</td>\n",
              "      <td>11464</td>\n",
              "    </tr>\n",
              "    <tr>\n",
              "      <th>640</th>\n",
              "      <td>12054</td>\n",
              "      <td>51</td>\n",
              "      <td>Self-emp-not-inc</td>\n",
              "      <td>HS-grad</td>\n",
              "      <td>9</td>\n",
              "      <td>Divorced</td>\n",
              "      <td>Sales</td>\n",
              "      <td>Not-in-family</td>\n",
              "      <td>White</td>\n",
              "      <td>Male</td>\n",
              "      <td>0</td>\n",
              "      <td>0</td>\n",
              "      <td>40</td>\n",
              "      <td>United-States</td>\n",
              "      <td>&lt;=50K</td>\n",
              "      <td>12052</td>\n",
              "    </tr>\n",
              "    <tr>\n",
              "      <th>16031</th>\n",
              "      <td>14331</td>\n",
              "      <td>52</td>\n",
              "      <td>Private</td>\n",
              "      <td>Some-college</td>\n",
              "      <td>10</td>\n",
              "      <td>Married-civ-spouse</td>\n",
              "      <td>Exec-managerial</td>\n",
              "      <td>Husband</td>\n",
              "      <td>White</td>\n",
              "      <td>Male</td>\n",
              "      <td>0</td>\n",
              "      <td>0</td>\n",
              "      <td>45</td>\n",
              "      <td>United-States</td>\n",
              "      <td>&gt;50K</td>\n",
              "      <td>14328</td>\n",
              "    </tr>\n",
              "    <tr>\n",
              "      <th>14289</th>\n",
              "      <td>2611</td>\n",
              "      <td>36</td>\n",
              "      <td>Private</td>\n",
              "      <td>Masters</td>\n",
              "      <td>14</td>\n",
              "      <td>Married-civ-spouse</td>\n",
              "      <td>Sales</td>\n",
              "      <td>Husband</td>\n",
              "      <td>White</td>\n",
              "      <td>Male</td>\n",
              "      <td>7688</td>\n",
              "      <td>0</td>\n",
              "      <td>50</td>\n",
              "      <td>United-States</td>\n",
              "      <td>&gt;50K</td>\n",
              "      <td>2611</td>\n",
              "    </tr>\n",
              "    <tr>\n",
              "      <th>22187</th>\n",
              "      <td>26970</td>\n",
              "      <td>44</td>\n",
              "      <td>Federal-gov</td>\n",
              "      <td>Assoc-acdm</td>\n",
              "      <td>12</td>\n",
              "      <td>Married-civ-spouse</td>\n",
              "      <td>Adm-clerical</td>\n",
              "      <td>Husband</td>\n",
              "      <td>White</td>\n",
              "      <td>Male</td>\n",
              "      <td>0</td>\n",
              "      <td>0</td>\n",
              "      <td>40</td>\n",
              "      <td>United-States</td>\n",
              "      <td>&gt;50K</td>\n",
              "      <td>26954</td>\n",
              "    </tr>\n",
              "  </tbody>\n",
              "</table>\n",
              "</div>\n",
              "      <button class=\"colab-df-convert\" onclick=\"convertToInteractive('df-b7ce2f88-948f-401f-a749-ff13cc696849')\"\n",
              "              title=\"Convert this dataframe to an interactive table.\"\n",
              "              style=\"display:none;\">\n",
              "        \n",
              "  <svg xmlns=\"http://www.w3.org/2000/svg\" height=\"24px\"viewBox=\"0 0 24 24\"\n",
              "       width=\"24px\">\n",
              "    <path d=\"M0 0h24v24H0V0z\" fill=\"none\"/>\n",
              "    <path d=\"M18.56 5.44l.94 2.06.94-2.06 2.06-.94-2.06-.94-.94-2.06-.94 2.06-2.06.94zm-11 1L8.5 8.5l.94-2.06 2.06-.94-2.06-.94L8.5 2.5l-.94 2.06-2.06.94zm10 10l.94 2.06.94-2.06 2.06-.94-2.06-.94-.94-2.06-.94 2.06-2.06.94z\"/><path d=\"M17.41 7.96l-1.37-1.37c-.4-.4-.92-.59-1.43-.59-.52 0-1.04.2-1.43.59L10.3 9.45l-7.72 7.72c-.78.78-.78 2.05 0 2.83L4 21.41c.39.39.9.59 1.41.59.51 0 1.02-.2 1.41-.59l7.78-7.78 2.81-2.81c.8-.78.8-2.07 0-2.86zM5.41 20L4 18.59l7.72-7.72 1.47 1.35L5.41 20z\"/>\n",
              "  </svg>\n",
              "      </button>\n",
              "      \n",
              "  <style>\n",
              "    .colab-df-container {\n",
              "      display:flex;\n",
              "      flex-wrap:wrap;\n",
              "      gap: 12px;\n",
              "    }\n",
              "\n",
              "    .colab-df-convert {\n",
              "      background-color: #E8F0FE;\n",
              "      border: none;\n",
              "      border-radius: 50%;\n",
              "      cursor: pointer;\n",
              "      display: none;\n",
              "      fill: #1967D2;\n",
              "      height: 32px;\n",
              "      padding: 0 0 0 0;\n",
              "      width: 32px;\n",
              "    }\n",
              "\n",
              "    .colab-df-convert:hover {\n",
              "      background-color: #E2EBFA;\n",
              "      box-shadow: 0px 1px 2px rgba(60, 64, 67, 0.3), 0px 1px 3px 1px rgba(60, 64, 67, 0.15);\n",
              "      fill: #174EA6;\n",
              "    }\n",
              "\n",
              "    [theme=dark] .colab-df-convert {\n",
              "      background-color: #3B4455;\n",
              "      fill: #D2E3FC;\n",
              "    }\n",
              "\n",
              "    [theme=dark] .colab-df-convert:hover {\n",
              "      background-color: #434B5C;\n",
              "      box-shadow: 0px 1px 3px 1px rgba(0, 0, 0, 0.15);\n",
              "      filter: drop-shadow(0px 1px 2px rgba(0, 0, 0, 0.3));\n",
              "      fill: #FFFFFF;\n",
              "    }\n",
              "  </style>\n",
              "\n",
              "      <script>\n",
              "        const buttonEl =\n",
              "          document.querySelector('#df-b7ce2f88-948f-401f-a749-ff13cc696849 button.colab-df-convert');\n",
              "        buttonEl.style.display =\n",
              "          google.colab.kernel.accessAllowed ? 'block' : 'none';\n",
              "\n",
              "        async function convertToInteractive(key) {\n",
              "          const element = document.querySelector('#df-b7ce2f88-948f-401f-a749-ff13cc696849');\n",
              "          const dataTable =\n",
              "            await google.colab.kernel.invokeFunction('convertToInteractive',\n",
              "                                                     [key], {});\n",
              "          if (!dataTable) return;\n",
              "\n",
              "          const docLinkHtml = 'Like what you see? Visit the ' +\n",
              "            '<a target=\"_blank\" href=https://colab.research.google.com/notebooks/data_table.ipynb>data table notebook</a>'\n",
              "            + ' to learn more about interactive tables.';\n",
              "          element.innerHTML = '';\n",
              "          dataTable['output_type'] = 'display_data';\n",
              "          await google.colab.output.renderOutput(dataTable, element);\n",
              "          const docLink = document.createElement('div');\n",
              "          docLink.innerHTML = docLinkHtml;\n",
              "          element.appendChild(docLink);\n",
              "        }\n",
              "      </script>\n",
              "    </div>\n",
              "  </div>\n",
              "  "
            ]
          },
          "metadata": {},
          "execution_count": 3
        }
      ],
      "source": [
        "df_train.sample(5)"
      ]
    },
    {
      "cell_type": "code",
      "execution_count": null,
      "metadata": {
        "colab": {
          "base_uri": "https://localhost:8080/"
        },
        "id": "BwT4JTUV2I9K",
        "outputId": "4f75cc3d-acf5-4764-9bc0-c059dfaa4dab"
      },
      "outputs": [
        {
          "output_type": "stream",
          "name": "stdout",
          "text": [
            "El dataset de entrenamiento tiene 27656 filas y 16 columnas\n",
            "El dataset de testeo tiene 4881 filas y 15 columnas\n"
          ]
        }
      ],
      "source": [
        "print(f'The training dataset has {df_train.shape[0]} rows and {df_train.shape[1]} columns')\n",
        "print(f'The test dataset has {df_test.shape[0]} rows and {df_test.shape[1]} columns')"
      ]
    },
    {
      "cell_type": "code",
      "execution_count": null,
      "metadata": {
        "colab": {
          "base_uri": "https://localhost:8080/"
        },
        "id": "1blP3T0G49pa",
        "outputId": "7cd5c3e0-dcc0-449e-aa92-31e422a6e59e"
      },
      "outputs": [
        {
          "output_type": "execute_result",
          "data": {
            "text/plain": [
              "Index(['index', 'age', 'workclass', 'education', 'education.num',\n",
              "       'marital.status', 'occupation', 'relationship', 'race', 'sex',\n",
              "       'capital.gain', 'capital.loss', 'hours.per.week', 'native.country',\n",
              "       'income', 'ID'],\n",
              "      dtype='object')"
            ]
          },
          "metadata": {},
          "execution_count": 5
        }
      ],
      "source": [
        "df_train.columns    # Names of training dataset attributes"
      ]
    },
    {
      "cell_type": "code",
      "execution_count": null,
      "metadata": {
        "colab": {
          "base_uri": "https://localhost:8080/"
        },
        "id": "YdjlCex-5RVB",
        "outputId": "c2f73ce1-8252-4a50-f24a-b10f45b513b1"
      },
      "outputs": [
        {
          "output_type": "execute_result",
          "data": {
            "text/plain": [
              "Index(['index', 'age', 'workclass', 'education', 'education.num',\n",
              "       'marital.status', 'occupation', 'relationship', 'race', 'sex',\n",
              "       'capital.gain', 'capital.loss', 'hours.per.week', 'native.country',\n",
              "       'ID'],\n",
              "      dtype='object')"
            ]
          },
          "metadata": {},
          "execution_count": 6
        }
      ],
      "source": [
        "df_test.columns   # Names of the attributes of the test dataset (we can see that our target= \"income\" is not present)"
      ]
    },
    {
      "cell_type": "code",
      "execution_count": null,
      "metadata": {
        "colab": {
          "base_uri": "https://localhost:8080/"
        },
        "id": "gX7rqes44Crw",
        "outputId": "a2de9da8-b8df-4756-851c-afc1fd71d129"
      },
      "outputs": [
        {
          "output_type": "stream",
          "name": "stdout",
          "text": [
            "<class 'pandas.core.frame.DataFrame'>\n",
            "RangeIndex: 27656 entries, 0 to 27655\n",
            "Data columns (total 16 columns):\n",
            " #   Column          Non-Null Count  Dtype \n",
            "---  ------          --------------  ----- \n",
            " 0   index           27656 non-null  int64 \n",
            " 1   age             27656 non-null  int64 \n",
            " 2   workclass       27656 non-null  object\n",
            " 3   education       27656 non-null  object\n",
            " 4   education.num   27656 non-null  int64 \n",
            " 5   marital.status  27656 non-null  object\n",
            " 6   occupation      27656 non-null  object\n",
            " 7   relationship    27656 non-null  object\n",
            " 8   race            27656 non-null  object\n",
            " 9   sex             27656 non-null  object\n",
            " 10  capital.gain    27656 non-null  int64 \n",
            " 11  capital.loss    27656 non-null  int64 \n",
            " 12  hours.per.week  27656 non-null  int64 \n",
            " 13  native.country  27656 non-null  object\n",
            " 14  income          27656 non-null  object\n",
            " 15  ID              27656 non-null  int64 \n",
            "dtypes: int64(7), object(9)\n",
            "memory usage: 3.4+ MB\n"
          ]
        }
      ],
      "source": [
        "df_train.info()   # Type of data contained in each attribute present in the training dataset"
      ]
    },
    {
      "cell_type": "code",
      "execution_count": null,
      "metadata": {
        "colab": {
          "base_uri": "https://localhost:8080/"
        },
        "id": "oCDCk0yI4kg6",
        "outputId": "de687a09-8809-4a0d-8c40-aea603241030"
      },
      "outputs": [
        {
          "output_type": "stream",
          "name": "stdout",
          "text": [
            "<class 'pandas.core.frame.DataFrame'>\n",
            "RangeIndex: 4881 entries, 0 to 4880\n",
            "Data columns (total 15 columns):\n",
            " #   Column          Non-Null Count  Dtype \n",
            "---  ------          --------------  ----- \n",
            " 0   index           4881 non-null   int64 \n",
            " 1   age             4881 non-null   int64 \n",
            " 2   workclass       4881 non-null   object\n",
            " 3   education       4881 non-null   object\n",
            " 4   education.num   4881 non-null   int64 \n",
            " 5   marital.status  4881 non-null   object\n",
            " 6   occupation      4881 non-null   object\n",
            " 7   relationship    4881 non-null   object\n",
            " 8   race            4881 non-null   object\n",
            " 9   sex             4881 non-null   object\n",
            " 10  capital.gain    4881 non-null   int64 \n",
            " 11  capital.loss    4881 non-null   int64 \n",
            " 12  hours.per.week  4881 non-null   int64 \n",
            " 13  native.country  4881 non-null   object\n",
            " 14  ID              4881 non-null   int64 \n",
            "dtypes: int64(7), object(8)\n",
            "memory usage: 572.1+ KB\n"
          ]
        }
      ],
      "source": [
        "df_test.info()   # Data type that contains each attribute present in the test dataset"
      ]
    },
    {
      "cell_type": "markdown",
      "metadata": {
        "id": "-uUgjw7K52Gz"
      },
      "source": [
        "We see that in both the test set and the training set there is no inconsistency between them, i.e., they handle the same type of data and variables (except target, as we have already clarified above).\n",
        "\n",
        "* Numerical variables:\n",
        "\n",
        "  - index: discrete\n",
        "  - ID: discrete\n",
        "  - age: continuous (discretized)\n",
        "  - education.num: discrete\n",
        "  - capital.gain: continuous\n",
        "  - capital.loss: continuous\n",
        "  - hours.per.week: discrete\n",
        "  \n",
        "\n",
        "* Categorical variables:\n",
        "\n",
        "  - workclass: nominal\n",
        "  - education: ordinal\n",
        "  - marital.status: nominal\n",
        "  - occupation: nominal\n",
        "  - relationship: nominal\n",
        "  - race: nominal\n",
        "  - sex: nominal\n",
        "  - native.country: nominal \n",
        "  - income: nominal\n",
        "\n",
        "\n"
      ]
    },
    {
      "cell_type": "markdown",
      "metadata": {
        "id": "puqCqAed6kcl"
      },
      "source": [
        "###Descriptive statistics analysis on each dataset."
      ]
    },
    {
      "cell_type": "code",
      "execution_count": null,
      "metadata": {
        "colab": {
          "base_uri": "https://localhost:8080/",
          "height": 170
        },
        "id": "oO49LHv13zYS",
        "outputId": "5bc29373-14d1-4545-a946-d4e9aed53586"
      },
      "outputs": [
        {
          "output_type": "error",
          "ename": "NameError",
          "evalue": "ignored",
          "traceback": [
            "\u001b[0;31m---------------------------------------------------------------------------\u001b[0m",
            "\u001b[0;31mNameError\u001b[0m                                 Traceback (most recent call last)",
            "\u001b[0;32m<ipython-input-1-31949bfc8eae>\u001b[0m in \u001b[0;36m<module>\u001b[0;34m()\u001b[0m\n\u001b[0;32m----> 1\u001b[0;31m \u001b[0mround\u001b[0m\u001b[0;34m(\u001b[0m\u001b[0mdf_train\u001b[0m\u001b[0;34m.\u001b[0m\u001b[0mdescribe\u001b[0m\u001b[0;34m(\u001b[0m\u001b[0;34m)\u001b[0m\u001b[0;34m,\u001b[0m\u001b[0;36m3\u001b[0m\u001b[0;34m)\u001b[0m   \u001b[0;31m# Statistical parameters of the numerical attributes of the training dataset\u001b[0m\u001b[0;34m\u001b[0m\u001b[0;34m\u001b[0m\u001b[0m\n\u001b[0m",
            "\u001b[0;31mNameError\u001b[0m: name 'df_train' is not defined"
          ]
        }
      ],
      "source": [
        "round(df_train.describe(),3)   # Statistical parameters of the numerical attributes of the training dataset"
      ]
    },
    {
      "cell_type": "code",
      "execution_count": null,
      "metadata": {
        "colab": {
          "base_uri": "https://localhost:8080/",
          "height": 175
        },
        "id": "w1oV3vAo8Jy1",
        "outputId": "72dc7e6d-2a5d-41ee-8357-104f85643b5b"
      },
      "outputs": [
        {
          "output_type": "execute_result",
          "data": {
            "text/plain": [
              "       workclass education      marital.status      occupation relationship  \\\n",
              "count      27656     27656               27656           27656        27656   \n",
              "unique         9        16                   7              15            6   \n",
              "top      Private   HS-grad  Married-civ-spouse  Prof-specialty      Husband   \n",
              "freq       19279      8934               12720            3539        11208   \n",
              "\n",
              "         race    sex native.country income  \n",
              "count   27656  27656          27656  27656  \n",
              "unique      5      2             42      2  \n",
              "top     White   Male  United-States  <=50K  \n",
              "freq    23621  18521          24811  20953  "
            ],
            "text/html": [
              "\n",
              "  <div id=\"df-2e4e2e6c-4469-4813-9c0b-2d89ab2b0ece\">\n",
              "    <div class=\"colab-df-container\">\n",
              "      <div>\n",
              "<style scoped>\n",
              "    .dataframe tbody tr th:only-of-type {\n",
              "        vertical-align: middle;\n",
              "    }\n",
              "\n",
              "    .dataframe tbody tr th {\n",
              "        vertical-align: top;\n",
              "    }\n",
              "\n",
              "    .dataframe thead th {\n",
              "        text-align: right;\n",
              "    }\n",
              "</style>\n",
              "<table border=\"1\" class=\"dataframe\">\n",
              "  <thead>\n",
              "    <tr style=\"text-align: right;\">\n",
              "      <th></th>\n",
              "      <th>workclass</th>\n",
              "      <th>education</th>\n",
              "      <th>marital.status</th>\n",
              "      <th>occupation</th>\n",
              "      <th>relationship</th>\n",
              "      <th>race</th>\n",
              "      <th>sex</th>\n",
              "      <th>native.country</th>\n",
              "      <th>income</th>\n",
              "    </tr>\n",
              "  </thead>\n",
              "  <tbody>\n",
              "    <tr>\n",
              "      <th>count</th>\n",
              "      <td>27656</td>\n",
              "      <td>27656</td>\n",
              "      <td>27656</td>\n",
              "      <td>27656</td>\n",
              "      <td>27656</td>\n",
              "      <td>27656</td>\n",
              "      <td>27656</td>\n",
              "      <td>27656</td>\n",
              "      <td>27656</td>\n",
              "    </tr>\n",
              "    <tr>\n",
              "      <th>unique</th>\n",
              "      <td>9</td>\n",
              "      <td>16</td>\n",
              "      <td>7</td>\n",
              "      <td>15</td>\n",
              "      <td>6</td>\n",
              "      <td>5</td>\n",
              "      <td>2</td>\n",
              "      <td>42</td>\n",
              "      <td>2</td>\n",
              "    </tr>\n",
              "    <tr>\n",
              "      <th>top</th>\n",
              "      <td>Private</td>\n",
              "      <td>HS-grad</td>\n",
              "      <td>Married-civ-spouse</td>\n",
              "      <td>Prof-specialty</td>\n",
              "      <td>Husband</td>\n",
              "      <td>White</td>\n",
              "      <td>Male</td>\n",
              "      <td>United-States</td>\n",
              "      <td>&lt;=50K</td>\n",
              "    </tr>\n",
              "    <tr>\n",
              "      <th>freq</th>\n",
              "      <td>19279</td>\n",
              "      <td>8934</td>\n",
              "      <td>12720</td>\n",
              "      <td>3539</td>\n",
              "      <td>11208</td>\n",
              "      <td>23621</td>\n",
              "      <td>18521</td>\n",
              "      <td>24811</td>\n",
              "      <td>20953</td>\n",
              "    </tr>\n",
              "  </tbody>\n",
              "</table>\n",
              "</div>\n",
              "      <button class=\"colab-df-convert\" onclick=\"convertToInteractive('df-2e4e2e6c-4469-4813-9c0b-2d89ab2b0ece')\"\n",
              "              title=\"Convert this dataframe to an interactive table.\"\n",
              "              style=\"display:none;\">\n",
              "        \n",
              "  <svg xmlns=\"http://www.w3.org/2000/svg\" height=\"24px\"viewBox=\"0 0 24 24\"\n",
              "       width=\"24px\">\n",
              "    <path d=\"M0 0h24v24H0V0z\" fill=\"none\"/>\n",
              "    <path d=\"M18.56 5.44l.94 2.06.94-2.06 2.06-.94-2.06-.94-.94-2.06-.94 2.06-2.06.94zm-11 1L8.5 8.5l.94-2.06 2.06-.94-2.06-.94L8.5 2.5l-.94 2.06-2.06.94zm10 10l.94 2.06.94-2.06 2.06-.94-2.06-.94-.94-2.06-.94 2.06-2.06.94z\"/><path d=\"M17.41 7.96l-1.37-1.37c-.4-.4-.92-.59-1.43-.59-.52 0-1.04.2-1.43.59L10.3 9.45l-7.72 7.72c-.78.78-.78 2.05 0 2.83L4 21.41c.39.39.9.59 1.41.59.51 0 1.02-.2 1.41-.59l7.78-7.78 2.81-2.81c.8-.78.8-2.07 0-2.86zM5.41 20L4 18.59l7.72-7.72 1.47 1.35L5.41 20z\"/>\n",
              "  </svg>\n",
              "      </button>\n",
              "      \n",
              "  <style>\n",
              "    .colab-df-container {\n",
              "      display:flex;\n",
              "      flex-wrap:wrap;\n",
              "      gap: 12px;\n",
              "    }\n",
              "\n",
              "    .colab-df-convert {\n",
              "      background-color: #E8F0FE;\n",
              "      border: none;\n",
              "      border-radius: 50%;\n",
              "      cursor: pointer;\n",
              "      display: none;\n",
              "      fill: #1967D2;\n",
              "      height: 32px;\n",
              "      padding: 0 0 0 0;\n",
              "      width: 32px;\n",
              "    }\n",
              "\n",
              "    .colab-df-convert:hover {\n",
              "      background-color: #E2EBFA;\n",
              "      box-shadow: 0px 1px 2px rgba(60, 64, 67, 0.3), 0px 1px 3px 1px rgba(60, 64, 67, 0.15);\n",
              "      fill: #174EA6;\n",
              "    }\n",
              "\n",
              "    [theme=dark] .colab-df-convert {\n",
              "      background-color: #3B4455;\n",
              "      fill: #D2E3FC;\n",
              "    }\n",
              "\n",
              "    [theme=dark] .colab-df-convert:hover {\n",
              "      background-color: #434B5C;\n",
              "      box-shadow: 0px 1px 3px 1px rgba(0, 0, 0, 0.15);\n",
              "      filter: drop-shadow(0px 1px 2px rgba(0, 0, 0, 0.3));\n",
              "      fill: #FFFFFF;\n",
              "    }\n",
              "  </style>\n",
              "\n",
              "      <script>\n",
              "        const buttonEl =\n",
              "          document.querySelector('#df-2e4e2e6c-4469-4813-9c0b-2d89ab2b0ece button.colab-df-convert');\n",
              "        buttonEl.style.display =\n",
              "          google.colab.kernel.accessAllowed ? 'block' : 'none';\n",
              "\n",
              "        async function convertToInteractive(key) {\n",
              "          const element = document.querySelector('#df-2e4e2e6c-4469-4813-9c0b-2d89ab2b0ece');\n",
              "          const dataTable =\n",
              "            await google.colab.kernel.invokeFunction('convertToInteractive',\n",
              "                                                     [key], {});\n",
              "          if (!dataTable) return;\n",
              "\n",
              "          const docLinkHtml = 'Like what you see? Visit the ' +\n",
              "            '<a target=\"_blank\" href=https://colab.research.google.com/notebooks/data_table.ipynb>data table notebook</a>'\n",
              "            + ' to learn more about interactive tables.';\n",
              "          element.innerHTML = '';\n",
              "          dataTable['output_type'] = 'display_data';\n",
              "          await google.colab.output.renderOutput(dataTable, element);\n",
              "          const docLink = document.createElement('div');\n",
              "          docLink.innerHTML = docLinkHtml;\n",
              "          element.appendChild(docLink);\n",
              "        }\n",
              "      </script>\n",
              "    </div>\n",
              "  </div>\n",
              "  "
            ]
          },
          "metadata": {},
          "execution_count": 10
        }
      ],
      "source": [
        "df_train.describe(include='O')"
      ]
    },
    {
      "cell_type": "code",
      "execution_count": null,
      "metadata": {
        "colab": {
          "base_uri": "https://localhost:8080/"
        },
        "id": "-W0hmqrF8Qpz",
        "outputId": "637edb28-f7a8-46bc-fdea-1a9bbb0319b8"
      },
      "outputs": [
        {
          "output_type": "execute_result",
          "data": {
            "text/plain": [
              "array(['<=50K', '>50K'], dtype=object)"
            ]
          },
          "metadata": {},
          "execution_count": 11
        }
      ],
      "source": [
        "df_train.income.unique()"
      ]
    },
    {
      "cell_type": "markdown",
      "metadata": {
        "id": "maShsL5Q8MKR"
      },
      "source": [
        "In the summary for categorical variables we can already see that our target variable, income, has a number of unbalanced values in its \"<=50K\" and \">50K\" categories. That is out of 27,656 records in df_train, 20,953 correspond to people earning less than $50K."
      ]
    },
    {
      "cell_type": "code",
      "execution_count": null,
      "metadata": {
        "colab": {
          "base_uri": "https://localhost:8080/",
          "height": 300
        },
        "id": "HdHj8qqc7hbx",
        "outputId": "ef6306d3-921e-4535-c112-7f6f3d4e4403"
      },
      "outputs": [
        {
          "output_type": "execute_result",
          "data": {
            "text/plain": [
              "              index          age  education.num  capital.gain  capital.loss  \\\n",
              "count   4881.000000  4881.000000    4881.000000   4881.000000   4881.000000   \n",
              "mean   16277.736734    38.444991      10.015571    956.353001     82.177218   \n",
              "std     9341.930525    13.513499       2.602128   6796.996933    387.331950   \n",
              "min        6.000000    17.000000       1.000000      0.000000      0.000000   \n",
              "25%     8278.000000    27.000000       9.000000      0.000000      0.000000   \n",
              "50%    16173.000000    37.000000      10.000000      0.000000      0.000000   \n",
              "75%    24343.000000    47.000000      12.000000      0.000000      0.000000   \n",
              "max    32560.000000    90.000000      16.000000  99999.000000   3770.000000   \n",
              "\n",
              "       hours.per.week            ID  \n",
              "count     4881.000000   4881.000000  \n",
              "mean        40.404425  16270.460561  \n",
              "std         12.220831   9335.005226  \n",
              "min          1.000000      6.000000  \n",
              "25%         40.000000   8278.000000  \n",
              "50%         40.000000  16168.000000  \n",
              "75%         45.000000  24328.000000  \n",
              "max         99.000000  32536.000000  "
            ],
            "text/html": [
              "\n",
              "  <div id=\"df-f9897025-95fe-4580-9d0b-6b179f2c4100\">\n",
              "    <div class=\"colab-df-container\">\n",
              "      <div>\n",
              "<style scoped>\n",
              "    .dataframe tbody tr th:only-of-type {\n",
              "        vertical-align: middle;\n",
              "    }\n",
              "\n",
              "    .dataframe tbody tr th {\n",
              "        vertical-align: top;\n",
              "    }\n",
              "\n",
              "    .dataframe thead th {\n",
              "        text-align: right;\n",
              "    }\n",
              "</style>\n",
              "<table border=\"1\" class=\"dataframe\">\n",
              "  <thead>\n",
              "    <tr style=\"text-align: right;\">\n",
              "      <th></th>\n",
              "      <th>index</th>\n",
              "      <th>age</th>\n",
              "      <th>education.num</th>\n",
              "      <th>capital.gain</th>\n",
              "      <th>capital.loss</th>\n",
              "      <th>hours.per.week</th>\n",
              "      <th>ID</th>\n",
              "    </tr>\n",
              "  </thead>\n",
              "  <tbody>\n",
              "    <tr>\n",
              "      <th>count</th>\n",
              "      <td>4881.000000</td>\n",
              "      <td>4881.000000</td>\n",
              "      <td>4881.000000</td>\n",
              "      <td>4881.000000</td>\n",
              "      <td>4881.000000</td>\n",
              "      <td>4881.000000</td>\n",
              "      <td>4881.000000</td>\n",
              "    </tr>\n",
              "    <tr>\n",
              "      <th>mean</th>\n",
              "      <td>16277.736734</td>\n",
              "      <td>38.444991</td>\n",
              "      <td>10.015571</td>\n",
              "      <td>956.353001</td>\n",
              "      <td>82.177218</td>\n",
              "      <td>40.404425</td>\n",
              "      <td>16270.460561</td>\n",
              "    </tr>\n",
              "    <tr>\n",
              "      <th>std</th>\n",
              "      <td>9341.930525</td>\n",
              "      <td>13.513499</td>\n",
              "      <td>2.602128</td>\n",
              "      <td>6796.996933</td>\n",
              "      <td>387.331950</td>\n",
              "      <td>12.220831</td>\n",
              "      <td>9335.005226</td>\n",
              "    </tr>\n",
              "    <tr>\n",
              "      <th>min</th>\n",
              "      <td>6.000000</td>\n",
              "      <td>17.000000</td>\n",
              "      <td>1.000000</td>\n",
              "      <td>0.000000</td>\n",
              "      <td>0.000000</td>\n",
              "      <td>1.000000</td>\n",
              "      <td>6.000000</td>\n",
              "    </tr>\n",
              "    <tr>\n",
              "      <th>25%</th>\n",
              "      <td>8278.000000</td>\n",
              "      <td>27.000000</td>\n",
              "      <td>9.000000</td>\n",
              "      <td>0.000000</td>\n",
              "      <td>0.000000</td>\n",
              "      <td>40.000000</td>\n",
              "      <td>8278.000000</td>\n",
              "    </tr>\n",
              "    <tr>\n",
              "      <th>50%</th>\n",
              "      <td>16173.000000</td>\n",
              "      <td>37.000000</td>\n",
              "      <td>10.000000</td>\n",
              "      <td>0.000000</td>\n",
              "      <td>0.000000</td>\n",
              "      <td>40.000000</td>\n",
              "      <td>16168.000000</td>\n",
              "    </tr>\n",
              "    <tr>\n",
              "      <th>75%</th>\n",
              "      <td>24343.000000</td>\n",
              "      <td>47.000000</td>\n",
              "      <td>12.000000</td>\n",
              "      <td>0.000000</td>\n",
              "      <td>0.000000</td>\n",
              "      <td>45.000000</td>\n",
              "      <td>24328.000000</td>\n",
              "    </tr>\n",
              "    <tr>\n",
              "      <th>max</th>\n",
              "      <td>32560.000000</td>\n",
              "      <td>90.000000</td>\n",
              "      <td>16.000000</td>\n",
              "      <td>99999.000000</td>\n",
              "      <td>3770.000000</td>\n",
              "      <td>99.000000</td>\n",
              "      <td>32536.000000</td>\n",
              "    </tr>\n",
              "  </tbody>\n",
              "</table>\n",
              "</div>\n",
              "      <button class=\"colab-df-convert\" onclick=\"convertToInteractive('df-f9897025-95fe-4580-9d0b-6b179f2c4100')\"\n",
              "              title=\"Convert this dataframe to an interactive table.\"\n",
              "              style=\"display:none;\">\n",
              "        \n",
              "  <svg xmlns=\"http://www.w3.org/2000/svg\" height=\"24px\"viewBox=\"0 0 24 24\"\n",
              "       width=\"24px\">\n",
              "    <path d=\"M0 0h24v24H0V0z\" fill=\"none\"/>\n",
              "    <path d=\"M18.56 5.44l.94 2.06.94-2.06 2.06-.94-2.06-.94-.94-2.06-.94 2.06-2.06.94zm-11 1L8.5 8.5l.94-2.06 2.06-.94-2.06-.94L8.5 2.5l-.94 2.06-2.06.94zm10 10l.94 2.06.94-2.06 2.06-.94-2.06-.94-.94-2.06-.94 2.06-2.06.94z\"/><path d=\"M17.41 7.96l-1.37-1.37c-.4-.4-.92-.59-1.43-.59-.52 0-1.04.2-1.43.59L10.3 9.45l-7.72 7.72c-.78.78-.78 2.05 0 2.83L4 21.41c.39.39.9.59 1.41.59.51 0 1.02-.2 1.41-.59l7.78-7.78 2.81-2.81c.8-.78.8-2.07 0-2.86zM5.41 20L4 18.59l7.72-7.72 1.47 1.35L5.41 20z\"/>\n",
              "  </svg>\n",
              "      </button>\n",
              "      \n",
              "  <style>\n",
              "    .colab-df-container {\n",
              "      display:flex;\n",
              "      flex-wrap:wrap;\n",
              "      gap: 12px;\n",
              "    }\n",
              "\n",
              "    .colab-df-convert {\n",
              "      background-color: #E8F0FE;\n",
              "      border: none;\n",
              "      border-radius: 50%;\n",
              "      cursor: pointer;\n",
              "      display: none;\n",
              "      fill: #1967D2;\n",
              "      height: 32px;\n",
              "      padding: 0 0 0 0;\n",
              "      width: 32px;\n",
              "    }\n",
              "\n",
              "    .colab-df-convert:hover {\n",
              "      background-color: #E2EBFA;\n",
              "      box-shadow: 0px 1px 2px rgba(60, 64, 67, 0.3), 0px 1px 3px 1px rgba(60, 64, 67, 0.15);\n",
              "      fill: #174EA6;\n",
              "    }\n",
              "\n",
              "    [theme=dark] .colab-df-convert {\n",
              "      background-color: #3B4455;\n",
              "      fill: #D2E3FC;\n",
              "    }\n",
              "\n",
              "    [theme=dark] .colab-df-convert:hover {\n",
              "      background-color: #434B5C;\n",
              "      box-shadow: 0px 1px 3px 1px rgba(0, 0, 0, 0.15);\n",
              "      filter: drop-shadow(0px 1px 2px rgba(0, 0, 0, 0.3));\n",
              "      fill: #FFFFFF;\n",
              "    }\n",
              "  </style>\n",
              "\n",
              "      <script>\n",
              "        const buttonEl =\n",
              "          document.querySelector('#df-f9897025-95fe-4580-9d0b-6b179f2c4100 button.colab-df-convert');\n",
              "        buttonEl.style.display =\n",
              "          google.colab.kernel.accessAllowed ? 'block' : 'none';\n",
              "\n",
              "        async function convertToInteractive(key) {\n",
              "          const element = document.querySelector('#df-f9897025-95fe-4580-9d0b-6b179f2c4100');\n",
              "          const dataTable =\n",
              "            await google.colab.kernel.invokeFunction('convertToInteractive',\n",
              "                                                     [key], {});\n",
              "          if (!dataTable) return;\n",
              "\n",
              "          const docLinkHtml = 'Like what you see? Visit the ' +\n",
              "            '<a target=\"_blank\" href=https://colab.research.google.com/notebooks/data_table.ipynb>data table notebook</a>'\n",
              "            + ' to learn more about interactive tables.';\n",
              "          element.innerHTML = '';\n",
              "          dataTable['output_type'] = 'display_data';\n",
              "          await google.colab.output.renderOutput(dataTable, element);\n",
              "          const docLink = document.createElement('div');\n",
              "          docLink.innerHTML = docLinkHtml;\n",
              "          element.appendChild(docLink);\n",
              "        }\n",
              "      </script>\n",
              "    </div>\n",
              "  </div>\n",
              "  "
            ]
          },
          "metadata": {},
          "execution_count": 12
        }
      ],
      "source": [
        "df_test.describe()   # Statistical parameters of the numeric attributes of the test dataset"
      ]
    },
    {
      "cell_type": "markdown",
      "metadata": {
        "id": "qnWnFCHp8C9M"
      },
      "source": [
        "If we look at the mean, median and deviation values of each numerical variable in the summaries of each dataset we can see that their values are similar, for example, in the training dataset we have for the variable age a mean of 38.61, a standard deviation of 13.65 and a median of 37 years; if we now look at the same statistics but in the test set we observe a mean of 38.44, a deviation of 13.51 and a median of 37 years.\n",
        "\n",
        "These values are very similar indicating the presence of randomness in the selection method of both sets."
      ]
    },
    {
      "cell_type": "markdown",
      "metadata": {
        "id": "zAyiCIEc-Ygh"
      },
      "source": [
        "###Missing values."
      ]
    },
    {
      "cell_type": "code",
      "execution_count": null,
      "metadata": {
        "colab": {
          "base_uri": "https://localhost:8080/"
        },
        "id": "C5LT8EgT7qnA",
        "outputId": "2c044e34-474f-4476-ae44-d177e1852cf1"
      },
      "outputs": [
        {
          "output_type": "execute_result",
          "data": {
            "text/plain": [
              "index             0\n",
              "age               0\n",
              "workclass         0\n",
              "education         0\n",
              "education.num     0\n",
              "marital.status    0\n",
              "occupation        0\n",
              "relationship      0\n",
              "race              0\n",
              "sex               0\n",
              "capital.gain      0\n",
              "capital.loss      0\n",
              "hours.per.week    0\n",
              "native.country    0\n",
              "income            0\n",
              "ID                0\n",
              "dtype: int64"
            ]
          },
          "metadata": {},
          "execution_count": 13
        }
      ],
      "source": [
        "df_train.isna().sum()  # We count the number of null records we have in our training dataset."
      ]
    },
    {
      "cell_type": "code",
      "execution_count": null,
      "metadata": {
        "colab": {
          "base_uri": "https://localhost:8080/"
        },
        "id": "3AG8OdHrDpEo",
        "outputId": "3e47057e-a553-411a-97af-8c738dc0031f"
      },
      "outputs": [
        {
          "output_type": "execute_result",
          "data": {
            "text/plain": [
              "index             0\n",
              "age               0\n",
              "workclass         0\n",
              "education         0\n",
              "education.num     0\n",
              "marital.status    0\n",
              "occupation        0\n",
              "relationship      0\n",
              "race              0\n",
              "sex               0\n",
              "capital.gain      0\n",
              "capital.loss      0\n",
              "hours.per.week    0\n",
              "native.country    0\n",
              "ID                0\n",
              "dtype: int64"
            ]
          },
          "metadata": {},
          "execution_count": 14
        }
      ],
      "source": [
        "df_test.isna().sum()   # We count the number of null records we have in our test dataset."
      ]
    },
    {
      "cell_type": "markdown",
      "metadata": {
        "id": "uMC8J08D-oQh"
      },
      "source": [
        "There are no missing values in either dataset so no imputation of any kind is required."
      ]
    },
    {
      "cell_type": "markdown",
      "source": [
        "### Presence of unknown values"
      ],
      "metadata": {
        "id": "YosIGH2uhBtN"
      }
    },
    {
      "cell_type": "code",
      "source": [
        "# There are variables in the columns that are unknown \"?\", we have to find out where they are and decide what to do with them in our model.\n",
        "df_categoricas = df_train.select_dtypes(\"object\")## select the categorical variables\n",
        "\n",
        "# we will search within the categorical variables of the data train for the unknown features\n",
        "\n",
        "df_categoricas.apply(lambda x: x== \"?\", axis = 0).sum()"
      ],
      "metadata": {
        "id": "DqO3o_ss5wDl",
        "colab": {
          "base_uri": "https://localhost:8080/"
        },
        "outputId": "258895f5-509b-43bc-cd82-6cf51a84a599"
      },
      "execution_count": null,
      "outputs": [
        {
          "output_type": "execute_result",
          "data": {
            "text/plain": [
              "workclass         1539\n",
              "education            0\n",
              "marital.status       0\n",
              "occupation        1546\n",
              "relationship         0\n",
              "race                 0\n",
              "sex                  0\n",
              "native.country     504\n",
              "income               0\n",
              "dtype: int64"
            ]
          },
          "metadata": {},
          "execution_count": 15
        }
      ]
    },
    {
      "cell_type": "code",
      "source": [
        "# we will search within the categorical variables of the data test for the unknown features\n",
        "df_test.select_dtypes(\"object\").apply(lambda x: x== \"?\", axis = 0).sum()"
      ],
      "metadata": {
        "id": "22YTQgOI8FLK",
        "colab": {
          "base_uri": "https://localhost:8080/"
        },
        "outputId": "9e1c00bd-a6a1-4f63-853b-2eddf47df1a4"
      },
      "execution_count": null,
      "outputs": [
        {
          "output_type": "execute_result",
          "data": {
            "text/plain": [
              "workclass         297\n",
              "education           0\n",
              "marital.status      0\n",
              "occupation        297\n",
              "relationship        0\n",
              "race                0\n",
              "sex                 0\n",
              "native.country     78\n",
              "dtype: int64"
            ]
          },
          "metadata": {},
          "execution_count": 16
        }
      ]
    },
    {
      "cell_type": "code",
      "source": [
        "## we will drop the rows with \"?\" in the data train\n",
        "df_train = df_train[df_train[\"workclass\"] != \"?\"]\n",
        "df_train = df_train[df_train[\"occupation\"] != \"?\"]\n",
        "df_train = df_train[df_train[\"native.country\"] != \"?\"]"
      ],
      "metadata": {
        "id": "P632GdtO7vcM"
      },
      "execution_count": null,
      "outputs": []
    },
    {
      "cell_type": "code",
      "source": [
        "df_train.select_dtypes(\"object\").apply(lambda x: x== \"?\", axis = 0).sum() ## we check the data train to make sure that we have dropped \"?\""
      ],
      "metadata": {
        "id": "XEGjEMjk8u9u",
        "colab": {
          "base_uri": "https://localhost:8080/"
        },
        "outputId": "130d06e7-d354-49dc-a539-1cfc0d3fc94f"
      },
      "execution_count": null,
      "outputs": [
        {
          "output_type": "execute_result",
          "data": {
            "text/plain": [
              "workclass         0\n",
              "education         0\n",
              "marital.status    0\n",
              "occupation        0\n",
              "relationship      0\n",
              "race              0\n",
              "sex               0\n",
              "native.country    0\n",
              "income            0\n",
              "dtype: int64"
            ]
          },
          "metadata": {},
          "execution_count": 18
        }
      ]
    },
    {
      "cell_type": "code",
      "source": [
        "## we will drop the rows with \"?\" in the data test\n",
        "df_test = df_test[df_test[\"workclass\"] != \"?\"]\n",
        "df_test = df_test[df_test[\"occupation\"] != \"?\"]\n",
        "df_test = df_test[df_test[\"native.country\"] != \"?\"]"
      ],
      "metadata": {
        "id": "lCyLjlEn895q"
      },
      "execution_count": null,
      "outputs": []
    },
    {
      "cell_type": "code",
      "source": [
        "df_test.select_dtypes(\"object\").apply(lambda x: x== \"?\", axis = 0).sum() ## we check the data test to make sure we have dropped \"?\""
      ],
      "metadata": {
        "id": "DEu5-d8G9Its",
        "colab": {
          "base_uri": "https://localhost:8080/"
        },
        "outputId": "b107a641-fcea-4146-ba40-84870389add7"
      },
      "execution_count": null,
      "outputs": [
        {
          "output_type": "execute_result",
          "data": {
            "text/plain": [
              "workclass         0\n",
              "education         0\n",
              "marital.status    0\n",
              "occupation        0\n",
              "relationship      0\n",
              "race              0\n",
              "sex               0\n",
              "native.country    0\n",
              "dtype: int64"
            ]
          },
          "metadata": {},
          "execution_count": 20
        }
      ]
    },
    {
      "cell_type": "markdown",
      "source": [
        "We eliminated the unknown values in the training and test data in the columns workclass, native.country and occupation. This data corresponds to a percentage of less than 5% of the test and training data set."
      ],
      "metadata": {
        "id": "XPlxG6bHt0cG"
      }
    },
    {
      "cell_type": "markdown",
      "metadata": {
        "id": "GiX9NYUaxlTi"
      },
      "source": [
        "###Data visualization."
      ]
    },
    {
      "cell_type": "markdown",
      "metadata": {
        "id": "gGog3P-MGkhn"
      },
      "source": [
        "We show the distribution and behavior of variables. Bart charts were used to study **categorical variables** and histograms and boxplots were used to sudy **numerical variables**."
      ]
    },
    {
      "cell_type": "markdown",
      "metadata": {
        "id": "sOpEbKtxwCLW"
      },
      "source": [
        "#### Categorical variables"
      ]
    },
    {
      "cell_type": "code",
      "execution_count": null,
      "metadata": {
        "colab": {
          "base_uri": "https://localhost:8080/",
          "height": 279
        },
        "id": "OKXdy878gPx_",
        "outputId": "91d135c4-a068-49ca-8b64-a8a52c62de89"
      },
      "outputs": [
        {
          "output_type": "display_data",
          "data": {
            "text/plain": [
              "<Figure size 1080x288 with 1 Axes>"
            ],
            "image/png": "[encoded data removed]"
          },
          "metadata": {
            "needs_background": "light"
          }
        }
      ],
      "source": [
        "# workclass variable  plot \n",
        "plt.figure(figsize=(15,4))\n",
        "sns.countplot(x='workclass', data= df_train, order = df_train['workclass'].value_counts().index)\n",
        "plt.show()"
      ]
    },
    {
      "cell_type": "code",
      "execution_count": null,
      "metadata": {
        "colab": {
          "base_uri": "https://localhost:8080/",
          "height": 264
        },
        "id": "XqtjoUecv6x_",
        "outputId": "b2b32b64-7dfc-43e4-ecf9-d3156b4c141b"
      },
      "outputs": [
        {
          "output_type": "display_data",
          "data": {
            "text/plain": [
              "<Figure size 1440x288 with 1 Axes>"
            ],
            "image/png": "[encoded data removed]"
          },
          "metadata": {
            "needs_background": "light"
          }
        }
      ],
      "source": [
        "# Education variable plot\n",
        "plt.figure(figsize=(20,4))\n",
        "sns.countplot(x='education', data= df_train, order = df_train['education'].value_counts().index)\n",
        "plt.show()"
      ]
    },
    {
      "cell_type": "code",
      "execution_count": null,
      "metadata": {
        "colab": {
          "base_uri": "https://localhost:8080/",
          "height": 217
        },
        "id": "tgblLZHAwLr_",
        "outputId": "2e87db62-7440-445e-e008-73f43601b1e5"
      },
      "outputs": [
        {
          "output_type": "display_data",
          "data": {
            "text/plain": [
              "<Figure size 1800x288 with 1 Axes>"
            ],
            "image/png": "[encoded data removed]"
          },
          "metadata": {
            "needs_background": "light"
          }
        }
      ],
      "source": [
        "#Occupation variable plot\n",
        "plt.figure(figsize=(25,4))\n",
        "sns.countplot(x='occupation', data= df_train, order = df_train['occupation'].value_counts().index)\n",
        "plt.show()"
      ]
    },
    {
      "cell_type": "code",
      "execution_count": null,
      "metadata": {
        "colab": {
          "base_uri": "https://localhost:8080/",
          "height": 279
        },
        "id": "60IYSxXmwaUH",
        "outputId": "711b1623-dd8b-4450-8e9d-5bb74c1e70c8"
      },
      "outputs": [
        {
          "output_type": "display_data",
          "data": {
            "text/plain": [
              "<Figure size 432x288 with 1 Axes>"
            ],
            "image/png": "[encoded data removed]"
          },
          "metadata": {
            "needs_background": "light"
          }
        }
      ],
      "source": [
        "# sex variable education\n",
        "plt.figure(figsize=(6,4))\n",
        "sns.countplot(x='sex', data= df_train, order = df_train['sex'].value_counts().index)\n",
        "plt.show()"
      ]
    },
    {
      "cell_type": "code",
      "execution_count": null,
      "metadata": {
        "colab": {
          "base_uri": "https://localhost:8080/",
          "height": 279
        },
        "id": "TYEq_O7mwtWR",
        "outputId": "3f379b9b-845f-49a6-f12a-8b469ddca2b2"
      },
      "outputs": [
        {
          "output_type": "display_data",
          "data": {
            "text/plain": [
              "<Figure size 720x288 with 1 Axes>"
            ],
            "image/png": "[encoded data removed]"
          },
          "metadata": {
            "needs_background": "light"
          }
        }
      ],
      "source": [
        "# Race variable plot\n",
        "plt.figure(figsize=(10,4))\n",
        "sns.countplot(x='race', data= df_train, order = df_train['race'].value_counts().index)\n",
        "plt.show()"
      ]
    },
    {
      "cell_type": "code",
      "execution_count": null,
      "metadata": {
        "colab": {
          "base_uri": "https://localhost:8080/",
          "height": 279
        },
        "id": "OuhSjTYlxBSM",
        "outputId": "cfeeab78-8ba8-4b13-c13c-2b79e874e3b0"
      },
      "outputs": [
        {
          "output_type": "display_data",
          "data": {
            "text/plain": [
              "<Figure size 720x288 with 1 Axes>"
            ],
            "image/png": "[encoded data removed]"
          },
          "metadata": {
            "needs_background": "light"
          }
        }
      ],
      "source": [
        "# Relationship variable plot\n",
        "plt.figure(figsize=(10,4))\n",
        "sns.countplot(x='relationship', data= df_train, order = df_train['relationship'].value_counts().index)\n",
        "plt.show()"
      ]
    },
    {
      "cell_type": "code",
      "execution_count": null,
      "metadata": {
        "colab": {
          "base_uri": "https://localhost:8080/",
          "height": 279
        },
        "id": "LHXpfg0YxLZY",
        "outputId": "ac3023ef-e5b2-475e-9e92-0e5b3c2f2882"
      },
      "outputs": [
        {
          "output_type": "display_data",
          "data": {
            "text/plain": [
              "<Figure size 1080x288 with 1 Axes>"
            ],
            "image/png": "[encoded data removed]"
          },
          "metadata": {
            "needs_background": "light"
          }
        }
      ],
      "source": [
        "# marital.status variable plot\n",
        "plt.figure(figsize=(15,4))\n",
        "sns.countplot(x='marital.status', data= df_train, order = df_train['marital.status'].value_counts().index)\n",
        "plt.show()"
      ]
    },
    {
      "cell_type": "code",
      "execution_count": null,
      "metadata": {
        "colab": {
          "base_uri": "https://localhost:8080/",
          "height": 216
        },
        "id": "98rDAQdvxxl3",
        "outputId": "ba42a341-b59f-43f6-c310-51261ce159a6"
      },
      "outputs": [
        {
          "output_type": "display_data",
          "data": {
            "text/plain": [
              "<Figure size 1800x288 with 1 Axes>"
            ],
            "image/png": "[encoded data removed]"
          },
          "metadata": {
            "needs_background": "light"
          }
        }
      ],
      "source": [
        "# native.country variable plot\n",
        "plt.figure(figsize=(25,4))\n",
        "sns.countplot(x='native.country', data= df_train, order = df_train['native.country'].value_counts().iloc[:10].index)\n",
        "plt.show()"
      ]
    },
    {
      "cell_type": "code",
      "execution_count": null,
      "metadata": {
        "colab": {
          "base_uri": "https://localhost:8080/"
        },
        "id": "-q6_cbAQvCBT",
        "outputId": "424f452a-e9ee-4a6e-96c4-64828f616623"
      },
      "outputs": [
        {
          "output_type": "execute_result",
          "data": {
            "text/plain": [
              "array(['United-States', 'Jamaica', 'India', 'Mexico', 'Philippines',\n",
              "       'Dominican-Republic', 'El-Salvador', 'China', 'Thailand',\n",
              "       'Ireland', 'Laos', 'Iran', 'France', 'Guatemala', 'South',\n",
              "       'Puerto-Rico', 'Japan', 'Portugal', 'Greece', 'Canada', 'Poland',\n",
              "       'Peru', 'Cuba', 'Columbia', 'Germany', 'Italy', 'Hong', 'Haiti',\n",
              "       'Ecuador', 'England', 'Nicaragua', 'Cambodia', 'Trinadad&Tobago',\n",
              "       'Vietnam', 'Honduras', 'Taiwan', 'Scotland', 'Yugoslavia',\n",
              "       'Hungary', 'Outlying-US(Guam-USVI-etc)', 'Holand-Netherlands'],\n",
              "      dtype=object)"
            ]
          },
          "metadata": {},
          "execution_count": 29
        }
      ],
      "source": [
        "df_train['native.country'].unique()"
      ]
    },
    {
      "cell_type": "code",
      "execution_count": null,
      "metadata": {
        "colab": {
          "base_uri": "https://localhost:8080/",
          "height": 282
        },
        "id": "_0V3dbG8-2k5",
        "outputId": "8912f41c-c004-4fcf-e1db-3344c56126a5"
      },
      "outputs": [
        {
          "output_type": "display_data",
          "data": {
            "text/plain": [
              "<Figure size 432x288 with 1 Axes>"
            ],
            "image/png": "[encoded data removed]"
          },
          "metadata": {
            "needs_background": "light"
          }
        }
      ],
      "source": [
        "# income variable plot\n",
        "plt.figure(figsize=(6,4))\n",
        "sns.countplot(x='income', data= df_train, order = df_train['income'].value_counts().index)\n",
        "plt.show()"
      ]
    },
    {
      "cell_type": "markdown",
      "metadata": {
        "id": "uyNJBNekRssq"
      },
      "source": [
        " **Results of the categorical variables**: \n",
        "\n",
        "-The variable workclass shows that most of the cases under study work in the private class.\n",
        "\n",
        "-The education variable shows that most of the cases are high school graduates, followed by some college and bachelor's degree.\n",
        "\n",
        "-The occupation variable shows an equal distribution for occupations with a skilled trade and craft repair, followed by a close number of cases, followed by executive positions (exec.), followed by a skilled trade and craft repair. \n",
        "followed by executive positions (exec managerial).\n",
        "\n",
        "-In the sex variable, men predominate over women and in the race variable, the most frequent race is white, followed by black and Asian.\n",
        "\n",
        "-In the marital status variable, there was a predominance of the Married category, followed by never married and divorced.\n",
        "\n",
        "-In the relationship variable, it is to be expected that the majority belong to the \"husband\" category. Since in the gender and marital status variables, the majority are male and married respectively. \n",
        "\n",
        "-The most frequent category was notably United States over the rest in the Native Country variable.\n",
        "\n",
        "-On the other hand, the income variable showed that most of the cases within the dataset have incomes less than or equal to 50k."
      ]
    },
    {
      "cell_type": "markdown",
      "metadata": {
        "id": "uOAL9RA9KtAX"
      },
      "source": [
        "## Processing of categorical variables.\n"
      ]
    },
    {
      "cell_type": "markdown",
      "metadata": {
        "id": "pll8cEwyHbbN"
      },
      "source": [
        "Taking into account that our datasets do not present nulls, we start with the processing of the categorical variables."
      ]
    },
    {
      "cell_type": "markdown",
      "source": [
        "### Variables present in the training set and in the test set"
      ],
      "metadata": {
        "id": "Q3weHlMvXZzq"
      }
    },
    {
      "cell_type": "code",
      "source": [
        "## Function to compare the data between columns of the data train and the data set\n",
        "columns= ['workclass', 'education','marital.status', 'occupation', 'relationship', 'race', 'sex', 'native.country']\n",
        "\n",
        "def comparar(columns):\n",
        "  for i in columns:\n",
        "      extra_test=[]\n",
        "      for x in df_train[i].unique():\n",
        "        if x not in df_test[i].unique():\n",
        "          extra_test.append(x)\n",
        "  \n",
        "      print(f\" La data {extra_test} se encuentra en el data train pero no en el testeo\")\n",
        "\n",
        "comparar(columns)"
      ],
      "metadata": {
        "colab": {
          "base_uri": "https://localhost:8080/"
        },
        "id": "GHt89yLKXWcg",
        "outputId": "d9379ad0-55d6-4fc3-8db8-78f9034a3de3"
      },
      "execution_count": null,
      "outputs": [
        {
          "output_type": "stream",
          "name": "stdout",
          "text": [
            " La data ['Without-pay'] se encuentra en el data train pero no en el testeo\n",
            " La data ['7th-8th', '5th-6th'] se encuentra en el data train pero no en el testeo\n",
            " La data [] se encuentra en el data train pero no en el testeo\n",
            " La data [] se encuentra en el data train pero no en el testeo\n",
            " La data [] se encuentra en el data train pero no en el testeo\n",
            " La data [] se encuentra en el data train pero no en el testeo\n",
            " La data [] se encuentra en el data train pero no en el testeo\n",
            " La data ['Holand-Netherlands'] se encuentra en el data train pero no en el testeo\n"
          ]
        }
      ]
    },
    {
      "cell_type": "markdown",
      "source": [
        "As there are missing elements in the test data we use replace to make the encoder in the data test."
      ],
      "metadata": {
        "id": "dDxoUJ0Tdnha"
      }
    },
    {
      "cell_type": "code",
      "source": [
        "workclass_dict={ \n",
        "   # '?': 0,\n",
        "    'Federal-gov': 0,\n",
        "    'Local-gov': 1,\n",
        "    'Private': 2,\n",
        "    'Self-emp-inc': 3,\n",
        "    'Self-emp-not-inc': 4,\n",
        "    'State-gov': 5  \n",
        " }\n",
        "\n",
        "df_test[\"workclass\"]=df_test.workclass.replace(workclass_dict)"
      ],
      "metadata": {
        "id": "T1kRO8CKH-nj"
      },
      "execution_count": null,
      "outputs": []
    },
    {
      "cell_type": "code",
      "source": [
        "# we check how many rows have this country as a native country\n",
        "df_train[df_train[\"native.country\"] == 'Holand-Netherlands'].shape[0] "
      ],
      "metadata": {
        "id": "k59XT8yIaOsV",
        "colab": {
          "base_uri": "https://localhost:8080/"
        },
        "outputId": "a491458f-0121-466c-ce96-310b1bfbb656"
      },
      "execution_count": null,
      "outputs": [
        {
          "output_type": "execute_result",
          "data": {
            "text/plain": [
              "1"
            ]
          },
          "metadata": {},
          "execution_count": 55
        }
      ]
    },
    {
      "cell_type": "code",
      "source": [
        "#Only one row has this country as native, so we can remove it from our data train.\n",
        "df_train = df_train.drop(df_train[df_train['native.country']=='Holand-Netherlands'].index[0], axis= 0)"
      ],
      "metadata": {
        "id": "iwDsHNkE4ax4"
      },
      "execution_count": null,
      "outputs": []
    },
    {
      "cell_type": "markdown",
      "source": [
        "### Encoder de variables categoricas"
      ],
      "metadata": {
        "id": "jR6Fc30FYswF"
      }
    },
    {
      "cell_type": "code",
      "source": [
        "# import LabelEncoder for nominal variables\n",
        "\n",
        "from sklearn.preprocessing import LabelEncoder\n",
        "\n",
        "le = LabelEncoder()"
      ],
      "metadata": {
        "id": "kKweUfiOZIvs"
      },
      "execution_count": null,
      "outputs": []
    },
    {
      "cell_type": "code",
      "source": [
        "# We make the encoder for the categorical variables of the data train.\n",
        "df_categorical_train = df_train.select_dtypes(\"object\").apply(le.fit_transform)"
      ],
      "metadata": {
        "id": "pqMFi2db_pqf"
      },
      "execution_count": null,
      "outputs": []
    },
    {
      "cell_type": "code",
      "source": [
        "## select numerical variables\n",
        "df_num = df_train.select_dtypes(\"number\")"
      ],
      "metadata": {
        "id": "C02a6zTUli5g"
      },
      "execution_count": null,
      "outputs": []
    },
    {
      "cell_type": "code",
      "source": [
        "# concatenate our encoder categorical variables with our train numeric variables\n",
        "df_train = pd.concat([df_num,df_categorical_train], axis= 1)"
      ],
      "metadata": {
        "id": "egx9-C-lBP46"
      },
      "execution_count": null,
      "outputs": []
    },
    {
      "cell_type": "code",
      "source": [
        "# We make the encoder for the categorical variables of the data test.\n",
        "columns_rest_test= ['education','marital.status', 'occupation', 'relationship', 'race', 'sex', 'native.country']\n",
        "df_categorical_test = df_test[columns_rest_test].apply(le.fit_transform)\n",
        "df_num_test= df_test.drop(columns_rest_test, axis=1)\n",
        "\n",
        "# concatenate our encoder categorical variables with our test numeric variables\n",
        "df_test = pd.concat([df_num_test,df_categorical_test], axis= 1)"
      ],
      "metadata": {
        "id": "FHUo6cFvcOpO"
      },
      "execution_count": null,
      "outputs": []
    },
    {
      "cell_type": "code",
      "source": [
        "## Make sure we only have numeric variables\n",
        "df_train.info()"
      ],
      "metadata": {
        "id": "QkD3uW6U_BRe",
        "colab": {
          "base_uri": "https://localhost:8080/"
        },
        "outputId": "bf29d8e5-97ed-42bc-8f32-f3b55fedcf70"
      },
      "execution_count": null,
      "outputs": [
        {
          "output_type": "stream",
          "name": "stdout",
          "text": [
            "<class 'pandas.core.frame.DataFrame'>\n",
            "Int64Index: 22152 entries, 0 to 27654\n",
            "Data columns (total 16 columns):\n",
            " #   Column          Non-Null Count  Dtype\n",
            "---  ------          --------------  -----\n",
            " 0   index           22152 non-null  int64\n",
            " 1   age             22152 non-null  int64\n",
            " 2   education.num   22152 non-null  int64\n",
            " 3   capital.gain    22152 non-null  int64\n",
            " 4   capital.loss    22152 non-null  int64\n",
            " 5   hours.per.week  22152 non-null  int64\n",
            " 6   ID              22152 non-null  int64\n",
            " 7   workclass       22152 non-null  int64\n",
            " 8   education       22152 non-null  int64\n",
            " 9   marital.status  22152 non-null  int64\n",
            " 10  occupation      22152 non-null  int64\n",
            " 11  relationship    22152 non-null  int64\n",
            " 12  race            22152 non-null  int64\n",
            " 13  sex             22152 non-null  int64\n",
            " 14  native.country  22152 non-null  int64\n",
            " 15  income          22152 non-null  int64\n",
            "dtypes: int64(16)\n",
            "memory usage: 2.9 MB\n"
          ]
        }
      ]
    },
    {
      "cell_type": "code",
      "source": [
        "## Make sure we only have numeric variables\n",
        "df_test.info()"
      ],
      "metadata": {
        "id": "comQ_LcK_eUH",
        "colab": {
          "base_uri": "https://localhost:8080/"
        },
        "outputId": "33ccfb6b-29b8-4a25-9015-9470325634b2"
      },
      "execution_count": null,
      "outputs": [
        {
          "output_type": "stream",
          "name": "stdout",
          "text": [
            "<class 'pandas.core.frame.DataFrame'>\n",
            "Int64Index: 3769 entries, 0 to 4879\n",
            "Data columns (total 15 columns):\n",
            " #   Column          Non-Null Count  Dtype\n",
            "---  ------          --------------  -----\n",
            " 0   index           3769 non-null   int64\n",
            " 1   age             3769 non-null   int64\n",
            " 2   workclass       3769 non-null   int64\n",
            " 3   education.num   3769 non-null   int64\n",
            " 4   capital.gain    3769 non-null   int64\n",
            " 5   capital.loss    3769 non-null   int64\n",
            " 6   hours.per.week  3769 non-null   int64\n",
            " 7   ID              3769 non-null   int64\n",
            " 8   education       3769 non-null   int64\n",
            " 9   marital.status  3769 non-null   int64\n",
            " 10  occupation      3769 non-null   int64\n",
            " 11  relationship    3769 non-null   int64\n",
            " 12  race            3769 non-null   int64\n",
            " 13  sex             3769 non-null   int64\n",
            " 14  native.country  3769 non-null   int64\n",
            "dtypes: int64(15)\n",
            "memory usage: 471.1 KB\n"
          ]
        }
      ]
    },
    {
      "cell_type": "code",
      "source": [
        "## We analyze the proportions of the target \"income\"\n",
        "\n",
        "fig= plt.figure()\n",
        "fig.set_size_inches(5, 5)\n",
        "ax1 = plt.axes()\n",
        "sns.countplot(x=\"income\", data=df_train)"
      ],
      "metadata": {
        "id": "Q54sA-4sfI_D",
        "colab": {
          "base_uri": "https://localhost:8080/",
          "height": 351
        },
        "outputId": "59eb29b1-4124-4b09-91a3-f275f0a64b7a"
      },
      "execution_count": null,
      "outputs": [
        {
          "output_type": "execute_result",
          "data": {
            "text/plain": [
              "<matplotlib.axes._subplots.AxesSubplot at 0x7ff06bee0290>"
            ]
          },
          "metadata": {},
          "execution_count": 64
        },
        {
          "output_type": "display_data",
          "data": {
            "text/plain": [
              "<Figure size 360x360 with 1 Axes>"
            ],
            "image/png": "[encoded data removed]"
          },
          "metadata": {
            "needs_background": "light"
          }
        }
      ]
    },
    {
      "cell_type": "code",
      "source": [
        "df_train.income.value_counts(normalize=True)"
      ],
      "metadata": {
        "id": "-hzpX7ojftdE",
        "colab": {
          "base_uri": "https://localhost:8080/"
        },
        "outputId": "21ec64ae-f3f8-4e2e-de41-9c65620c4858"
      },
      "execution_count": null,
      "outputs": [
        {
          "output_type": "execute_result",
          "data": {
            "text/plain": [
              "0    0.753927\n",
              "1    0.246073\n",
              "Name: income, dtype: float64"
            ]
          },
          "metadata": {},
          "execution_count": 65
        }
      ]
    },
    {
      "cell_type": "markdown",
      "source": [
        "\n",
        "Our target variable was encoded as follows:\n",
        "\n",
        "* 0 if the person earns less than 50 thousand dollars.\n",
        "* 1 if the person earns more than 50 thousand dollars.\n"
      ],
      "metadata": {
        "id": "0r2u4d-A0ABw"
      }
    },
    {
      "cell_type": "markdown",
      "metadata": {
        "id": "3g61xqh20rcC"
      },
      "source": [
        "## Model"
      ]
    },
    {
      "cell_type": "code",
      "execution_count": null,
      "metadata": {
        "id": "nIhFJ3EHXJwA"
      },
      "outputs": [],
      "source": [
        "# We drop the categorical attributes and the ID and index variables of the training dataset\n",
        "df_train2= df_train.copy()\n",
        "df_train2 = df_train2.drop(['ID', 'index'], axis= 1)"
      ]
    },
    {
      "cell_type": "code",
      "execution_count": null,
      "metadata": {
        "colab": {
          "base_uri": "https://localhost:8080/"
        },
        "id": "fpvCldthYoDP",
        "outputId": "ba630d76-c386-4075-c60c-83674b206f48"
      },
      "outputs": [
        {
          "output_type": "stream",
          "name": "stdout",
          "text": [
            "<class 'pandas.core.frame.DataFrame'>\n",
            "Int64Index: 22152 entries, 0 to 27654\n",
            "Data columns (total 14 columns):\n",
            " #   Column          Non-Null Count  Dtype\n",
            "---  ------          --------------  -----\n",
            " 0   age             22152 non-null  int64\n",
            " 1   education.num   22152 non-null  int64\n",
            " 2   capital.gain    22152 non-null  int64\n",
            " 3   capital.loss    22152 non-null  int64\n",
            " 4   hours.per.week  22152 non-null  int64\n",
            " 5   workclass       22152 non-null  int64\n",
            " 6   education       22152 non-null  int64\n",
            " 7   marital.status  22152 non-null  int64\n",
            " 8   occupation      22152 non-null  int64\n",
            " 9   relationship    22152 non-null  int64\n",
            " 10  race            22152 non-null  int64\n",
            " 11  sex             22152 non-null  int64\n",
            " 12  native.country  22152 non-null  int64\n",
            " 13  income          22152 non-null  int64\n",
            "dtypes: int64(14)\n",
            "memory usage: 3.0 MB\n"
          ]
        }
      ],
      "source": [
        "df_train2.info()"
      ]
    },
    {
      "cell_type": "code",
      "execution_count": null,
      "metadata": {
        "id": "oLg03hKhY7ne"
      },
      "outputs": [],
      "source": [
        "# We drop the categorical attributes and the ID and index variables of the testing dataset\n",
        "df_test2 = df_test.drop(['ID', 'index'], axis= 1)"
      ]
    },
    {
      "cell_type": "code",
      "execution_count": null,
      "metadata": {
        "colab": {
          "base_uri": "https://localhost:8080/"
        },
        "id": "o5UO5Fa1ZOMW",
        "outputId": "faaac2c4-d640-4eab-9320-e69c037f7e08"
      },
      "outputs": [
        {
          "output_type": "stream",
          "name": "stdout",
          "text": [
            "<class 'pandas.core.frame.DataFrame'>\n",
            "Int64Index: 3769 entries, 0 to 4879\n",
            "Data columns (total 13 columns):\n",
            " #   Column          Non-Null Count  Dtype\n",
            "---  ------          --------------  -----\n",
            " 0   age             3769 non-null   int64\n",
            " 1   workclass       3769 non-null   int64\n",
            " 2   education.num   3769 non-null   int64\n",
            " 3   capital.gain    3769 non-null   int64\n",
            " 4   capital.loss    3769 non-null   int64\n",
            " 5   hours.per.week  3769 non-null   int64\n",
            " 6   education       3769 non-null   int64\n",
            " 7   marital.status  3769 non-null   int64\n",
            " 8   occupation      3769 non-null   int64\n",
            " 9   relationship    3769 non-null   int64\n",
            " 10  race            3769 non-null   int64\n",
            " 11  sex             3769 non-null   int64\n",
            " 12  native.country  3769 non-null   int64\n",
            "dtypes: int64(13)\n",
            "memory usage: 412.2 KB\n"
          ]
        }
      ],
      "source": [
        "df_test2.info()"
      ]
    },
    {
      "cell_type": "markdown",
      "metadata": {
        "id": "9BP1Cqlr39I_"
      },
      "source": [
        "### Visual analysis: pairplot\n",
        "\n",
        "The distributions and scatterplots that are displayed in the following pairplot were made based on a categorical variable, for example sex, only with the aim of improving exploration and visualization. We could have chosen any other qualitative variable."
      ]
    },
    {
      "cell_type": "code",
      "execution_count": null,
      "metadata": {
        "id": "EWyu8N5o9SAw"
      },
      "outputs": [],
      "source": [
        "df_train_graficos=df_train_graficos.drop(['ID','index'], axis=1)"
      ]
    },
    {
      "cell_type": "code",
      "execution_count": null,
      "metadata": {
        "colab": {
          "base_uri": "https://localhost:8080/",
          "height": 920
        },
        "id": "VD3NJdLl3GlT",
        "outputId": "dde52762-b98b-4b0b-a3bd-8863d94c4834"
      },
      "outputs": [
        {
          "output_type": "execute_result",
          "data": {
            "text/plain": [
              "<seaborn.axisgrid.PairGrid at 0x7ff06be0b790>"
            ]
          },
          "metadata": {},
          "execution_count": 71
        },
        {
          "output_type": "display_data",
          "data": {
            "text/plain": [
              "<Figure size 972.125x900 with 20 Axes>"
            ],
            "image/png": "[encoded data removed]"
          },
          "metadata": {
            "needs_background": "light"
          }
        }
      ],
      "source": [
        "sns.pairplot(df_train_graficos, hue='sex',corner=True)"
      ]
    },
    {
      "cell_type": "markdown",
      "metadata": {
        "id": "vEqL_82cA1gd"
      },
      "source": [
        "With these graphs, in advance, that the numerical variables do not show signs of a linear correlation between them. For this reason we can guess that all the numerical variables must be present to train our model. The heatmap with Pearson's sample correlation coefficients will help us decide.\n",
        "\n",
        "On the other hand, the sex variable is not capable of separating any of the numerical variables into subgroups, so it will be necessary to add more categorical variables to our model."
      ]
    },
    {
      "cell_type": "markdown",
      "metadata": {
        "id": "b7B4gkJH_1iT"
      },
      "source": [
        "###Correlation Heatmap"
      ]
    },
    {
      "cell_type": "markdown",
      "metadata": {
        "id": "nY5ul1euIHT3"
      },
      "source": [
        "#### General"
      ]
    },
    {
      "cell_type": "markdown",
      "metadata": {
        "id": "oP3QRE5bE6iJ"
      },
      "source": [
        "We generate a correlation matrix between the attributes of our training set to decide which variables to start training our model with.\n"
      ]
    },
    {
      "cell_type": "code",
      "execution_count": null,
      "metadata": {
        "id": "LnRd4qYRELkz",
        "colab": {
          "base_uri": "https://localhost:8080/",
          "height": 725
        },
        "outputId": "51ec6efc-d1b5-4454-877a-88a762e54ffc"
      },
      "outputs": [
        {
          "output_type": "execute_result",
          "data": {
            "text/plain": [
              "<matplotlib.axes._subplots.AxesSubplot at 0x7ff066ca0390>"
            ]
          },
          "metadata": {},
          "execution_count": 72
        },
        {
          "output_type": "display_data",
          "data": {
            "text/plain": [
              "<Figure size 864x864 with 2 Axes>"
            ],
            "image/png": "[encoded data removed]"
          },
          "metadata": {
            "needs_background": "light"
          }
        }
      ],
      "source": [
        "# Create a mask for the top triangle of the matrix\n",
        "mask = np.triu(np.ones_like(df_train2.corr(), dtype=bool))\n",
        "\n",
        "# We generate a canvas or figure where to plot\n",
        "f, ax = plt.subplots(figsize=(12, 12))\n",
        "\n",
        "# divergent colormap\n",
        "cmap = sns.diverging_palette(240, 10, as_cmap=True)\n",
        "\n",
        "# Plot the heatmap with the correct mask and image ratio (square)\n",
        "sns.heatmap(df_train2.corr(), mask=mask, cmap=cmap, center=0,\n",
        "            square=True, linewidths=.5, annot=True)"
      ]
    },
    {
      "cell_type": "markdown",
      "metadata": {
        "id": "XWNF-1adJTJE"
      },
      "source": [
        "The Pearson correlation coefficients for the numerical variables are very small in absolute value, this indicates that all of them must be in the model as we anticipated with the pairplot graph.\n",
        "\n",
        "The correlation heatmap also helps us to decide on the categorical variables transformed to numbers, although it is not recommended when one hot encoding is applied. As in our case the method used for such transformation did not increase the number of columns in the training dataset, the correlation analysis in this type of variables is not difficult. As happened with numerical features, the values ​​of the coefficients are small, so we cannot exclude any categorical variable for the prediction of our target."
      ]
    },
    {
      "cell_type": "markdown",
      "metadata": {
        "id": "swabMj3NIRy1"
      },
      "source": [
        "#### Target correlations"
      ]
    },
    {
      "cell_type": "markdown",
      "metadata": {
        "id": "eFZ_O5FkF39I"
      },
      "source": [
        "To simplify the analysis, now we plot only the correlation of the attributes with our target."
      ]
    },
    {
      "cell_type": "code",
      "execution_count": null,
      "metadata": {
        "id": "-wWBTzpTGAXL",
        "colab": {
          "base_uri": "https://localhost:8080/",
          "height": 595
        },
        "outputId": "c660256f-3d75-4661-84df-d24018ed5aa0"
      },
      "outputs": [
        {
          "output_type": "display_data",
          "data": {
            "text/plain": [
              "<Figure size 720x720 with 2 Axes>"
            ],
            "image/png": "[encoded data removed]"
          },
          "metadata": {
            "needs_background": "light"
          }
        }
      ],
      "source": [
        "target_corr = pd.DataFrame(df_train2.corr()['income'], index=df_train2.corr().index)\n",
        "\n",
        "plt.figure(figsize=(10,10))\n",
        "sns.heatmap(target_corr, annot=True, cmap=cmap)\n",
        "\n",
        "plt.show()"
      ]
    },
    {
      "cell_type": "markdown",
      "metadata": {
        "id": "BoUOpf5lQZ9Y"
      },
      "source": [
        "ese significantly small values ​​confirm that no variable should be excluded from the model."
      ]
    },
    {
      "cell_type": "markdown",
      "source": [
        "\n",
        "### Decision tree"
      ],
      "metadata": {
        "id": "mscpmm-rb6fn"
      }
    },
    {
      "cell_type": "markdown",
      "source": [
        "#### Base Line Model"
      ],
      "metadata": {
        "id": "Uoa3NdQ_8lTR"
      }
    },
    {
      "cell_type": "code",
      "source": [
        "from sklearn.tree import DecisionTreeClassifier\n",
        "from sklearn.metrics import accuracy_score\n"
      ],
      "metadata": {
        "id": "LCpGOTl3ckci"
      },
      "execution_count": null,
      "outputs": []
    },
    {
      "cell_type": "code",
      "source": [
        "# We import the necessary library to subdivide the training dataset.\n",
        "from sklearn.model_selection import train_test_split"
      ],
      "metadata": {
        "id": "AU_Rh7f5b_-9"
      },
      "execution_count": null,
      "outputs": []
    },
    {
      "cell_type": "code",
      "execution_count": null,
      "metadata": {
        "colab": {
          "base_uri": "https://localhost:8080/"
        },
        "id": "cjAAcJ46cBFl",
        "outputId": "bdca418c-e634-4619-a144-7fb7eccb50af"
      },
      "outputs": [
        {
          "output_type": "stream",
          "name": "stdout",
          "text": [
            " nuestro modelo base tiene un accuracy para la data train de : 0.8283392585068563\n",
            " nuestro modelo base tiene un accuracy para la data test de : 0.8259986459038592\n"
          ]
        }
      ],
      "source": [
        "# We subdivide the training dataset (the only one that contains information about our target), and we will only use the numeric variables\n",
        "Xbl = df_num\n",
        "ybl = df_train2[\"income\"]\n",
        "\n",
        "X_train, X_test, y_train, y_test = train_test_split(Xbl, ybl, test_size=0.2, random_state= 0, stratify=ybl) \n",
        "\n",
        "tree= DecisionTreeClassifier(max_depth=5)\n",
        "\n",
        "tree.fit(X_train,y_train)\n",
        "\n",
        "train_preds = tree.predict(X_train)\n",
        "test_preds = tree.predict(X_test)\n",
        "\n",
        "acc_train = accuracy_score(y_train, train_preds)\n",
        "acc_test = accuracy_score(y_test, test_preds)\n",
        "\n",
        "print(f\" nuestro modelo base tiene un accuracy para la data train de : {acc_train}\")\n",
        "\n",
        "print(f\" nuestro modelo base tiene un accuracy para la data test de : {acc_test}\")\n"
      ]
    },
    {
      "cell_type": "markdown",
      "metadata": {
        "id": "3H9bQFNw_C7V"
      },
      "source": [
        "#### First evaluation of the max_depth hyperparameter"
      ]
    },
    {
      "cell_type": "code",
      "execution_count": null,
      "metadata": {
        "id": "ge1zs44E_THI"
      },
      "outputs": [],
      "source": [
        "# Subdividimos el dataset de entrenamiento (el único que contiene información de nuestro target)\n",
        "X = df_train2.drop(['income'], axis= 1)\n",
        "y = df_train2[\"income\"]"
      ]
    },
    {
      "cell_type": "markdown",
      "metadata": {
        "id": "FaB3Pxqo_RSt"
      },
      "source": [
        "As we saw in the bar chart and in the summary of statistics for the income variable, the number of values ​​for each of the two categories are not balanced in similar proportions. For this reason, it is necessary to use the \"stratify\" attribute, which preserves the proportion of how the data is distributed in the target column and represents that same distribution proportion in train_test_split.\n"
      ]
    },
    {
      "cell_type": "code",
      "execution_count": null,
      "metadata": {
        "id": "ZyHrT_yw_aPz"
      },
      "outputs": [],
      "source": [
        "X_train, X_test, y_train, y_test = train_test_split(X, y, test_size=0.2, random_state= 42, stratify=y) "
      ]
    },
    {
      "cell_type": "code",
      "execution_count": null,
      "metadata": {
        "id": "E4JtNcCz_a6H"
      },
      "outputs": [],
      "source": [
        "# We train our DecisionTree by evaluating different depths of the tree to determine the optimal point between under and overfittingmax_depths = np.arange(1, 20)\n",
        "train_acc_scores = []\n",
        "test_acc_scores = []\n",
        "\n",
        "for i in max_depths:\n",
        "  tree = DecisionTreeClassifier(max_depth=i)\n",
        "\n",
        "  tree.fit(X_train, y_train)\n",
        "  train_preds = tree.predict(X_train)\n",
        "  test_preds = tree.predict(X_test)\n",
        "\n",
        "  train_acc_scores.append(accuracy_score(y_train, train_preds))\n",
        "  test_acc_scores.append(accuracy_score(y_test, test_preds))"
      ]
    },
    {
      "cell_type": "code",
      "execution_count": null,
      "metadata": {
        "colab": {
          "base_uri": "https://localhost:8080/",
          "height": 391
        },
        "id": "T_hnOZzK_dib",
        "outputId": "0fd6a266-0c92-47d2-f926-d09c511fa44f"
      },
      "outputs": [
        {
          "output_type": "execute_result",
          "data": {
            "text/plain": [
              "<matplotlib.legend.Legend at 0x7ff066a19310>"
            ]
          },
          "metadata": {},
          "execution_count": 80
        },
        {
          "output_type": "display_data",
          "data": {
            "text/plain": [
              "<Figure size 432x432 with 1 Axes>"
            ],
            "image/png": "[encoded data removed]"
          },
          "metadata": {
            "needs_background": "light"
          }
        }
      ],
      "source": [
        "# Plot the accuracy values ​​for our training and test dataset.\n",
        "plt.figure(figsize=(6,6))\n",
        "\n",
        "plt.plot(max_depths, train_acc_scores, label=\"train\")\n",
        "plt.plot(max_depths, test_acc_scores,  label=\"test\")\n",
        "plt.xticks(max_depths)\n",
        "plt.legend()"
      ]
    },
    {
      "cell_type": "markdown",
      "metadata": {
        "id": "pdlRXJTk_i-j"
      },
      "source": [
        "We see how the accuracy increases as the max depth increases, but from depth 7, both lines separate (it begins to overfit) so we will advance with a max_depth= ​​7."
      ]
    },
    {
      "cell_type": "code",
      "execution_count": null,
      "metadata": {
        "id": "S8fhWmaR_ld7"
      },
      "outputs": [],
      "source": [
        "# We train the tree with max_depth= ​​7 (including cross validation).\n",
        "## f1 score is more useful for unbalanced classes like this data set\n",
        "from sklearn.metrics import f1_score \n",
        "\n",
        "\n",
        "tree_final = DecisionTreeClassifier(max_depth= 7)\n",
        "tree.fit(X_train, y_train)\n",
        "train_preds = tree.predict(X_train)\n",
        "test_preds = tree.predict(X_test)"
      ]
    },
    {
      "cell_type": "code",
      "execution_count": null,
      "metadata": {
        "colab": {
          "base_uri": "https://localhost:8080/"
        },
        "id": "9ONwaOZ0_nSk",
        "outputId": "ae5df55f-8d98-4171-c4e6-51863b435740"
      },
      "outputs": [
        {
          "output_type": "stream",
          "name": "stdout",
          "text": [
            "La exactitud lograda a partir de un modelo de arbol de decisión fue: 0.8366057323403295\n",
            "El f-score logrado a partir de un modelo de arbol de decisión fue: 0.6495643756050339\n"
          ]
        }
      ],
      "source": [
        "# We evaluate the prediction metrics on our target\n",
        "acc = accuracy_score(y_test, test_preds)\n",
        "f_score = f1_score(y_test, test_preds)\n",
        "\n",
        "print(f'The accuracy achieved from a decision tree model was: {acc}')\n",
        "print(f'The f-score achieved from a decision tree model was: {f_score}')"
      ]
    },
    {
      "cell_type": "markdown",
      "source": [
        "##### Confusion matrix"
      ],
      "metadata": {
        "id": "dU3DR10-9AvE"
      }
    },
    {
      "cell_type": "code",
      "source": [
        "from sklearn.metrics import plot_confusion_matrix \n",
        "plot_confusion_matrix(tree, X_test, y_test)"
      ],
      "metadata": {
        "colab": {
          "base_uri": "https://localhost:8080/",
          "height": 352
        },
        "id": "X6t0GFuj-JSN",
        "outputId": "fd7e924c-9ca8-472f-a372-a1a098e81728"
      },
      "execution_count": null,
      "outputs": [
        {
          "output_type": "stream",
          "name": "stderr",
          "text": [
            "/usr/local/lib/python3.7/dist-packages/sklearn/utils/deprecation.py:87: FutureWarning: Function plot_confusion_matrix is deprecated; Function `plot_confusion_matrix` is deprecated in 1.0 and will be removed in 1.2. Use one of the class methods: ConfusionMatrixDisplay.from_predictions or ConfusionMatrixDisplay.from_estimator.\n",
            "  warnings.warn(msg, category=FutureWarning)\n"
          ]
        },
        {
          "output_type": "execute_result",
          "data": {
            "text/plain": [
              "<sklearn.metrics._plot.confusion_matrix.ConfusionMatrixDisplay at 0x7ff066c37cd0>"
            ]
          },
          "metadata": {},
          "execution_count": 83
        },
        {
          "output_type": "display_data",
          "data": {
            "text/plain": [
              "<Figure size 432x288 with 2 Axes>"
            ],
            "image/png": "[encoded data removed]"
          },
          "metadata": {
            "needs_background": "light"
          }
        }
      ]
    },
    {
      "cell_type": "markdown",
      "source": [
        "##### Classification Report"
      ],
      "metadata": {
        "id": "X8nRSQnH9NTC"
      }
    },
    {
      "cell_type": "code",
      "execution_count": null,
      "metadata": {
        "colab": {
          "base_uri": "https://localhost:8080/"
        },
        "id": "GoEkk5vbPb96",
        "outputId": "5d5eb101-e858-4383-b172-0f128bb22ec3"
      },
      "outputs": [
        {
          "output_type": "stream",
          "name": "stdout",
          "text": [
            "              precision    recall  f1-score   support\n",
            "\n",
            "           0       0.88      0.91      0.89      3341\n",
            "           1       0.69      0.62      0.65      1090\n",
            "\n",
            "    accuracy                           0.84      4431\n",
            "   macro avg       0.78      0.76      0.77      4431\n",
            "weighted avg       0.83      0.84      0.83      4431\n",
            "\n"
          ]
        }
      ],
      "source": [
        "from sklearn.metrics import classification_report\n",
        "print(classification_report(y_test, tree.predict(X_test)))"
      ]
    },
    {
      "cell_type": "markdown",
      "metadata": {
        "id": "QWn4h1SLQFfx"
      },
      "source": [
        "##### Cross Validation"
      ]
    },
    {
      "cell_type": "code",
      "execution_count": null,
      "metadata": {
        "id": "RmBJmoNBuyRk"
      },
      "outputs": [],
      "source": [
        "from sklearn.model_selection import cross_val_score"
      ]
    },
    {
      "cell_type": "code",
      "execution_count": null,
      "metadata": {
        "id": "E6ZkXue4u9VU"
      },
      "outputs": [],
      "source": [
        "tree_scores = cross_val_score(tree, X, y, cv=5) "
      ]
    },
    {
      "cell_type": "code",
      "execution_count": null,
      "metadata": {
        "colab": {
          "base_uri": "https://localhost:8080/"
        },
        "id": "13X_Ti3yvHQ_",
        "outputId": "ceb033e5-bd46-4943-ffde-a55a2c817a42"
      },
      "outputs": [
        {
          "output_type": "execute_result",
          "data": {
            "text/plain": [
              "array([0.83434891, 0.81900248, 0.83069977, 0.82663657, 0.8275395 ])"
            ]
          },
          "metadata": {},
          "execution_count": 87
        }
      ],
      "source": [
        "tree_scores"
      ]
    },
    {
      "cell_type": "code",
      "execution_count": null,
      "metadata": {
        "colab": {
          "base_uri": "https://localhost:8080/"
        },
        "id": "ggPmdyc6vLCf",
        "outputId": "23212b1f-26d2-47ce-83d9-b9131f5f562c"
      },
      "outputs": [
        {
          "output_type": "stream",
          "name": "stdout",
          "text": [
            " La media del score de nuestro modelo se mantiene en 0.8276454468899346\n"
          ]
        }
      ],
      "source": [
        "tree_mean=tree_scores.mean()\n",
        "\n",
        "print(f\" The mean score of our model remains at {tree_mean}\")"
      ]
    },
    {
      "cell_type": "markdown",
      "source": [
        "##### GridSearch \n",
        "\n"
      ],
      "metadata": {
        "id": "Yw9Ceg46rZiX"
      }
    },
    {
      "cell_type": "markdown",
      "source": [
        "We do an exhaustive hyperparameter search using Grid Search."
      ],
      "metadata": {
        "id": "SwlloVGAsFMz"
      }
    },
    {
      "cell_type": "code",
      "source": [
        "from sklearn.model_selection import GridSearchCV\n"
      ],
      "metadata": {
        "id": "K6h7KSGArijz"
      },
      "execution_count": null,
      "outputs": []
    },
    {
      "cell_type": "markdown",
      "source": [
        "\n",
        "We define our **parameters** as follows:\n",
        "- max_depth: range(1,15)\n",
        "- min_samples_split: range(1,10)\n",
        "- min_samples_leaf: range(1,10)"
      ],
      "metadata": {
        "id": "3TvUUtw4sQK8"
      }
    },
    {
      "cell_type": "code",
      "source": [
        "parameters = {\n",
        "    'max_depth': range(1, 15, 1),\n",
        "    'min_samples_split': range(1, 15, 1),\n",
        "    'min_samples_leaf': range(1, 15, 1)\n",
        "}"
      ],
      "metadata": {
        "id": "Cz1sV8m5sHxb"
      },
      "execution_count": null,
      "outputs": []
    },
    {
      "cell_type": "markdown",
      "source": [
        "We train the model with **different hyperparameters**, performing **cross validation**."
      ],
      "metadata": {
        "id": "TqK36BjqH4np"
      }
    },
    {
      "cell_type": "code",
      "source": [
        "gs = GridSearchCV(tree, parameters, scoring=\"accuracy\", cv=5)\n",
        "gs.fit(X_train, y_train)\n",
        "\n"
      ],
      "metadata": {
        "colab": {
          "base_uri": "https://localhost:8080/"
        },
        "id": "O4Psob-ZvZWX",
        "outputId": "d7ef0088-4cf8-4015-d3df-12036f8b9c6b"
      },
      "execution_count": null,
      "outputs": [
        {
          "output_type": "stream",
          "name": "stderr",
          "text": [
            "/usr/local/lib/python3.7/dist-packages/sklearn/model_selection/_validation.py:372: FitFailedWarning: \n",
            "980 fits failed out of a total of 13720.\n",
            "The score on these train-test partitions for these parameters will be set to nan.\n",
            "If these failures are not expected, you can try to debug them by setting error_score='raise'.\n",
            "\n",
            "Below are more details about the failures:\n",
            "--------------------------------------------------------------------------------\n",
            "980 fits failed with the following error:\n",
            "Traceback (most recent call last):\n",
            "  File \"/usr/local/lib/python3.7/dist-packages/sklearn/model_selection/_validation.py\", line 680, in _fit_and_score\n",
            "    estimator.fit(X_train, y_train, **fit_params)\n",
            "  File \"/usr/local/lib/python3.7/dist-packages/sklearn/tree/_classes.py\", line 942, in fit\n",
            "    X_idx_sorted=X_idx_sorted,\n",
            "  File \"/usr/local/lib/python3.7/dist-packages/sklearn/tree/_classes.py\", line 254, in fit\n",
            "    % self.min_samples_split\n",
            "ValueError: min_samples_split must be an integer greater than 1 or a float in (0.0, 1.0]; got the integer 1\n",
            "\n",
            "  warnings.warn(some_fits_failed_message, FitFailedWarning)\n",
            "/usr/local/lib/python3.7/dist-packages/sklearn/model_selection/_search.py:972: UserWarning: One or more of the test scores are non-finite: [       nan 0.7539078  0.7539078  ... 0.84622738 0.84600165 0.84605808]\n",
            "  category=UserWarning,\n"
          ]
        },
        {
          "output_type": "execute_result",
          "data": {
            "text/plain": [
              "GridSearchCV(cv=5, estimator=DecisionTreeClassifier(max_depth=19),\n",
              "             param_grid={'max_depth': range(1, 15),\n",
              "                         'min_samples_leaf': range(1, 15),\n",
              "                         'min_samples_split': range(1, 15)},\n",
              "             scoring='accuracy')"
            ]
          },
          "metadata": {},
          "execution_count": 91
        }
      ]
    },
    {
      "cell_type": "markdown",
      "source": [
        "\n",
        "The following table ranks the best hyperparameters obtained according to GridSearchCV."
      ],
      "metadata": {
        "id": "jNQdFFqnPKBz"
      }
    },
    {
      "cell_type": "code",
      "source": [
        "gs.cv_results_\n",
        "grid_table = pd.DataFrame(gs.cv_results_)\n",
        "grid_table.sort_values(by='rank_test_score').head()"
      ],
      "metadata": {
        "colab": {
          "base_uri": "https://localhost:8080/",
          "height": 444
        },
        "id": "LI_iLZNvCcVj",
        "outputId": "6964a2e9-a647-4964-92cb-c8dda9aa1bea"
      },
      "execution_count": null,
      "outputs": [
        {
          "output_type": "execute_result",
          "data": {
            "text/plain": [
              "      mean_fit_time  std_fit_time  mean_score_time  std_score_time  \\\n",
              "1565       0.025522      0.000136         0.002613        0.000092   \n",
              "1557       0.025707      0.000708         0.002513        0.000027   \n",
              "1558       0.025711      0.000390         0.002609        0.000113   \n",
              "1559       0.027465      0.002887         0.002874        0.000504   \n",
              "1566       0.026756      0.000833         0.002900        0.000498   \n",
              "\n",
              "     param_max_depth param_min_samples_leaf param_min_samples_split  \\\n",
              "1565               8                     14                      12   \n",
              "1557               8                     14                       4   \n",
              "1558               8                     14                       5   \n",
              "1559               8                     14                       6   \n",
              "1566               8                     14                      13   \n",
              "\n",
              "                                                 params  split0_test_score  \\\n",
              "1565  {'max_depth': 8, 'min_samples_leaf': 14, 'min_...           0.857546   \n",
              "1557  {'max_depth': 8, 'min_samples_leaf': 14, 'min_...           0.857546   \n",
              "1558  {'max_depth': 8, 'min_samples_leaf': 14, 'min_...           0.857546   \n",
              "1559  {'max_depth': 8, 'min_samples_leaf': 14, 'min_...           0.857546   \n",
              "1566  {'max_depth': 8, 'min_samples_leaf': 14, 'min_...           0.857546   \n",
              "\n",
              "      split1_test_score  split2_test_score  split3_test_score  \\\n",
              "1565           0.843962           0.846783           0.858352   \n",
              "1557           0.843962           0.846783           0.858352   \n",
              "1558           0.843962           0.846783           0.858352   \n",
              "1559           0.843962           0.846783           0.858352   \n",
              "1566           0.843962           0.846783           0.858352   \n",
              "\n",
              "      split4_test_score  mean_test_score  std_test_score  rank_test_score  \n",
              "1565            0.85553         0.852435        0.005907                1  \n",
              "1557            0.85553         0.852435        0.005907                1  \n",
              "1558            0.85553         0.852435        0.005907                1  \n",
              "1559            0.85553         0.852435        0.005907                1  \n",
              "1566            0.85553         0.852435        0.005907                1  "
            ],
            "text/html": [
              "\n",
              "  <div id=\"df-1aa1392f-d5b9-4f97-baf8-406b4567477d\">\n",
              "    <div class=\"colab-df-container\">\n",
              "      <div>\n",
              "<style scoped>\n",
              "    .dataframe tbody tr th:only-of-type {\n",
              "        vertical-align: middle;\n",
              "    }\n",
              "\n",
              "    .dataframe tbody tr th {\n",
              "        vertical-align: top;\n",
              "    }\n",
              "\n",
              "    .dataframe thead th {\n",
              "        text-align: right;\n",
              "    }\n",
              "</style>\n",
              "<table border=\"1\" class=\"dataframe\">\n",
              "  <thead>\n",
              "    <tr style=\"text-align: right;\">\n",
              "      <th></th>\n",
              "      <th>mean_fit_time</th>\n",
              "      <th>std_fit_time</th>\n",
              "      <th>mean_score_time</th>\n",
              "      <th>std_score_time</th>\n",
              "      <th>param_max_depth</th>\n",
              "      <th>param_min_samples_leaf</th>\n",
              "      <th>param_min_samples_split</th>\n",
              "      <th>params</th>\n",
              "      <th>split0_test_score</th>\n",
              "      <th>split1_test_score</th>\n",
              "      <th>split2_test_score</th>\n",
              "      <th>split3_test_score</th>\n",
              "      <th>split4_test_score</th>\n",
              "      <th>mean_test_score</th>\n",
              "      <th>std_test_score</th>\n",
              "      <th>rank_test_score</th>\n",
              "    </tr>\n",
              "  </thead>\n",
              "  <tbody>\n",
              "    <tr>\n",
              "      <th>1565</th>\n",
              "      <td>0.025522</td>\n",
              "      <td>0.000136</td>\n",
              "      <td>0.002613</td>\n",
              "      <td>0.000092</td>\n",
              "      <td>8</td>\n",
              "      <td>14</td>\n",
              "      <td>12</td>\n",
              "      <td>{'max_depth': 8, 'min_samples_leaf': 14, 'min_...</td>\n",
              "      <td>0.857546</td>\n",
              "      <td>0.843962</td>\n",
              "      <td>0.846783</td>\n",
              "      <td>0.858352</td>\n",
              "      <td>0.85553</td>\n",
              "      <td>0.852435</td>\n",
              "      <td>0.005907</td>\n",
              "      <td>1</td>\n",
              "    </tr>\n",
              "    <tr>\n",
              "      <th>1557</th>\n",
              "      <td>0.025707</td>\n",
              "      <td>0.000708</td>\n",
              "      <td>0.002513</td>\n",
              "      <td>0.000027</td>\n",
              "      <td>8</td>\n",
              "      <td>14</td>\n",
              "      <td>4</td>\n",
              "      <td>{'max_depth': 8, 'min_samples_leaf': 14, 'min_...</td>\n",
              "      <td>0.857546</td>\n",
              "      <td>0.843962</td>\n",
              "      <td>0.846783</td>\n",
              "      <td>0.858352</td>\n",
              "      <td>0.85553</td>\n",
              "      <td>0.852435</td>\n",
              "      <td>0.005907</td>\n",
              "      <td>1</td>\n",
              "    </tr>\n",
              "    <tr>\n",
              "      <th>1558</th>\n",
              "      <td>0.025711</td>\n",
              "      <td>0.000390</td>\n",
              "      <td>0.002609</td>\n",
              "      <td>0.000113</td>\n",
              "      <td>8</td>\n",
              "      <td>14</td>\n",
              "      <td>5</td>\n",
              "      <td>{'max_depth': 8, 'min_samples_leaf': 14, 'min_...</td>\n",
              "      <td>0.857546</td>\n",
              "      <td>0.843962</td>\n",
              "      <td>0.846783</td>\n",
              "      <td>0.858352</td>\n",
              "      <td>0.85553</td>\n",
              "      <td>0.852435</td>\n",
              "      <td>0.005907</td>\n",
              "      <td>1</td>\n",
              "    </tr>\n",
              "    <tr>\n",
              "      <th>1559</th>\n",
              "      <td>0.027465</td>\n",
              "      <td>0.002887</td>\n",
              "      <td>0.002874</td>\n",
              "      <td>0.000504</td>\n",
              "      <td>8</td>\n",
              "      <td>14</td>\n",
              "      <td>6</td>\n",
              "      <td>{'max_depth': 8, 'min_samples_leaf': 14, 'min_...</td>\n",
              "      <td>0.857546</td>\n",
              "      <td>0.843962</td>\n",
              "      <td>0.846783</td>\n",
              "      <td>0.858352</td>\n",
              "      <td>0.85553</td>\n",
              "      <td>0.852435</td>\n",
              "      <td>0.005907</td>\n",
              "      <td>1</td>\n",
              "    </tr>\n",
              "    <tr>\n",
              "      <th>1566</th>\n",
              "      <td>0.026756</td>\n",
              "      <td>0.000833</td>\n",
              "      <td>0.002900</td>\n",
              "      <td>0.000498</td>\n",
              "      <td>8</td>\n",
              "      <td>14</td>\n",
              "      <td>13</td>\n",
              "      <td>{'max_depth': 8, 'min_samples_leaf': 14, 'min_...</td>\n",
              "      <td>0.857546</td>\n",
              "      <td>0.843962</td>\n",
              "      <td>0.846783</td>\n",
              "      <td>0.858352</td>\n",
              "      <td>0.85553</td>\n",
              "      <td>0.852435</td>\n",
              "      <td>0.005907</td>\n",
              "      <td>1</td>\n",
              "    </tr>\n",
              "  </tbody>\n",
              "</table>\n",
              "</div>\n",
              "      <button class=\"colab-df-convert\" onclick=\"convertToInteractive('df-1aa1392f-d5b9-4f97-baf8-406b4567477d')\"\n",
              "              title=\"Convert this dataframe to an interactive table.\"\n",
              "              style=\"display:none;\">\n",
              "        \n",
              "  <svg xmlns=\"http://www.w3.org/2000/svg\" height=\"24px\"viewBox=\"0 0 24 24\"\n",
              "       width=\"24px\">\n",
              "    <path d=\"M0 0h24v24H0V0z\" fill=\"none\"/>\n",
              "    <path d=\"M18.56 5.44l.94 2.06.94-2.06 2.06-.94-2.06-.94-.94-2.06-.94 2.06-2.06.94zm-11 1L8.5 8.5l.94-2.06 2.06-.94-2.06-.94L8.5 2.5l-.94 2.06-2.06.94zm10 10l.94 2.06.94-2.06 2.06-.94-2.06-.94-.94-2.06-.94 2.06-2.06.94z\"/><path d=\"M17.41 7.96l-1.37-1.37c-.4-.4-.92-.59-1.43-.59-.52 0-1.04.2-1.43.59L10.3 9.45l-7.72 7.72c-.78.78-.78 2.05 0 2.83L4 21.41c.39.39.9.59 1.41.59.51 0 1.02-.2 1.41-.59l7.78-7.78 2.81-2.81c.8-.78.8-2.07 0-2.86zM5.41 20L4 18.59l7.72-7.72 1.47 1.35L5.41 20z\"/>\n",
              "  </svg>\n",
              "      </button>\n",
              "      \n",
              "  <style>\n",
              "    .colab-df-container {\n",
              "      display:flex;\n",
              "      flex-wrap:wrap;\n",
              "      gap: 12px;\n",
              "    }\n",
              "\n",
              "    .colab-df-convert {\n",
              "      background-color: #E8F0FE;\n",
              "      border: none;\n",
              "      border-radius: 50%;\n",
              "      cursor: pointer;\n",
              "      display: none;\n",
              "      fill: #1967D2;\n",
              "      height: 32px;\n",
              "      padding: 0 0 0 0;\n",
              "      width: 32px;\n",
              "    }\n",
              "\n",
              "    .colab-df-convert:hover {\n",
              "      background-color: #E2EBFA;\n",
              "      box-shadow: 0px 1px 2px rgba(60, 64, 67, 0.3), 0px 1px 3px 1px rgba(60, 64, 67, 0.15);\n",
              "      fill: #174EA6;\n",
              "    }\n",
              "\n",
              "    [theme=dark] .colab-df-convert {\n",
              "      background-color: #3B4455;\n",
              "      fill: #D2E3FC;\n",
              "    }\n",
              "\n",
              "    [theme=dark] .colab-df-convert:hover {\n",
              "      background-color: #434B5C;\n",
              "      box-shadow: 0px 1px 3px 1px rgba(0, 0, 0, 0.15);\n",
              "      filter: drop-shadow(0px 1px 2px rgba(0, 0, 0, 0.3));\n",
              "      fill: #FFFFFF;\n",
              "    }\n",
              "  </style>\n",
              "\n",
              "      <script>\n",
              "        const buttonEl =\n",
              "          document.querySelector('#df-1aa1392f-d5b9-4f97-baf8-406b4567477d button.colab-df-convert');\n",
              "        buttonEl.style.display =\n",
              "          google.colab.kernel.accessAllowed ? 'block' : 'none';\n",
              "\n",
              "        async function convertToInteractive(key) {\n",
              "          const element = document.querySelector('#df-1aa1392f-d5b9-4f97-baf8-406b4567477d');\n",
              "          const dataTable =\n",
              "            await google.colab.kernel.invokeFunction('convertToInteractive',\n",
              "                                                     [key], {});\n",
              "          if (!dataTable) return;\n",
              "\n",
              "          const docLinkHtml = 'Like what you see? Visit the ' +\n",
              "            '<a target=\"_blank\" href=https://colab.research.google.com/notebooks/data_table.ipynb>data table notebook</a>'\n",
              "            + ' to learn more about interactive tables.';\n",
              "          element.innerHTML = '';\n",
              "          dataTable['output_type'] = 'display_data';\n",
              "          await google.colab.output.renderOutput(dataTable, element);\n",
              "          const docLink = document.createElement('div');\n",
              "          docLink.innerHTML = docLinkHtml;\n",
              "          element.appendChild(docLink);\n",
              "        }\n",
              "      </script>\n",
              "    </div>\n",
              "  </div>\n",
              "  "
            ]
          },
          "metadata": {},
          "execution_count": 92
        }
      ]
    },
    {
      "cell_type": "code",
      "source": [
        "print(f\"The best hyperparameters are:{gs.best_params_}\")"
      ],
      "metadata": {
        "colab": {
          "base_uri": "https://localhost:8080/"
        },
        "id": "sNAl12FTzXfX",
        "outputId": "26a58c79-c247-48fe-a7ca-2cb30501c00f"
      },
      "execution_count": null,
      "outputs": [
        {
          "output_type": "stream",
          "name": "stdout",
          "text": [
            "Los mejores hiperparametros son: {'max_depth': 8, 'min_samples_leaf': 14, 'min_samples_split': 4}\n"
          ]
        }
      ]
    },
    {
      "cell_type": "code",
      "source": [
        "train_preds = gs.predict(X_train)\n",
        "test_preds = gs.predict(X_test)"
      ],
      "metadata": {
        "id": "ivKXYhd84MT9"
      },
      "execution_count": null,
      "outputs": []
    },
    {
      "cell_type": "markdown",
      "source": [
        "###### Classification Report\n",
        "\n",
        "Ranking report using the best parameters found with GridSearch"
      ],
      "metadata": {
        "id": "SrqCxTUflWgg"
      }
    },
    {
      "cell_type": "code",
      "source": [
        "print('Classification report for training data\\n')\n",
        "print(classification_report(y_train, train_preds))\n",
        "print('Classification report for test data\\n')\n",
        "print(classification_report(y_test, test_preds))"
      ],
      "metadata": {
        "colab": {
          "base_uri": "https://localhost:8080/"
        },
        "id": "4gi3P25D4UZK",
        "outputId": "4f3e548b-7d2a-4aa1-d205-09415fcf5a80"
      },
      "execution_count": null,
      "outputs": [
        {
          "output_type": "stream",
          "name": "stdout",
          "text": [
            "Reporte de clasificación para los datos de entrenamiento\n",
            "\n",
            "              precision    recall  f1-score   support\n",
            "\n",
            "           0       0.87      0.96      0.91     13360\n",
            "           1       0.80      0.55      0.66      4361\n",
            "\n",
            "    accuracy                           0.86     17721\n",
            "   macro avg       0.83      0.75      0.78     17721\n",
            "weighted avg       0.85      0.86      0.85     17721\n",
            "\n",
            "Reporte de clasificación para los datos de test\n",
            "\n",
            "              precision    recall  f1-score   support\n",
            "\n",
            "           0       0.86      0.96      0.91      3341\n",
            "           1       0.81      0.54      0.65      1090\n",
            "\n",
            "    accuracy                           0.86      4431\n",
            "   macro avg       0.84      0.75      0.78      4431\n",
            "weighted avg       0.85      0.86      0.84      4431\n",
            "\n"
          ]
        }
      ]
    },
    {
      "cell_type": "markdown",
      "source": [
        "### Random Forest"
      ],
      "metadata": {
        "id": "Cr7t1OFZ4rkh"
      }
    },
    {
      "cell_type": "code",
      "source": [
        "from sklearn.ensemble import RandomForestClassifier\n",
        "\n",
        "clf = RandomForestClassifier(max_depth=10, n_estimators = 200, n_jobs = -1, random_state=0)\n",
        "clf.fit(X_train, y_train)\n",
        "\n",
        "y_train_pred = clf.predict(X_train)\n",
        "y_test_pred = clf.predict(X_test)\n",
        "\n"
      ],
      "metadata": {
        "id": "QaiBHwqs4xWq"
      },
      "execution_count": null,
      "outputs": []
    },
    {
      "cell_type": "markdown",
      "source": [
        "#### Classification report"
      ],
      "metadata": {
        "id": "Qx3CjsgZvKcE"
      }
    },
    {
      "cell_type": "code",
      "source": [
        "print('Classification report for training data\\n')\n",
        "print(classification_report(y_train, y_train_pred))\n",
        "print('Classification report for test data\\n')\n",
        "print(classification_report(y_test, y_test_pred))"
      ],
      "metadata": {
        "colab": {
          "base_uri": "https://localhost:8080/"
        },
        "id": "ZzBRpry8vFd_",
        "outputId": "8c900d49-1c5e-4ae6-841a-bbd9a95ff35d"
      },
      "execution_count": null,
      "outputs": [
        {
          "output_type": "stream",
          "name": "stdout",
          "text": [
            "Reporte de clasificación para los datos de entrenamiento\n",
            "\n",
            "              precision    recall  f1-score   support\n",
            "\n",
            "           0       0.88      0.96      0.92     13360\n",
            "           1       0.84      0.58      0.68      4361\n",
            "\n",
            "    accuracy                           0.87     17721\n",
            "   macro avg       0.86      0.77      0.80     17721\n",
            "weighted avg       0.87      0.87      0.86     17721\n",
            "\n",
            "Reporte de clasificación para los datos de test\n",
            "\n",
            "              precision    recall  f1-score   support\n",
            "\n",
            "           0       0.87      0.96      0.91      3341\n",
            "           1       0.82      0.54      0.65      1090\n",
            "\n",
            "    accuracy                           0.86      4431\n",
            "   macro avg       0.84      0.75      0.78      4431\n",
            "weighted avg       0.85      0.86      0.85      4431\n",
            "\n"
          ]
        }
      ]
    },
    {
      "cell_type": "markdown",
      "source": [
        "#### FeaturesImportance"
      ],
      "metadata": {
        "id": "QaZ-QBjRvV52"
      }
    },
    {
      "cell_type": "code",
      "metadata": {
        "id": "p0Q2MklH-3K5"
      },
      "source": [
        "fi = pd.DataFrame(columns=[\"FEATURE\", \"IMPORTANCE\"])\n",
        "fi[\"FEATURE\"] = X_train.columns\n",
        "fi[\"IMPORTANCE\"] = clf.feature_importances_\n",
        "fi = fi.sort_values(\"IMPORTANCE\", ascending=False)"
      ],
      "execution_count": null,
      "outputs": []
    },
    {
      "cell_type": "markdown",
      "source": [
        "The importance of the features is described in the following barplot:"
      ],
      "metadata": {
        "id": "0MT-DywlDcqX"
      }
    },
    {
      "cell_type": "code",
      "metadata": {
        "colab": {
          "base_uri": "https://localhost:8080/",
          "height": 877
        },
        "id": "eKGff94uvbG4",
        "outputId": "8ef4224e-38b4-4b8a-b817-0c887bfe5cb7"
      },
      "source": [
        "plt.figure(figsize=(5, 15))\n",
        "sns.barplot(y=fi.FEATURE, x=fi.IMPORTANCE)\n",
        "plt.show()"
      ],
      "execution_count": null,
      "outputs": [
        {
          "output_type": "display_data",
          "data": {
            "text/plain": [
              "<Figure size 360x1080 with 1 Axes>"
            ],
            "image/png": "[encoded data removed]"
          },
          "metadata": {
            "needs_background": "light"
          }
        }
      ]
    },
    {
      "cell_type": "markdown",
      "metadata": {
        "id": "yvM6nS1JBA3b"
      },
      "source": [
        "### K- Nearest Neighbors\n",
        "\n",
        "We are going to train a model of $K$ nearest neighbors to contrast with the metrics obtained in the previous models."
      ]
    },
    {
      "cell_type": "code",
      "execution_count": null,
      "metadata": {
        "id": "9ye2l8DpBGt9"
      },
      "outputs": [],
      "source": [
        "# We subdivide the training dataset (the only one that contains information about our target)\n",
        "X2 = df_train2.drop(['income'], axis= 1)\n",
        "y2 = df_train2[\"income\"]"
      ]
    },
    {
      "cell_type": "code",
      "execution_count": null,
      "metadata": {
        "id": "a-JjKD9UBI1o"
      },
      "outputs": [],
      "source": [
        "#We standardize the data to optimize the result of the proposed model.\n",
        "\n",
        "from sklearn.preprocessing import StandardScaler\n",
        "\n",
        "scaler = StandardScaler()\n",
        "X2 = scaler.fit_transform(X2)"
      ]
    },
    {
      "cell_type": "code",
      "execution_count": null,
      "metadata": {
        "id": "5DrefwImBK9U"
      },
      "outputs": [],
      "source": [
        "X_train, X_test, y_train, y_test = train_test_split(X2, y2, test_size=0.2, random_state= 0, stratify=y2)"
      ]
    },
    {
      "cell_type": "code",
      "execution_count": null,
      "metadata": {
        "id": "3ytzpIKDBNwt"
      },
      "outputs": [],
      "source": [
        "# We import the KNN library and generate the model\n",
        "\n",
        "from sklearn.neighbors import KNeighborsClassifier\n",
        "\n",
        "n_neighbors = np.arange(1, 20)\n",
        "train_acc_scores3 = []\n",
        "test_acc_scores3 = []\n",
        "\n",
        "for i in n_neighbors:\n",
        "  knn = KNeighborsClassifier(n_neighbors= i, weights='uniform')\n",
        "\n",
        "  knn.fit(X_train, y_train)\n",
        "  train_preds = knn.predict(X_train)\n",
        "  test_preds = knn.predict(X_test)\n",
        "\n",
        "  train_acc_scores3.append(accuracy_score(y_train, train_preds))\n",
        "  test_acc_scores3.append(accuracy_score(y_test, test_preds))"
      ]
    },
    {
      "cell_type": "markdown",
      "source": [
        "**First approximation to the choice of** $K$"
      ],
      "metadata": {
        "id": "yYDtHXabeSH3"
      }
    },
    {
      "cell_type": "code",
      "execution_count": null,
      "metadata": {
        "id": "nb053-mDBS4P",
        "colab": {
          "base_uri": "https://localhost:8080/",
          "height": 374
        },
        "outputId": "01f0bd39-84db-41f1-e459-551240ca3c6e"
      },
      "outputs": [
        {
          "output_type": "execute_result",
          "data": {
            "text/plain": [
              "<matplotlib.legend.Legend at 0x7ff06bacb350>"
            ]
          },
          "metadata": {},
          "execution_count": 104
        },
        {
          "output_type": "display_data",
          "data": {
            "text/plain": [
              "<Figure size 1440x432 with 1 Axes>"
            ],
            "image/png": "[encoded data removed]"
          },
          "metadata": {
            "needs_background": "light"
          }
        }
      ],
      "source": [
        "# Plot the accuracy values ​​for our training and test dataset.\n",
        "plt.figure(figsize=(20,6))\n",
        "\n",
        "plt.plot(n_neighbors, train_acc_scores3, label=\"train\")\n",
        "plt.plot(n_neighbors, test_acc_scores3,  label=\"test\")\n",
        "plt.xticks(n_neighbors)\n",
        "plt.legend()"
      ]
    },
    {
      "cell_type": "markdown",
      "source": [
        "In the graph we see that from k=16 or 17 both lines begin to approach each other and maintain a constant behavior. Let's see by means of a GridSearch if this first approximation to the choice of $K$ can be improved, also playing with other parameters such as 'distance' and 'weights'.\n"
      ],
      "metadata": {
        "id": "J-x5FMaap8o6"
      }
    },
    {
      "cell_type": "markdown",
      "source": [
        "#### GridSearch"
      ],
      "metadata": {
        "id": "g3bP7Wy6q7eg"
      }
    },
    {
      "cell_type": "code",
      "source": [
        "k_list = list(range(1,31))"
      ],
      "metadata": {
        "id": "i4uCfdTfXu6M"
      },
      "execution_count": null,
      "outputs": []
    },
    {
      "cell_type": "code",
      "source": [
        "parameters= {\n",
        "    'n_neighbors': k_list ,\n",
        "    'weights': ['uniform', 'distance'],\n",
        "    'metric': ['euclidean', 'manhattan']\n",
        "    }\n",
        "\n"
      ],
      "metadata": {
        "id": "R6l5-lmYXylJ"
      },
      "execution_count": null,
      "outputs": []
    },
    {
      "cell_type": "code",
      "source": [
        "grid = GridSearchCV(knn, parameters, cv=5, scoring='accuracy')"
      ],
      "metadata": {
        "id": "3UYDGHrSX5qD"
      },
      "execution_count": null,
      "outputs": []
    },
    {
      "cell_type": "code",
      "source": [
        "grid.fit(X_train, y_train)\n"
      ],
      "metadata": {
        "colab": {
          "base_uri": "https://localhost:8080/"
        },
        "id": "2CbWhs_gX_Ow",
        "outputId": "4f2b2752-22de-4f15-9bf3-6d6312cef387"
      },
      "execution_count": null,
      "outputs": [
        {
          "output_type": "execute_result",
          "data": {
            "text/plain": [
              "GridSearchCV(cv=5, estimator=KNeighborsClassifier(n_neighbors=19),\n",
              "             param_grid={'metric': ['euclidean', 'manhattan'],\n",
              "                         'n_neighbors': [1, 2, 3, 4, 5, 6, 7, 8, 9, 10, 11, 12,\n",
              "                                         13, 14, 15, 16, 17, 18, 19, 20, 21, 22,\n",
              "                                         23, 24, 25, 26, 27, 28, 29, 30],\n",
              "                         'weights': ['uniform', 'distance']},\n",
              "             scoring='accuracy')"
            ]
          },
          "metadata": {},
          "execution_count": 108
        }
      ]
    },
    {
      "cell_type": "markdown",
      "source": [
        "We show the top positions that give us an idea of ​​the best hyperparameters for the model."
      ],
      "metadata": {
        "id": "IPQUITYYrW_M"
      }
    },
    {
      "cell_type": "code",
      "source": [
        "grid.cv_results_\n",
        "grid_table_knn = pd.DataFrame(grid.cv_results_)\n",
        "grid_table_knn.sort_values(by='rank_test_score').head()"
      ],
      "metadata": {
        "colab": {
          "base_uri": "https://localhost:8080/",
          "height": 531
        },
        "id": "bAlIhGCxYYGT",
        "outputId": "dbf7ef39-27d6-4887-d011-3ac1a69e0bd1"
      },
      "execution_count": null,
      "outputs": [
        {
          "output_type": "execute_result",
          "data": {
            "text/plain": [
              "     mean_fit_time  std_fit_time  mean_score_time  std_score_time  \\\n",
              "92        0.023291      0.000657         1.209238        0.009239   \n",
              "96        0.023193      0.000160         1.224601        0.005945   \n",
              "104       0.023462      0.000304         1.254633        0.006535   \n",
              "110       0.023370      0.000205         1.270747        0.008253   \n",
              "108       0.023703      0.000817         1.267253        0.007686   \n",
              "\n",
              "    param_metric param_n_neighbors param_weights  \\\n",
              "92     manhattan                17       uniform   \n",
              "96     manhattan                19       uniform   \n",
              "104    manhattan                23       uniform   \n",
              "110    manhattan                26       uniform   \n",
              "108    manhattan                25       uniform   \n",
              "\n",
              "                                                params  split0_test_score  \\\n",
              "92   {'metric': 'manhattan', 'n_neighbors': 17, 'we...           0.842313   \n",
              "96   {'metric': 'manhattan', 'n_neighbors': 19, 'we...           0.844006   \n",
              "104  {'metric': 'manhattan', 'n_neighbors': 23, 'we...           0.846262   \n",
              "110  {'metric': 'manhattan', 'n_neighbors': 26, 'we...           0.845980   \n",
              "108  {'metric': 'manhattan', 'n_neighbors': 25, 'we...           0.845416   \n",
              "\n",
              "     split1_test_score  split2_test_score  split3_test_score  \\\n",
              "92            0.835214           0.839165           0.841986   \n",
              "96            0.833239           0.839447           0.836907   \n",
              "104           0.835497           0.837754           0.834086   \n",
              "110           0.832957           0.838600           0.835779   \n",
              "108           0.836343           0.835779           0.836625   \n",
              "\n",
              "     split4_test_score  mean_test_score  std_test_score  rank_test_score  \n",
              "92            0.839165         0.839569        0.002556                1  \n",
              "96            0.843397         0.839399        0.004034                2  \n",
              "104           0.843397         0.839399        0.004675                3  \n",
              "110           0.843397         0.839343        0.004786                4  \n",
              "108           0.841422         0.839117        0.003743                5  "
            ],
            "text/html": [
              "\n",
              "  <div id=\"df-0e635c2a-75b7-4116-8dbe-c74fbcc1bf4f\">\n",
              "    <div class=\"colab-df-container\">\n",
              "      <div>\n",
              "<style scoped>\n",
              "    .dataframe tbody tr th:only-of-type {\n",
              "        vertical-align: middle;\n",
              "    }\n",
              "\n",
              "    .dataframe tbody tr th {\n",
              "        vertical-align: top;\n",
              "    }\n",
              "\n",
              "    .dataframe thead th {\n",
              "        text-align: right;\n",
              "    }\n",
              "</style>\n",
              "<table border=\"1\" class=\"dataframe\">\n",
              "  <thead>\n",
              "    <tr style=\"text-align: right;\">\n",
              "      <th></th>\n",
              "      <th>mean_fit_time</th>\n",
              "      <th>std_fit_time</th>\n",
              "      <th>mean_score_time</th>\n",
              "      <th>std_score_time</th>\n",
              "      <th>param_metric</th>\n",
              "      <th>param_n_neighbors</th>\n",
              "      <th>param_weights</th>\n",
              "      <th>params</th>\n",
              "      <th>split0_test_score</th>\n",
              "      <th>split1_test_score</th>\n",
              "      <th>split2_test_score</th>\n",
              "      <th>split3_test_score</th>\n",
              "      <th>split4_test_score</th>\n",
              "      <th>mean_test_score</th>\n",
              "      <th>std_test_score</th>\n",
              "      <th>rank_test_score</th>\n",
              "    </tr>\n",
              "  </thead>\n",
              "  <tbody>\n",
              "    <tr>\n",
              "      <th>92</th>\n",
              "      <td>0.023291</td>\n",
              "      <td>0.000657</td>\n",
              "      <td>1.209238</td>\n",
              "      <td>0.009239</td>\n",
              "      <td>manhattan</td>\n",
              "      <td>17</td>\n",
              "      <td>uniform</td>\n",
              "      <td>{'metric': 'manhattan', 'n_neighbors': 17, 'we...</td>\n",
              "      <td>0.842313</td>\n",
              "      <td>0.835214</td>\n",
              "      <td>0.839165</td>\n",
              "      <td>0.841986</td>\n",
              "      <td>0.839165</td>\n",
              "      <td>0.839569</td>\n",
              "      <td>0.002556</td>\n",
              "      <td>1</td>\n",
              "    </tr>\n",
              "    <tr>\n",
              "      <th>96</th>\n",
              "      <td>0.023193</td>\n",
              "      <td>0.000160</td>\n",
              "      <td>1.224601</td>\n",
              "      <td>0.005945</td>\n",
              "      <td>manhattan</td>\n",
              "      <td>19</td>\n",
              "      <td>uniform</td>\n",
              "      <td>{'metric': 'manhattan', 'n_neighbors': 19, 'we...</td>\n",
              "      <td>0.844006</td>\n",
              "      <td>0.833239</td>\n",
              "      <td>0.839447</td>\n",
              "      <td>0.836907</td>\n",
              "      <td>0.843397</td>\n",
              "      <td>0.839399</td>\n",
              "      <td>0.004034</td>\n",
              "      <td>2</td>\n",
              "    </tr>\n",
              "    <tr>\n",
              "      <th>104</th>\n",
              "      <td>0.023462</td>\n",
              "      <td>0.000304</td>\n",
              "      <td>1.254633</td>\n",
              "      <td>0.006535</td>\n",
              "      <td>manhattan</td>\n",
              "      <td>23</td>\n",
              "      <td>uniform</td>\n",
              "      <td>{'metric': 'manhattan', 'n_neighbors': 23, 'we...</td>\n",
              "      <td>0.846262</td>\n",
              "      <td>0.835497</td>\n",
              "      <td>0.837754</td>\n",
              "      <td>0.834086</td>\n",
              "      <td>0.843397</td>\n",
              "      <td>0.839399</td>\n",
              "      <td>0.004675</td>\n",
              "      <td>3</td>\n",
              "    </tr>\n",
              "    <tr>\n",
              "      <th>110</th>\n",
              "      <td>0.023370</td>\n",
              "      <td>0.000205</td>\n",
              "      <td>1.270747</td>\n",
              "      <td>0.008253</td>\n",
              "      <td>manhattan</td>\n",
              "      <td>26</td>\n",
              "      <td>uniform</td>\n",
              "      <td>{'metric': 'manhattan', 'n_neighbors': 26, 'we...</td>\n",
              "      <td>0.845980</td>\n",
              "      <td>0.832957</td>\n",
              "      <td>0.838600</td>\n",
              "      <td>0.835779</td>\n",
              "      <td>0.843397</td>\n",
              "      <td>0.839343</td>\n",
              "      <td>0.004786</td>\n",
              "      <td>4</td>\n",
              "    </tr>\n",
              "    <tr>\n",
              "      <th>108</th>\n",
              "      <td>0.023703</td>\n",
              "      <td>0.000817</td>\n",
              "      <td>1.267253</td>\n",
              "      <td>0.007686</td>\n",
              "      <td>manhattan</td>\n",
              "      <td>25</td>\n",
              "      <td>uniform</td>\n",
              "      <td>{'metric': 'manhattan', 'n_neighbors': 25, 'we...</td>\n",
              "      <td>0.845416</td>\n",
              "      <td>0.836343</td>\n",
              "      <td>0.835779</td>\n",
              "      <td>0.836625</td>\n",
              "      <td>0.841422</td>\n",
              "      <td>0.839117</td>\n",
              "      <td>0.003743</td>\n",
              "      <td>5</td>\n",
              "    </tr>\n",
              "  </tbody>\n",
              "</table>\n",
              "</div>\n",
              "      <button class=\"colab-df-convert\" onclick=\"convertToInteractive('df-0e635c2a-75b7-4116-8dbe-c74fbcc1bf4f')\"\n",
              "              title=\"Convert this dataframe to an interactive table.\"\n",
              "              style=\"display:none;\">\n",
              "        \n",
              "  <svg xmlns=\"http://www.w3.org/2000/svg\" height=\"24px\"viewBox=\"0 0 24 24\"\n",
              "       width=\"24px\">\n",
              "    <path d=\"M0 0h24v24H0V0z\" fill=\"none\"/>\n",
              "    <path d=\"M18.56 5.44l.94 2.06.94-2.06 2.06-.94-2.06-.94-.94-2.06-.94 2.06-2.06.94zm-11 1L8.5 8.5l.94-2.06 2.06-.94-2.06-.94L8.5 2.5l-.94 2.06-2.06.94zm10 10l.94 2.06.94-2.06 2.06-.94-2.06-.94-.94-2.06-.94 2.06-2.06.94z\"/><path d=\"M17.41 7.96l-1.37-1.37c-.4-.4-.92-.59-1.43-.59-.52 0-1.04.2-1.43.59L10.3 9.45l-7.72 7.72c-.78.78-.78 2.05 0 2.83L4 21.41c.39.39.9.59 1.41.59.51 0 1.02-.2 1.41-.59l7.78-7.78 2.81-2.81c.8-.78.8-2.07 0-2.86zM5.41 20L4 18.59l7.72-7.72 1.47 1.35L5.41 20z\"/>\n",
              "  </svg>\n",
              "      </button>\n",
              "      \n",
              "  <style>\n",
              "    .colab-df-container {\n",
              "      display:flex;\n",
              "      flex-wrap:wrap;\n",
              "      gap: 12px;\n",
              "    }\n",
              "\n",
              "    .colab-df-convert {\n",
              "      background-color: #E8F0FE;\n",
              "      border: none;\n",
              "      border-radius: 50%;\n",
              "      cursor: pointer;\n",
              "      display: none;\n",
              "      fill: #1967D2;\n",
              "      height: 32px;\n",
              "      padding: 0 0 0 0;\n",
              "      width: 32px;\n",
              "    }\n",
              "\n",
              "    .colab-df-convert:hover {\n",
              "      background-color: #E2EBFA;\n",
              "      box-shadow: 0px 1px 2px rgba(60, 64, 67, 0.3), 0px 1px 3px 1px rgba(60, 64, 67, 0.15);\n",
              "      fill: #174EA6;\n",
              "    }\n",
              "\n",
              "    [theme=dark] .colab-df-convert {\n",
              "      background-color: #3B4455;\n",
              "      fill: #D2E3FC;\n",
              "    }\n",
              "\n",
              "    [theme=dark] .colab-df-convert:hover {\n",
              "      background-color: #434B5C;\n",
              "      box-shadow: 0px 1px 3px 1px rgba(0, 0, 0, 0.15);\n",
              "      filter: drop-shadow(0px 1px 2px rgba(0, 0, 0, 0.3));\n",
              "      fill: #FFFFFF;\n",
              "    }\n",
              "  </style>\n",
              "\n",
              "      <script>\n",
              "        const buttonEl =\n",
              "          document.querySelector('#df-0e635c2a-75b7-4116-8dbe-c74fbcc1bf4f button.colab-df-convert');\n",
              "        buttonEl.style.display =\n",
              "          google.colab.kernel.accessAllowed ? 'block' : 'none';\n",
              "\n",
              "        async function convertToInteractive(key) {\n",
              "          const element = document.querySelector('#df-0e635c2a-75b7-4116-8dbe-c74fbcc1bf4f');\n",
              "          const dataTable =\n",
              "            await google.colab.kernel.invokeFunction('convertToInteractive',\n",
              "                                                     [key], {});\n",
              "          if (!dataTable) return;\n",
              "\n",
              "          const docLinkHtml = 'Like what you see? Visit the ' +\n",
              "            '<a target=\"_blank\" href=https://colab.research.google.com/notebooks/data_table.ipynb>data table notebook</a>'\n",
              "            + ' to learn more about interactive tables.';\n",
              "          element.innerHTML = '';\n",
              "          dataTable['output_type'] = 'display_data';\n",
              "          await google.colab.output.renderOutput(dataTable, element);\n",
              "          const docLink = document.createElement('div');\n",
              "          docLink.innerHTML = docLinkHtml;\n",
              "          element.appendChild(docLink);\n",
              "        }\n",
              "      </script>\n",
              "    </div>\n",
              "  </div>\n",
              "  "
            ]
          },
          "metadata": {},
          "execution_count": 109
        }
      ]
    },
    {
      "cell_type": "markdown",
      "source": [
        "\n",
        "Summary with test statistics for the best parameters."
      ],
      "metadata": {
        "id": "xbXEIYXlrkE1"
      }
    },
    {
      "cell_type": "code",
      "source": [
        "grid_table_rank_knn= grid_table_knn[['params','mean_test_score','std_test_score','rank_test_score']].loc[grid_table_knn['rank_test_score']==1].sort_values(by='std_test_score', ascending=True)\n",
        "grid_table_rank_knn"
      ],
      "metadata": {
        "colab": {
          "base_uri": "https://localhost:8080/",
          "height": 81
        },
        "id": "Gpg7mYNfYz_P",
        "outputId": "74648533-5f35-4e2e-b901-7cbe0e16bfce"
      },
      "execution_count": null,
      "outputs": [
        {
          "output_type": "execute_result",
          "data": {
            "text/plain": [
              "                                               params  mean_test_score  \\\n",
              "92  {'metric': 'manhattan', 'n_neighbors': 17, 'we...         0.839569   \n",
              "\n",
              "    std_test_score  rank_test_score  \n",
              "92        0.002556                1  "
            ],
            "text/html": [
              "\n",
              "  <div id=\"df-7e33d226-60e5-419f-a3da-33679aeb6025\">\n",
              "    <div class=\"colab-df-container\">\n",
              "      <div>\n",
              "<style scoped>\n",
              "    .dataframe tbody tr th:only-of-type {\n",
              "        vertical-align: middle;\n",
              "    }\n",
              "\n",
              "    .dataframe tbody tr th {\n",
              "        vertical-align: top;\n",
              "    }\n",
              "\n",
              "    .dataframe thead th {\n",
              "        text-align: right;\n",
              "    }\n",
              "</style>\n",
              "<table border=\"1\" class=\"dataframe\">\n",
              "  <thead>\n",
              "    <tr style=\"text-align: right;\">\n",
              "      <th></th>\n",
              "      <th>params</th>\n",
              "      <th>mean_test_score</th>\n",
              "      <th>std_test_score</th>\n",
              "      <th>rank_test_score</th>\n",
              "    </tr>\n",
              "  </thead>\n",
              "  <tbody>\n",
              "    <tr>\n",
              "      <th>92</th>\n",
              "      <td>{'metric': 'manhattan', 'n_neighbors': 17, 'we...</td>\n",
              "      <td>0.839569</td>\n",
              "      <td>0.002556</td>\n",
              "      <td>1</td>\n",
              "    </tr>\n",
              "  </tbody>\n",
              "</table>\n",
              "</div>\n",
              "      <button class=\"colab-df-convert\" onclick=\"convertToInteractive('df-7e33d226-60e5-419f-a3da-33679aeb6025')\"\n",
              "              title=\"Convert this dataframe to an interactive table.\"\n",
              "              style=\"display:none;\">\n",
              "        \n",
              "  <svg xmlns=\"http://www.w3.org/2000/svg\" height=\"24px\"viewBox=\"0 0 24 24\"\n",
              "       width=\"24px\">\n",
              "    <path d=\"M0 0h24v24H0V0z\" fill=\"none\"/>\n",
              "    <path d=\"M18.56 5.44l.94 2.06.94-2.06 2.06-.94-2.06-.94-.94-2.06-.94 2.06-2.06.94zm-11 1L8.5 8.5l.94-2.06 2.06-.94-2.06-.94L8.5 2.5l-.94 2.06-2.06.94zm10 10l.94 2.06.94-2.06 2.06-.94-2.06-.94-.94-2.06-.94 2.06-2.06.94z\"/><path d=\"M17.41 7.96l-1.37-1.37c-.4-.4-.92-.59-1.43-.59-.52 0-1.04.2-1.43.59L10.3 9.45l-7.72 7.72c-.78.78-.78 2.05 0 2.83L4 21.41c.39.39.9.59 1.41.59.51 0 1.02-.2 1.41-.59l7.78-7.78 2.81-2.81c.8-.78.8-2.07 0-2.86zM5.41 20L4 18.59l7.72-7.72 1.47 1.35L5.41 20z\"/>\n",
              "  </svg>\n",
              "      </button>\n",
              "      \n",
              "  <style>\n",
              "    .colab-df-container {\n",
              "      display:flex;\n",
              "      flex-wrap:wrap;\n",
              "      gap: 12px;\n",
              "    }\n",
              "\n",
              "    .colab-df-convert {\n",
              "      background-color: #E8F0FE;\n",
              "      border: none;\n",
              "      border-radius: 50%;\n",
              "      cursor: pointer;\n",
              "      display: none;\n",
              "      fill: #1967D2;\n",
              "      height: 32px;\n",
              "      padding: 0 0 0 0;\n",
              "      width: 32px;\n",
              "    }\n",
              "\n",
              "    .colab-df-convert:hover {\n",
              "      background-color: #E2EBFA;\n",
              "      box-shadow: 0px 1px 2px rgba(60, 64, 67, 0.3), 0px 1px 3px 1px rgba(60, 64, 67, 0.15);\n",
              "      fill: #174EA6;\n",
              "    }\n",
              "\n",
              "    [theme=dark] .colab-df-convert {\n",
              "      background-color: #3B4455;\n",
              "      fill: #D2E3FC;\n",
              "    }\n",
              "\n",
              "    [theme=dark] .colab-df-convert:hover {\n",
              "      background-color: #434B5C;\n",
              "      box-shadow: 0px 1px 3px 1px rgba(0, 0, 0, 0.15);\n",
              "      filter: drop-shadow(0px 1px 2px rgba(0, 0, 0, 0.3));\n",
              "      fill: #FFFFFF;\n",
              "    }\n",
              "  </style>\n",
              "\n",
              "      <script>\n",
              "        const buttonEl =\n",
              "          document.querySelector('#df-7e33d226-60e5-419f-a3da-33679aeb6025 button.colab-df-convert');\n",
              "        buttonEl.style.display =\n",
              "          google.colab.kernel.accessAllowed ? 'block' : 'none';\n",
              "\n",
              "        async function convertToInteractive(key) {\n",
              "          const element = document.querySelector('#df-7e33d226-60e5-419f-a3da-33679aeb6025');\n",
              "          const dataTable =\n",
              "            await google.colab.kernel.invokeFunction('convertToInteractive',\n",
              "                                                     [key], {});\n",
              "          if (!dataTable) return;\n",
              "\n",
              "          const docLinkHtml = 'Like what you see? Visit the ' +\n",
              "            '<a target=\"_blank\" href=https://colab.research.google.com/notebooks/data_table.ipynb>data table notebook</a>'\n",
              "            + ' to learn more about interactive tables.';\n",
              "          element.innerHTML = '';\n",
              "          dataTable['output_type'] = 'display_data';\n",
              "          await google.colab.output.renderOutput(dataTable, element);\n",
              "          const docLink = document.createElement('div');\n",
              "          docLink.innerHTML = docLinkHtml;\n",
              "          element.appendChild(docLink);\n",
              "        }\n",
              "      </script>\n",
              "    </div>\n",
              "  </div>\n",
              "  "
            ]
          },
          "metadata": {},
          "execution_count": 110
        }
      ]
    },
    {
      "cell_type": "markdown",
      "source": [
        "\n",
        "As we can see, there is only one best position based on the mean and deviation of the accuracy in the test. This shows us the best hyperparameters:"
      ],
      "metadata": {
        "id": "gqH-a9n8ryPL"
      }
    },
    {
      "cell_type": "code",
      "source": [
        "print(\"The best value of k = {} with an accuracy of {}.\".format(grid.best_params_,grid.best_score_))"
      ],
      "metadata": {
        "colab": {
          "base_uri": "https://localhost:8080/"
        },
        "id": "emovXfLua0Bf",
        "outputId": "c61aafa7-7c38-43a3-a386-6531007656ce"
      },
      "execution_count": null,
      "outputs": [
        {
          "output_type": "stream",
          "name": "stdout",
          "text": [
            "El mejor valor de k = {'metric': 'manhattan', 'n_neighbors': 17, 'weights': 'uniform'} con un accuracy de 0.8395687182213847.\n"
          ]
        }
      ]
    },
    {
      "cell_type": "markdown",
      "source": [
        "We train the final model using cross-validation, based on the best hyperparameters obtained."
      ],
      "metadata": {
        "id": "5wZS-vC1sV-4"
      }
    },
    {
      "cell_type": "code",
      "source": [
        "from sklearn.model_selection import cross_val_score\n",
        "\n",
        "knn_final = KNeighborsClassifier(n_neighbors= 17, weights='uniform', metric= 'manhattan' )\n",
        "knn_cross = cross_val_score(knn_final, X2, y2, cv=5, scoring= 'accuracy')\n",
        "\n",
        "acc_mean1 = knn_cross.mean()\n",
        "acc_std_dev1 = knn_cross.std()\n",
        "\n",
        "print(f'The mean accuracy achieved from a knn model was: {acc_mean1} with a standard deviation of {acc_std_dev1}')"
      ],
      "metadata": {
        "colab": {
          "base_uri": "https://localhost:8080/"
        },
        "id": "PIU0xDqgbTKR",
        "outputId": "370e3b32-6f36-4063-e616-1a42ad55837b"
      },
      "execution_count": null,
      "outputs": [
        {
          "output_type": "stream",
          "name": "stdout",
          "text": [
            "La exactitud media lograda a partir de un modelo de knn fue: 0.8372158907104827 con un desvío estandar de 0.004074694007446211\n"
          ]
        }
      ]
    },
    {
      "cell_type": "code",
      "source": [
        "knn_cross1 = cross_val_score(knn_final, X2, y2, cv=5, scoring= 'f1')\n",
        "\n",
        "f1_mean1 = knn_cross1.mean()\n",
        "f1_std_dev1 = knn_cross1.std()\n",
        "\n",
        "print(f'The mean f-score achieved from a knn model was: {f1_mean1} with a standard deviation of {f1_std_dev1}')"
      ],
      "metadata": {
        "colab": {
          "base_uri": "https://localhost:8080/"
        },
        "id": "SCpiRPjxbffz",
        "outputId": "13c2f64d-055f-4ae1-f0bb-8fdf842583ed"
      },
      "execution_count": null,
      "outputs": [
        {
          "output_type": "stream",
          "name": "stdout",
          "text": [
            "El f-score medio logrado a partir de un modelo de knn fue: 0.6409744642245744 con un desvío estandar de 0.007498795174245869\n"
          ]
        }
      ]
    },
    {
      "cell_type": "markdown",
      "source": [
        "#### Classification report\n",
        "\n",
        "Classification report using the best parameters"
      ],
      "metadata": {
        "id": "doiskr64mPMV"
      }
    },
    {
      "cell_type": "code",
      "source": [
        "knn_final.fit(X_train, y_train)\n",
        "\n",
        "y_train_pred = knn.predict(X_train)\n",
        "y_test_pred = knn.predict(X_test)\n",
        "\n",
        "## get the classification report\n",
        "print('Classification report for training data\\n')\n",
        "print(classification_report(y_train, y_train_pred))\n",
        "print('Classification report for test data\\n')\n",
        "print(classification_report(y_test, y_test_pred))"
      ],
      "metadata": {
        "colab": {
          "base_uri": "https://localhost:8080/"
        },
        "id": "lknLvklRe9Lu",
        "outputId": "91ba3e15-77a9-4119-de0c-beef45ce14f7"
      },
      "execution_count": null,
      "outputs": [
        {
          "output_type": "stream",
          "name": "stdout",
          "text": [
            "Reporte de clasificación para los datos de entrenamiento\n",
            "\n",
            "              precision    recall  f1-score   support\n",
            "\n",
            "           0       0.88      0.93      0.90     13360\n",
            "           1       0.73      0.62      0.67      4361\n",
            "\n",
            "    accuracy                           0.85     17721\n",
            "   macro avg       0.81      0.77      0.79     17721\n",
            "weighted avg       0.85      0.85      0.85     17721\n",
            "\n",
            "Reporte de clasificación para los datos de test\n",
            "\n",
            "              precision    recall  f1-score   support\n",
            "\n",
            "           0       0.87      0.91      0.89      3341\n",
            "           1       0.68      0.60      0.64      1090\n",
            "\n",
            "    accuracy                           0.83      4431\n",
            "   macro avg       0.78      0.75      0.76      4431\n",
            "weighted avg       0.83      0.83      0.83      4431\n",
            "\n"
          ]
        }
      ]
    },
    {
      "cell_type": "markdown",
      "source": [
        "#### Confusion matrix"
      ],
      "metadata": {
        "id": "TBhO0bZQF397"
      }
    },
    {
      "cell_type": "code",
      "source": [
        "plot_confusion_matrix(knn_final, X_test, y_test)"
      ],
      "metadata": {
        "colab": {
          "base_uri": "https://localhost:8080/",
          "height": 352
        },
        "id": "QubeEW5pFzYA",
        "outputId": "262bf395-e944-4c6d-a781-d0c87a1a0ae2"
      },
      "execution_count": null,
      "outputs": [
        {
          "output_type": "stream",
          "name": "stderr",
          "text": [
            "/usr/local/lib/python3.7/dist-packages/sklearn/utils/deprecation.py:87: FutureWarning: Function plot_confusion_matrix is deprecated; Function `plot_confusion_matrix` is deprecated in 1.0 and will be removed in 1.2. Use one of the class methods: ConfusionMatrixDisplay.from_predictions or ConfusionMatrixDisplay.from_estimator.\n",
            "  warnings.warn(msg, category=FutureWarning)\n"
          ]
        },
        {
          "output_type": "execute_result",
          "data": {
            "text/plain": [
              "<sklearn.metrics._plot.confusion_matrix.ConfusionMatrixDisplay at 0x7ff0654202d0>"
            ]
          },
          "metadata": {},
          "execution_count": 115
        },
        {
          "output_type": "display_data",
          "data": {
            "text/plain": [
              "<Figure size 432x288 with 2 Axes>"
            ],
            "image/png": "[encoded data removed]"
          },
          "metadata": {
            "needs_background": "light"
          }
        }
      ]
    },
    {
      "cell_type": "markdown",
      "source": [
        "# Model selection"
      ],
      "metadata": {
        "id": "D--BXPn2DwZS"
      }
    },
    {
      "cell_type": "markdown",
      "source": [
        "Below we present a summary of the metrics that we are going to use for the choice of the model."
      ],
      "metadata": {
        "id": "mDd7DrRY6Gtj"
      }
    },
    {
      "cell_type": "code",
      "source": [
        "columnas=['Tree', 'RandomForest', ' KNN']\n",
        "filas= ['f1-score_test_0', 'f1-score_test_1', 'accuracy_test']\n",
        "datos= [[0.89, 0.90, 0.89],[0.64, 0.64, 0.64], [0.84, 0.85, 0.83]]\n",
        "resumen_metricas_test = pd.DataFrame(datos, columns=columnas, index=filas)\n",
        "resumen_metricas_test"
      ],
      "metadata": {
        "colab": {
          "base_uri": "https://localhost:8080/",
          "height": 143
        },
        "id": "eJL2bPGUvyIA",
        "outputId": "76283d66-0f68-4b2c-ce29-179ac29a8a55"
      },
      "execution_count": null,
      "outputs": [
        {
          "output_type": "execute_result",
          "data": {
            "text/plain": [
              "                 Tree  RandomForest   KNN\n",
              "f1-score_test_0  0.89          0.90  0.89\n",
              "f1-score_test_1  0.64          0.64  0.64\n",
              "accuracy_test    0.84          0.85  0.83"
            ],
            "text/html": [
              "\n",
              "  <div id=\"df-3bff9fc4-25cb-4688-b9c3-87b17f2266a3\">\n",
              "    <div class=\"colab-df-container\">\n",
              "      <div>\n",
              "<style scoped>\n",
              "    .dataframe tbody tr th:only-of-type {\n",
              "        vertical-align: middle;\n",
              "    }\n",
              "\n",
              "    .dataframe tbody tr th {\n",
              "        vertical-align: top;\n",
              "    }\n",
              "\n",
              "    .dataframe thead th {\n",
              "        text-align: right;\n",
              "    }\n",
              "</style>\n",
              "<table border=\"1\" class=\"dataframe\">\n",
              "  <thead>\n",
              "    <tr style=\"text-align: right;\">\n",
              "      <th></th>\n",
              "      <th>Tree</th>\n",
              "      <th>RandomForest</th>\n",
              "      <th>KNN</th>\n",
              "    </tr>\n",
              "  </thead>\n",
              "  <tbody>\n",
              "    <tr>\n",
              "      <th>f1-score_test_0</th>\n",
              "      <td>0.89</td>\n",
              "      <td>0.90</td>\n",
              "      <td>0.89</td>\n",
              "    </tr>\n",
              "    <tr>\n",
              "      <th>f1-score_test_1</th>\n",
              "      <td>0.64</td>\n",
              "      <td>0.64</td>\n",
              "      <td>0.64</td>\n",
              "    </tr>\n",
              "    <tr>\n",
              "      <th>accuracy_test</th>\n",
              "      <td>0.84</td>\n",
              "      <td>0.85</td>\n",
              "      <td>0.83</td>\n",
              "    </tr>\n",
              "  </tbody>\n",
              "</table>\n",
              "</div>\n",
              "      <button class=\"colab-df-convert\" onclick=\"convertToInteractive('df-3bff9fc4-25cb-4688-b9c3-87b17f2266a3')\"\n",
              "              title=\"Convert this dataframe to an interactive table.\"\n",
              "              style=\"display:none;\">\n",
              "        \n",
              "  <svg xmlns=\"http://www.w3.org/2000/svg\" height=\"24px\"viewBox=\"0 0 24 24\"\n",
              "       width=\"24px\">\n",
              "    <path d=\"M0 0h24v24H0V0z\" fill=\"none\"/>\n",
              "    <path d=\"M18.56 5.44l.94 2.06.94-2.06 2.06-.94-2.06-.94-.94-2.06-.94 2.06-2.06.94zm-11 1L8.5 8.5l.94-2.06 2.06-.94-2.06-.94L8.5 2.5l-.94 2.06-2.06.94zm10 10l.94 2.06.94-2.06 2.06-.94-2.06-.94-.94-2.06-.94 2.06-2.06.94z\"/><path d=\"M17.41 7.96l-1.37-1.37c-.4-.4-.92-.59-1.43-.59-.52 0-1.04.2-1.43.59L10.3 9.45l-7.72 7.72c-.78.78-.78 2.05 0 2.83L4 21.41c.39.39.9.59 1.41.59.51 0 1.02-.2 1.41-.59l7.78-7.78 2.81-2.81c.8-.78.8-2.07 0-2.86zM5.41 20L4 18.59l7.72-7.72 1.47 1.35L5.41 20z\"/>\n",
              "  </svg>\n",
              "      </button>\n",
              "      \n",
              "  <style>\n",
              "    .colab-df-container {\n",
              "      display:flex;\n",
              "      flex-wrap:wrap;\n",
              "      gap: 12px;\n",
              "    }\n",
              "\n",
              "    .colab-df-convert {\n",
              "      background-color: #E8F0FE;\n",
              "      border: none;\n",
              "      border-radius: 50%;\n",
              "      cursor: pointer;\n",
              "      display: none;\n",
              "      fill: #1967D2;\n",
              "      height: 32px;\n",
              "      padding: 0 0 0 0;\n",
              "      width: 32px;\n",
              "    }\n",
              "\n",
              "    .colab-df-convert:hover {\n",
              "      background-color: #E2EBFA;\n",
              "      box-shadow: 0px 1px 2px rgba(60, 64, 67, 0.3), 0px 1px 3px 1px rgba(60, 64, 67, 0.15);\n",
              "      fill: #174EA6;\n",
              "    }\n",
              "\n",
              "    [theme=dark] .colab-df-convert {\n",
              "      background-color: #3B4455;\n",
              "      fill: #D2E3FC;\n",
              "    }\n",
              "\n",
              "    [theme=dark] .colab-df-convert:hover {\n",
              "      background-color: #434B5C;\n",
              "      box-shadow: 0px 1px 3px 1px rgba(0, 0, 0, 0.15);\n",
              "      filter: drop-shadow(0px 1px 2px rgba(0, 0, 0, 0.3));\n",
              "      fill: #FFFFFF;\n",
              "    }\n",
              "  </style>\n",
              "\n",
              "      <script>\n",
              "        const buttonEl =\n",
              "          document.querySelector('#df-3bff9fc4-25cb-4688-b9c3-87b17f2266a3 button.colab-df-convert');\n",
              "        buttonEl.style.display =\n",
              "          google.colab.kernel.accessAllowed ? 'block' : 'none';\n",
              "\n",
              "        async function convertToInteractive(key) {\n",
              "          const element = document.querySelector('#df-3bff9fc4-25cb-4688-b9c3-87b17f2266a3');\n",
              "          const dataTable =\n",
              "            await google.colab.kernel.invokeFunction('convertToInteractive',\n",
              "                                                     [key], {});\n",
              "          if (!dataTable) return;\n",
              "\n",
              "          const docLinkHtml = 'Like what you see? Visit the ' +\n",
              "            '<a target=\"_blank\" href=https://colab.research.google.com/notebooks/data_table.ipynb>data table notebook</a>'\n",
              "            + ' to learn more about interactive tables.';\n",
              "          element.innerHTML = '';\n",
              "          dataTable['output_type'] = 'display_data';\n",
              "          await google.colab.output.renderOutput(dataTable, element);\n",
              "          const docLink = document.createElement('div');\n",
              "          docLink.innerHTML = docLinkHtml;\n",
              "          element.appendChild(docLink);\n",
              "        }\n",
              "      </script>\n",
              "    </div>\n",
              "  </div>\n",
              "  "
            ]
          },
          "metadata": {},
          "execution_count": 116
        }
      ]
    },
    {
      "cell_type": "markdown",
      "source": [
        "\n",
        "For each model analyzed in the test dataset, f1-score_test_0 indicates the value of f1-score in the classification for the 0 category of our target variable, that is, those people who earn 50,000 dollars or less. In the same way, f1-score_test_1 gives us the magnitude of f1-score in the classification of those people who earn more than 50,000 dollars (category associated with values ​​equal to 1)"
      ],
      "metadata": {
        "id": "Yu-3s3S1_P3o"
      }
    },
    {
      "cell_type": "markdown",
      "source": [
        "The models that have been analyzed so far are:\n",
        "\n",
        "* Decision tree\n",
        "*Random Forest\n",
        "* K-Nearest Neighbors\n",
        "\n",
        "\n"
      ],
      "metadata": {
        "id": "8tBIvKfPD5Vx"
      }
    },
    {
      "cell_type": "markdown",
      "source": [
        "One of the metrics we took into account to define our model was the F1_score, since this allows us to better describe a dataset with unbalanced classes like the ones we have.\n",
        "\n",
        "In the case of the Decision Tree models, the classification metrics improved with the adjustment of the hyperparameters, especially when gridsearch is used for these definitions. We also performed the analysis for a K-Nearest Neighbors model using the same methodology as in the tree model, where the metrics did not make any difference (particularly the one we chose for selection, F1_score), so these two models are equally significant. However, the K-Nearest Neighbors model is more affected by the presence of outliers than Decision Trees, and although an attempt has been made to clean variables such as hours.per.week or capital.gain/loss, a more detailed analysis in the treatment of outliers, investigating more exhaustively the behavior of these variables in their context. Given this caveat, decision trees would carry more weight in the choice.\n",
        "\n",
        "Finally, observing the summary presented in the previous table, the Random Forest model would be the one we would choose for the prediction of our target variable since we would obtain a better metric of F1_score, being the characteristics \"capital.gain\",\"relationship\",\"education .num\" the most important for the metric."
      ],
      "metadata": {
        "id": "oNDOLxYIHQaN"
      }
    },
    {
      "cell_type": "markdown",
      "source": [
        "The model selected to predict the test data is:\n",
        "\n",
        "* Random Forest\n"
      ],
      "metadata": {
        "id": "VCw2u3awHUFw"
      }
    },
    {
      "cell_type": "markdown",
      "metadata": {
        "id": "yrPpc9--qndL"
      },
      "source": [
        "# Test data evaluation\n"
      ]
    },
    {
      "cell_type": "markdown",
      "source": [
        "**We predict the target for the test data with the Random Forest model**"
      ],
      "metadata": {
        "id": "6qtH8gOgJ3r_"
      }
    },
    {
      "cell_type": "code",
      "execution_count": null,
      "metadata": {
        "id": "N2-YWejXq0My",
        "colab": {
          "base_uri": "https://localhost:8080/"
        },
        "outputId": "e8eff97b-0a5b-40c7-bec1-4589984198dd"
      },
      "outputs": [
        {
          "output_type": "stream",
          "name": "stderr",
          "text": [
            "/usr/local/lib/python3.7/dist-packages/sklearn/base.py:493: FutureWarning: The feature names should match those that were passed during fit. Starting version 1.2, an error will be raised.\n",
            "Feature names must be in the same order as they were in fit.\n",
            "\n",
            "  warnings.warn(message, FutureWarning)\n"
          ]
        }
      ],
      "source": [
        "df_test2[\"income\"] = clf.predict(df_test2) "
      ]
    },
    {
      "cell_type": "code",
      "execution_count": null,
      "metadata": {
        "id": "qURWsCYkrNrs"
      },
      "outputs": [],
      "source": [
        "predict=pd.concat([df_test.ID,df_test2.income], axis = 1) "
      ]
    }
  ],
  "metadata": {
    "colab": {
      "collapsed_sections": [
        "0OouvHFt7Abs",
        "mpvIoWKi2kf2",
        "puqCqAed6kcl",
        "YosIGH2uhBtN",
        "uOAL9RA9KtAX",
        "jR6Fc30FYswF",
        "yrPpc9--qndL"
      ],
      "name": "ML_income_prediction.ipynb",
      "provenance": []
    },
    "kernelspec": {
      "display_name": "Python 3",
      "name": "python3"
    },
    "language_info": {
      "name": "python"
    }
  },
  "nbformat": 4,
  "nbformat_minor": 0
}